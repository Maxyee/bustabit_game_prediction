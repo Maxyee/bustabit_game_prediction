{
 "cells": [
  {
   "cell_type": "markdown",
   "id": "01cbe4a4-5883-42a8-8a1b-404f2cf8b351",
   "metadata": {},
   "source": [
    "# Libraries"
   ]
  },
  {
   "cell_type": "code",
   "execution_count": 2,
   "id": "7a71dabe-19a5-4958-b18f-40a29d2e3679",
   "metadata": {},
   "outputs": [],
   "source": [
    "import pandas as pd"
   ]
  },
  {
   "cell_type": "markdown",
   "id": "d373da7d-3ec9-4381-a0f7-337e19bb269f",
   "metadata": {},
   "source": [
    "# Dataset Loading"
   ]
  },
  {
   "cell_type": "code",
   "execution_count": 3,
   "id": "1209e21b-04f9-4f5c-86ac-ea2057f8ecef",
   "metadata": {},
   "outputs": [],
   "source": [
    "df = pd.read_csv('./dataset/bustabit.csv')"
   ]
  },
  {
   "cell_type": "markdown",
   "id": "f9056669-e3e1-41ba-af26-a5822715cb4f",
   "metadata": {},
   "source": [
    "# EDA"
   ]
  },
  {
   "cell_type": "code",
   "execution_count": 4,
   "id": "8553d4a3-b625-4490-8917-de79e048d892",
   "metadata": {},
   "outputs": [
    {
     "data": {
      "text/html": [
       "<div>\n",
       "<style scoped>\n",
       "    .dataframe tbody tr th:only-of-type {\n",
       "        vertical-align: middle;\n",
       "    }\n",
       "\n",
       "    .dataframe tbody tr th {\n",
       "        vertical-align: top;\n",
       "    }\n",
       "\n",
       "    .dataframe thead th {\n",
       "        text-align: right;\n",
       "    }\n",
       "</style>\n",
       "<table border=\"1\" class=\"dataframe\">\n",
       "  <thead>\n",
       "    <tr style=\"text-align: right;\">\n",
       "      <th></th>\n",
       "      <th>Id</th>\n",
       "      <th>GameID</th>\n",
       "      <th>Username</th>\n",
       "      <th>Bet</th>\n",
       "      <th>CashedOut</th>\n",
       "      <th>Bonus</th>\n",
       "      <th>Profit</th>\n",
       "      <th>BustedAt</th>\n",
       "      <th>PlayDate</th>\n",
       "    </tr>\n",
       "  </thead>\n",
       "  <tbody>\n",
       "    <tr>\n",
       "      <th>0</th>\n",
       "      <td>14196549</td>\n",
       "      <td>3366002</td>\n",
       "      <td>papai</td>\n",
       "      <td>5</td>\n",
       "      <td>1.20</td>\n",
       "      <td>0.0</td>\n",
       "      <td>1.00</td>\n",
       "      <td>8.24</td>\n",
       "      <td>2016-11-20T19:44:19Z</td>\n",
       "    </tr>\n",
       "    <tr>\n",
       "      <th>1</th>\n",
       "      <td>10676217</td>\n",
       "      <td>3343882</td>\n",
       "      <td>znay22</td>\n",
       "      <td>3</td>\n",
       "      <td>NaN</td>\n",
       "      <td>NaN</td>\n",
       "      <td>NaN</td>\n",
       "      <td>1.40</td>\n",
       "      <td>2016-11-14T14:21:50Z</td>\n",
       "    </tr>\n",
       "    <tr>\n",
       "      <th>2</th>\n",
       "      <td>15577107</td>\n",
       "      <td>3374646</td>\n",
       "      <td>rrrrrrrr</td>\n",
       "      <td>4</td>\n",
       "      <td>1.33</td>\n",
       "      <td>3.0</td>\n",
       "      <td>1.44</td>\n",
       "      <td>3.15</td>\n",
       "      <td>2016-11-23T06:39:15Z</td>\n",
       "    </tr>\n",
       "    <tr>\n",
       "      <th>3</th>\n",
       "      <td>25732127</td>\n",
       "      <td>3429241</td>\n",
       "      <td>sanya1206</td>\n",
       "      <td>10</td>\n",
       "      <td>NaN</td>\n",
       "      <td>NaN</td>\n",
       "      <td>NaN</td>\n",
       "      <td>1.63</td>\n",
       "      <td>2016-12-08T18:13:55Z</td>\n",
       "    </tr>\n",
       "    <tr>\n",
       "      <th>4</th>\n",
       "      <td>17995432</td>\n",
       "      <td>3389174</td>\n",
       "      <td>ADM</td>\n",
       "      <td>50</td>\n",
       "      <td>1.50</td>\n",
       "      <td>1.4</td>\n",
       "      <td>25.70</td>\n",
       "      <td>2.29</td>\n",
       "      <td>2016-11-27T08:14:48Z</td>\n",
       "    </tr>\n",
       "  </tbody>\n",
       "</table>\n",
       "</div>"
      ],
      "text/plain": [
       "         Id   GameID   Username  Bet  CashedOut  Bonus  Profit  BustedAt  \\\n",
       "0  14196549  3366002      papai    5       1.20    0.0    1.00      8.24   \n",
       "1  10676217  3343882     znay22    3        NaN    NaN     NaN      1.40   \n",
       "2  15577107  3374646   rrrrrrrr    4       1.33    3.0    1.44      3.15   \n",
       "3  25732127  3429241  sanya1206   10        NaN    NaN     NaN      1.63   \n",
       "4  17995432  3389174        ADM   50       1.50    1.4   25.70      2.29   \n",
       "\n",
       "               PlayDate  \n",
       "0  2016-11-20T19:44:19Z  \n",
       "1  2016-11-14T14:21:50Z  \n",
       "2  2016-11-23T06:39:15Z  \n",
       "3  2016-12-08T18:13:55Z  \n",
       "4  2016-11-27T08:14:48Z  "
      ]
     },
     "execution_count": 4,
     "metadata": {},
     "output_type": "execute_result"
    }
   ],
   "source": [
    "df.head()"
   ]
  },
  {
   "cell_type": "code",
   "execution_count": 5,
   "id": "03d1969b-a125-4333-baa9-9add33ebcbf8",
   "metadata": {},
   "outputs": [
    {
     "name": "stdout",
     "output_type": "stream",
     "text": [
      "<class 'pandas.core.frame.DataFrame'>\n",
      "RangeIndex: 50000 entries, 0 to 49999\n",
      "Data columns (total 9 columns):\n",
      " #   Column     Non-Null Count  Dtype  \n",
      "---  ------     --------------  -----  \n",
      " 0   Id         50000 non-null  int64  \n",
      " 1   GameID     50000 non-null  int64  \n",
      " 2   Username   50000 non-null  object \n",
      " 3   Bet        50000 non-null  int64  \n",
      " 4   CashedOut  28734 non-null  float64\n",
      " 5   Bonus      28734 non-null  float64\n",
      " 6   Profit     28734 non-null  float64\n",
      " 7   BustedAt   50000 non-null  float64\n",
      " 8   PlayDate   50000 non-null  object \n",
      "dtypes: float64(4), int64(3), object(2)\n",
      "memory usage: 3.4+ MB\n"
     ]
    }
   ],
   "source": [
    "df.info()"
   ]
  },
  {
   "cell_type": "code",
   "execution_count": 6,
   "id": "5dfcd129-f109-4ff9-9fe3-c9452f5d2ec2",
   "metadata": {},
   "outputs": [
    {
     "data": {
      "text/plain": [
       "Id           50000\n",
       "GameID       50000\n",
       "Username     50000\n",
       "Bet          50000\n",
       "CashedOut    28734\n",
       "Bonus        28734\n",
       "Profit       28734\n",
       "BustedAt     50000\n",
       "PlayDate     50000\n",
       "dtype: int64"
      ]
     },
     "execution_count": 6,
     "metadata": {},
     "output_type": "execute_result"
    }
   ],
   "source": [
    "df.count()"
   ]
  },
  {
   "cell_type": "code",
   "execution_count": 10,
   "id": "48c0e992-8e49-45b0-a645-e2b4b830195f",
   "metadata": {},
   "outputs": [],
   "source": [
    "unique_username = df['Username'].unique()"
   ]
  },
  {
   "cell_type": "code",
   "execution_count": 18,
   "id": "0a234230-ea4b-444e-881f-178e66ee7ff3",
   "metadata": {},
   "outputs": [
    {
     "data": {
      "text/plain": [
       "array(['papai', 'znay22', 'rrrrrrrr', ..., 'FDimarin', 'FokJulleNaaiers',\n",
       "       'bitcoinbandit'], dtype=object)"
      ]
     },
     "execution_count": 18,
     "metadata": {},
     "output_type": "execute_result"
    }
   ],
   "source": [
    "unique_username"
   ]
  },
  {
   "cell_type": "code",
   "execution_count": 14,
   "id": "2a13d26e-b75c-4b9a-a7d7-358cfc0f0c8d",
   "metadata": {},
   "outputs": [
    {
     "name": "stdout",
     "output_type": "stream",
     "text": [
      "['papai' 'znay22' 'rrrrrrrr' ... 'FDimarin' 'FokJulleNaaiers'\n",
      " 'bitcoinbandit']\n"
     ]
    }
   ],
   "source": [
    "print(unique_username)"
   ]
  },
  {
   "cell_type": "code",
   "execution_count": 19,
   "id": "3585f3c6-92ab-48af-b81a-8f0873b3a214",
   "metadata": {},
   "outputs": [],
   "source": [
    "unique_count = df['Username'].nunique()"
   ]
  },
  {
   "cell_type": "code",
   "execution_count": 20,
   "id": "31aeb928-25fe-4c92-8705-f2b94fdfb835",
   "metadata": {},
   "outputs": [
    {
     "data": {
      "text/plain": [
       "4149"
      ]
     },
     "execution_count": 20,
     "metadata": {},
     "output_type": "execute_result"
    }
   ],
   "source": [
    "unique_count"
   ]
  },
  {
   "cell_type": "code",
   "execution_count": 21,
   "id": "0a7588a1-9d0c-46ef-bf42-8c201ef814e6",
   "metadata": {},
   "outputs": [],
   "source": [
    "unique_bet = df['Bet'].nunique()"
   ]
  },
  {
   "cell_type": "code",
   "execution_count": 22,
   "id": "e0a14175-e497-44e3-a35f-ee10e10b285b",
   "metadata": {},
   "outputs": [
    {
     "name": "stdout",
     "output_type": "stream",
     "text": [
      "2758\n"
     ]
    }
   ],
   "source": [
    "print(unique_bet)"
   ]
  },
  {
   "cell_type": "code",
   "execution_count": 30,
   "id": "9f056fd0-62d4-4df1-bd4c-e7a90f3bfdb1",
   "metadata": {},
   "outputs": [],
   "source": [
    "total_bets_per_player = df.groupby('Username')['Bet'].sum() \\\n",
    "                         .reset_index() \\\n",
    "                         .sort_values('Bet', ascending=False)\n",
    "total_bets_per_player.columns = ['Username', 'TotalBetAmount']"
   ]
  },
  {
   "cell_type": "markdown",
   "id": "cf8b0844-fb65-4c59-954e-f01e5a0104a3",
   "metadata": {},
   "source": [
    "# Feature Engineering"
   ]
  },
  {
   "cell_type": "code",
   "execution_count": 31,
   "id": "b5d2c13f-0104-4b25-b802-84b00d118cee",
   "metadata": {},
   "outputs": [
    {
     "data": {
      "text/html": [
       "<div>\n",
       "<style scoped>\n",
       "    .dataframe tbody tr th:only-of-type {\n",
       "        vertical-align: middle;\n",
       "    }\n",
       "\n",
       "    .dataframe tbody tr th {\n",
       "        vertical-align: top;\n",
       "    }\n",
       "\n",
       "    .dataframe thead th {\n",
       "        text-align: right;\n",
       "    }\n",
       "</style>\n",
       "<table border=\"1\" class=\"dataframe\">\n",
       "  <thead>\n",
       "    <tr style=\"text-align: right;\">\n",
       "      <th></th>\n",
       "      <th>Username</th>\n",
       "      <th>TotalBetAmount</th>\n",
       "    </tr>\n",
       "  </thead>\n",
       "  <tbody>\n",
       "    <tr>\n",
       "      <th>2004</th>\n",
       "      <td>allg1124</td>\n",
       "      <td>16262350</td>\n",
       "    </tr>\n",
       "    <tr>\n",
       "      <th>133</th>\n",
       "      <td>Alexy</td>\n",
       "      <td>12216534</td>\n",
       "    </tr>\n",
       "    <tr>\n",
       "      <th>3743</th>\n",
       "      <td>stevemoley</td>\n",
       "      <td>6173301</td>\n",
       "    </tr>\n",
       "    <tr>\n",
       "      <th>4114</th>\n",
       "      <td>zabby</td>\n",
       "      <td>5503821</td>\n",
       "    </tr>\n",
       "    <tr>\n",
       "      <th>2667</th>\n",
       "      <td>goosin2000</td>\n",
       "      <td>4469000</td>\n",
       "    </tr>\n",
       "  </tbody>\n",
       "</table>\n",
       "</div>"
      ],
      "text/plain": [
       "        Username  TotalBetAmount\n",
       "2004    allg1124        16262350\n",
       "133        Alexy        12216534\n",
       "3743  stevemoley         6173301\n",
       "4114       zabby         5503821\n",
       "2667  goosin2000         4469000"
      ]
     },
     "execution_count": 31,
     "metadata": {},
     "output_type": "execute_result"
    }
   ],
   "source": [
    "total_bets_per_player.head()"
   ]
  },
  {
   "cell_type": "code",
   "execution_count": 27,
   "id": "5365e275-84c5-45d4-b2c4-c75e8d84f9ec",
   "metadata": {},
   "outputs": [],
   "source": [
    "player_stats = df.groupby('Username').agg(\n",
    "    TotalBetAmount=('Bet', 'sum'),\n",
    "    NumberOfBets=('Bet', 'count'),\n",
    "    AverageBet=('Bet', 'mean'),\n",
    "    MaxBet=('Bet', 'max')\n",
    ").reset_index().sort_values('TotalBetAmount', ascending=False)"
   ]
  },
  {
   "cell_type": "code",
   "execution_count": 29,
   "id": "2b2a35cd-48e9-4294-91ff-fef619e717e1",
   "metadata": {},
   "outputs": [
    {
     "data": {
      "text/html": [
       "<div>\n",
       "<style scoped>\n",
       "    .dataframe tbody tr th:only-of-type {\n",
       "        vertical-align: middle;\n",
       "    }\n",
       "\n",
       "    .dataframe tbody tr th {\n",
       "        vertical-align: top;\n",
       "    }\n",
       "\n",
       "    .dataframe thead th {\n",
       "        text-align: right;\n",
       "    }\n",
       "</style>\n",
       "<table border=\"1\" class=\"dataframe\">\n",
       "  <thead>\n",
       "    <tr style=\"text-align: right;\">\n",
       "      <th></th>\n",
       "      <th>Username</th>\n",
       "      <th>TotalBetAmount</th>\n",
       "      <th>NumberOfBets</th>\n",
       "      <th>AverageBet</th>\n",
       "      <th>MaxBet</th>\n",
       "    </tr>\n",
       "  </thead>\n",
       "  <tbody>\n",
       "    <tr>\n",
       "      <th>2004</th>\n",
       "      <td>allg1124</td>\n",
       "      <td>16262350</td>\n",
       "      <td>101</td>\n",
       "      <td>161013.366337</td>\n",
       "      <td>1000000</td>\n",
       "    </tr>\n",
       "    <tr>\n",
       "      <th>133</th>\n",
       "      <td>Alexy</td>\n",
       "      <td>12216534</td>\n",
       "      <td>47</td>\n",
       "      <td>259926.255319</td>\n",
       "      <td>1000000</td>\n",
       "    </tr>\n",
       "    <tr>\n",
       "      <th>3743</th>\n",
       "      <td>stevemoley</td>\n",
       "      <td>6173301</td>\n",
       "      <td>25</td>\n",
       "      <td>246932.040000</td>\n",
       "      <td>1000000</td>\n",
       "    </tr>\n",
       "    <tr>\n",
       "      <th>4114</th>\n",
       "      <td>zabby</td>\n",
       "      <td>5503821</td>\n",
       "      <td>30</td>\n",
       "      <td>183460.700000</td>\n",
       "      <td>988571</td>\n",
       "    </tr>\n",
       "    <tr>\n",
       "      <th>2667</th>\n",
       "      <td>goosin2000</td>\n",
       "      <td>4469000</td>\n",
       "      <td>19</td>\n",
       "      <td>235210.526316</td>\n",
       "      <td>550000</td>\n",
       "    </tr>\n",
       "  </tbody>\n",
       "</table>\n",
       "</div>"
      ],
      "text/plain": [
       "        Username  TotalBetAmount  NumberOfBets     AverageBet   MaxBet\n",
       "2004    allg1124        16262350           101  161013.366337  1000000\n",
       "133        Alexy        12216534            47  259926.255319  1000000\n",
       "3743  stevemoley         6173301            25  246932.040000  1000000\n",
       "4114       zabby         5503821            30  183460.700000   988571\n",
       "2667  goosin2000         4469000            19  235210.526316   550000"
      ]
     },
     "execution_count": 29,
     "metadata": {},
     "output_type": "execute_result"
    }
   ],
   "source": [
    "player_stats.head()"
   ]
  },
  {
   "cell_type": "code",
   "execution_count": 23,
   "id": "6e3ca829-4f3b-4ee0-b389-f53ff656ee22",
   "metadata": {},
   "outputs": [],
   "source": [
    "total_bets_per_player = df.groupby('Username')['Bet'].sum().reset_index()"
   ]
  },
  {
   "cell_type": "code",
   "execution_count": 24,
   "id": "2a55c5ef-f5fd-47bc-af8d-9d01e1abc4a5",
   "metadata": {},
   "outputs": [],
   "source": [
    "total_bets_per_player.columns = ['Username', 'TotalBetAmount']"
   ]
  },
  {
   "cell_type": "code",
   "execution_count": 25,
   "id": "90cc9208-edeb-4b06-9094-85ec6d8639d0",
   "metadata": {},
   "outputs": [
    {
     "data": {
      "text/html": [
       "<div>\n",
       "<style scoped>\n",
       "    .dataframe tbody tr th:only-of-type {\n",
       "        vertical-align: middle;\n",
       "    }\n",
       "\n",
       "    .dataframe tbody tr th {\n",
       "        vertical-align: top;\n",
       "    }\n",
       "\n",
       "    .dataframe thead th {\n",
       "        text-align: right;\n",
       "    }\n",
       "</style>\n",
       "<table border=\"1\" class=\"dataframe\">\n",
       "  <thead>\n",
       "    <tr style=\"text-align: right;\">\n",
       "      <th></th>\n",
       "      <th>Username</th>\n",
       "      <th>TotalBetAmount</th>\n",
       "    </tr>\n",
       "  </thead>\n",
       "  <tbody>\n",
       "    <tr>\n",
       "      <th>0</th>\n",
       "      <td>----------------</td>\n",
       "      <td>31</td>\n",
       "    </tr>\n",
       "    <tr>\n",
       "      <th>1</th>\n",
       "      <td>--dilib--</td>\n",
       "      <td>1686</td>\n",
       "    </tr>\n",
       "    <tr>\n",
       "      <th>2</th>\n",
       "      <td>-31337-</td>\n",
       "      <td>130</td>\n",
       "    </tr>\n",
       "    <tr>\n",
       "      <th>3</th>\n",
       "      <td>-Nothing-</td>\n",
       "      <td>20987</td>\n",
       "    </tr>\n",
       "    <tr>\n",
       "      <th>4</th>\n",
       "      <td>-Tachyon</td>\n",
       "      <td>5124</td>\n",
       "    </tr>\n",
       "    <tr>\n",
       "      <th>...</th>\n",
       "      <td>...</td>\n",
       "      <td>...</td>\n",
       "    </tr>\n",
       "    <tr>\n",
       "      <th>4144</th>\n",
       "      <td>zuko</td>\n",
       "      <td>500</td>\n",
       "    </tr>\n",
       "    <tr>\n",
       "      <th>4145</th>\n",
       "      <td>zum</td>\n",
       "      <td>203</td>\n",
       "    </tr>\n",
       "    <tr>\n",
       "      <th>4146</th>\n",
       "      <td>zviadits</td>\n",
       "      <td>1352</td>\n",
       "    </tr>\n",
       "    <tr>\n",
       "      <th>4147</th>\n",
       "      <td>zzanggu</td>\n",
       "      <td>120967</td>\n",
       "    </tr>\n",
       "    <tr>\n",
       "      <th>4148</th>\n",
       "      <td>zzanggubank</td>\n",
       "      <td>18958</td>\n",
       "    </tr>\n",
       "  </tbody>\n",
       "</table>\n",
       "<p>4149 rows × 2 columns</p>\n",
       "</div>"
      ],
      "text/plain": [
       "              Username  TotalBetAmount\n",
       "0     ----------------              31\n",
       "1            --dilib--            1686\n",
       "2              -31337-             130\n",
       "3            -Nothing-           20987\n",
       "4             -Tachyon            5124\n",
       "...                ...             ...\n",
       "4144              zuko             500\n",
       "4145               zum             203\n",
       "4146          zviadits            1352\n",
       "4147           zzanggu          120967\n",
       "4148       zzanggubank           18958\n",
       "\n",
       "[4149 rows x 2 columns]"
      ]
     },
     "execution_count": 25,
     "metadata": {},
     "output_type": "execute_result"
    }
   ],
   "source": [
    "total_bets_per_player"
   ]
  },
  {
   "cell_type": "code",
   "execution_count": 26,
   "id": "9276c878-37bc-4282-a61b-4272de64793d",
   "metadata": {},
   "outputs": [
    {
     "data": {
      "text/html": [
       "<div>\n",
       "<style scoped>\n",
       "    .dataframe tbody tr th:only-of-type {\n",
       "        vertical-align: middle;\n",
       "    }\n",
       "\n",
       "    .dataframe tbody tr th {\n",
       "        vertical-align: top;\n",
       "    }\n",
       "\n",
       "    .dataframe thead th {\n",
       "        text-align: right;\n",
       "    }\n",
       "</style>\n",
       "<table border=\"1\" class=\"dataframe\">\n",
       "  <thead>\n",
       "    <tr style=\"text-align: right;\">\n",
       "      <th></th>\n",
       "      <th>Username</th>\n",
       "      <th>TotalBetAmount</th>\n",
       "    </tr>\n",
       "  </thead>\n",
       "  <tbody>\n",
       "    <tr>\n",
       "      <th>0</th>\n",
       "      <td>----------------</td>\n",
       "      <td>31</td>\n",
       "    </tr>\n",
       "    <tr>\n",
       "      <th>1</th>\n",
       "      <td>--dilib--</td>\n",
       "      <td>1686</td>\n",
       "    </tr>\n",
       "    <tr>\n",
       "      <th>2</th>\n",
       "      <td>-31337-</td>\n",
       "      <td>130</td>\n",
       "    </tr>\n",
       "    <tr>\n",
       "      <th>3</th>\n",
       "      <td>-Nothing-</td>\n",
       "      <td>20987</td>\n",
       "    </tr>\n",
       "    <tr>\n",
       "      <th>4</th>\n",
       "      <td>-Tachyon</td>\n",
       "      <td>5124</td>\n",
       "    </tr>\n",
       "  </tbody>\n",
       "</table>\n",
       "</div>"
      ],
      "text/plain": [
       "           Username  TotalBetAmount\n",
       "0  ----------------              31\n",
       "1         --dilib--            1686\n",
       "2           -31337-             130\n",
       "3         -Nothing-           20987\n",
       "4          -Tachyon            5124"
      ]
     },
     "execution_count": 26,
     "metadata": {},
     "output_type": "execute_result"
    }
   ],
   "source": [
    "total_bets_per_player.head()"
   ]
  },
  {
   "cell_type": "code",
   "execution_count": null,
   "id": "d4d46b87-2d9a-49ce-8b04-145f1aa43640",
   "metadata": {},
   "outputs": [],
   "source": []
  }
 ],
 "metadata": {
  "kernelspec": {
   "display_name": "Python 3 (ipykernel)",
   "language": "python",
   "name": "python3"
  },
  "language_info": {
   "codemirror_mode": {
    "name": "ipython",
    "version": 3
   },
   "file_extension": ".py",
   "mimetype": "text/x-python",
   "name": "python",
   "nbconvert_exporter": "python",
   "pygments_lexer": "ipython3",
   "version": "3.8.20"
  }
 },
 "nbformat": 4,
 "nbformat_minor": 5
}
