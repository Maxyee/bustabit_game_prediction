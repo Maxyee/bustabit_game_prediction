{
 "cells": [
  {
   "cell_type": "markdown",
   "id": "2d451aba-4d8a-4beb-aac6-458a9a618e08",
   "metadata": {},
   "source": [
    "# Libraries"
   ]
  },
  {
   "cell_type": "code",
   "execution_count": 508,
   "id": "149503a1-0be9-4d22-9490-07c7fb95cb78",
   "metadata": {},
   "outputs": [
    {
     "name": "stderr",
     "output_type": "stream",
     "text": [
      "/tmp/ipykernel_49534/3166615292.py:9: MatplotlibDeprecationWarning: The seaborn styles shipped by Matplotlib are deprecated since 3.6, as they no longer correspond to the styles shipped by seaborn. However, they will remain available as 'seaborn-v0_8-<style>'. Alternatively, directly use the seaborn API instead.\n",
      "  plt.style.use('seaborn')\n"
     ]
    }
   ],
   "source": [
    "import pandas as pd\n",
    "import numpy as np\n",
    "import matplotlib.pyplot as plt\n",
    "%matplotlib inline\n",
    "import matplotlib.dates as mdates\n",
    "from datetime import datetime\n",
    "\n",
    "# Set style for better visuals\n",
    "plt.style.use('seaborn')"
   ]
  },
  {
   "cell_type": "markdown",
   "id": "5cf9c983-4645-444b-b09c-6e9e6a6f44fb",
   "metadata": {},
   "source": [
    "# Dataset Loading"
   ]
  },
  {
   "cell_type": "code",
   "execution_count": 509,
   "id": "bb8cac44-f111-4ae1-8fe6-4a27c8478bb9",
   "metadata": {},
   "outputs": [],
   "source": [
    "df = pd.read_csv('./dataset/bustabit.csv')"
   ]
  },
  {
   "cell_type": "markdown",
   "id": "00af62a8-65bc-41f8-8ad8-d20ac827a65f",
   "metadata": {},
   "source": [
    "# EDA"
   ]
  },
  {
   "cell_type": "code",
   "execution_count": 510,
   "id": "035f15cd-b30f-4d7f-9a39-8675a6fddc82",
   "metadata": {},
   "outputs": [
    {
     "data": {
      "text/html": [
       "<div>\n",
       "<style scoped>\n",
       "    .dataframe tbody tr th:only-of-type {\n",
       "        vertical-align: middle;\n",
       "    }\n",
       "\n",
       "    .dataframe tbody tr th {\n",
       "        vertical-align: top;\n",
       "    }\n",
       "\n",
       "    .dataframe thead th {\n",
       "        text-align: right;\n",
       "    }\n",
       "</style>\n",
       "<table border=\"1\" class=\"dataframe\">\n",
       "  <thead>\n",
       "    <tr style=\"text-align: right;\">\n",
       "      <th></th>\n",
       "      <th>Id</th>\n",
       "      <th>GameID</th>\n",
       "      <th>Username</th>\n",
       "      <th>Bet</th>\n",
       "      <th>CashedOut</th>\n",
       "      <th>Bonus</th>\n",
       "      <th>Profit</th>\n",
       "      <th>BustedAt</th>\n",
       "      <th>PlayDate</th>\n",
       "    </tr>\n",
       "  </thead>\n",
       "  <tbody>\n",
       "    <tr>\n",
       "      <th>0</th>\n",
       "      <td>14196549</td>\n",
       "      <td>3366002</td>\n",
       "      <td>papai</td>\n",
       "      <td>5</td>\n",
       "      <td>1.20</td>\n",
       "      <td>0.0</td>\n",
       "      <td>1.00</td>\n",
       "      <td>8.24</td>\n",
       "      <td>2016-11-20T19:44:19Z</td>\n",
       "    </tr>\n",
       "    <tr>\n",
       "      <th>1</th>\n",
       "      <td>10676217</td>\n",
       "      <td>3343882</td>\n",
       "      <td>znay22</td>\n",
       "      <td>3</td>\n",
       "      <td>NaN</td>\n",
       "      <td>NaN</td>\n",
       "      <td>NaN</td>\n",
       "      <td>1.40</td>\n",
       "      <td>2016-11-14T14:21:50Z</td>\n",
       "    </tr>\n",
       "    <tr>\n",
       "      <th>2</th>\n",
       "      <td>15577107</td>\n",
       "      <td>3374646</td>\n",
       "      <td>rrrrrrrr</td>\n",
       "      <td>4</td>\n",
       "      <td>1.33</td>\n",
       "      <td>3.0</td>\n",
       "      <td>1.44</td>\n",
       "      <td>3.15</td>\n",
       "      <td>2016-11-23T06:39:15Z</td>\n",
       "    </tr>\n",
       "    <tr>\n",
       "      <th>3</th>\n",
       "      <td>25732127</td>\n",
       "      <td>3429241</td>\n",
       "      <td>sanya1206</td>\n",
       "      <td>10</td>\n",
       "      <td>NaN</td>\n",
       "      <td>NaN</td>\n",
       "      <td>NaN</td>\n",
       "      <td>1.63</td>\n",
       "      <td>2016-12-08T18:13:55Z</td>\n",
       "    </tr>\n",
       "    <tr>\n",
       "      <th>4</th>\n",
       "      <td>17995432</td>\n",
       "      <td>3389174</td>\n",
       "      <td>ADM</td>\n",
       "      <td>50</td>\n",
       "      <td>1.50</td>\n",
       "      <td>1.4</td>\n",
       "      <td>25.70</td>\n",
       "      <td>2.29</td>\n",
       "      <td>2016-11-27T08:14:48Z</td>\n",
       "    </tr>\n",
       "  </tbody>\n",
       "</table>\n",
       "</div>"
      ],
      "text/plain": [
       "         Id   GameID   Username  Bet  CashedOut  Bonus  Profit  BustedAt  \\\n",
       "0  14196549  3366002      papai    5       1.20    0.0    1.00      8.24   \n",
       "1  10676217  3343882     znay22    3        NaN    NaN     NaN      1.40   \n",
       "2  15577107  3374646   rrrrrrrr    4       1.33    3.0    1.44      3.15   \n",
       "3  25732127  3429241  sanya1206   10        NaN    NaN     NaN      1.63   \n",
       "4  17995432  3389174        ADM   50       1.50    1.4   25.70      2.29   \n",
       "\n",
       "               PlayDate  \n",
       "0  2016-11-20T19:44:19Z  \n",
       "1  2016-11-14T14:21:50Z  \n",
       "2  2016-11-23T06:39:15Z  \n",
       "3  2016-12-08T18:13:55Z  \n",
       "4  2016-11-27T08:14:48Z  "
      ]
     },
     "execution_count": 510,
     "metadata": {},
     "output_type": "execute_result"
    }
   ],
   "source": [
    "df.head()"
   ]
  },
  {
   "cell_type": "markdown",
   "id": "1e25d511-5793-41a9-874b-cc772a08ac26",
   "metadata": {},
   "source": [
    "# Replacing NaN Values with 0 in DataFrame"
   ]
  },
  {
   "cell_type": "code",
   "execution_count": 511,
   "id": "87cf13ce-d30a-4d62-ae58-55940975f7c5",
   "metadata": {},
   "outputs": [],
   "source": [
    "df.fillna(0, inplace=True)"
   ]
  },
  {
   "cell_type": "code",
   "execution_count": 512,
   "id": "0135f0f9-6e2c-420d-b9cd-9fd7f1f88683",
   "metadata": {},
   "outputs": [
    {
     "data": {
      "text/html": [
       "<div>\n",
       "<style scoped>\n",
       "    .dataframe tbody tr th:only-of-type {\n",
       "        vertical-align: middle;\n",
       "    }\n",
       "\n",
       "    .dataframe tbody tr th {\n",
       "        vertical-align: top;\n",
       "    }\n",
       "\n",
       "    .dataframe thead th {\n",
       "        text-align: right;\n",
       "    }\n",
       "</style>\n",
       "<table border=\"1\" class=\"dataframe\">\n",
       "  <thead>\n",
       "    <tr style=\"text-align: right;\">\n",
       "      <th></th>\n",
       "      <th>Id</th>\n",
       "      <th>GameID</th>\n",
       "      <th>Username</th>\n",
       "      <th>Bet</th>\n",
       "      <th>CashedOut</th>\n",
       "      <th>Bonus</th>\n",
       "      <th>Profit</th>\n",
       "      <th>BustedAt</th>\n",
       "      <th>PlayDate</th>\n",
       "    </tr>\n",
       "  </thead>\n",
       "  <tbody>\n",
       "    <tr>\n",
       "      <th>0</th>\n",
       "      <td>14196549</td>\n",
       "      <td>3366002</td>\n",
       "      <td>papai</td>\n",
       "      <td>5</td>\n",
       "      <td>1.20</td>\n",
       "      <td>0.0</td>\n",
       "      <td>1.00</td>\n",
       "      <td>8.24</td>\n",
       "      <td>2016-11-20T19:44:19Z</td>\n",
       "    </tr>\n",
       "    <tr>\n",
       "      <th>1</th>\n",
       "      <td>10676217</td>\n",
       "      <td>3343882</td>\n",
       "      <td>znay22</td>\n",
       "      <td>3</td>\n",
       "      <td>0.00</td>\n",
       "      <td>0.0</td>\n",
       "      <td>0.00</td>\n",
       "      <td>1.40</td>\n",
       "      <td>2016-11-14T14:21:50Z</td>\n",
       "    </tr>\n",
       "    <tr>\n",
       "      <th>2</th>\n",
       "      <td>15577107</td>\n",
       "      <td>3374646</td>\n",
       "      <td>rrrrrrrr</td>\n",
       "      <td>4</td>\n",
       "      <td>1.33</td>\n",
       "      <td>3.0</td>\n",
       "      <td>1.44</td>\n",
       "      <td>3.15</td>\n",
       "      <td>2016-11-23T06:39:15Z</td>\n",
       "    </tr>\n",
       "    <tr>\n",
       "      <th>3</th>\n",
       "      <td>25732127</td>\n",
       "      <td>3429241</td>\n",
       "      <td>sanya1206</td>\n",
       "      <td>10</td>\n",
       "      <td>0.00</td>\n",
       "      <td>0.0</td>\n",
       "      <td>0.00</td>\n",
       "      <td>1.63</td>\n",
       "      <td>2016-12-08T18:13:55Z</td>\n",
       "    </tr>\n",
       "    <tr>\n",
       "      <th>4</th>\n",
       "      <td>17995432</td>\n",
       "      <td>3389174</td>\n",
       "      <td>ADM</td>\n",
       "      <td>50</td>\n",
       "      <td>1.50</td>\n",
       "      <td>1.4</td>\n",
       "      <td>25.70</td>\n",
       "      <td>2.29</td>\n",
       "      <td>2016-11-27T08:14:48Z</td>\n",
       "    </tr>\n",
       "  </tbody>\n",
       "</table>\n",
       "</div>"
      ],
      "text/plain": [
       "         Id   GameID   Username  Bet  CashedOut  Bonus  Profit  BustedAt  \\\n",
       "0  14196549  3366002      papai    5       1.20    0.0    1.00      8.24   \n",
       "1  10676217  3343882     znay22    3       0.00    0.0    0.00      1.40   \n",
       "2  15577107  3374646   rrrrrrrr    4       1.33    3.0    1.44      3.15   \n",
       "3  25732127  3429241  sanya1206   10       0.00    0.0    0.00      1.63   \n",
       "4  17995432  3389174        ADM   50       1.50    1.4   25.70      2.29   \n",
       "\n",
       "               PlayDate  \n",
       "0  2016-11-20T19:44:19Z  \n",
       "1  2016-11-14T14:21:50Z  \n",
       "2  2016-11-23T06:39:15Z  \n",
       "3  2016-12-08T18:13:55Z  \n",
       "4  2016-11-27T08:14:48Z  "
      ]
     },
     "execution_count": 512,
     "metadata": {},
     "output_type": "execute_result"
    }
   ],
   "source": [
    "df.head()"
   ]
  },
  {
   "cell_type": "markdown",
   "id": "55a83dea-4510-4dbd-a84c-8458e598c5b0",
   "metadata": {},
   "source": [
    "# Target Variable Creation"
   ]
  },
  {
   "cell_type": "code",
   "execution_count": 513,
   "id": "407e9831-183f-4f8c-b732-fe8ffa2e094c",
   "metadata": {},
   "outputs": [],
   "source": [
    "# Convert 'PlayDate' to datetime\n",
    "df['PlayDate'] = pd.to_datetime(df['PlayDate'])\n",
    "\n",
    "# Find the last date in the dataset\n",
    "latest_date = df['PlayDate'].max()\n",
    "\n",
    "# Group by player and find their last activity date\n",
    "player_churn_activity = df.groupby('Username')['PlayDate'].max().reset_index()\n",
    "\n",
    "# Define churn threshold (e.g., 30 days)\n",
    "churn_threshold_days = 4\n",
    "player_churn_activity['Churned'] = (\n",
    "    (latest_date - player_churn_activity['PlayDate']) > pd.Timedelta(days=churn_threshold_days)\n",
    ").astype(int)"
   ]
  },
  {
   "cell_type": "code",
   "execution_count": 514,
   "id": "88ac72ee-113c-47cd-80ec-654b2fde37b8",
   "metadata": {},
   "outputs": [
    {
     "name": "stdout",
     "output_type": "stream",
     "text": [
      "Churned\n",
      "1    3245\n",
      "0     904\n",
      "Name: count, dtype: int64\n"
     ]
    }
   ],
   "source": [
    "churn_counts = player_churn_activity['Churned'].value_counts()\n",
    "print(churn_counts)"
   ]
  },
  {
   "cell_type": "code",
   "execution_count": 515,
   "id": "cd30efc6-d2c7-45b7-aa3f-d819f5a31bf0",
   "metadata": {},
   "outputs": [
    {
     "data": {
      "text/html": [
       "<div>\n",
       "<style scoped>\n",
       "    .dataframe tbody tr th:only-of-type {\n",
       "        vertical-align: middle;\n",
       "    }\n",
       "\n",
       "    .dataframe tbody tr th {\n",
       "        vertical-align: top;\n",
       "    }\n",
       "\n",
       "    .dataframe thead th {\n",
       "        text-align: right;\n",
       "    }\n",
       "</style>\n",
       "<table border=\"1\" class=\"dataframe\">\n",
       "  <thead>\n",
       "    <tr style=\"text-align: right;\">\n",
       "      <th></th>\n",
       "      <th>Username</th>\n",
       "      <th>PlayDate</th>\n",
       "      <th>Churned</th>\n",
       "    </tr>\n",
       "  </thead>\n",
       "  <tbody>\n",
       "    <tr>\n",
       "      <th>0</th>\n",
       "      <td>----------------</td>\n",
       "      <td>2016-11-03 20:26:24+00:00</td>\n",
       "      <td>1</td>\n",
       "    </tr>\n",
       "    <tr>\n",
       "      <th>1</th>\n",
       "      <td>--dilib--</td>\n",
       "      <td>2016-11-03 17:35:53+00:00</td>\n",
       "      <td>1</td>\n",
       "    </tr>\n",
       "    <tr>\n",
       "      <th>2</th>\n",
       "      <td>-31337-</td>\n",
       "      <td>2016-12-09 20:33:22+00:00</td>\n",
       "      <td>0</td>\n",
       "    </tr>\n",
       "    <tr>\n",
       "      <th>3</th>\n",
       "      <td>-Nothing-</td>\n",
       "      <td>2016-12-06 15:27:27+00:00</td>\n",
       "      <td>1</td>\n",
       "    </tr>\n",
       "    <tr>\n",
       "      <th>4</th>\n",
       "      <td>-Tachyon</td>\n",
       "      <td>2016-11-01 23:10:05+00:00</td>\n",
       "      <td>1</td>\n",
       "    </tr>\n",
       "    <tr>\n",
       "      <th>5</th>\n",
       "      <td>-Y-</td>\n",
       "      <td>2016-10-31 16:48:46+00:00</td>\n",
       "      <td>1</td>\n",
       "    </tr>\n",
       "    <tr>\n",
       "      <th>6</th>\n",
       "      <td>-ZYBERPH-</td>\n",
       "      <td>2016-11-18 12:17:08+00:00</td>\n",
       "      <td>1</td>\n",
       "    </tr>\n",
       "    <tr>\n",
       "      <th>7</th>\n",
       "      <td>-_-TUYUL-_-</td>\n",
       "      <td>2016-12-06 14:04:37+00:00</td>\n",
       "      <td>1</td>\n",
       "    </tr>\n",
       "    <tr>\n",
       "      <th>8</th>\n",
       "      <td>-__---</td>\n",
       "      <td>2016-12-08 20:49:55+00:00</td>\n",
       "      <td>0</td>\n",
       "    </tr>\n",
       "    <tr>\n",
       "      <th>9</th>\n",
       "      <td>-i_</td>\n",
       "      <td>2016-11-03 21:11:52+00:00</td>\n",
       "      <td>1</td>\n",
       "    </tr>\n",
       "  </tbody>\n",
       "</table>\n",
       "</div>"
      ],
      "text/plain": [
       "           Username                  PlayDate  Churned\n",
       "0  ---------------- 2016-11-03 20:26:24+00:00        1\n",
       "1         --dilib-- 2016-11-03 17:35:53+00:00        1\n",
       "2           -31337- 2016-12-09 20:33:22+00:00        0\n",
       "3         -Nothing- 2016-12-06 15:27:27+00:00        1\n",
       "4          -Tachyon 2016-11-01 23:10:05+00:00        1\n",
       "5               -Y- 2016-10-31 16:48:46+00:00        1\n",
       "6         -ZYBERPH- 2016-11-18 12:17:08+00:00        1\n",
       "7       -_-TUYUL-_- 2016-12-06 14:04:37+00:00        1\n",
       "8            -__--- 2016-12-08 20:49:55+00:00        0\n",
       "9               -i_ 2016-11-03 21:11:52+00:00        1"
      ]
     },
     "execution_count": 515,
     "metadata": {},
     "output_type": "execute_result"
    }
   ],
   "source": [
    "player_churn_activity.head(10)"
   ]
  },
  {
   "cell_type": "code",
   "execution_count": 516,
   "id": "9b855db0-55b1-4a52-8266-c3015aaac854",
   "metadata": {},
   "outputs": [],
   "source": [
    "# Merge churn status with original data\n",
    "df = df.merge(player_churn_activity[['Username', 'Churned']], on='Username')"
   ]
  },
  {
   "cell_type": "code",
   "execution_count": 517,
   "id": "0d67ecaa-d328-4be2-aed6-61abfbaeb3a5",
   "metadata": {},
   "outputs": [
    {
     "data": {
      "text/html": [
       "<div>\n",
       "<style scoped>\n",
       "    .dataframe tbody tr th:only-of-type {\n",
       "        vertical-align: middle;\n",
       "    }\n",
       "\n",
       "    .dataframe tbody tr th {\n",
       "        vertical-align: top;\n",
       "    }\n",
       "\n",
       "    .dataframe thead th {\n",
       "        text-align: right;\n",
       "    }\n",
       "</style>\n",
       "<table border=\"1\" class=\"dataframe\">\n",
       "  <thead>\n",
       "    <tr style=\"text-align: right;\">\n",
       "      <th></th>\n",
       "      <th>Id</th>\n",
       "      <th>GameID</th>\n",
       "      <th>Username</th>\n",
       "      <th>Bet</th>\n",
       "      <th>CashedOut</th>\n",
       "      <th>Bonus</th>\n",
       "      <th>Profit</th>\n",
       "      <th>BustedAt</th>\n",
       "      <th>PlayDate</th>\n",
       "      <th>Churned</th>\n",
       "    </tr>\n",
       "  </thead>\n",
       "  <tbody>\n",
       "    <tr>\n",
       "      <th>0</th>\n",
       "      <td>14196549</td>\n",
       "      <td>3366002</td>\n",
       "      <td>papai</td>\n",
       "      <td>5</td>\n",
       "      <td>1.20</td>\n",
       "      <td>0.0</td>\n",
       "      <td>1.00</td>\n",
       "      <td>8.24</td>\n",
       "      <td>2016-11-20 19:44:19+00:00</td>\n",
       "      <td>1</td>\n",
       "    </tr>\n",
       "    <tr>\n",
       "      <th>1</th>\n",
       "      <td>14371418</td>\n",
       "      <td>3367200</td>\n",
       "      <td>papai</td>\n",
       "      <td>5</td>\n",
       "      <td>1.20</td>\n",
       "      <td>3.0</td>\n",
       "      <td>1.15</td>\n",
       "      <td>1.20</td>\n",
       "      <td>2016-11-21 03:51:34+00:00</td>\n",
       "      <td>1</td>\n",
       "    </tr>\n",
       "    <tr>\n",
       "      <th>2</th>\n",
       "      <td>14306198</td>\n",
       "      <td>3366697</td>\n",
       "      <td>papai</td>\n",
       "      <td>5</td>\n",
       "      <td>0.00</td>\n",
       "      <td>0.0</td>\n",
       "      <td>0.00</td>\n",
       "      <td>1.16</td>\n",
       "      <td>2016-11-21 00:28:45+00:00</td>\n",
       "      <td>1</td>\n",
       "    </tr>\n",
       "    <tr>\n",
       "      <th>3</th>\n",
       "      <td>15842561</td>\n",
       "      <td>3376103</td>\n",
       "      <td>papai</td>\n",
       "      <td>1</td>\n",
       "      <td>1.05</td>\n",
       "      <td>3.0</td>\n",
       "      <td>0.08</td>\n",
       "      <td>1.70</td>\n",
       "      <td>2016-11-23 16:31:24+00:00</td>\n",
       "      <td>1</td>\n",
       "    </tr>\n",
       "    <tr>\n",
       "      <th>4</th>\n",
       "      <td>13098255</td>\n",
       "      <td>3358777</td>\n",
       "      <td>papai</td>\n",
       "      <td>20</td>\n",
       "      <td>1.20</td>\n",
       "      <td>0.0</td>\n",
       "      <td>4.00</td>\n",
       "      <td>3.43</td>\n",
       "      <td>2016-11-18 18:57:36+00:00</td>\n",
       "      <td>1</td>\n",
       "    </tr>\n",
       "  </tbody>\n",
       "</table>\n",
       "</div>"
      ],
      "text/plain": [
       "         Id   GameID Username  Bet  CashedOut  Bonus  Profit  BustedAt  \\\n",
       "0  14196549  3366002    papai    5       1.20    0.0    1.00      8.24   \n",
       "1  14371418  3367200    papai    5       1.20    3.0    1.15      1.20   \n",
       "2  14306198  3366697    papai    5       0.00    0.0    0.00      1.16   \n",
       "3  15842561  3376103    papai    1       1.05    3.0    0.08      1.70   \n",
       "4  13098255  3358777    papai   20       1.20    0.0    4.00      3.43   \n",
       "\n",
       "                   PlayDate  Churned  \n",
       "0 2016-11-20 19:44:19+00:00        1  \n",
       "1 2016-11-21 03:51:34+00:00        1  \n",
       "2 2016-11-21 00:28:45+00:00        1  \n",
       "3 2016-11-23 16:31:24+00:00        1  \n",
       "4 2016-11-18 18:57:36+00:00        1  "
      ]
     },
     "execution_count": 517,
     "metadata": {},
     "output_type": "execute_result"
    }
   ],
   "source": [
    "df.head(5)"
   ]
  },
  {
   "cell_type": "code",
   "execution_count": 518,
   "id": "5fa240e8-6915-4d05-9220-2ed99552d739",
   "metadata": {},
   "outputs": [
    {
     "name": "stdout",
     "output_type": "stream",
     "text": [
      "<class 'pandas.core.frame.DataFrame'>\n",
      "RangeIndex: 50000 entries, 0 to 49999\n",
      "Data columns (total 10 columns):\n",
      " #   Column     Non-Null Count  Dtype              \n",
      "---  ------     --------------  -----              \n",
      " 0   Id         50000 non-null  int64              \n",
      " 1   GameID     50000 non-null  int64              \n",
      " 2   Username   50000 non-null  object             \n",
      " 3   Bet        50000 non-null  int64              \n",
      " 4   CashedOut  50000 non-null  float64            \n",
      " 5   Bonus      50000 non-null  float64            \n",
      " 6   Profit     50000 non-null  float64            \n",
      " 7   BustedAt   50000 non-null  float64            \n",
      " 8   PlayDate   50000 non-null  datetime64[ns, UTC]\n",
      " 9   Churned    50000 non-null  int64              \n",
      "dtypes: datetime64[ns, UTC](1), float64(4), int64(4), object(1)\n",
      "memory usage: 3.8+ MB\n"
     ]
    }
   ],
   "source": [
    "df.info()"
   ]
  },
  {
   "cell_type": "code",
   "execution_count": 519,
   "id": "6e6b7bea-a60a-40c6-bbfb-d3d9241ea7a3",
   "metadata": {},
   "outputs": [],
   "source": [
    "unique_players = df['Username'].nunique()"
   ]
  },
  {
   "cell_type": "code",
   "execution_count": 520,
   "id": "b7838cbc-1830-4370-aa19-d879e6dbb2ea",
   "metadata": {},
   "outputs": [
    {
     "data": {
      "text/plain": [
       "4149"
      ]
     },
     "execution_count": 520,
     "metadata": {},
     "output_type": "execute_result"
    }
   ],
   "source": [
    "unique_players"
   ]
  },
  {
   "cell_type": "code",
   "execution_count": 521,
   "id": "36b1ac5f-0c57-4199-9e26-6c3944172ab1",
   "metadata": {},
   "outputs": [],
   "source": [
    "df1 = df.groupby('Username')"
   ]
  },
  {
   "cell_type": "code",
   "execution_count": 522,
   "id": "b30c6618-86ca-4ce4-b0e0-2ff29aa3fff6",
   "metadata": {},
   "outputs": [
    {
     "data": {
      "text/html": [
       "<div>\n",
       "<style scoped>\n",
       "    .dataframe tbody tr th:only-of-type {\n",
       "        vertical-align: middle;\n",
       "    }\n",
       "\n",
       "    .dataframe tbody tr th {\n",
       "        vertical-align: top;\n",
       "    }\n",
       "\n",
       "    .dataframe thead th {\n",
       "        text-align: right;\n",
       "    }\n",
       "</style>\n",
       "<table border=\"1\" class=\"dataframe\">\n",
       "  <thead>\n",
       "    <tr style=\"text-align: right;\">\n",
       "      <th></th>\n",
       "      <th>Id</th>\n",
       "      <th>GameID</th>\n",
       "      <th>Username</th>\n",
       "      <th>Bet</th>\n",
       "      <th>CashedOut</th>\n",
       "      <th>Bonus</th>\n",
       "      <th>Profit</th>\n",
       "      <th>BustedAt</th>\n",
       "      <th>PlayDate</th>\n",
       "      <th>Churned</th>\n",
       "    </tr>\n",
       "  </thead>\n",
       "  <tbody>\n",
       "    <tr>\n",
       "      <th>0</th>\n",
       "      <td>14196549</td>\n",
       "      <td>3366002</td>\n",
       "      <td>papai</td>\n",
       "      <td>5</td>\n",
       "      <td>1.20</td>\n",
       "      <td>0.0</td>\n",
       "      <td>1.00</td>\n",
       "      <td>8.24</td>\n",
       "      <td>2016-11-20 19:44:19+00:00</td>\n",
       "      <td>1</td>\n",
       "    </tr>\n",
       "    <tr>\n",
       "      <th>1</th>\n",
       "      <td>14371418</td>\n",
       "      <td>3367200</td>\n",
       "      <td>papai</td>\n",
       "      <td>5</td>\n",
       "      <td>1.20</td>\n",
       "      <td>3.0</td>\n",
       "      <td>1.15</td>\n",
       "      <td>1.20</td>\n",
       "      <td>2016-11-21 03:51:34+00:00</td>\n",
       "      <td>1</td>\n",
       "    </tr>\n",
       "    <tr>\n",
       "      <th>2</th>\n",
       "      <td>14306198</td>\n",
       "      <td>3366697</td>\n",
       "      <td>papai</td>\n",
       "      <td>5</td>\n",
       "      <td>0.00</td>\n",
       "      <td>0.0</td>\n",
       "      <td>0.00</td>\n",
       "      <td>1.16</td>\n",
       "      <td>2016-11-21 00:28:45+00:00</td>\n",
       "      <td>1</td>\n",
       "    </tr>\n",
       "    <tr>\n",
       "      <th>3</th>\n",
       "      <td>15842561</td>\n",
       "      <td>3376103</td>\n",
       "      <td>papai</td>\n",
       "      <td>1</td>\n",
       "      <td>1.05</td>\n",
       "      <td>3.0</td>\n",
       "      <td>0.08</td>\n",
       "      <td>1.70</td>\n",
       "      <td>2016-11-23 16:31:24+00:00</td>\n",
       "      <td>1</td>\n",
       "    </tr>\n",
       "    <tr>\n",
       "      <th>4</th>\n",
       "      <td>13098255</td>\n",
       "      <td>3358777</td>\n",
       "      <td>papai</td>\n",
       "      <td>20</td>\n",
       "      <td>1.20</td>\n",
       "      <td>0.0</td>\n",
       "      <td>4.00</td>\n",
       "      <td>3.43</td>\n",
       "      <td>2016-11-18 18:57:36+00:00</td>\n",
       "      <td>1</td>\n",
       "    </tr>\n",
       "    <tr>\n",
       "      <th>...</th>\n",
       "      <td>...</td>\n",
       "      <td>...</td>\n",
       "      <td>...</td>\n",
       "      <td>...</td>\n",
       "      <td>...</td>\n",
       "      <td>...</td>\n",
       "      <td>...</td>\n",
       "      <td>...</td>\n",
       "      <td>...</td>\n",
       "      <td>...</td>\n",
       "    </tr>\n",
       "    <tr>\n",
       "      <th>49995</th>\n",
       "      <td>9979296</td>\n",
       "      <td>3340244</td>\n",
       "      <td>PrisonBreak</td>\n",
       "      <td>4</td>\n",
       "      <td>0.00</td>\n",
       "      <td>0.0</td>\n",
       "      <td>0.00</td>\n",
       "      <td>1.27</td>\n",
       "      <td>2016-11-13 13:53:18+00:00</td>\n",
       "      <td>1</td>\n",
       "    </tr>\n",
       "    <tr>\n",
       "      <th>49996</th>\n",
       "      <td>7619064</td>\n",
       "      <td>3329342</td>\n",
       "      <td>Nipar</td>\n",
       "      <td>500</td>\n",
       "      <td>0.00</td>\n",
       "      <td>0.0</td>\n",
       "      <td>0.00</td>\n",
       "      <td>1.42</td>\n",
       "      <td>2016-11-10 11:33:40+00:00</td>\n",
       "      <td>1</td>\n",
       "    </tr>\n",
       "    <tr>\n",
       "      <th>49997</th>\n",
       "      <td>7600259</td>\n",
       "      <td>3329261</td>\n",
       "      <td>FDimarin</td>\n",
       "      <td>1</td>\n",
       "      <td>0.00</td>\n",
       "      <td>0.0</td>\n",
       "      <td>0.00</td>\n",
       "      <td>1.58</td>\n",
       "      <td>2016-11-10 11:00:20+00:00</td>\n",
       "      <td>1</td>\n",
       "    </tr>\n",
       "    <tr>\n",
       "      <th>49998</th>\n",
       "      <td>16290931</td>\n",
       "      <td>3378860</td>\n",
       "      <td>FokJulleNaaiers</td>\n",
       "      <td>4000</td>\n",
       "      <td>1.20</td>\n",
       "      <td>0.0</td>\n",
       "      <td>800.00</td>\n",
       "      <td>2.47</td>\n",
       "      <td>2016-11-24 11:16:28+00:00</td>\n",
       "      <td>1</td>\n",
       "    </tr>\n",
       "    <tr>\n",
       "      <th>49999</th>\n",
       "      <td>3209780</td>\n",
       "      <td>3310911</td>\n",
       "      <td>bitcoinbandit</td>\n",
       "      <td>10</td>\n",
       "      <td>3.00</td>\n",
       "      <td>2.0</td>\n",
       "      <td>20.20</td>\n",
       "      <td>23.48</td>\n",
       "      <td>2016-11-05 05:29:00+00:00</td>\n",
       "      <td>1</td>\n",
       "    </tr>\n",
       "  </tbody>\n",
       "</table>\n",
       "<p>13168 rows × 10 columns</p>\n",
       "</div>"
      ],
      "text/plain": [
       "             Id   GameID         Username   Bet  CashedOut  Bonus  Profit  \\\n",
       "0      14196549  3366002            papai     5       1.20    0.0    1.00   \n",
       "1      14371418  3367200            papai     5       1.20    3.0    1.15   \n",
       "2      14306198  3366697            papai     5       0.00    0.0    0.00   \n",
       "3      15842561  3376103            papai     1       1.05    3.0    0.08   \n",
       "4      13098255  3358777            papai    20       1.20    0.0    4.00   \n",
       "...         ...      ...              ...   ...        ...    ...     ...   \n",
       "49995   9979296  3340244      PrisonBreak     4       0.00    0.0    0.00   \n",
       "49996   7619064  3329342            Nipar   500       0.00    0.0    0.00   \n",
       "49997   7600259  3329261         FDimarin     1       0.00    0.0    0.00   \n",
       "49998  16290931  3378860  FokJulleNaaiers  4000       1.20    0.0  800.00   \n",
       "49999   3209780  3310911    bitcoinbandit    10       3.00    2.0   20.20   \n",
       "\n",
       "       BustedAt                  PlayDate  Churned  \n",
       "0          8.24 2016-11-20 19:44:19+00:00        1  \n",
       "1          1.20 2016-11-21 03:51:34+00:00        1  \n",
       "2          1.16 2016-11-21 00:28:45+00:00        1  \n",
       "3          1.70 2016-11-23 16:31:24+00:00        1  \n",
       "4          3.43 2016-11-18 18:57:36+00:00        1  \n",
       "...         ...                       ...      ...  \n",
       "49995      1.27 2016-11-13 13:53:18+00:00        1  \n",
       "49996      1.42 2016-11-10 11:33:40+00:00        1  \n",
       "49997      1.58 2016-11-10 11:00:20+00:00        1  \n",
       "49998      2.47 2016-11-24 11:16:28+00:00        1  \n",
       "49999     23.48 2016-11-05 05:29:00+00:00        1  \n",
       "\n",
       "[13168 rows x 10 columns]"
      ]
     },
     "execution_count": 522,
     "metadata": {},
     "output_type": "execute_result"
    }
   ],
   "source": [
    "df1.head()"
   ]
  },
  {
   "cell_type": "markdown",
   "id": "f2085961-bff5-465d-a417-04db5bf0bc1a",
   "metadata": {},
   "source": [
    "# Feature Engineering"
   ]
  },
  {
   "cell_type": "code",
   "execution_count": 523,
   "id": "4e06469d-3a40-41f2-8558-cca4562e5957",
   "metadata": {},
   "outputs": [
    {
     "data": {
      "text/html": [
       "<div>\n",
       "<style scoped>\n",
       "    .dataframe tbody tr th:only-of-type {\n",
       "        vertical-align: middle;\n",
       "    }\n",
       "\n",
       "    .dataframe tbody tr th {\n",
       "        vertical-align: top;\n",
       "    }\n",
       "\n",
       "    .dataframe thead th {\n",
       "        text-align: right;\n",
       "    }\n",
       "</style>\n",
       "<table border=\"1\" class=\"dataframe\">\n",
       "  <thead>\n",
       "    <tr style=\"text-align: right;\">\n",
       "      <th></th>\n",
       "      <th>Id</th>\n",
       "      <th>GameID</th>\n",
       "      <th>Username</th>\n",
       "      <th>Bet</th>\n",
       "      <th>CashedOut</th>\n",
       "      <th>Bonus</th>\n",
       "      <th>Profit</th>\n",
       "      <th>BustedAt</th>\n",
       "      <th>PlayDate</th>\n",
       "      <th>Churned</th>\n",
       "    </tr>\n",
       "  </thead>\n",
       "  <tbody>\n",
       "    <tr>\n",
       "      <th>0</th>\n",
       "      <td>14196549</td>\n",
       "      <td>3366002</td>\n",
       "      <td>papai</td>\n",
       "      <td>5</td>\n",
       "      <td>1.20</td>\n",
       "      <td>0.0</td>\n",
       "      <td>1.00</td>\n",
       "      <td>8.24</td>\n",
       "      <td>2016-11-20 19:44:19+00:00</td>\n",
       "      <td>1</td>\n",
       "    </tr>\n",
       "    <tr>\n",
       "      <th>1</th>\n",
       "      <td>14371418</td>\n",
       "      <td>3367200</td>\n",
       "      <td>papai</td>\n",
       "      <td>5</td>\n",
       "      <td>1.20</td>\n",
       "      <td>3.0</td>\n",
       "      <td>1.15</td>\n",
       "      <td>1.20</td>\n",
       "      <td>2016-11-21 03:51:34+00:00</td>\n",
       "      <td>1</td>\n",
       "    </tr>\n",
       "    <tr>\n",
       "      <th>2</th>\n",
       "      <td>14306198</td>\n",
       "      <td>3366697</td>\n",
       "      <td>papai</td>\n",
       "      <td>5</td>\n",
       "      <td>0.00</td>\n",
       "      <td>0.0</td>\n",
       "      <td>0.00</td>\n",
       "      <td>1.16</td>\n",
       "      <td>2016-11-21 00:28:45+00:00</td>\n",
       "      <td>1</td>\n",
       "    </tr>\n",
       "    <tr>\n",
       "      <th>3</th>\n",
       "      <td>15842561</td>\n",
       "      <td>3376103</td>\n",
       "      <td>papai</td>\n",
       "      <td>1</td>\n",
       "      <td>1.05</td>\n",
       "      <td>3.0</td>\n",
       "      <td>0.08</td>\n",
       "      <td>1.70</td>\n",
       "      <td>2016-11-23 16:31:24+00:00</td>\n",
       "      <td>1</td>\n",
       "    </tr>\n",
       "    <tr>\n",
       "      <th>4</th>\n",
       "      <td>13098255</td>\n",
       "      <td>3358777</td>\n",
       "      <td>papai</td>\n",
       "      <td>20</td>\n",
       "      <td>1.20</td>\n",
       "      <td>0.0</td>\n",
       "      <td>4.00</td>\n",
       "      <td>3.43</td>\n",
       "      <td>2016-11-18 18:57:36+00:00</td>\n",
       "      <td>1</td>\n",
       "    </tr>\n",
       "  </tbody>\n",
       "</table>\n",
       "</div>"
      ],
      "text/plain": [
       "         Id   GameID Username  Bet  CashedOut  Bonus  Profit  BustedAt  \\\n",
       "0  14196549  3366002    papai    5       1.20    0.0    1.00      8.24   \n",
       "1  14371418  3367200    papai    5       1.20    3.0    1.15      1.20   \n",
       "2  14306198  3366697    papai    5       0.00    0.0    0.00      1.16   \n",
       "3  15842561  3376103    papai    1       1.05    3.0    0.08      1.70   \n",
       "4  13098255  3358777    papai   20       1.20    0.0    4.00      3.43   \n",
       "\n",
       "                   PlayDate  Churned  \n",
       "0 2016-11-20 19:44:19+00:00        1  \n",
       "1 2016-11-21 03:51:34+00:00        1  \n",
       "2 2016-11-21 00:28:45+00:00        1  \n",
       "3 2016-11-23 16:31:24+00:00        1  \n",
       "4 2016-11-18 18:57:36+00:00        1  "
      ]
     },
     "execution_count": 523,
     "metadata": {},
     "output_type": "execute_result"
    }
   ],
   "source": [
    "df.head()"
   ]
  },
  {
   "cell_type": "code",
   "execution_count": 524,
   "id": "524c99c0-80cf-435c-b82c-32f2625f6b2e",
   "metadata": {},
   "outputs": [],
   "source": [
    "# Step 1: Get the last, second-last, and third-last play dates per player\n",
    "\n",
    "player_activity = (\n",
    "    df.sort_values('PlayDate')\n",
    "    .groupby('Username')['PlayDate']\n",
    "    .agg([\n",
    "        ('LastPlayDate', 'last'),  # Most recent play (always exists)\n",
    "        ('SecondLastPlayDate', lambda x: x.iloc[-2] if len(x) >= 2 else pd.NaT),\n",
    "        ('ThirdLastPlayDate', lambda x: x.iloc[-3] if len(x) >= 3 else pd.NaT)\n",
    "    ])\n",
    "    .reset_index()\n",
    ")\n",
    "\n",
    "# Calculate days with fillna(0) at the end\n",
    "player_activity['DaysSinceLastPlay'] = (latest_date - player_activity['LastPlayDate']).dt.days\n",
    "player_activity['DaysSinceSecondLastPlay'] = (latest_date - player_activity['SecondLastPlayDate']).dt.days.fillna(0)\n",
    "player_activity['DaysSinceThirdLastPlay'] = (latest_date - player_activity['ThirdLastPlayDate']).dt.days.fillna(0)"
   ]
  },
  {
   "cell_type": "code",
   "execution_count": 525,
   "id": "f7dcd5b5-4b1f-4fc0-ac2f-9705623e15bc",
   "metadata": {},
   "outputs": [
    {
     "data": {
      "text/html": [
       "<div>\n",
       "<style scoped>\n",
       "    .dataframe tbody tr th:only-of-type {\n",
       "        vertical-align: middle;\n",
       "    }\n",
       "\n",
       "    .dataframe tbody tr th {\n",
       "        vertical-align: top;\n",
       "    }\n",
       "\n",
       "    .dataframe thead th {\n",
       "        text-align: right;\n",
       "    }\n",
       "</style>\n",
       "<table border=\"1\" class=\"dataframe\">\n",
       "  <thead>\n",
       "    <tr style=\"text-align: right;\">\n",
       "      <th></th>\n",
       "      <th>Username</th>\n",
       "      <th>LastPlayDate</th>\n",
       "      <th>SecondLastPlayDate</th>\n",
       "      <th>ThirdLastPlayDate</th>\n",
       "      <th>DaysSinceLastPlay</th>\n",
       "      <th>DaysSinceSecondLastPlay</th>\n",
       "      <th>DaysSinceThirdLastPlay</th>\n",
       "    </tr>\n",
       "  </thead>\n",
       "  <tbody>\n",
       "    <tr>\n",
       "      <th>0</th>\n",
       "      <td>----------------</td>\n",
       "      <td>2016-11-03 20:26:24+00:00</td>\n",
       "      <td>2016-11-03 15:05:40+00:00</td>\n",
       "      <td>2016-11-03 06:14:27+00:00</td>\n",
       "      <td>36</td>\n",
       "      <td>37.0</td>\n",
       "      <td>37.0</td>\n",
       "    </tr>\n",
       "    <tr>\n",
       "      <th>1</th>\n",
       "      <td>--dilib--</td>\n",
       "      <td>2016-11-03 17:35:53+00:00</td>\n",
       "      <td>2016-11-03 08:48:12+00:00</td>\n",
       "      <td>2016-11-03 08:39:20+00:00</td>\n",
       "      <td>37</td>\n",
       "      <td>37.0</td>\n",
       "      <td>37.0</td>\n",
       "    </tr>\n",
       "    <tr>\n",
       "      <th>2</th>\n",
       "      <td>-31337-</td>\n",
       "      <td>2016-12-09 20:33:22+00:00</td>\n",
       "      <td>2016-12-09 19:56:00+00:00</td>\n",
       "      <td>2016-12-09 18:31:58+00:00</td>\n",
       "      <td>0</td>\n",
       "      <td>1.0</td>\n",
       "      <td>1.0</td>\n",
       "    </tr>\n",
       "    <tr>\n",
       "      <th>3</th>\n",
       "      <td>-Nothing-</td>\n",
       "      <td>2016-12-06 15:27:27+00:00</td>\n",
       "      <td>2016-12-06 15:01:15+00:00</td>\n",
       "      <td>2016-11-24 19:07:24+00:00</td>\n",
       "      <td>4</td>\n",
       "      <td>4.0</td>\n",
       "      <td>16.0</td>\n",
       "    </tr>\n",
       "    <tr>\n",
       "      <th>4</th>\n",
       "      <td>-Tachyon</td>\n",
       "      <td>2016-11-01 23:10:05+00:00</td>\n",
       "      <td>2016-11-01 22:50:26+00:00</td>\n",
       "      <td>2016-11-01 11:17:05+00:00</td>\n",
       "      <td>38</td>\n",
       "      <td>38.0</td>\n",
       "      <td>39.0</td>\n",
       "    </tr>\n",
       "  </tbody>\n",
       "</table>\n",
       "</div>"
      ],
      "text/plain": [
       "           Username              LastPlayDate        SecondLastPlayDate  \\\n",
       "0  ---------------- 2016-11-03 20:26:24+00:00 2016-11-03 15:05:40+00:00   \n",
       "1         --dilib-- 2016-11-03 17:35:53+00:00 2016-11-03 08:48:12+00:00   \n",
       "2           -31337- 2016-12-09 20:33:22+00:00 2016-12-09 19:56:00+00:00   \n",
       "3         -Nothing- 2016-12-06 15:27:27+00:00 2016-12-06 15:01:15+00:00   \n",
       "4          -Tachyon 2016-11-01 23:10:05+00:00 2016-11-01 22:50:26+00:00   \n",
       "\n",
       "          ThirdLastPlayDate  DaysSinceLastPlay  DaysSinceSecondLastPlay  \\\n",
       "0 2016-11-03 06:14:27+00:00                 36                     37.0   \n",
       "1 2016-11-03 08:39:20+00:00                 37                     37.0   \n",
       "2 2016-12-09 18:31:58+00:00                  0                      1.0   \n",
       "3 2016-11-24 19:07:24+00:00                  4                      4.0   \n",
       "4 2016-11-01 11:17:05+00:00                 38                     38.0   \n",
       "\n",
       "   DaysSinceThirdLastPlay  \n",
       "0                    37.0  \n",
       "1                    37.0  \n",
       "2                     1.0  \n",
       "3                    16.0  \n",
       "4                    39.0  "
      ]
     },
     "execution_count": 525,
     "metadata": {},
     "output_type": "execute_result"
    }
   ],
   "source": [
    "player_activity.head(5)"
   ]
  },
  {
   "cell_type": "code",
   "execution_count": 526,
   "id": "f7c3b8f8-0606-4178-9e79-17337ea3cb4a",
   "metadata": {},
   "outputs": [
    {
     "data": {
      "image/png": "[encoded data removed]",
      "text/plain": [
       "<Figure size 1200x600 with 1 Axes>"
      ]
     },
     "metadata": {},
     "output_type": "display_data"
    }
   ],
   "source": [
    "missing_data = player_activity.isnull().sum() / len(df) * 100\n",
    "\n",
    "plt.figure(figsize=(12, 6))\n",
    "missing_data.plot(kind='bar', color='red')\n",
    "plt.title('Percentage of Missing Values in Each Column')\n",
    "plt.xlabel('Columns')\n",
    "plt.ylabel('Percentage Missing')\n",
    "plt.xticks(rotation=45)\n",
    "plt.grid(True)\n",
    "plt.show()"
   ]
  },
  {
   "cell_type": "code",
   "execution_count": 527,
   "id": "0af77120-6e08-4fcc-8c13-a2d0e6918535",
   "metadata": {},
   "outputs": [],
   "source": [
    "# Define the time windows (in days)\n",
    "time_windows = [4, 8, 12, 16, 20, 24, 28, 32, 36]\n",
    "\n",
    "# Initialize a DataFrame to store results\n",
    "player_bets_by_window = df[['Username']].drop_duplicates()\n",
    "\n",
    "# Calculate bet sums for each time window\n",
    "for days in time_windows:\n",
    "    # Calculate cutoff date\n",
    "    cutoff_date = latest_date - pd.Timedelta(days=days)\n",
    "    \n",
    "    # Filter bets and sum by player\n",
    "    window_bets = (\n",
    "        df[df['PlayDate'] >= cutoff_date]\n",
    "        .groupby('Username')['Bet']\n",
    "        .sum()\n",
    "        .reset_index()\n",
    "        .rename(columns={'Bet': f'BetsLast{days}Days'})\n",
    "    )\n",
    "    \n",
    "    # Merge with main DataFrame\n",
    "    player_bets_by_window = player_bets_by_window.merge(\n",
    "        window_bets,\n",
    "        on='Username',\n",
    "        how='left'\n",
    "    )\n",
    "\n",
    "# Fill NA with 0 (for players with no bets in a window)\n",
    "player_bets_by_window = player_bets_by_window.fillna(0)\n"
   ]
  },
  {
   "cell_type": "code",
   "execution_count": 528,
   "id": "c80fbcb0-e28a-4704-9c36-3ad1afb20085",
   "metadata": {},
   "outputs": [
    {
     "data": {
      "text/html": [
       "<div>\n",
       "<style scoped>\n",
       "    .dataframe tbody tr th:only-of-type {\n",
       "        vertical-align: middle;\n",
       "    }\n",
       "\n",
       "    .dataframe tbody tr th {\n",
       "        vertical-align: top;\n",
       "    }\n",
       "\n",
       "    .dataframe thead th {\n",
       "        text-align: right;\n",
       "    }\n",
       "</style>\n",
       "<table border=\"1\" class=\"dataframe\">\n",
       "  <thead>\n",
       "    <tr style=\"text-align: right;\">\n",
       "      <th></th>\n",
       "      <th>Username</th>\n",
       "      <th>BetsLast4Days</th>\n",
       "      <th>BetsLast8Days</th>\n",
       "      <th>BetsLast12Days</th>\n",
       "      <th>BetsLast16Days</th>\n",
       "      <th>BetsLast20Days</th>\n",
       "      <th>BetsLast24Days</th>\n",
       "      <th>BetsLast28Days</th>\n",
       "      <th>BetsLast32Days</th>\n",
       "      <th>BetsLast36Days</th>\n",
       "    </tr>\n",
       "  </thead>\n",
       "  <tbody>\n",
       "    <tr>\n",
       "      <th>0</th>\n",
       "      <td>papai</td>\n",
       "      <td>0.0</td>\n",
       "      <td>0.0</td>\n",
       "      <td>0.0</td>\n",
       "      <td>0.0</td>\n",
       "      <td>32.0</td>\n",
       "      <td>227.0</td>\n",
       "      <td>227.0</td>\n",
       "      <td>227.0</td>\n",
       "      <td>227.0</td>\n",
       "    </tr>\n",
       "    <tr>\n",
       "      <th>1</th>\n",
       "      <td>znay22</td>\n",
       "      <td>826.0</td>\n",
       "      <td>999.0</td>\n",
       "      <td>1092.0</td>\n",
       "      <td>1295.0</td>\n",
       "      <td>1577.0</td>\n",
       "      <td>2097.0</td>\n",
       "      <td>2115.0</td>\n",
       "      <td>2279.0</td>\n",
       "      <td>2663.0</td>\n",
       "    </tr>\n",
       "    <tr>\n",
       "      <th>2</th>\n",
       "      <td>rrrrrrrr</td>\n",
       "      <td>40.0</td>\n",
       "      <td>68.0</td>\n",
       "      <td>68.0</td>\n",
       "      <td>68.0</td>\n",
       "      <td>1852.0</td>\n",
       "      <td>2458.0</td>\n",
       "      <td>2458.0</td>\n",
       "      <td>2458.0</td>\n",
       "      <td>2458.0</td>\n",
       "    </tr>\n",
       "    <tr>\n",
       "      <th>3</th>\n",
       "      <td>sanya1206</td>\n",
       "      <td>20.0</td>\n",
       "      <td>180.0</td>\n",
       "      <td>180.0</td>\n",
       "      <td>180.0</td>\n",
       "      <td>180.0</td>\n",
       "      <td>180.0</td>\n",
       "      <td>180.0</td>\n",
       "      <td>180.0</td>\n",
       "      <td>180.0</td>\n",
       "    </tr>\n",
       "    <tr>\n",
       "      <th>4</th>\n",
       "      <td>ADM</td>\n",
       "      <td>338.0</td>\n",
       "      <td>12338.0</td>\n",
       "      <td>13388.0</td>\n",
       "      <td>13646.0</td>\n",
       "      <td>13646.0</td>\n",
       "      <td>13646.0</td>\n",
       "      <td>13646.0</td>\n",
       "      <td>13846.0</td>\n",
       "      <td>14575.0</td>\n",
       "    </tr>\n",
       "  </tbody>\n",
       "</table>\n",
       "</div>"
      ],
      "text/plain": [
       "    Username  BetsLast4Days  BetsLast8Days  BetsLast12Days  BetsLast16Days  \\\n",
       "0      papai            0.0            0.0             0.0             0.0   \n",
       "1     znay22          826.0          999.0          1092.0          1295.0   \n",
       "2   rrrrrrrr           40.0           68.0            68.0            68.0   \n",
       "3  sanya1206           20.0          180.0           180.0           180.0   \n",
       "4        ADM          338.0        12338.0         13388.0         13646.0   \n",
       "\n",
       "   BetsLast20Days  BetsLast24Days  BetsLast28Days  BetsLast32Days  \\\n",
       "0            32.0           227.0           227.0           227.0   \n",
       "1          1577.0          2097.0          2115.0          2279.0   \n",
       "2          1852.0          2458.0          2458.0          2458.0   \n",
       "3           180.0           180.0           180.0           180.0   \n",
       "4         13646.0         13646.0         13646.0         13846.0   \n",
       "\n",
       "   BetsLast36Days  \n",
       "0           227.0  \n",
       "1          2663.0  \n",
       "2          2458.0  \n",
       "3           180.0  \n",
       "4         14575.0  "
      ]
     },
     "execution_count": 528,
     "metadata": {},
     "output_type": "execute_result"
    }
   ],
   "source": [
    "player_bets_by_window.head()"
   ]
  },
  {
   "cell_type": "code",
   "execution_count": 529,
   "id": "ebb61a67-2322-483a-afcb-8a0a60592419",
   "metadata": {},
   "outputs": [
    {
     "data": {
      "text/plain": [
       "(4149, 10)"
      ]
     },
     "execution_count": 529,
     "metadata": {},
     "output_type": "execute_result"
    }
   ],
   "source": [
    "player_bets_by_window.shape"
   ]
  },
  {
   "cell_type": "code",
   "execution_count": 530,
   "id": "af1514c1-92af-4796-9b05-8254cd05f6e5",
   "metadata": {},
   "outputs": [
    {
     "data": {
      "text/html": [
       "<div>\n",
       "<style scoped>\n",
       "    .dataframe tbody tr th:only-of-type {\n",
       "        vertical-align: middle;\n",
       "    }\n",
       "\n",
       "    .dataframe tbody tr th {\n",
       "        vertical-align: top;\n",
       "    }\n",
       "\n",
       "    .dataframe thead th {\n",
       "        text-align: right;\n",
       "    }\n",
       "</style>\n",
       "<table border=\"1\" class=\"dataframe\">\n",
       "  <thead>\n",
       "    <tr style=\"text-align: right;\">\n",
       "      <th></th>\n",
       "      <th>Username</th>\n",
       "      <th>LastPlayDate</th>\n",
       "      <th>SecondLastPlayDate</th>\n",
       "      <th>ThirdLastPlayDate</th>\n",
       "      <th>DaysSinceLastPlay</th>\n",
       "      <th>DaysSinceSecondLastPlay</th>\n",
       "      <th>DaysSinceThirdLastPlay</th>\n",
       "    </tr>\n",
       "  </thead>\n",
       "  <tbody>\n",
       "    <tr>\n",
       "      <th>0</th>\n",
       "      <td>----------------</td>\n",
       "      <td>2016-11-03 20:26:24+00:00</td>\n",
       "      <td>2016-11-03 15:05:40+00:00</td>\n",
       "      <td>2016-11-03 06:14:27+00:00</td>\n",
       "      <td>36</td>\n",
       "      <td>37.0</td>\n",
       "      <td>37.0</td>\n",
       "    </tr>\n",
       "    <tr>\n",
       "      <th>1</th>\n",
       "      <td>--dilib--</td>\n",
       "      <td>2016-11-03 17:35:53+00:00</td>\n",
       "      <td>2016-11-03 08:48:12+00:00</td>\n",
       "      <td>2016-11-03 08:39:20+00:00</td>\n",
       "      <td>37</td>\n",
       "      <td>37.0</td>\n",
       "      <td>37.0</td>\n",
       "    </tr>\n",
       "    <tr>\n",
       "      <th>2</th>\n",
       "      <td>-31337-</td>\n",
       "      <td>2016-12-09 20:33:22+00:00</td>\n",
       "      <td>2016-12-09 19:56:00+00:00</td>\n",
       "      <td>2016-12-09 18:31:58+00:00</td>\n",
       "      <td>0</td>\n",
       "      <td>1.0</td>\n",
       "      <td>1.0</td>\n",
       "    </tr>\n",
       "    <tr>\n",
       "      <th>3</th>\n",
       "      <td>-Nothing-</td>\n",
       "      <td>2016-12-06 15:27:27+00:00</td>\n",
       "      <td>2016-12-06 15:01:15+00:00</td>\n",
       "      <td>2016-11-24 19:07:24+00:00</td>\n",
       "      <td>4</td>\n",
       "      <td>4.0</td>\n",
       "      <td>16.0</td>\n",
       "    </tr>\n",
       "    <tr>\n",
       "      <th>4</th>\n",
       "      <td>-Tachyon</td>\n",
       "      <td>2016-11-01 23:10:05+00:00</td>\n",
       "      <td>2016-11-01 22:50:26+00:00</td>\n",
       "      <td>2016-11-01 11:17:05+00:00</td>\n",
       "      <td>38</td>\n",
       "      <td>38.0</td>\n",
       "      <td>39.0</td>\n",
       "    </tr>\n",
       "  </tbody>\n",
       "</table>\n",
       "</div>"
      ],
      "text/plain": [
       "           Username              LastPlayDate        SecondLastPlayDate  \\\n",
       "0  ---------------- 2016-11-03 20:26:24+00:00 2016-11-03 15:05:40+00:00   \n",
       "1         --dilib-- 2016-11-03 17:35:53+00:00 2016-11-03 08:48:12+00:00   \n",
       "2           -31337- 2016-12-09 20:33:22+00:00 2016-12-09 19:56:00+00:00   \n",
       "3         -Nothing- 2016-12-06 15:27:27+00:00 2016-12-06 15:01:15+00:00   \n",
       "4          -Tachyon 2016-11-01 23:10:05+00:00 2016-11-01 22:50:26+00:00   \n",
       "\n",
       "          ThirdLastPlayDate  DaysSinceLastPlay  DaysSinceSecondLastPlay  \\\n",
       "0 2016-11-03 06:14:27+00:00                 36                     37.0   \n",
       "1 2016-11-03 08:39:20+00:00                 37                     37.0   \n",
       "2 2016-12-09 18:31:58+00:00                  0                      1.0   \n",
       "3 2016-11-24 19:07:24+00:00                  4                      4.0   \n",
       "4 2016-11-01 11:17:05+00:00                 38                     38.0   \n",
       "\n",
       "   DaysSinceThirdLastPlay  \n",
       "0                    37.0  \n",
       "1                    37.0  \n",
       "2                     1.0  \n",
       "3                    16.0  \n",
       "4                    39.0  "
      ]
     },
     "execution_count": 530,
     "metadata": {},
     "output_type": "execute_result"
    }
   ],
   "source": [
    "player_activity.head()"
   ]
  },
  {
   "cell_type": "code",
   "execution_count": 531,
   "id": "9db66c35-126c-4f46-af08-098a4ddab447",
   "metadata": {},
   "outputs": [],
   "source": [
    "player_last_activity = player_bets_by_window.merge(player_activity[['Username', 'DaysSinceLastPlay', 'DaysSinceSecondLastPlay', 'DaysSinceThirdLastPlay']], on='Username')"
   ]
  },
  {
   "cell_type": "code",
   "execution_count": 532,
   "id": "ca76378d-7ef3-43a6-aff8-396d1b6c4be2",
   "metadata": {},
   "outputs": [
    {
     "data": {
      "text/html": [
       "<div>\n",
       "<style scoped>\n",
       "    .dataframe tbody tr th:only-of-type {\n",
       "        vertical-align: middle;\n",
       "    }\n",
       "\n",
       "    .dataframe tbody tr th {\n",
       "        vertical-align: top;\n",
       "    }\n",
       "\n",
       "    .dataframe thead th {\n",
       "        text-align: right;\n",
       "    }\n",
       "</style>\n",
       "<table border=\"1\" class=\"dataframe\">\n",
       "  <thead>\n",
       "    <tr style=\"text-align: right;\">\n",
       "      <th></th>\n",
       "      <th>Username</th>\n",
       "      <th>BetsLast4Days</th>\n",
       "      <th>BetsLast8Days</th>\n",
       "      <th>BetsLast12Days</th>\n",
       "      <th>BetsLast16Days</th>\n",
       "      <th>BetsLast20Days</th>\n",
       "      <th>BetsLast24Days</th>\n",
       "      <th>BetsLast28Days</th>\n",
       "      <th>BetsLast32Days</th>\n",
       "      <th>BetsLast36Days</th>\n",
       "      <th>DaysSinceLastPlay</th>\n",
       "      <th>DaysSinceSecondLastPlay</th>\n",
       "      <th>DaysSinceThirdLastPlay</th>\n",
       "    </tr>\n",
       "  </thead>\n",
       "  <tbody>\n",
       "    <tr>\n",
       "      <th>0</th>\n",
       "      <td>papai</td>\n",
       "      <td>0.0</td>\n",
       "      <td>0.0</td>\n",
       "      <td>0.0</td>\n",
       "      <td>0.0</td>\n",
       "      <td>32.0</td>\n",
       "      <td>227.0</td>\n",
       "      <td>227.0</td>\n",
       "      <td>227.0</td>\n",
       "      <td>227.0</td>\n",
       "      <td>17</td>\n",
       "      <td>18.0</td>\n",
       "      <td>18.0</td>\n",
       "    </tr>\n",
       "    <tr>\n",
       "      <th>1</th>\n",
       "      <td>znay22</td>\n",
       "      <td>826.0</td>\n",
       "      <td>999.0</td>\n",
       "      <td>1092.0</td>\n",
       "      <td>1295.0</td>\n",
       "      <td>1577.0</td>\n",
       "      <td>2097.0</td>\n",
       "      <td>2115.0</td>\n",
       "      <td>2279.0</td>\n",
       "      <td>2663.0</td>\n",
       "      <td>0</td>\n",
       "      <td>0.0</td>\n",
       "      <td>0.0</td>\n",
       "    </tr>\n",
       "    <tr>\n",
       "      <th>2</th>\n",
       "      <td>rrrrrrrr</td>\n",
       "      <td>40.0</td>\n",
       "      <td>68.0</td>\n",
       "      <td>68.0</td>\n",
       "      <td>68.0</td>\n",
       "      <td>1852.0</td>\n",
       "      <td>2458.0</td>\n",
       "      <td>2458.0</td>\n",
       "      <td>2458.0</td>\n",
       "      <td>2458.0</td>\n",
       "      <td>1</td>\n",
       "      <td>1.0</td>\n",
       "      <td>3.0</td>\n",
       "    </tr>\n",
       "    <tr>\n",
       "      <th>3</th>\n",
       "      <td>sanya1206</td>\n",
       "      <td>20.0</td>\n",
       "      <td>180.0</td>\n",
       "      <td>180.0</td>\n",
       "      <td>180.0</td>\n",
       "      <td>180.0</td>\n",
       "      <td>180.0</td>\n",
       "      <td>180.0</td>\n",
       "      <td>180.0</td>\n",
       "      <td>180.0</td>\n",
       "      <td>0</td>\n",
       "      <td>2.0</td>\n",
       "      <td>4.0</td>\n",
       "    </tr>\n",
       "    <tr>\n",
       "      <th>4</th>\n",
       "      <td>ADM</td>\n",
       "      <td>338.0</td>\n",
       "      <td>12338.0</td>\n",
       "      <td>13388.0</td>\n",
       "      <td>13646.0</td>\n",
       "      <td>13646.0</td>\n",
       "      <td>13646.0</td>\n",
       "      <td>13646.0</td>\n",
       "      <td>13846.0</td>\n",
       "      <td>14575.0</td>\n",
       "      <td>2</td>\n",
       "      <td>2.0</td>\n",
       "      <td>3.0</td>\n",
       "    </tr>\n",
       "  </tbody>\n",
       "</table>\n",
       "</div>"
      ],
      "text/plain": [
       "    Username  BetsLast4Days  BetsLast8Days  BetsLast12Days  BetsLast16Days  \\\n",
       "0      papai            0.0            0.0             0.0             0.0   \n",
       "1     znay22          826.0          999.0          1092.0          1295.0   \n",
       "2   rrrrrrrr           40.0           68.0            68.0            68.0   \n",
       "3  sanya1206           20.0          180.0           180.0           180.0   \n",
       "4        ADM          338.0        12338.0         13388.0         13646.0   \n",
       "\n",
       "   BetsLast20Days  BetsLast24Days  BetsLast28Days  BetsLast32Days  \\\n",
       "0            32.0           227.0           227.0           227.0   \n",
       "1          1577.0          2097.0          2115.0          2279.0   \n",
       "2          1852.0          2458.0          2458.0          2458.0   \n",
       "3           180.0           180.0           180.0           180.0   \n",
       "4         13646.0         13646.0         13646.0         13846.0   \n",
       "\n",
       "   BetsLast36Days  DaysSinceLastPlay  DaysSinceSecondLastPlay  \\\n",
       "0           227.0                 17                     18.0   \n",
       "1          2663.0                  0                      0.0   \n",
       "2          2458.0                  1                      1.0   \n",
       "3           180.0                  0                      2.0   \n",
       "4         14575.0                  2                      2.0   \n",
       "\n",
       "   DaysSinceThirdLastPlay  \n",
       "0                    18.0  \n",
       "1                     0.0  \n",
       "2                     3.0  \n",
       "3                     4.0  \n",
       "4                     3.0  "
      ]
     },
     "execution_count": 532,
     "metadata": {},
     "output_type": "execute_result"
    }
   ],
   "source": [
    "player_last_activity.head()"
   ]
  },
  {
   "cell_type": "code",
   "execution_count": 533,
   "id": "5b5861fa-b78e-4787-a70e-41f782a0ad2a",
   "metadata": {},
   "outputs": [],
   "source": [
    "player_stats = df.groupby('Username').agg(\n",
    "    TotalBetAmount=('Bet', 'sum'),\n",
    "    TotalProfitAmount=('Profit', 'sum'),\n",
    "    TotalBonusAmount=('Bonus', 'sum'),\n",
    "    NumberOfBets=('Bet', 'count'),\n",
    "    NumberOfBets_Won=('Profit', lambda x: (x > 0).sum()),  # Count wins (Profit > 0)\n",
    "    NumberOfBets_Lost=('Profit', lambda x: (x <= 0).sum()), # Count losses (Profit <= 0)\n",
    "    AverageBet=('Bet', 'mean'),\n",
    "    MaxBet=('Bet', 'max'),\n",
    "    MinBet=('Bet', 'min'),\n",
    "    Churned=('Churned', 'first'),\n",
    ").reset_index().sort_values('TotalBetAmount', ascending=False)"
   ]
  },
  {
   "cell_type": "code",
   "execution_count": 534,
   "id": "2772023f-9980-4348-a0da-c468138816b4",
   "metadata": {},
   "outputs": [
    {
     "name": "stdout",
     "output_type": "stream",
     "text": [
      "<class 'pandas.core.frame.DataFrame'>\n",
      "Index: 4149 entries, 2004 to 3928\n",
      "Data columns (total 11 columns):\n",
      " #   Column             Non-Null Count  Dtype  \n",
      "---  ------             --------------  -----  \n",
      " 0   Username           4149 non-null   object \n",
      " 1   TotalBetAmount     4149 non-null   int64  \n",
      " 2   TotalProfitAmount  4149 non-null   float64\n",
      " 3   TotalBonusAmount   4149 non-null   float64\n",
      " 4   NumberOfBets       4149 non-null   int64  \n",
      " 5   NumberOfBets_Won   4149 non-null   int64  \n",
      " 6   NumberOfBets_Lost  4149 non-null   int64  \n",
      " 7   AverageBet         4149 non-null   float64\n",
      " 8   MaxBet             4149 non-null   int64  \n",
      " 9   MinBet             4149 non-null   int64  \n",
      " 10  Churned            4149 non-null   int64  \n",
      "dtypes: float64(3), int64(7), object(1)\n",
      "memory usage: 389.0+ KB\n"
     ]
    }
   ],
   "source": [
    "player_stats.info()"
   ]
  },
  {
   "cell_type": "code",
   "execution_count": 535,
   "id": "f260a045-d408-4f17-af7e-049561484078",
   "metadata": {},
   "outputs": [
    {
     "data": {
      "text/html": [
       "<div>\n",
       "<style scoped>\n",
       "    .dataframe tbody tr th:only-of-type {\n",
       "        vertical-align: middle;\n",
       "    }\n",
       "\n",
       "    .dataframe tbody tr th {\n",
       "        vertical-align: top;\n",
       "    }\n",
       "\n",
       "    .dataframe thead th {\n",
       "        text-align: right;\n",
       "    }\n",
       "</style>\n",
       "<table border=\"1\" class=\"dataframe\">\n",
       "  <thead>\n",
       "    <tr style=\"text-align: right;\">\n",
       "      <th></th>\n",
       "      <th>Username</th>\n",
       "      <th>TotalBetAmount</th>\n",
       "      <th>TotalProfitAmount</th>\n",
       "      <th>TotalBonusAmount</th>\n",
       "      <th>NumberOfBets</th>\n",
       "      <th>NumberOfBets_Won</th>\n",
       "      <th>NumberOfBets_Lost</th>\n",
       "      <th>AverageBet</th>\n",
       "      <th>MaxBet</th>\n",
       "      <th>MinBet</th>\n",
       "      <th>Churned</th>\n",
       "    </tr>\n",
       "  </thead>\n",
       "  <tbody>\n",
       "    <tr>\n",
       "      <th>2004</th>\n",
       "      <td>allg1124</td>\n",
       "      <td>16262350</td>\n",
       "      <td>4794154.34</td>\n",
       "      <td>85.12</td>\n",
       "      <td>101</td>\n",
       "      <td>74</td>\n",
       "      <td>27</td>\n",
       "      <td>161013.366337</td>\n",
       "      <td>1000000</td>\n",
       "      <td>39</td>\n",
       "      <td>0</td>\n",
       "    </tr>\n",
       "    <tr>\n",
       "      <th>133</th>\n",
       "      <td>Alexy</td>\n",
       "      <td>12216534</td>\n",
       "      <td>2421114.49</td>\n",
       "      <td>16.36</td>\n",
       "      <td>47</td>\n",
       "      <td>22</td>\n",
       "      <td>25</td>\n",
       "      <td>259926.255319</td>\n",
       "      <td>1000000</td>\n",
       "      <td>4371</td>\n",
       "      <td>0</td>\n",
       "    </tr>\n",
       "    <tr>\n",
       "      <th>3743</th>\n",
       "      <td>stevemoley</td>\n",
       "      <td>6173301</td>\n",
       "      <td>328758.17</td>\n",
       "      <td>15.56</td>\n",
       "      <td>25</td>\n",
       "      <td>22</td>\n",
       "      <td>3</td>\n",
       "      <td>246932.040000</td>\n",
       "      <td>1000000</td>\n",
       "      <td>1301</td>\n",
       "      <td>0</td>\n",
       "    </tr>\n",
       "    <tr>\n",
       "      <th>4114</th>\n",
       "      <td>zabby</td>\n",
       "      <td>5503821</td>\n",
       "      <td>562907.44</td>\n",
       "      <td>11.24</td>\n",
       "      <td>30</td>\n",
       "      <td>23</td>\n",
       "      <td>7</td>\n",
       "      <td>183460.700000</td>\n",
       "      <td>988571</td>\n",
       "      <td>8</td>\n",
       "      <td>0</td>\n",
       "    </tr>\n",
       "    <tr>\n",
       "      <th>2667</th>\n",
       "      <td>goosin2000</td>\n",
       "      <td>4469000</td>\n",
       "      <td>3803213.87</td>\n",
       "      <td>16.77</td>\n",
       "      <td>19</td>\n",
       "      <td>8</td>\n",
       "      <td>11</td>\n",
       "      <td>235210.526316</td>\n",
       "      <td>550000</td>\n",
       "      <td>70000</td>\n",
       "      <td>1</td>\n",
       "    </tr>\n",
       "  </tbody>\n",
       "</table>\n",
       "</div>"
      ],
      "text/plain": [
       "        Username  TotalBetAmount  TotalProfitAmount  TotalBonusAmount  \\\n",
       "2004    allg1124        16262350         4794154.34             85.12   \n",
       "133        Alexy        12216534         2421114.49             16.36   \n",
       "3743  stevemoley         6173301          328758.17             15.56   \n",
       "4114       zabby         5503821          562907.44             11.24   \n",
       "2667  goosin2000         4469000         3803213.87             16.77   \n",
       "\n",
       "      NumberOfBets  NumberOfBets_Won  NumberOfBets_Lost     AverageBet  \\\n",
       "2004           101                74                 27  161013.366337   \n",
       "133             47                22                 25  259926.255319   \n",
       "3743            25                22                  3  246932.040000   \n",
       "4114            30                23                  7  183460.700000   \n",
       "2667            19                 8                 11  235210.526316   \n",
       "\n",
       "       MaxBet  MinBet  Churned  \n",
       "2004  1000000      39        0  \n",
       "133   1000000    4371        0  \n",
       "3743  1000000    1301        0  \n",
       "4114   988571       8        0  \n",
       "2667   550000   70000        1  "
      ]
     },
     "execution_count": 535,
     "metadata": {},
     "output_type": "execute_result"
    }
   ],
   "source": [
    "player_stats.head(5)"
   ]
  },
  {
   "cell_type": "code",
   "execution_count": 536,
   "id": "3ef046ca-99c7-4393-a47c-3e27369796c6",
   "metadata": {},
   "outputs": [
    {
     "name": "stdout",
     "output_type": "stream",
     "text": [
      "<class 'pandas.core.frame.DataFrame'>\n",
      "RangeIndex: 4149 entries, 0 to 4148\n",
      "Data columns (total 13 columns):\n",
      " #   Column                   Non-Null Count  Dtype  \n",
      "---  ------                   --------------  -----  \n",
      " 0   Username                 4149 non-null   object \n",
      " 1   BetsLast4Days            4149 non-null   float64\n",
      " 2   BetsLast8Days            4149 non-null   float64\n",
      " 3   BetsLast12Days           4149 non-null   float64\n",
      " 4   BetsLast16Days           4149 non-null   float64\n",
      " 5   BetsLast20Days           4149 non-null   float64\n",
      " 6   BetsLast24Days           4149 non-null   float64\n",
      " 7   BetsLast28Days           4149 non-null   float64\n",
      " 8   BetsLast32Days           4149 non-null   float64\n",
      " 9   BetsLast36Days           4149 non-null   float64\n",
      " 10  DaysSinceLastPlay        4149 non-null   int64  \n",
      " 11  DaysSinceSecondLastPlay  4149 non-null   float64\n",
      " 12  DaysSinceThirdLastPlay   4149 non-null   float64\n",
      "dtypes: float64(11), int64(1), object(1)\n",
      "memory usage: 421.5+ KB\n"
     ]
    }
   ],
   "source": [
    "player_last_activity.info()"
   ]
  },
  {
   "cell_type": "code",
   "execution_count": 537,
   "id": "f967c585-3b7c-4c8e-a135-0580615190c3",
   "metadata": {},
   "outputs": [],
   "source": [
    "# Merge churn status with original data\n",
    "final_df = player_stats.merge(player_last_activity[['Username', 'BetsLast4Days','BetsLast8Days','BetsLast12Days','BetsLast16Days','BetsLast20Days','BetsLast24Days','BetsLast28Days','BetsLast32Days','BetsLast36Days', 'DaysSinceLastPlay','DaysSinceSecondLastPlay','DaysSinceThirdLastPlay']], on='Username')"
   ]
  },
  {
   "cell_type": "code",
   "execution_count": 538,
   "id": "bf8bc0d3-5652-4d28-a79a-9bcffead445c",
   "metadata": {},
   "outputs": [
    {
     "data": {
      "text/html": [
       "<div>\n",
       "<style scoped>\n",
       "    .dataframe tbody tr th:only-of-type {\n",
       "        vertical-align: middle;\n",
       "    }\n",
       "\n",
       "    .dataframe tbody tr th {\n",
       "        vertical-align: top;\n",
       "    }\n",
       "\n",
       "    .dataframe thead th {\n",
       "        text-align: right;\n",
       "    }\n",
       "</style>\n",
       "<table border=\"1\" class=\"dataframe\">\n",
       "  <thead>\n",
       "    <tr style=\"text-align: right;\">\n",
       "      <th></th>\n",
       "      <th>Username</th>\n",
       "      <th>TotalBetAmount</th>\n",
       "      <th>TotalProfitAmount</th>\n",
       "      <th>TotalBonusAmount</th>\n",
       "      <th>NumberOfBets</th>\n",
       "      <th>NumberOfBets_Won</th>\n",
       "      <th>NumberOfBets_Lost</th>\n",
       "      <th>AverageBet</th>\n",
       "      <th>MaxBet</th>\n",
       "      <th>MinBet</th>\n",
       "      <th>...</th>\n",
       "      <th>BetsLast12Days</th>\n",
       "      <th>BetsLast16Days</th>\n",
       "      <th>BetsLast20Days</th>\n",
       "      <th>BetsLast24Days</th>\n",
       "      <th>BetsLast28Days</th>\n",
       "      <th>BetsLast32Days</th>\n",
       "      <th>BetsLast36Days</th>\n",
       "      <th>DaysSinceLastPlay</th>\n",
       "      <th>DaysSinceSecondLastPlay</th>\n",
       "      <th>DaysSinceThirdLastPlay</th>\n",
       "    </tr>\n",
       "  </thead>\n",
       "  <tbody>\n",
       "    <tr>\n",
       "      <th>0</th>\n",
       "      <td>allg1124</td>\n",
       "      <td>16262350</td>\n",
       "      <td>4794154.34</td>\n",
       "      <td>85.12</td>\n",
       "      <td>101</td>\n",
       "      <td>74</td>\n",
       "      <td>27</td>\n",
       "      <td>161013.366337</td>\n",
       "      <td>1000000</td>\n",
       "      <td>39</td>\n",
       "      <td>...</td>\n",
       "      <td>10835.0</td>\n",
       "      <td>70835.0</td>\n",
       "      <td>76865.0</td>\n",
       "      <td>7982234.0</td>\n",
       "      <td>9882234.0</td>\n",
       "      <td>14386330.0</td>\n",
       "      <td>15466330.0</td>\n",
       "      <td>0</td>\n",
       "      <td>0.0</td>\n",
       "      <td>0.0</td>\n",
       "    </tr>\n",
       "    <tr>\n",
       "      <th>1</th>\n",
       "      <td>Alexy</td>\n",
       "      <td>12216534</td>\n",
       "      <td>2421114.49</td>\n",
       "      <td>16.36</td>\n",
       "      <td>47</td>\n",
       "      <td>22</td>\n",
       "      <td>25</td>\n",
       "      <td>259926.255319</td>\n",
       "      <td>1000000</td>\n",
       "      <td>4371</td>\n",
       "      <td>...</td>\n",
       "      <td>12175954.0</td>\n",
       "      <td>12216534.0</td>\n",
       "      <td>12216534.0</td>\n",
       "      <td>12216534.0</td>\n",
       "      <td>12216534.0</td>\n",
       "      <td>12216534.0</td>\n",
       "      <td>12216534.0</td>\n",
       "      <td>1</td>\n",
       "      <td>1.0</td>\n",
       "      <td>1.0</td>\n",
       "    </tr>\n",
       "    <tr>\n",
       "      <th>2</th>\n",
       "      <td>stevemoley</td>\n",
       "      <td>6173301</td>\n",
       "      <td>328758.17</td>\n",
       "      <td>15.56</td>\n",
       "      <td>25</td>\n",
       "      <td>22</td>\n",
       "      <td>3</td>\n",
       "      <td>246932.040000</td>\n",
       "      <td>1000000</td>\n",
       "      <td>1301</td>\n",
       "      <td>...</td>\n",
       "      <td>584000.0</td>\n",
       "      <td>1634000.0</td>\n",
       "      <td>2273000.0</td>\n",
       "      <td>3902000.0</td>\n",
       "      <td>4107301.0</td>\n",
       "      <td>5106301.0</td>\n",
       "      <td>6173301.0</td>\n",
       "      <td>0</td>\n",
       "      <td>5.0</td>\n",
       "      <td>5.0</td>\n",
       "    </tr>\n",
       "    <tr>\n",
       "      <th>3</th>\n",
       "      <td>zabby</td>\n",
       "      <td>5503821</td>\n",
       "      <td>562907.44</td>\n",
       "      <td>11.24</td>\n",
       "      <td>30</td>\n",
       "      <td>23</td>\n",
       "      <td>7</td>\n",
       "      <td>183460.700000</td>\n",
       "      <td>988571</td>\n",
       "      <td>8</td>\n",
       "      <td>...</td>\n",
       "      <td>1260251.0</td>\n",
       "      <td>1285251.0</td>\n",
       "      <td>2691750.0</td>\n",
       "      <td>3484750.0</td>\n",
       "      <td>3484750.0</td>\n",
       "      <td>4388250.0</td>\n",
       "      <td>4425250.0</td>\n",
       "      <td>0</td>\n",
       "      <td>0.0</td>\n",
       "      <td>2.0</td>\n",
       "    </tr>\n",
       "    <tr>\n",
       "      <th>4</th>\n",
       "      <td>goosin2000</td>\n",
       "      <td>4469000</td>\n",
       "      <td>3803213.87</td>\n",
       "      <td>16.77</td>\n",
       "      <td>19</td>\n",
       "      <td>8</td>\n",
       "      <td>11</td>\n",
       "      <td>235210.526316</td>\n",
       "      <td>550000</td>\n",
       "      <td>70000</td>\n",
       "      <td>...</td>\n",
       "      <td>0.0</td>\n",
       "      <td>639000.0</td>\n",
       "      <td>1829000.0</td>\n",
       "      <td>2779000.0</td>\n",
       "      <td>2779000.0</td>\n",
       "      <td>3549000.0</td>\n",
       "      <td>3549000.0</td>\n",
       "      <td>13</td>\n",
       "      <td>15.0</td>\n",
       "      <td>15.0</td>\n",
       "    </tr>\n",
       "    <tr>\n",
       "      <th>5</th>\n",
       "      <td>maras</td>\n",
       "      <td>2628100</td>\n",
       "      <td>313451.23</td>\n",
       "      <td>17.32</td>\n",
       "      <td>24</td>\n",
       "      <td>15</td>\n",
       "      <td>9</td>\n",
       "      <td>109504.166667</td>\n",
       "      <td>509000</td>\n",
       "      <td>13000</td>\n",
       "      <td>...</td>\n",
       "      <td>0.0</td>\n",
       "      <td>0.0</td>\n",
       "      <td>0.0</td>\n",
       "      <td>0.0</td>\n",
       "      <td>425500.0</td>\n",
       "      <td>694500.0</td>\n",
       "      <td>1271000.0</td>\n",
       "      <td>27</td>\n",
       "      <td>27.0</td>\n",
       "      <td>27.0</td>\n",
       "    </tr>\n",
       "    <tr>\n",
       "      <th>6</th>\n",
       "      <td>period</td>\n",
       "      <td>2561200</td>\n",
       "      <td>196276.45</td>\n",
       "      <td>11.46</td>\n",
       "      <td>9</td>\n",
       "      <td>6</td>\n",
       "      <td>3</td>\n",
       "      <td>284577.777778</td>\n",
       "      <td>500000</td>\n",
       "      <td>32500</td>\n",
       "      <td>...</td>\n",
       "      <td>0.0</td>\n",
       "      <td>0.0</td>\n",
       "      <td>2561200.0</td>\n",
       "      <td>2561200.0</td>\n",
       "      <td>2561200.0</td>\n",
       "      <td>2561200.0</td>\n",
       "      <td>2561200.0</td>\n",
       "      <td>16</td>\n",
       "      <td>16.0</td>\n",
       "      <td>16.0</td>\n",
       "    </tr>\n",
       "    <tr>\n",
       "      <th>7</th>\n",
       "      <td>rickette</td>\n",
       "      <td>2170100</td>\n",
       "      <td>222161.56</td>\n",
       "      <td>21.51</td>\n",
       "      <td>18</td>\n",
       "      <td>13</td>\n",
       "      <td>5</td>\n",
       "      <td>120561.111111</td>\n",
       "      <td>892000</td>\n",
       "      <td>24000</td>\n",
       "      <td>...</td>\n",
       "      <td>1087900.0</td>\n",
       "      <td>2074100.0</td>\n",
       "      <td>2170100.0</td>\n",
       "      <td>2170100.0</td>\n",
       "      <td>2170100.0</td>\n",
       "      <td>2170100.0</td>\n",
       "      <td>2170100.0</td>\n",
       "      <td>7</td>\n",
       "      <td>9.0</td>\n",
       "      <td>10.0</td>\n",
       "    </tr>\n",
       "    <tr>\n",
       "      <th>8</th>\n",
       "      <td>goldman1</td>\n",
       "      <td>2146508</td>\n",
       "      <td>1271746.51</td>\n",
       "      <td>9.06</td>\n",
       "      <td>12</td>\n",
       "      <td>4</td>\n",
       "      <td>8</td>\n",
       "      <td>178875.666667</td>\n",
       "      <td>450000</td>\n",
       "      <td>6584</td>\n",
       "      <td>...</td>\n",
       "      <td>256508.0</td>\n",
       "      <td>746508.0</td>\n",
       "      <td>1646508.0</td>\n",
       "      <td>1896508.0</td>\n",
       "      <td>1896508.0</td>\n",
       "      <td>2146508.0</td>\n",
       "      <td>2146508.0</td>\n",
       "      <td>2</td>\n",
       "      <td>2.0</td>\n",
       "      <td>2.0</td>\n",
       "    </tr>\n",
       "    <tr>\n",
       "      <th>9</th>\n",
       "      <td>hindoong</td>\n",
       "      <td>2064000</td>\n",
       "      <td>65784.40</td>\n",
       "      <td>1.45</td>\n",
       "      <td>3</td>\n",
       "      <td>3</td>\n",
       "      <td>0</td>\n",
       "      <td>688000.000000</td>\n",
       "      <td>1000000</td>\n",
       "      <td>64000</td>\n",
       "      <td>...</td>\n",
       "      <td>2064000.0</td>\n",
       "      <td>2064000.0</td>\n",
       "      <td>2064000.0</td>\n",
       "      <td>2064000.0</td>\n",
       "      <td>2064000.0</td>\n",
       "      <td>2064000.0</td>\n",
       "      <td>2064000.0</td>\n",
       "      <td>0</td>\n",
       "      <td>0.0</td>\n",
       "      <td>0.0</td>\n",
       "    </tr>\n",
       "  </tbody>\n",
       "</table>\n",
       "<p>10 rows × 23 columns</p>\n",
       "</div>"
      ],
      "text/plain": [
       "     Username  TotalBetAmount  TotalProfitAmount  TotalBonusAmount  \\\n",
       "0    allg1124        16262350         4794154.34             85.12   \n",
       "1       Alexy        12216534         2421114.49             16.36   \n",
       "2  stevemoley         6173301          328758.17             15.56   \n",
       "3       zabby         5503821          562907.44             11.24   \n",
       "4  goosin2000         4469000         3803213.87             16.77   \n",
       "5       maras         2628100          313451.23             17.32   \n",
       "6      period         2561200          196276.45             11.46   \n",
       "7    rickette         2170100          222161.56             21.51   \n",
       "8    goldman1         2146508         1271746.51              9.06   \n",
       "9    hindoong         2064000           65784.40              1.45   \n",
       "\n",
       "   NumberOfBets  NumberOfBets_Won  NumberOfBets_Lost     AverageBet   MaxBet  \\\n",
       "0           101                74                 27  161013.366337  1000000   \n",
       "1            47                22                 25  259926.255319  1000000   \n",
       "2            25                22                  3  246932.040000  1000000   \n",
       "3            30                23                  7  183460.700000   988571   \n",
       "4            19                 8                 11  235210.526316   550000   \n",
       "5            24                15                  9  109504.166667   509000   \n",
       "6             9                 6                  3  284577.777778   500000   \n",
       "7            18                13                  5  120561.111111   892000   \n",
       "8            12                 4                  8  178875.666667   450000   \n",
       "9             3                 3                  0  688000.000000  1000000   \n",
       "\n",
       "   MinBet  ...  BetsLast12Days  BetsLast16Days  BetsLast20Days  \\\n",
       "0      39  ...         10835.0         70835.0         76865.0   \n",
       "1    4371  ...      12175954.0      12216534.0      12216534.0   \n",
       "2    1301  ...        584000.0       1634000.0       2273000.0   \n",
       "3       8  ...       1260251.0       1285251.0       2691750.0   \n",
       "4   70000  ...             0.0        639000.0       1829000.0   \n",
       "5   13000  ...             0.0             0.0             0.0   \n",
       "6   32500  ...             0.0             0.0       2561200.0   \n",
       "7   24000  ...       1087900.0       2074100.0       2170100.0   \n",
       "8    6584  ...        256508.0        746508.0       1646508.0   \n",
       "9   64000  ...       2064000.0       2064000.0       2064000.0   \n",
       "\n",
       "   BetsLast24Days  BetsLast28Days  BetsLast32Days  BetsLast36Days  \\\n",
       "0       7982234.0       9882234.0      14386330.0      15466330.0   \n",
       "1      12216534.0      12216534.0      12216534.0      12216534.0   \n",
       "2       3902000.0       4107301.0       5106301.0       6173301.0   \n",
       "3       3484750.0       3484750.0       4388250.0       4425250.0   \n",
       "4       2779000.0       2779000.0       3549000.0       3549000.0   \n",
       "5             0.0        425500.0        694500.0       1271000.0   \n",
       "6       2561200.0       2561200.0       2561200.0       2561200.0   \n",
       "7       2170100.0       2170100.0       2170100.0       2170100.0   \n",
       "8       1896508.0       1896508.0       2146508.0       2146508.0   \n",
       "9       2064000.0       2064000.0       2064000.0       2064000.0   \n",
       "\n",
       "   DaysSinceLastPlay  DaysSinceSecondLastPlay  DaysSinceThirdLastPlay  \n",
       "0                  0                      0.0                     0.0  \n",
       "1                  1                      1.0                     1.0  \n",
       "2                  0                      5.0                     5.0  \n",
       "3                  0                      0.0                     2.0  \n",
       "4                 13                     15.0                    15.0  \n",
       "5                 27                     27.0                    27.0  \n",
       "6                 16                     16.0                    16.0  \n",
       "7                  7                      9.0                    10.0  \n",
       "8                  2                      2.0                     2.0  \n",
       "9                  0                      0.0                     0.0  \n",
       "\n",
       "[10 rows x 23 columns]"
      ]
     },
     "execution_count": 538,
     "metadata": {},
     "output_type": "execute_result"
    }
   ],
   "source": [
    "final_df.head(10)"
   ]
  },
  {
   "cell_type": "code",
   "execution_count": 539,
   "id": "ef11684b-a5a5-4be7-97df-db4694f3a1a3",
   "metadata": {},
   "outputs": [
    {
     "name": "stdout",
     "output_type": "stream",
     "text": [
      "<class 'pandas.core.frame.DataFrame'>\n",
      "RangeIndex: 4149 entries, 0 to 4148\n",
      "Data columns (total 23 columns):\n",
      " #   Column                   Non-Null Count  Dtype  \n",
      "---  ------                   --------------  -----  \n",
      " 0   Username                 4149 non-null   object \n",
      " 1   TotalBetAmount           4149 non-null   int64  \n",
      " 2   TotalProfitAmount        4149 non-null   float64\n",
      " 3   TotalBonusAmount         4149 non-null   float64\n",
      " 4   NumberOfBets             4149 non-null   int64  \n",
      " 5   NumberOfBets_Won         4149 non-null   int64  \n",
      " 6   NumberOfBets_Lost        4149 non-null   int64  \n",
      " 7   AverageBet               4149 non-null   float64\n",
      " 8   MaxBet                   4149 non-null   int64  \n",
      " 9   MinBet                   4149 non-null   int64  \n",
      " 10  Churned                  4149 non-null   int64  \n",
      " 11  BetsLast4Days            4149 non-null   float64\n",
      " 12  BetsLast8Days            4149 non-null   float64\n",
      " 13  BetsLast12Days           4149 non-null   float64\n",
      " 14  BetsLast16Days           4149 non-null   float64\n",
      " 15  BetsLast20Days           4149 non-null   float64\n",
      " 16  BetsLast24Days           4149 non-null   float64\n",
      " 17  BetsLast28Days           4149 non-null   float64\n",
      " 18  BetsLast32Days           4149 non-null   float64\n",
      " 19  BetsLast36Days           4149 non-null   float64\n",
      " 20  DaysSinceLastPlay        4149 non-null   int64  \n",
      " 21  DaysSinceSecondLastPlay  4149 non-null   float64\n",
      " 22  DaysSinceThirdLastPlay   4149 non-null   float64\n",
      "dtypes: float64(14), int64(8), object(1)\n",
      "memory usage: 745.6+ KB\n"
     ]
    }
   ],
   "source": [
    "final_df.info()"
   ]
  },
  {
   "cell_type": "markdown",
   "id": "3a26b913-d9e3-48b3-9e52-ee4384c4735b",
   "metadata": {},
   "source": [
    "# Scale the data before training"
   ]
  },
  {
   "cell_type": "code",
   "execution_count": 540,
   "id": "1acb5832-3711-4ed9-821d-823745cfc25e",
   "metadata": {},
   "outputs": [],
   "source": [
    "cols_to_scale = ['TotalBetAmount','TotalProfitAmount','TotalBonusAmount',\n",
    "                 'NumberOfBets','NumberOfBets_Won','NumberOfBets_Lost','AverageBet',\n",
    "                 'MaxBet','MinBet', 'BetsLast4Days','BetsLast8Days','BetsLast12Days','BetsLast16Days',\n",
    "                 'BetsLast20Days','BetsLast24Days','BetsLast28Days','BetsLast32Days','BetsLast36Days',\n",
    "                 'DaysSinceLastPlay','DaysSinceSecondLastPlay','DaysSinceThirdLastPlay']"
   ]
  },
  {
   "cell_type": "code",
   "execution_count": 541,
   "id": "53b256b1-e18e-41c3-8cfe-c1ca2a76e2af",
   "metadata": {},
   "outputs": [
    {
     "data": {
      "text/plain": [
       "21"
      ]
     },
     "execution_count": 541,
     "metadata": {},
     "output_type": "execute_result"
    }
   ],
   "source": [
    "len(cols_to_scale)"
   ]
  },
  {
   "cell_type": "code",
   "execution_count": 542,
   "id": "6fae5645-15ce-4d46-a53b-78fa9e5d9d27",
   "metadata": {},
   "outputs": [],
   "source": [
    "from sklearn.preprocessing import MinMaxScaler"
   ]
  },
  {
   "cell_type": "code",
   "execution_count": 543,
   "id": "68ef8fc4-2c7f-4af9-9285-cff1262902d2",
   "metadata": {},
   "outputs": [],
   "source": [
    "scaler = MinMaxScaler()"
   ]
  },
  {
   "cell_type": "code",
   "execution_count": 544,
   "id": "4bafd805-58eb-4d19-8e4f-d749348563af",
   "metadata": {},
   "outputs": [],
   "source": [
    "final_df[cols_to_scale] = scaler.fit_transform(final_df[cols_to_scale])"
   ]
  },
  {
   "cell_type": "code",
   "execution_count": 545,
   "id": "b2916050-48a1-4937-a835-b60130bf1ae9",
   "metadata": {},
   "outputs": [
    {
     "data": {
      "text/html": [
       "<div>\n",
       "<style scoped>\n",
       "    .dataframe tbody tr th:only-of-type {\n",
       "        vertical-align: middle;\n",
       "    }\n",
       "\n",
       "    .dataframe tbody tr th {\n",
       "        vertical-align: top;\n",
       "    }\n",
       "\n",
       "    .dataframe thead th {\n",
       "        text-align: right;\n",
       "    }\n",
       "</style>\n",
       "<table border=\"1\" class=\"dataframe\">\n",
       "  <thead>\n",
       "    <tr style=\"text-align: right;\">\n",
       "      <th></th>\n",
       "      <th>Username</th>\n",
       "      <th>TotalBetAmount</th>\n",
       "      <th>TotalProfitAmount</th>\n",
       "      <th>TotalBonusAmount</th>\n",
       "      <th>NumberOfBets</th>\n",
       "      <th>NumberOfBets_Won</th>\n",
       "      <th>NumberOfBets_Lost</th>\n",
       "      <th>AverageBet</th>\n",
       "      <th>MaxBet</th>\n",
       "      <th>MinBet</th>\n",
       "      <th>...</th>\n",
       "      <th>BetsLast12Days</th>\n",
       "      <th>BetsLast16Days</th>\n",
       "      <th>BetsLast20Days</th>\n",
       "      <th>BetsLast24Days</th>\n",
       "      <th>BetsLast28Days</th>\n",
       "      <th>BetsLast32Days</th>\n",
       "      <th>BetsLast36Days</th>\n",
       "      <th>DaysSinceLastPlay</th>\n",
       "      <th>DaysSinceSecondLastPlay</th>\n",
       "      <th>DaysSinceThirdLastPlay</th>\n",
       "    </tr>\n",
       "  </thead>\n",
       "  <tbody>\n",
       "    <tr>\n",
       "      <th>0</th>\n",
       "      <td>allg1124</td>\n",
       "      <td>1.000000</td>\n",
       "      <td>1.000000</td>\n",
       "      <td>0.266700</td>\n",
       "      <td>0.344828</td>\n",
       "      <td>0.337900</td>\n",
       "      <td>0.110204</td>\n",
       "      <td>0.234030</td>\n",
       "      <td>1.000000</td>\n",
       "      <td>0.000079</td>\n",
       "      <td>...</td>\n",
       "      <td>0.000890</td>\n",
       "      <td>0.005798</td>\n",
       "      <td>0.006292</td>\n",
       "      <td>0.653396</td>\n",
       "      <td>0.808923</td>\n",
       "      <td>1.000000</td>\n",
       "      <td>1.000000</td>\n",
       "      <td>0.000</td>\n",
       "      <td>0.000</td>\n",
       "      <td>0.000</td>\n",
       "    </tr>\n",
       "    <tr>\n",
       "      <th>1</th>\n",
       "      <td>Alexy</td>\n",
       "      <td>0.751216</td>\n",
       "      <td>0.505014</td>\n",
       "      <td>0.051260</td>\n",
       "      <td>0.158621</td>\n",
       "      <td>0.100457</td>\n",
       "      <td>0.102041</td>\n",
       "      <td>0.377799</td>\n",
       "      <td>1.000000</td>\n",
       "      <td>0.009104</td>\n",
       "      <td>...</td>\n",
       "      <td>1.000000</td>\n",
       "      <td>1.000000</td>\n",
       "      <td>1.000000</td>\n",
       "      <td>1.000000</td>\n",
       "      <td>1.000000</td>\n",
       "      <td>0.849177</td>\n",
       "      <td>0.789879</td>\n",
       "      <td>0.025</td>\n",
       "      <td>0.025</td>\n",
       "      <td>0.025</td>\n",
       "    </tr>\n",
       "    <tr>\n",
       "      <th>2</th>\n",
       "      <td>stevemoley</td>\n",
       "      <td>0.379607</td>\n",
       "      <td>0.068575</td>\n",
       "      <td>0.048753</td>\n",
       "      <td>0.082759</td>\n",
       "      <td>0.100457</td>\n",
       "      <td>0.012245</td>\n",
       "      <td>0.358912</td>\n",
       "      <td>1.000000</td>\n",
       "      <td>0.002708</td>\n",
       "      <td>...</td>\n",
       "      <td>0.047963</td>\n",
       "      <td>0.133753</td>\n",
       "      <td>0.186059</td>\n",
       "      <td>0.319403</td>\n",
       "      <td>0.336208</td>\n",
       "      <td>0.354941</td>\n",
       "      <td>0.399145</td>\n",
       "      <td>0.000</td>\n",
       "      <td>0.125</td>\n",
       "      <td>0.125</td>\n",
       "    </tr>\n",
       "    <tr>\n",
       "      <th>3</th>\n",
       "      <td>zabby</td>\n",
       "      <td>0.338439</td>\n",
       "      <td>0.117415</td>\n",
       "      <td>0.035217</td>\n",
       "      <td>0.100000</td>\n",
       "      <td>0.105023</td>\n",
       "      <td>0.028571</td>\n",
       "      <td>0.266657</td>\n",
       "      <td>0.988571</td>\n",
       "      <td>0.000015</td>\n",
       "      <td>...</td>\n",
       "      <td>0.103503</td>\n",
       "      <td>0.105206</td>\n",
       "      <td>0.220337</td>\n",
       "      <td>0.285249</td>\n",
       "      <td>0.285249</td>\n",
       "      <td>0.305029</td>\n",
       "      <td>0.286122</td>\n",
       "      <td>0.000</td>\n",
       "      <td>0.000</td>\n",
       "      <td>0.050</td>\n",
       "    </tr>\n",
       "    <tr>\n",
       "      <th>4</th>\n",
       "      <td>goosin2000</td>\n",
       "      <td>0.274806</td>\n",
       "      <td>0.793302</td>\n",
       "      <td>0.052544</td>\n",
       "      <td>0.062069</td>\n",
       "      <td>0.036530</td>\n",
       "      <td>0.044898</td>\n",
       "      <td>0.341875</td>\n",
       "      <td>0.550000</td>\n",
       "      <td>0.145832</td>\n",
       "      <td>...</td>\n",
       "      <td>0.000000</td>\n",
       "      <td>0.052306</td>\n",
       "      <td>0.149715</td>\n",
       "      <td>0.227479</td>\n",
       "      <td>0.227479</td>\n",
       "      <td>0.246693</td>\n",
       "      <td>0.229466</td>\n",
       "      <td>0.325</td>\n",
       "      <td>0.375</td>\n",
       "      <td>0.375</td>\n",
       "    </tr>\n",
       "  </tbody>\n",
       "</table>\n",
       "<p>5 rows × 23 columns</p>\n",
       "</div>"
      ],
      "text/plain": [
       "     Username  TotalBetAmount  TotalProfitAmount  TotalBonusAmount  \\\n",
       "0    allg1124        1.000000           1.000000          0.266700   \n",
       "1       Alexy        0.751216           0.505014          0.051260   \n",
       "2  stevemoley        0.379607           0.068575          0.048753   \n",
       "3       zabby        0.338439           0.117415          0.035217   \n",
       "4  goosin2000        0.274806           0.793302          0.052544   \n",
       "\n",
       "   NumberOfBets  NumberOfBets_Won  NumberOfBets_Lost  AverageBet    MaxBet  \\\n",
       "0      0.344828          0.337900           0.110204    0.234030  1.000000   \n",
       "1      0.158621          0.100457           0.102041    0.377799  1.000000   \n",
       "2      0.082759          0.100457           0.012245    0.358912  1.000000   \n",
       "3      0.100000          0.105023           0.028571    0.266657  0.988571   \n",
       "4      0.062069          0.036530           0.044898    0.341875  0.550000   \n",
       "\n",
       "     MinBet  ...  BetsLast12Days  BetsLast16Days  BetsLast20Days  \\\n",
       "0  0.000079  ...        0.000890        0.005798        0.006292   \n",
       "1  0.009104  ...        1.000000        1.000000        1.000000   \n",
       "2  0.002708  ...        0.047963        0.133753        0.186059   \n",
       "3  0.000015  ...        0.103503        0.105206        0.220337   \n",
       "4  0.145832  ...        0.000000        0.052306        0.149715   \n",
       "\n",
       "   BetsLast24Days  BetsLast28Days  BetsLast32Days  BetsLast36Days  \\\n",
       "0        0.653396        0.808923        1.000000        1.000000   \n",
       "1        1.000000        1.000000        0.849177        0.789879   \n",
       "2        0.319403        0.336208        0.354941        0.399145   \n",
       "3        0.285249        0.285249        0.305029        0.286122   \n",
       "4        0.227479        0.227479        0.246693        0.229466   \n",
       "\n",
       "   DaysSinceLastPlay  DaysSinceSecondLastPlay  DaysSinceThirdLastPlay  \n",
       "0              0.000                    0.000                   0.000  \n",
       "1              0.025                    0.025                   0.025  \n",
       "2              0.000                    0.125                   0.125  \n",
       "3              0.000                    0.000                   0.050  \n",
       "4              0.325                    0.375                   0.375  \n",
       "\n",
       "[5 rows x 23 columns]"
      ]
     },
     "execution_count": 545,
     "metadata": {},
     "output_type": "execute_result"
    }
   ],
   "source": [
    "final_df.head(5)"
   ]
  },
  {
   "cell_type": "markdown",
   "id": "9c76f054-188b-4942-acba-156005123d4d",
   "metadata": {},
   "source": [
    "# Separate Features"
   ]
  },
  {
   "cell_type": "code",
   "execution_count": 546,
   "id": "492ce104-5e8f-4e23-9455-255200df5ef1",
   "metadata": {},
   "outputs": [],
   "source": [
    "features = final_df.drop(['Username', 'Churned'], axis=1)"
   ]
  },
  {
   "cell_type": "code",
   "execution_count": 547,
   "id": "91d711c6-5ca7-4f31-a832-8944361f596b",
   "metadata": {},
   "outputs": [
    {
     "data": {
      "text/html": [
       "<div>\n",
       "<style scoped>\n",
       "    .dataframe tbody tr th:only-of-type {\n",
       "        vertical-align: middle;\n",
       "    }\n",
       "\n",
       "    .dataframe tbody tr th {\n",
       "        vertical-align: top;\n",
       "    }\n",
       "\n",
       "    .dataframe thead th {\n",
       "        text-align: right;\n",
       "    }\n",
       "</style>\n",
       "<table border=\"1\" class=\"dataframe\">\n",
       "  <thead>\n",
       "    <tr style=\"text-align: right;\">\n",
       "      <th></th>\n",
       "      <th>TotalBetAmount</th>\n",
       "      <th>TotalProfitAmount</th>\n",
       "      <th>TotalBonusAmount</th>\n",
       "      <th>NumberOfBets</th>\n",
       "      <th>NumberOfBets_Won</th>\n",
       "      <th>NumberOfBets_Lost</th>\n",
       "      <th>AverageBet</th>\n",
       "      <th>MaxBet</th>\n",
       "      <th>MinBet</th>\n",
       "      <th>BetsLast4Days</th>\n",
       "      <th>...</th>\n",
       "      <th>BetsLast12Days</th>\n",
       "      <th>BetsLast16Days</th>\n",
       "      <th>BetsLast20Days</th>\n",
       "      <th>BetsLast24Days</th>\n",
       "      <th>BetsLast28Days</th>\n",
       "      <th>BetsLast32Days</th>\n",
       "      <th>BetsLast36Days</th>\n",
       "      <th>DaysSinceLastPlay</th>\n",
       "      <th>DaysSinceSecondLastPlay</th>\n",
       "      <th>DaysSinceThirdLastPlay</th>\n",
       "    </tr>\n",
       "  </thead>\n",
       "  <tbody>\n",
       "    <tr>\n",
       "      <th>0</th>\n",
       "      <td>1.000000</td>\n",
       "      <td>1.000000</td>\n",
       "      <td>0.266700</td>\n",
       "      <td>0.344828</td>\n",
       "      <td>0.337900</td>\n",
       "      <td>0.110204</td>\n",
       "      <td>0.234030</td>\n",
       "      <td>1.000000</td>\n",
       "      <td>0.000079</td>\n",
       "      <td>0.003701</td>\n",
       "      <td>...</td>\n",
       "      <td>0.000890</td>\n",
       "      <td>0.005798</td>\n",
       "      <td>0.006292</td>\n",
       "      <td>0.653396</td>\n",
       "      <td>0.808923</td>\n",
       "      <td>1.000000</td>\n",
       "      <td>1.000000</td>\n",
       "      <td>0.000</td>\n",
       "      <td>0.000</td>\n",
       "      <td>0.000</td>\n",
       "    </tr>\n",
       "    <tr>\n",
       "      <th>1</th>\n",
       "      <td>0.751216</td>\n",
       "      <td>0.505014</td>\n",
       "      <td>0.051260</td>\n",
       "      <td>0.158621</td>\n",
       "      <td>0.100457</td>\n",
       "      <td>0.102041</td>\n",
       "      <td>0.377799</td>\n",
       "      <td>1.000000</td>\n",
       "      <td>0.009104</td>\n",
       "      <td>1.000000</td>\n",
       "      <td>...</td>\n",
       "      <td>1.000000</td>\n",
       "      <td>1.000000</td>\n",
       "      <td>1.000000</td>\n",
       "      <td>1.000000</td>\n",
       "      <td>1.000000</td>\n",
       "      <td>0.849177</td>\n",
       "      <td>0.789879</td>\n",
       "      <td>0.025</td>\n",
       "      <td>0.025</td>\n",
       "      <td>0.025</td>\n",
       "    </tr>\n",
       "    <tr>\n",
       "      <th>2</th>\n",
       "      <td>0.379607</td>\n",
       "      <td>0.068575</td>\n",
       "      <td>0.048753</td>\n",
       "      <td>0.082759</td>\n",
       "      <td>0.100457</td>\n",
       "      <td>0.012245</td>\n",
       "      <td>0.358912</td>\n",
       "      <td>1.000000</td>\n",
       "      <td>0.002708</td>\n",
       "      <td>0.007597</td>\n",
       "      <td>...</td>\n",
       "      <td>0.047963</td>\n",
       "      <td>0.133753</td>\n",
       "      <td>0.186059</td>\n",
       "      <td>0.319403</td>\n",
       "      <td>0.336208</td>\n",
       "      <td>0.354941</td>\n",
       "      <td>0.399145</td>\n",
       "      <td>0.000</td>\n",
       "      <td>0.125</td>\n",
       "      <td>0.125</td>\n",
       "    </tr>\n",
       "    <tr>\n",
       "      <th>3</th>\n",
       "      <td>0.338439</td>\n",
       "      <td>0.117415</td>\n",
       "      <td>0.035217</td>\n",
       "      <td>0.100000</td>\n",
       "      <td>0.105023</td>\n",
       "      <td>0.028571</td>\n",
       "      <td>0.266657</td>\n",
       "      <td>0.988571</td>\n",
       "      <td>0.000015</td>\n",
       "      <td>0.198343</td>\n",
       "      <td>...</td>\n",
       "      <td>0.103503</td>\n",
       "      <td>0.105206</td>\n",
       "      <td>0.220337</td>\n",
       "      <td>0.285249</td>\n",
       "      <td>0.285249</td>\n",
       "      <td>0.305029</td>\n",
       "      <td>0.286122</td>\n",
       "      <td>0.000</td>\n",
       "      <td>0.000</td>\n",
       "      <td>0.050</td>\n",
       "    </tr>\n",
       "    <tr>\n",
       "      <th>4</th>\n",
       "      <td>0.274806</td>\n",
       "      <td>0.793302</td>\n",
       "      <td>0.052544</td>\n",
       "      <td>0.062069</td>\n",
       "      <td>0.036530</td>\n",
       "      <td>0.044898</td>\n",
       "      <td>0.341875</td>\n",
       "      <td>0.550000</td>\n",
       "      <td>0.145832</td>\n",
       "      <td>0.000000</td>\n",
       "      <td>...</td>\n",
       "      <td>0.000000</td>\n",
       "      <td>0.052306</td>\n",
       "      <td>0.149715</td>\n",
       "      <td>0.227479</td>\n",
       "      <td>0.227479</td>\n",
       "      <td>0.246693</td>\n",
       "      <td>0.229466</td>\n",
       "      <td>0.325</td>\n",
       "      <td>0.375</td>\n",
       "      <td>0.375</td>\n",
       "    </tr>\n",
       "  </tbody>\n",
       "</table>\n",
       "<p>5 rows × 21 columns</p>\n",
       "</div>"
      ],
      "text/plain": [
       "   TotalBetAmount  TotalProfitAmount  TotalBonusAmount  NumberOfBets  \\\n",
       "0        1.000000           1.000000          0.266700      0.344828   \n",
       "1        0.751216           0.505014          0.051260      0.158621   \n",
       "2        0.379607           0.068575          0.048753      0.082759   \n",
       "3        0.338439           0.117415          0.035217      0.100000   \n",
       "4        0.274806           0.793302          0.052544      0.062069   \n",
       "\n",
       "   NumberOfBets_Won  NumberOfBets_Lost  AverageBet    MaxBet    MinBet  \\\n",
       "0          0.337900           0.110204    0.234030  1.000000  0.000079   \n",
       "1          0.100457           0.102041    0.377799  1.000000  0.009104   \n",
       "2          0.100457           0.012245    0.358912  1.000000  0.002708   \n",
       "3          0.105023           0.028571    0.266657  0.988571  0.000015   \n",
       "4          0.036530           0.044898    0.341875  0.550000  0.145832   \n",
       "\n",
       "   BetsLast4Days  ...  BetsLast12Days  BetsLast16Days  BetsLast20Days  \\\n",
       "0       0.003701  ...        0.000890        0.005798        0.006292   \n",
       "1       1.000000  ...        1.000000        1.000000        1.000000   \n",
       "2       0.007597  ...        0.047963        0.133753        0.186059   \n",
       "3       0.198343  ...        0.103503        0.105206        0.220337   \n",
       "4       0.000000  ...        0.000000        0.052306        0.149715   \n",
       "\n",
       "   BetsLast24Days  BetsLast28Days  BetsLast32Days  BetsLast36Days  \\\n",
       "0        0.653396        0.808923        1.000000        1.000000   \n",
       "1        1.000000        1.000000        0.849177        0.789879   \n",
       "2        0.319403        0.336208        0.354941        0.399145   \n",
       "3        0.285249        0.285249        0.305029        0.286122   \n",
       "4        0.227479        0.227479        0.246693        0.229466   \n",
       "\n",
       "   DaysSinceLastPlay  DaysSinceSecondLastPlay  DaysSinceThirdLastPlay  \n",
       "0              0.000                    0.000                   0.000  \n",
       "1              0.025                    0.025                   0.025  \n",
       "2              0.000                    0.125                   0.125  \n",
       "3              0.000                    0.000                   0.050  \n",
       "4              0.325                    0.375                   0.375  \n",
       "\n",
       "[5 rows x 21 columns]"
      ]
     },
     "execution_count": 547,
     "metadata": {},
     "output_type": "execute_result"
    }
   ],
   "source": [
    "features.head()"
   ]
  },
  {
   "cell_type": "markdown",
   "id": "477d13da-fde1-4d31-aa22-9d17ad714212",
   "metadata": {},
   "source": [
    "# Separate Labels"
   ]
  },
  {
   "cell_type": "code",
   "execution_count": 548,
   "id": "3f88614d-0d76-43b8-ad34-a416e42d6a11",
   "metadata": {},
   "outputs": [],
   "source": [
    "labels = final_df['Churned']"
   ]
  },
  {
   "cell_type": "code",
   "execution_count": 549,
   "id": "52f05ca5-2083-4b01-9592-9988265af33d",
   "metadata": {},
   "outputs": [
    {
     "data": {
      "text/plain": [
       "0    0\n",
       "1    0\n",
       "2    0\n",
       "3    0\n",
       "4    1\n",
       "Name: Churned, dtype: int64"
      ]
     },
     "execution_count": 549,
     "metadata": {},
     "output_type": "execute_result"
    }
   ],
   "source": [
    "labels.head()"
   ]
  },
  {
   "cell_type": "code",
   "execution_count": 550,
   "id": "7591feba-140a-4347-821d-ecbcc95d21a9",
   "metadata": {},
   "outputs": [],
   "source": [
    "X = features\n",
    "y = labels"
   ]
  },
  {
   "cell_type": "code",
   "execution_count": 551,
   "id": "f364d045-f19d-4219-8b2f-e1fdb639583b",
   "metadata": {},
   "outputs": [],
   "source": [
    "from sklearn.model_selection import train_test_split"
   ]
  },
  {
   "cell_type": "code",
   "execution_count": 552,
   "id": "292bcfd4-ebd3-4180-9fa4-bf527cbcafa7",
   "metadata": {},
   "outputs": [],
   "source": [
    "X_train, X_test, y_train, y_test = train_test_split(X,y,test_size=0.2,random_state=5)"
   ]
  },
  {
   "cell_type": "code",
   "execution_count": 553,
   "id": "283d7747-ae05-4860-b32d-50eceabdb59b",
   "metadata": {},
   "outputs": [
    {
     "data": {
      "text/plain": [
       "(3319, 21)"
      ]
     },
     "execution_count": 553,
     "metadata": {},
     "output_type": "execute_result"
    }
   ],
   "source": [
    "X_train.shape"
   ]
  },
  {
   "cell_type": "code",
   "execution_count": 554,
   "id": "0f3880e6-b6b3-469a-8067-de56c72338e9",
   "metadata": {},
   "outputs": [
    {
     "data": {
      "text/plain": [
       "(830, 21)"
      ]
     },
     "execution_count": 554,
     "metadata": {},
     "output_type": "execute_result"
    }
   ],
   "source": [
    "X_test.shape"
   ]
  },
  {
   "cell_type": "code",
   "execution_count": 555,
   "id": "35566928-4ca3-41ab-b284-b1e7f7dae17c",
   "metadata": {},
   "outputs": [
    {
     "data": {
      "text/html": [
       "<div>\n",
       "<style scoped>\n",
       "    .dataframe tbody tr th:only-of-type {\n",
       "        vertical-align: middle;\n",
       "    }\n",
       "\n",
       "    .dataframe tbody tr th {\n",
       "        vertical-align: top;\n",
       "    }\n",
       "\n",
       "    .dataframe thead th {\n",
       "        text-align: right;\n",
       "    }\n",
       "</style>\n",
       "<table border=\"1\" class=\"dataframe\">\n",
       "  <thead>\n",
       "    <tr style=\"text-align: right;\">\n",
       "      <th></th>\n",
       "      <th>TotalBetAmount</th>\n",
       "      <th>TotalProfitAmount</th>\n",
       "      <th>TotalBonusAmount</th>\n",
       "      <th>NumberOfBets</th>\n",
       "      <th>NumberOfBets_Won</th>\n",
       "      <th>NumberOfBets_Lost</th>\n",
       "      <th>AverageBet</th>\n",
       "      <th>MaxBet</th>\n",
       "      <th>MinBet</th>\n",
       "      <th>BetsLast4Days</th>\n",
       "      <th>...</th>\n",
       "      <th>BetsLast12Days</th>\n",
       "      <th>BetsLast16Days</th>\n",
       "      <th>BetsLast20Days</th>\n",
       "      <th>BetsLast24Days</th>\n",
       "      <th>BetsLast28Days</th>\n",
       "      <th>BetsLast32Days</th>\n",
       "      <th>BetsLast36Days</th>\n",
       "      <th>DaysSinceLastPlay</th>\n",
       "      <th>DaysSinceSecondLastPlay</th>\n",
       "      <th>DaysSinceThirdLastPlay</th>\n",
       "    </tr>\n",
       "  </thead>\n",
       "  <tbody>\n",
       "    <tr>\n",
       "      <th>3462</th>\n",
       "      <td>2.090719e-06</td>\n",
       "      <td>3.806719e-06</td>\n",
       "      <td>0.045964</td>\n",
       "      <td>0.013793</td>\n",
       "      <td>0.013699</td>\n",
       "      <td>0.008163</td>\n",
       "      <td>0.000009</td>\n",
       "      <td>0.000026</td>\n",
       "      <td>0.000000</td>\n",
       "      <td>0.000000</td>\n",
       "      <td>...</td>\n",
       "      <td>0.000000e+00</td>\n",
       "      <td>0.000000e+00</td>\n",
       "      <td>0.000000e+00</td>\n",
       "      <td>0.000000e+00</td>\n",
       "      <td>0.000000e+00</td>\n",
       "      <td>5.560834e-07</td>\n",
       "      <td>2.262980e-06</td>\n",
       "      <td>0.775</td>\n",
       "      <td>0.775</td>\n",
       "      <td>0.775</td>\n",
       "    </tr>\n",
       "    <tr>\n",
       "      <th>1059</th>\n",
       "      <td>3.196955e-04</td>\n",
       "      <td>0.000000e+00</td>\n",
       "      <td>0.000000</td>\n",
       "      <td>0.003448</td>\n",
       "      <td>0.000000</td>\n",
       "      <td>0.008163</td>\n",
       "      <td>0.003778</td>\n",
       "      <td>0.003199</td>\n",
       "      <td>0.004165</td>\n",
       "      <td>0.000000</td>\n",
       "      <td>...</td>\n",
       "      <td>0.000000e+00</td>\n",
       "      <td>4.256526e-04</td>\n",
       "      <td>4.256526e-04</td>\n",
       "      <td>4.256526e-04</td>\n",
       "      <td>4.256526e-04</td>\n",
       "      <td>3.614542e-04</td>\n",
       "      <td>3.362142e-04</td>\n",
       "      <td>0.325</td>\n",
       "      <td>0.325</td>\n",
       "      <td>0.000</td>\n",
       "    </tr>\n",
       "    <tr>\n",
       "      <th>3267</th>\n",
       "      <td>3.996963e-06</td>\n",
       "      <td>4.724504e-06</td>\n",
       "      <td>0.026194</td>\n",
       "      <td>0.003448</td>\n",
       "      <td>0.009132</td>\n",
       "      <td>0.000000</td>\n",
       "      <td>0.000047</td>\n",
       "      <td>0.000063</td>\n",
       "      <td>0.000002</td>\n",
       "      <td>0.000000</td>\n",
       "      <td>...</td>\n",
       "      <td>0.000000e+00</td>\n",
       "      <td>0.000000e+00</td>\n",
       "      <td>0.000000e+00</td>\n",
       "      <td>0.000000e+00</td>\n",
       "      <td>0.000000e+00</td>\n",
       "      <td>0.000000e+00</td>\n",
       "      <td>4.138021e-06</td>\n",
       "      <td>0.875</td>\n",
       "      <td>0.950</td>\n",
       "      <td>0.000</td>\n",
       "    </tr>\n",
       "    <tr>\n",
       "      <th>1559</th>\n",
       "      <td>1.229220e-04</td>\n",
       "      <td>0.000000e+00</td>\n",
       "      <td>0.000000</td>\n",
       "      <td>0.000000</td>\n",
       "      <td>0.000000</td>\n",
       "      <td>0.004082</td>\n",
       "      <td>0.002906</td>\n",
       "      <td>0.001999</td>\n",
       "      <td>0.004165</td>\n",
       "      <td>0.000000</td>\n",
       "      <td>...</td>\n",
       "      <td>0.000000e+00</td>\n",
       "      <td>0.000000e+00</td>\n",
       "      <td>1.637126e-04</td>\n",
       "      <td>1.637126e-04</td>\n",
       "      <td>1.637126e-04</td>\n",
       "      <td>1.390209e-04</td>\n",
       "      <td>1.293132e-04</td>\n",
       "      <td>0.475</td>\n",
       "      <td>0.000</td>\n",
       "      <td>0.000</td>\n",
       "    </tr>\n",
       "    <tr>\n",
       "      <th>2907</th>\n",
       "      <td>9.408235e-06</td>\n",
       "      <td>1.839741e-06</td>\n",
       "      <td>0.057025</td>\n",
       "      <td>0.051724</td>\n",
       "      <td>0.063927</td>\n",
       "      <td>0.008163</td>\n",
       "      <td>0.000013</td>\n",
       "      <td>0.000009</td>\n",
       "      <td>0.000006</td>\n",
       "      <td>0.000000</td>\n",
       "      <td>...</td>\n",
       "      <td>0.000000e+00</td>\n",
       "      <td>0.000000e+00</td>\n",
       "      <td>0.000000e+00</td>\n",
       "      <td>0.000000e+00</td>\n",
       "      <td>3.274251e-06</td>\n",
       "      <td>1.070461e-05</td>\n",
       "      <td>9.957113e-06</td>\n",
       "      <td>0.650</td>\n",
       "      <td>0.650</td>\n",
       "      <td>0.650</td>\n",
       "    </tr>\n",
       "    <tr>\n",
       "      <th>690</th>\n",
       "      <td>7.378393e-04</td>\n",
       "      <td>0.000000e+00</td>\n",
       "      <td>0.000000</td>\n",
       "      <td>0.000000</td>\n",
       "      <td>0.000000</td>\n",
       "      <td>0.004082</td>\n",
       "      <td>0.017440</td>\n",
       "      <td>0.011999</td>\n",
       "      <td>0.024998</td>\n",
       "      <td>0.000000</td>\n",
       "      <td>...</td>\n",
       "      <td>9.855491e-04</td>\n",
       "      <td>9.822753e-04</td>\n",
       "      <td>9.822753e-04</td>\n",
       "      <td>9.822753e-04</td>\n",
       "      <td>9.822753e-04</td>\n",
       "      <td>8.341252e-04</td>\n",
       "      <td>7.758790e-04</td>\n",
       "      <td>0.125</td>\n",
       "      <td>0.000</td>\n",
       "      <td>0.000</td>\n",
       "    </tr>\n",
       "    <tr>\n",
       "      <th>3750</th>\n",
       "      <td>6.149173e-07</td>\n",
       "      <td>8.823245e-07</td>\n",
       "      <td>0.004700</td>\n",
       "      <td>0.013793</td>\n",
       "      <td>0.004566</td>\n",
       "      <td>0.016327</td>\n",
       "      <td>0.000002</td>\n",
       "      <td>0.000002</td>\n",
       "      <td>0.000002</td>\n",
       "      <td>0.000004</td>\n",
       "      <td>...</td>\n",
       "      <td>9.034200e-07</td>\n",
       "      <td>9.004191e-07</td>\n",
       "      <td>9.004191e-07</td>\n",
       "      <td>9.004191e-07</td>\n",
       "      <td>9.004191e-07</td>\n",
       "      <td>7.646147e-07</td>\n",
       "      <td>7.112224e-07</td>\n",
       "      <td>0.075</td>\n",
       "      <td>0.075</td>\n",
       "      <td>0.075</td>\n",
       "    </tr>\n",
       "    <tr>\n",
       "      <th>2073</th>\n",
       "      <td>5.528107e-05</td>\n",
       "      <td>2.038941e-05</td>\n",
       "      <td>0.024282</td>\n",
       "      <td>0.013793</td>\n",
       "      <td>0.022831</td>\n",
       "      <td>0.000000</td>\n",
       "      <td>0.000260</td>\n",
       "      <td>0.000499</td>\n",
       "      <td>0.000206</td>\n",
       "      <td>0.000000</td>\n",
       "      <td>...</td>\n",
       "      <td>0.000000e+00</td>\n",
       "      <td>0.000000e+00</td>\n",
       "      <td>0.000000e+00</td>\n",
       "      <td>0.000000e+00</td>\n",
       "      <td>7.367065e-05</td>\n",
       "      <td>6.255939e-05</td>\n",
       "      <td>5.819092e-05</td>\n",
       "      <td>0.650</td>\n",
       "      <td>0.675</td>\n",
       "      <td>0.675</td>\n",
       "    </tr>\n",
       "    <tr>\n",
       "      <th>3917</th>\n",
       "      <td>2.459669e-07</td>\n",
       "      <td>1.355818e-07</td>\n",
       "      <td>0.000000</td>\n",
       "      <td>0.000000</td>\n",
       "      <td>0.004566</td>\n",
       "      <td>0.000000</td>\n",
       "      <td>0.000006</td>\n",
       "      <td>0.000004</td>\n",
       "      <td>0.000008</td>\n",
       "      <td>0.000000</td>\n",
       "      <td>...</td>\n",
       "      <td>0.000000e+00</td>\n",
       "      <td>0.000000e+00</td>\n",
       "      <td>0.000000e+00</td>\n",
       "      <td>0.000000e+00</td>\n",
       "      <td>4.092814e-07</td>\n",
       "      <td>3.475522e-07</td>\n",
       "      <td>3.232829e-07</td>\n",
       "      <td>0.625</td>\n",
       "      <td>0.000</td>\n",
       "      <td>0.000</td>\n",
       "    </tr>\n",
       "    <tr>\n",
       "      <th>1844</th>\n",
       "      <td>6.942416e-05</td>\n",
       "      <td>1.919521e-03</td>\n",
       "      <td>0.031928</td>\n",
       "      <td>0.003448</td>\n",
       "      <td>0.009132</td>\n",
       "      <td>0.000000</td>\n",
       "      <td>0.000820</td>\n",
       "      <td>0.001099</td>\n",
       "      <td>0.000060</td>\n",
       "      <td>0.000000</td>\n",
       "      <td>...</td>\n",
       "      <td>0.000000e+00</td>\n",
       "      <td>0.000000e+00</td>\n",
       "      <td>0.000000e+00</td>\n",
       "      <td>0.000000e+00</td>\n",
       "      <td>0.000000e+00</td>\n",
       "      <td>7.646147e-05</td>\n",
       "      <td>7.112224e-05</td>\n",
       "      <td>0.725</td>\n",
       "      <td>0.925</td>\n",
       "      <td>0.000</td>\n",
       "    </tr>\n",
       "  </tbody>\n",
       "</table>\n",
       "<p>10 rows × 21 columns</p>\n",
       "</div>"
      ],
      "text/plain": [
       "      TotalBetAmount  TotalProfitAmount  TotalBonusAmount  NumberOfBets  \\\n",
       "3462    2.090719e-06       3.806719e-06          0.045964      0.013793   \n",
       "1059    3.196955e-04       0.000000e+00          0.000000      0.003448   \n",
       "3267    3.996963e-06       4.724504e-06          0.026194      0.003448   \n",
       "1559    1.229220e-04       0.000000e+00          0.000000      0.000000   \n",
       "2907    9.408235e-06       1.839741e-06          0.057025      0.051724   \n",
       "690     7.378393e-04       0.000000e+00          0.000000      0.000000   \n",
       "3750    6.149173e-07       8.823245e-07          0.004700      0.013793   \n",
       "2073    5.528107e-05       2.038941e-05          0.024282      0.013793   \n",
       "3917    2.459669e-07       1.355818e-07          0.000000      0.000000   \n",
       "1844    6.942416e-05       1.919521e-03          0.031928      0.003448   \n",
       "\n",
       "      NumberOfBets_Won  NumberOfBets_Lost  AverageBet    MaxBet    MinBet  \\\n",
       "3462          0.013699           0.008163    0.000009  0.000026  0.000000   \n",
       "1059          0.000000           0.008163    0.003778  0.003199  0.004165   \n",
       "3267          0.009132           0.000000    0.000047  0.000063  0.000002   \n",
       "1559          0.000000           0.004082    0.002906  0.001999  0.004165   \n",
       "2907          0.063927           0.008163    0.000013  0.000009  0.000006   \n",
       "690           0.000000           0.004082    0.017440  0.011999  0.024998   \n",
       "3750          0.004566           0.016327    0.000002  0.000002  0.000002   \n",
       "2073          0.022831           0.000000    0.000260  0.000499  0.000206   \n",
       "3917          0.004566           0.000000    0.000006  0.000004  0.000008   \n",
       "1844          0.009132           0.000000    0.000820  0.001099  0.000060   \n",
       "\n",
       "      BetsLast4Days  ...  BetsLast12Days  BetsLast16Days  BetsLast20Days  \\\n",
       "3462       0.000000  ...    0.000000e+00    0.000000e+00    0.000000e+00   \n",
       "1059       0.000000  ...    0.000000e+00    4.256526e-04    4.256526e-04   \n",
       "3267       0.000000  ...    0.000000e+00    0.000000e+00    0.000000e+00   \n",
       "1559       0.000000  ...    0.000000e+00    0.000000e+00    1.637126e-04   \n",
       "2907       0.000000  ...    0.000000e+00    0.000000e+00    0.000000e+00   \n",
       "690        0.000000  ...    9.855491e-04    9.822753e-04    9.822753e-04   \n",
       "3750       0.000004  ...    9.034200e-07    9.004191e-07    9.004191e-07   \n",
       "2073       0.000000  ...    0.000000e+00    0.000000e+00    0.000000e+00   \n",
       "3917       0.000000  ...    0.000000e+00    0.000000e+00    0.000000e+00   \n",
       "1844       0.000000  ...    0.000000e+00    0.000000e+00    0.000000e+00   \n",
       "\n",
       "      BetsLast24Days  BetsLast28Days  BetsLast32Days  BetsLast36Days  \\\n",
       "3462    0.000000e+00    0.000000e+00    5.560834e-07    2.262980e-06   \n",
       "1059    4.256526e-04    4.256526e-04    3.614542e-04    3.362142e-04   \n",
       "3267    0.000000e+00    0.000000e+00    0.000000e+00    4.138021e-06   \n",
       "1559    1.637126e-04    1.637126e-04    1.390209e-04    1.293132e-04   \n",
       "2907    0.000000e+00    3.274251e-06    1.070461e-05    9.957113e-06   \n",
       "690     9.822753e-04    9.822753e-04    8.341252e-04    7.758790e-04   \n",
       "3750    9.004191e-07    9.004191e-07    7.646147e-07    7.112224e-07   \n",
       "2073    0.000000e+00    7.367065e-05    6.255939e-05    5.819092e-05   \n",
       "3917    0.000000e+00    4.092814e-07    3.475522e-07    3.232829e-07   \n",
       "1844    0.000000e+00    0.000000e+00    7.646147e-05    7.112224e-05   \n",
       "\n",
       "      DaysSinceLastPlay  DaysSinceSecondLastPlay  DaysSinceThirdLastPlay  \n",
       "3462              0.775                    0.775                   0.775  \n",
       "1059              0.325                    0.325                   0.000  \n",
       "3267              0.875                    0.950                   0.000  \n",
       "1559              0.475                    0.000                   0.000  \n",
       "2907              0.650                    0.650                   0.650  \n",
       "690               0.125                    0.000                   0.000  \n",
       "3750              0.075                    0.075                   0.075  \n",
       "2073              0.650                    0.675                   0.675  \n",
       "3917              0.625                    0.000                   0.000  \n",
       "1844              0.725                    0.925                   0.000  \n",
       "\n",
       "[10 rows x 21 columns]"
      ]
     },
     "execution_count": 555,
     "metadata": {},
     "output_type": "execute_result"
    }
   ],
   "source": [
    "X_train[:10]"
   ]
  },
  {
   "cell_type": "code",
   "execution_count": 556,
   "id": "5348694d-3831-427c-b44f-4a0aed07a7f0",
   "metadata": {},
   "outputs": [
    {
     "data": {
      "text/plain": [
       "21"
      ]
     },
     "execution_count": 556,
     "metadata": {},
     "output_type": "execute_result"
    }
   ],
   "source": [
    "len(X_train.columns)"
   ]
  },
  {
   "cell_type": "code",
   "execution_count": 557,
   "id": "2cd8635c-c750-499b-b627-3af8afdeebcb",
   "metadata": {},
   "outputs": [],
   "source": [
    "import tensorflow as tf\n",
    "from tensorflow import keras"
   ]
  },
  {
   "cell_type": "code",
   "execution_count": 558,
   "id": "08b348c8-cd8c-4b3f-8c26-82c02ff3e9b8",
   "metadata": {},
   "outputs": [],
   "source": [
    "model = keras.Sequential([\n",
    "    keras.layers.Dense(21, input_shape=(21,), activation='relu'),  # Note the colon (:) and comma\n",
    "    keras.layers.Dense(1, activation='sigmoid')\n",
    "])\n",
    "\n",
    "model.compile(optimizer='adam',\n",
    "             loss='binary_crossentropy',\n",
    "             metrics=['accuracy'])\n",
    "\n",
    "model.fit(X_train,y_train, epochs=5)\n",
    "\n",
    "model.evaluate(X_test, y_test)\n",
    "\n",
    "yp = model.predict(X_test)\n",
    "yp[:5]\n",
    "\n",
    "y_test[:10]\n",
    "\n",
    "y_pred = []\n",
    "for element in yp:\n",
    "    if element > 0.5:\n",
    "        y_pred.append(1)\n",
    "    else:\n",
    "        y_pred.append(0)\n",
    "\n",
    "y_pred[:10]\n",
    "\n",
    "print(classification_report(y_test,y_pred))"
   ]
  },
  {
   "cell_type": "code",
   "execution_count": null,
   "id": "65ee4d83-17fd-4d9d-83db-29384c67077d",
   "metadata": {},
   "outputs": [],
   "source": [
    "model = keras.Sequential([\n",
    "    keras.layers.Dense(21, input_shape=(21,), activation='relu'),  # Note the colon (:) and comma\n",
    "    keras.layers.Dense(1, activation='sigmoid')\n",
    "])"
   ]
  },
  {
   "cell_type": "code",
   "execution_count": 559,
   "id": "21c6c577-cfc4-47df-8ece-6e01ac8a6376",
   "metadata": {},
   "outputs": [],
   "source": [
    "model.compile(optimizer='adam',\n",
    "             loss='binary_crossentropy',\n",
    "             metrics=['accuracy'])"
   ]
  },
  {
   "cell_type": "code",
   "execution_count": 560,
   "id": "b57cba11-777d-4c5e-a4b6-a57fc2ca4263",
   "metadata": {},
   "outputs": [
    {
     "name": "stdout",
     "output_type": "stream",
     "text": [
      "Epoch 1/5\n",
      "104/104 [==============================] - 2s 5ms/step - loss: 0.5893 - accuracy: 0.7581\n",
      "Epoch 2/5\n",
      "104/104 [==============================] - 0s 4ms/step - loss: 0.4289 - accuracy: 0.7804\n",
      "Epoch 3/5\n",
      "104/104 [==============================] - 1s 8ms/step - loss: 0.3605 - accuracy: 0.7999\n",
      "Epoch 4/5\n",
      "104/104 [==============================] - 1s 5ms/step - loss: 0.3068 - accuracy: 0.8313\n",
      "Epoch 5/5\n",
      "104/104 [==============================] - 0s 4ms/step - loss: 0.2669 - accuracy: 0.8825\n"
     ]
    },
    {
     "data": {
      "text/plain": [
       "<keras.src.callbacks.History at 0x7cea0adda550>"
      ]
     },
     "execution_count": 560,
     "metadata": {},
     "output_type": "execute_result"
    }
   ],
   "source": [
    "model.fit(X_train,y_train, epochs=5)"
   ]
  },
  {
   "cell_type": "code",
   "execution_count": 561,
   "id": "56594aeb-6370-4057-ae02-f4e1aa687749",
   "metadata": {},
   "outputs": [
    {
     "name": "stdout",
     "output_type": "stream",
     "text": [
      "26/26 [==============================] - 0s 3ms/step - loss: 0.2243 - accuracy: 0.9060\n"
     ]
    },
    {
     "data": {
      "text/plain": [
       "[0.22426167130470276, 0.9060240983963013]"
      ]
     },
     "execution_count": 561,
     "metadata": {},
     "output_type": "execute_result"
    }
   ],
   "source": [
    "model.evaluate(X_test, y_test)"
   ]
  },
  {
   "cell_type": "code",
   "execution_count": 562,
   "id": "f6f18c8e-500c-4ba1-9449-8c96c79d2360",
   "metadata": {},
   "outputs": [
    {
     "name": "stdout",
     "output_type": "stream",
     "text": [
      "26/26 [==============================] - 0s 2ms/step\n"
     ]
    },
    {
     "data": {
      "text/plain": [
       "array([[0.948551  ],\n",
       "       [0.8525336 ],\n",
       "       [0.45382866],\n",
       "       [0.9808027 ],\n",
       "       [0.913747  ]], dtype=float32)"
      ]
     },
     "execution_count": 562,
     "metadata": {},
     "output_type": "execute_result"
    }
   ],
   "source": [
    "yp = model.predict(X_test)\n",
    "yp[:5]"
   ]
  },
  {
   "cell_type": "code",
   "execution_count": 563,
   "id": "bff974ee-8846-4533-b82e-ae44bbc371fb",
   "metadata": {},
   "outputs": [
    {
     "data": {
      "text/plain": [
       "2391    1\n",
       "1110    1\n",
       "1494    0\n",
       "2844    1\n",
       "3995    1\n",
       "2141    1\n",
       "1130    0\n",
       "3434    0\n",
       "753     0\n",
       "2657    1\n",
       "Name: Churned, dtype: int64"
      ]
     },
     "execution_count": 563,
     "metadata": {},
     "output_type": "execute_result"
    }
   ],
   "source": [
    "y_test[:10]"
   ]
  },
  {
   "cell_type": "code",
   "execution_count": 564,
   "id": "aa93220c-662f-41cf-8c7a-2c933879b432",
   "metadata": {},
   "outputs": [],
   "source": [
    "y_pred = []\n",
    "for element in yp:\n",
    "    if element > 0.5:\n",
    "        y_pred.append(1)\n",
    "    else:\n",
    "        y_pred.append(0)"
   ]
  },
  {
   "cell_type": "code",
   "execution_count": 565,
   "id": "9a049c35-45e9-4dbc-9049-e499ba9031c8",
   "metadata": {},
   "outputs": [
    {
     "data": {
      "text/plain": [
       "[1, 1, 0, 1, 1, 1, 0, 0, 0, 1]"
      ]
     },
     "execution_count": 565,
     "metadata": {},
     "output_type": "execute_result"
    }
   ],
   "source": [
    "y_pred[:10]"
   ]
  },
  {
   "cell_type": "code",
   "execution_count": 566,
   "id": "d7c99928-803e-421c-9eda-2f1f4204c70a",
   "metadata": {},
   "outputs": [],
   "source": [
    "from sklearn.metrics import confusion_matrix, classification_report, accuracy_score"
   ]
  },
  {
   "cell_type": "code",
   "execution_count": 567,
   "id": "bcce7a34-98df-4ec3-97e9-ab218a5c6b8c",
   "metadata": {},
   "outputs": [
    {
     "name": "stdout",
     "output_type": "stream",
     "text": [
      "              precision    recall  f1-score   support\n",
      "\n",
      "           0       0.94      0.59      0.73       174\n",
      "           1       0.90      0.99      0.94       656\n",
      "\n",
      "    accuracy                           0.91       830\n",
      "   macro avg       0.92      0.79      0.83       830\n",
      "weighted avg       0.91      0.91      0.90       830\n",
      "\n"
     ]
    }
   ],
   "source": [
    "print(classification_report(y_test,y_pred))"
   ]
  },
  {
   "cell_type": "code",
   "execution_count": 568,
   "id": "3c92f413-f744-4454-aa39-5cd7f917aea8",
   "metadata": {},
   "outputs": [
    {
     "data": {
      "text/plain": [
       "Text(95.72222222222221, 0.5, 'Truth')"
      ]
     },
     "execution_count": 568,
     "metadata": {},
     "output_type": "execute_result"
    },
    {
     "data": {
      "image/png": "[encoded data removed]",
      "text/plain": [
       "<Figure size 1000x700 with 2 Axes>"
      ]
     },
     "metadata": {},
     "output_type": "display_data"
    }
   ],
   "source": [
    "import seaborn as sn\n",
    "cm = tf.math.confusion_matrix(labels=y_test,predictions=y_pred)\n",
    "\n",
    "plt.figure(figsize= (10,7))\n",
    "sn.heatmap(cm, annot=True, fmt='d')\n",
    "plt.xlabel('Prediction')\n",
    "plt.ylabel('Truth')"
   ]
  },
  {
   "cell_type": "code",
   "execution_count": 569,
   "id": "bff9f836-3f5f-44e8-9ec8-80e7eb01485c",
   "metadata": {},
   "outputs": [],
   "source": [
    "from sklearn.ensemble import RandomForestClassifier  # For classification"
   ]
  },
  {
   "cell_type": "code",
   "execution_count": 570,
   "id": "a8878b09-6ec3-4a26-8c1c-d8413ed22720",
   "metadata": {},
   "outputs": [],
   "source": [
    "# Split into 70% train, 30% test (adjust test_size as needed)\n",
    "X_train, X_test, y_train, y_test = train_test_split(\n",
    "    X, y, \n",
    "    test_size=0.2, \n",
    "    random_state=5  # For reproducibility\n",
    ")"
   ]
  },
  {
   "cell_type": "code",
   "execution_count": 571,
   "id": "fa7259c2-b1f8-4a73-b5a2-093711abfe48",
   "metadata": {},
   "outputs": [
    {
     "data": {
      "text/html": [
       "<style>#sk-container-id-10 {color: black;}#sk-container-id-10 pre{padding: 0;}#sk-container-id-10 div.sk-toggleable {background-color: white;}#sk-container-id-10 label.sk-toggleable__label {cursor: pointer;display: block;width: 100%;margin-bottom: 0;padding: 0.3em;box-sizing: border-box;text-align: center;}#sk-container-id-10 label.sk-toggleable__label-arrow:before {content: \"▸\";float: left;margin-right: 0.25em;color: #696969;}#sk-container-id-10 label.sk-toggleable__label-arrow:hover:before {color: black;}#sk-container-id-10 div.sk-estimator:hover label.sk-toggleable__label-arrow:before {color: black;}#sk-container-id-10 div.sk-toggleable__content {max-height: 0;max-width: 0;overflow: hidden;text-align: left;background-color: #f0f8ff;}#sk-container-id-10 div.sk-toggleable__content pre {margin: 0.2em;color: black;border-radius: 0.25em;background-color: #f0f8ff;}#sk-container-id-10 input.sk-toggleable__control:checked~div.sk-toggleable__content {max-height: 200px;max-width: 100%;overflow: auto;}#sk-container-id-10 input.sk-toggleable__control:checked~label.sk-toggleable__label-arrow:before {content: \"▾\";}#sk-container-id-10 div.sk-estimator input.sk-toggleable__control:checked~label.sk-toggleable__label {background-color: #d4ebff;}#sk-container-id-10 div.sk-label input.sk-toggleable__control:checked~label.sk-toggleable__label {background-color: #d4ebff;}#sk-container-id-10 input.sk-hidden--visually {border: 0;clip: rect(1px 1px 1px 1px);clip: rect(1px, 1px, 1px, 1px);height: 1px;margin: -1px;overflow: hidden;padding: 0;position: absolute;width: 1px;}#sk-container-id-10 div.sk-estimator {font-family: monospace;background-color: #f0f8ff;border: 1px dotted black;border-radius: 0.25em;box-sizing: border-box;margin-bottom: 0.5em;}#sk-container-id-10 div.sk-estimator:hover {background-color: #d4ebff;}#sk-container-id-10 div.sk-parallel-item::after {content: \"\";width: 100%;border-bottom: 1px solid gray;flex-grow: 1;}#sk-container-id-10 div.sk-label:hover label.sk-toggleable__label {background-color: #d4ebff;}#sk-container-id-10 div.sk-serial::before {content: \"\";position: absolute;border-left: 1px solid gray;box-sizing: border-box;top: 0;bottom: 0;left: 50%;z-index: 0;}#sk-container-id-10 div.sk-serial {display: flex;flex-direction: column;align-items: center;background-color: white;padding-right: 0.2em;padding-left: 0.2em;position: relative;}#sk-container-id-10 div.sk-item {position: relative;z-index: 1;}#sk-container-id-10 div.sk-parallel {display: flex;align-items: stretch;justify-content: center;background-color: white;position: relative;}#sk-container-id-10 div.sk-item::before, #sk-container-id-10 div.sk-parallel-item::before {content: \"\";position: absolute;border-left: 1px solid gray;box-sizing: border-box;top: 0;bottom: 0;left: 50%;z-index: -1;}#sk-container-id-10 div.sk-parallel-item {display: flex;flex-direction: column;z-index: 1;position: relative;background-color: white;}#sk-container-id-10 div.sk-parallel-item:first-child::after {align-self: flex-end;width: 50%;}#sk-container-id-10 div.sk-parallel-item:last-child::after {align-self: flex-start;width: 50%;}#sk-container-id-10 div.sk-parallel-item:only-child::after {width: 0;}#sk-container-id-10 div.sk-dashed-wrapped {border: 1px dashed gray;margin: 0 0.4em 0.5em 0.4em;box-sizing: border-box;padding-bottom: 0.4em;background-color: white;}#sk-container-id-10 div.sk-label label {font-family: monospace;font-weight: bold;display: inline-block;line-height: 1.2em;}#sk-container-id-10 div.sk-label-container {text-align: center;}#sk-container-id-10 div.sk-container {/* jupyter's `normalize.less` sets `[hidden] { display: none; }` but bootstrap.min.css set `[hidden] { display: none !important; }` so we also need the `!important` here to be able to override the default hidden behavior on the sphinx rendered scikit-learn.org. See: https://github.com/scikit-learn/scikit-learn/issues/21755 */display: inline-block !important;position: relative;}#sk-container-id-10 div.sk-text-repr-fallback {display: none;}</style><div id=\"sk-container-id-10\" class=\"sk-top-container\"><div class=\"sk-text-repr-fallback\"><pre>RandomForestClassifier(max_depth=5, n_estimators=50, random_state=5)</pre><b>In a Jupyter environment, please rerun this cell to show the HTML representation or trust the notebook. <br />On GitHub, the HTML representation is unable to render, please try loading this page with nbviewer.org.</b></div><div class=\"sk-container\" hidden><div class=\"sk-item\"><div class=\"sk-estimator sk-toggleable\"><input class=\"sk-toggleable__control sk-hidden--visually\" id=\"sk-estimator-id-10\" type=\"checkbox\" checked><label for=\"sk-estimator-id-10\" class=\"sk-toggleable__label sk-toggleable__label-arrow\">RandomForestClassifier</label><div class=\"sk-toggleable__content\"><pre>RandomForestClassifier(max_depth=5, n_estimators=50, random_state=5)</pre></div></div></div></div></div>"
      ],
      "text/plain": [
       "RandomForestClassifier(max_depth=5, n_estimators=50, random_state=5)"
      ]
     },
     "execution_count": 571,
     "metadata": {},
     "output_type": "execute_result"
    }
   ],
   "source": [
    "# Initialize the model\n",
    "rf_model = RandomForestClassifier(\n",
    "    n_estimators=50,  # Number of trees\n",
    "    max_depth=5,      # Max depth of each tree\n",
    "    random_state=5    # For reproducibility\n",
    ")\n",
    "\n",
    "# Train the model on the training data\n",
    "rf_model.fit(X_train, y_train)"
   ]
  },
  {
   "cell_type": "code",
   "execution_count": 572,
   "id": "56d20728-2662-4864-b22f-85b3e1d9bb39",
   "metadata": {},
   "outputs": [],
   "source": [
    "y_pred = rf_model.predict(X_test)"
   ]
  },
  {
   "cell_type": "code",
   "execution_count": 573,
   "id": "3b5f73a9-9b5c-4987-b871-a06b5872a49e",
   "metadata": {},
   "outputs": [
    {
     "name": "stdout",
     "output_type": "stream",
     "text": [
      "Accuracy: 1.0\n",
      "              precision    recall  f1-score   support\n",
      "\n",
      "           0       1.00      1.00      1.00       174\n",
      "           1       1.00      1.00      1.00       656\n",
      "\n",
      "    accuracy                           1.00       830\n",
      "   macro avg       1.00      1.00      1.00       830\n",
      "weighted avg       1.00      1.00      1.00       830\n",
      "\n"
     ]
    }
   ],
   "source": [
    "print(\"Accuracy:\", accuracy_score(y_test, y_pred))\n",
    "print(classification_report(y_test, y_pred))  # Precision, Recall, F1-score"
   ]
  },
  {
   "cell_type": "code",
   "execution_count": 574,
   "id": "c1902527-d752-46a7-ab90-8927b3aa5cc9",
   "metadata": {},
   "outputs": [
    {
     "data": {
      "text/plain": [
       "Text(95.72222222222221, 0.5, 'Truth')"
      ]
     },
     "execution_count": 574,
     "metadata": {},
     "output_type": "execute_result"
    },
    {
     "data": {
      "image/png": "[encoded data removed]",
      "text/plain": [
       "<Figure size 1000x700 with 2 Axes>"
      ]
     },
     "metadata": {},
     "output_type": "display_data"
    }
   ],
   "source": [
    "import seaborn as sn\n",
    "cm = tf.math.confusion_matrix(labels=y_test,predictions=y_pred)\n",
    "\n",
    "plt.figure(figsize= (10,7))\n",
    "sn.heatmap(cm, annot=True, fmt='d')\n",
    "plt.xlabel('Prediction')\n",
    "plt.ylabel('Truth')"
   ]
  },
  {
   "cell_type": "code",
   "execution_count": 575,
   "id": "9a757f57-24b6-42be-8b16-2db7d18422e5",
   "metadata": {},
   "outputs": [],
   "source": [
    "import xgboost as xgb"
   ]
  },
  {
   "cell_type": "code",
   "execution_count": 576,
   "id": "a53c4a7b-a06b-4ef9-a187-005f3b0f7585",
   "metadata": {},
   "outputs": [],
   "source": [
    "# Split into 70% train, 30% test (adjust test_size as needed)\n",
    "X_train, X_test, y_train, y_test = train_test_split(\n",
    "    X, y, \n",
    "    test_size=0.2, \n",
    "    random_state=5  # For reproducibility\n",
    ")"
   ]
  },
  {
   "cell_type": "code",
   "execution_count": 577,
   "id": "a7e03725-b575-4418-b4f9-04cb8f2ffd7e",
   "metadata": {},
   "outputs": [
    {
     "data": {
      "text/html": [
       "<style>#sk-container-id-11 {color: black;}#sk-container-id-11 pre{padding: 0;}#sk-container-id-11 div.sk-toggleable {background-color: white;}#sk-container-id-11 label.sk-toggleable__label {cursor: pointer;display: block;width: 100%;margin-bottom: 0;padding: 0.3em;box-sizing: border-box;text-align: center;}#sk-container-id-11 label.sk-toggleable__label-arrow:before {content: \"▸\";float: left;margin-right: 0.25em;color: #696969;}#sk-container-id-11 label.sk-toggleable__label-arrow:hover:before {color: black;}#sk-container-id-11 div.sk-estimator:hover label.sk-toggleable__label-arrow:before {color: black;}#sk-container-id-11 div.sk-toggleable__content {max-height: 0;max-width: 0;overflow: hidden;text-align: left;background-color: #f0f8ff;}#sk-container-id-11 div.sk-toggleable__content pre {margin: 0.2em;color: black;border-radius: 0.25em;background-color: #f0f8ff;}#sk-container-id-11 input.sk-toggleable__control:checked~div.sk-toggleable__content {max-height: 200px;max-width: 100%;overflow: auto;}#sk-container-id-11 input.sk-toggleable__control:checked~label.sk-toggleable__label-arrow:before {content: \"▾\";}#sk-container-id-11 div.sk-estimator input.sk-toggleable__control:checked~label.sk-toggleable__label {background-color: #d4ebff;}#sk-container-id-11 div.sk-label input.sk-toggleable__control:checked~label.sk-toggleable__label {background-color: #d4ebff;}#sk-container-id-11 input.sk-hidden--visually {border: 0;clip: rect(1px 1px 1px 1px);clip: rect(1px, 1px, 1px, 1px);height: 1px;margin: -1px;overflow: hidden;padding: 0;position: absolute;width: 1px;}#sk-container-id-11 div.sk-estimator {font-family: monospace;background-color: #f0f8ff;border: 1px dotted black;border-radius: 0.25em;box-sizing: border-box;margin-bottom: 0.5em;}#sk-container-id-11 div.sk-estimator:hover {background-color: #d4ebff;}#sk-container-id-11 div.sk-parallel-item::after {content: \"\";width: 100%;border-bottom: 1px solid gray;flex-grow: 1;}#sk-container-id-11 div.sk-label:hover label.sk-toggleable__label {background-color: #d4ebff;}#sk-container-id-11 div.sk-serial::before {content: \"\";position: absolute;border-left: 1px solid gray;box-sizing: border-box;top: 0;bottom: 0;left: 50%;z-index: 0;}#sk-container-id-11 div.sk-serial {display: flex;flex-direction: column;align-items: center;background-color: white;padding-right: 0.2em;padding-left: 0.2em;position: relative;}#sk-container-id-11 div.sk-item {position: relative;z-index: 1;}#sk-container-id-11 div.sk-parallel {display: flex;align-items: stretch;justify-content: center;background-color: white;position: relative;}#sk-container-id-11 div.sk-item::before, #sk-container-id-11 div.sk-parallel-item::before {content: \"\";position: absolute;border-left: 1px solid gray;box-sizing: border-box;top: 0;bottom: 0;left: 50%;z-index: -1;}#sk-container-id-11 div.sk-parallel-item {display: flex;flex-direction: column;z-index: 1;position: relative;background-color: white;}#sk-container-id-11 div.sk-parallel-item:first-child::after {align-self: flex-end;width: 50%;}#sk-container-id-11 div.sk-parallel-item:last-child::after {align-self: flex-start;width: 50%;}#sk-container-id-11 div.sk-parallel-item:only-child::after {width: 0;}#sk-container-id-11 div.sk-dashed-wrapped {border: 1px dashed gray;margin: 0 0.4em 0.5em 0.4em;box-sizing: border-box;padding-bottom: 0.4em;background-color: white;}#sk-container-id-11 div.sk-label label {font-family: monospace;font-weight: bold;display: inline-block;line-height: 1.2em;}#sk-container-id-11 div.sk-label-container {text-align: center;}#sk-container-id-11 div.sk-container {/* jupyter's `normalize.less` sets `[hidden] { display: none; }` but bootstrap.min.css set `[hidden] { display: none !important; }` so we also need the `!important` here to be able to override the default hidden behavior on the sphinx rendered scikit-learn.org. See: https://github.com/scikit-learn/scikit-learn/issues/21755 */display: inline-block !important;position: relative;}#sk-container-id-11 div.sk-text-repr-fallback {display: none;}</style><div id=\"sk-container-id-11\" class=\"sk-top-container\"><div class=\"sk-text-repr-fallback\"><pre>XGBClassifier(base_score=None, booster=None, callbacks=None,\n",
       "              colsample_bylevel=None, colsample_bynode=None,\n",
       "              colsample_bytree=None, device=None, early_stopping_rounds=None,\n",
       "              enable_categorical=False, eval_metric=None, feature_types=None,\n",
       "              gamma=None, grow_policy=None, importance_type=None,\n",
       "              interaction_constraints=None, learning_rate=0.1, max_bin=None,\n",
       "              max_cat_threshold=None, max_cat_to_onehot=None,\n",
       "              max_delta_step=None, max_depth=6, max_leaves=None,\n",
       "              min_child_weight=None, missing=nan, monotone_constraints=None,\n",
       "              multi_strategy=None, n_estimators=100, n_jobs=None,\n",
       "              num_parallel_tree=None, random_state=42, ...)</pre><b>In a Jupyter environment, please rerun this cell to show the HTML representation or trust the notebook. <br />On GitHub, the HTML representation is unable to render, please try loading this page with nbviewer.org.</b></div><div class=\"sk-container\" hidden><div class=\"sk-item\"><div class=\"sk-estimator sk-toggleable\"><input class=\"sk-toggleable__control sk-hidden--visually\" id=\"sk-estimator-id-11\" type=\"checkbox\" checked><label for=\"sk-estimator-id-11\" class=\"sk-toggleable__label sk-toggleable__label-arrow\">XGBClassifier</label><div class=\"sk-toggleable__content\"><pre>XGBClassifier(base_score=None, booster=None, callbacks=None,\n",
       "              colsample_bylevel=None, colsample_bynode=None,\n",
       "              colsample_bytree=None, device=None, early_stopping_rounds=None,\n",
       "              enable_categorical=False, eval_metric=None, feature_types=None,\n",
       "              gamma=None, grow_policy=None, importance_type=None,\n",
       "              interaction_constraints=None, learning_rate=0.1, max_bin=None,\n",
       "              max_cat_threshold=None, max_cat_to_onehot=None,\n",
       "              max_delta_step=None, max_depth=6, max_leaves=None,\n",
       "              min_child_weight=None, missing=nan, monotone_constraints=None,\n",
       "              multi_strategy=None, n_estimators=100, n_jobs=None,\n",
       "              num_parallel_tree=None, random_state=42, ...)</pre></div></div></div></div></div>"
      ],
      "text/plain": [
       "XGBClassifier(base_score=None, booster=None, callbacks=None,\n",
       "              colsample_bylevel=None, colsample_bynode=None,\n",
       "              colsample_bytree=None, device=None, early_stopping_rounds=None,\n",
       "              enable_categorical=False, eval_metric=None, feature_types=None,\n",
       "              gamma=None, grow_policy=None, importance_type=None,\n",
       "              interaction_constraints=None, learning_rate=0.1, max_bin=None,\n",
       "              max_cat_threshold=None, max_cat_to_onehot=None,\n",
       "              max_delta_step=None, max_depth=6, max_leaves=None,\n",
       "              min_child_weight=None, missing=nan, monotone_constraints=None,\n",
       "              multi_strategy=None, n_estimators=100, n_jobs=None,\n",
       "              num_parallel_tree=None, random_state=42, ...)"
      ]
     },
     "execution_count": 577,
     "metadata": {},
     "output_type": "execute_result"
    }
   ],
   "source": [
    "# Initialize the XGBoost Classifier\n",
    "xgb_model = xgb.XGBClassifier(\n",
    "    objective='binary:logistic',  # For binary classification\n",
    "    n_estimators=100,            # Number of boosting rounds (trees)\n",
    "    max_depth=6,                 # Depth of each tree\n",
    "    learning_rate=0.1,           # Step size shrinkage (default=0.3)\n",
    "    random_state=42\n",
    ")\n",
    "\n",
    "# Train the model\n",
    "xgb_model.fit(X_train, y_train)"
   ]
  },
  {
   "cell_type": "code",
   "execution_count": 578,
   "id": "bcd5cd83-e756-4784-83ba-c3615047910a",
   "metadata": {},
   "outputs": [],
   "source": [
    "y_pred = xgb_model.predict(X_test)"
   ]
  },
  {
   "cell_type": "code",
   "execution_count": 579,
   "id": "f97ecc03-4a7c-4149-9f48-febe854a61ef",
   "metadata": {},
   "outputs": [
    {
     "name": "stdout",
     "output_type": "stream",
     "text": [
      "Accuracy: 1.0\n",
      "              precision    recall  f1-score   support\n",
      "\n",
      "           0       1.00      1.00      1.00       174\n",
      "           1       1.00      1.00      1.00       656\n",
      "\n",
      "    accuracy                           1.00       830\n",
      "   macro avg       1.00      1.00      1.00       830\n",
      "weighted avg       1.00      1.00      1.00       830\n",
      "\n",
      "Confusion Matrix:\n",
      " [[174   0]\n",
      " [  0 656]]\n"
     ]
    }
   ],
   "source": [
    "print(\"Accuracy:\", accuracy_score(y_test, y_pred))\n",
    "print(classification_report(y_test, y_pred))  # Precision, Recall, F1-score\n",
    "print(\"Confusion Matrix:\\n\", confusion_matrix(y_test, y_pred))"
   ]
  },
  {
   "cell_type": "code",
   "execution_count": 580,
   "id": "64914cde-ca38-4bea-a925-f0c918b5afb1",
   "metadata": {},
   "outputs": [
    {
     "data": {
      "text/plain": [
       "Text(95.72222222222221, 0.5, 'Truth')"
      ]
     },
     "execution_count": 580,
     "metadata": {},
     "output_type": "execute_result"
    },
    {
     "data": {
      "image/png": "[encoded data removed]",
      "text/plain": [
       "<Figure size 1000x700 with 2 Axes>"
      ]
     },
     "metadata": {},
     "output_type": "display_data"
    }
   ],
   "source": [
    "import seaborn as sn\n",
    "cm = tf.math.confusion_matrix(labels=y_test,predictions=y_pred)\n",
    "\n",
    "plt.figure(figsize= (10,7))\n",
    "sn.heatmap(cm, annot=True, fmt='d')\n",
    "plt.xlabel('Prediction')\n",
    "plt.ylabel('Truth')"
   ]
  },
  {
   "cell_type": "markdown",
   "id": "e1e36d7e-764c-4a88-aa06-7abf33d4879e",
   "metadata": {},
   "source": [
    "# Class count"
   ]
  },
  {
   "cell_type": "code",
   "execution_count": 581,
   "id": "77e8b014-21a0-4f8d-be9c-7e0fc516f584",
   "metadata": {},
   "outputs": [],
   "source": [
    "count_class_0, count_class_1 = final_df.Churned.value_counts()"
   ]
  },
  {
   "cell_type": "code",
   "execution_count": 582,
   "id": "3355b83a-8cfa-4cc6-916a-b513d32d4691",
   "metadata": {},
   "outputs": [
    {
     "data": {
      "text/plain": [
       "(3245, 904)"
      ]
     },
     "execution_count": 582,
     "metadata": {},
     "output_type": "execute_result"
    }
   ],
   "source": [
    "count_class_0, count_class_1"
   ]
  },
  {
   "cell_type": "code",
   "execution_count": 583,
   "id": "1059a777-139c-45f6-adf1-c488a7aa3614",
   "metadata": {},
   "outputs": [],
   "source": [
    "df_class_0 = final_df[final_df['Churned'] == 1 ]\n",
    "df_class_1 = final_df[final_df['Churned'] == 0 ]"
   ]
  },
  {
   "cell_type": "code",
   "execution_count": 584,
   "id": "50fb63a2-4c81-4e92-b5cd-4a2f5891fbac",
   "metadata": {},
   "outputs": [
    {
     "data": {
      "text/plain": [
       "(3245, 23)"
      ]
     },
     "execution_count": 584,
     "metadata": {},
     "output_type": "execute_result"
    }
   ],
   "source": [
    "df_class_0.shape"
   ]
  },
  {
   "cell_type": "code",
   "execution_count": 585,
   "id": "2147df7c-cd0d-4624-8404-1d299f494d9c",
   "metadata": {},
   "outputs": [
    {
     "data": {
      "text/plain": [
       "(904, 23)"
      ]
     },
     "execution_count": 585,
     "metadata": {},
     "output_type": "execute_result"
    }
   ],
   "source": [
    "df_class_1.shape"
   ]
  },
  {
   "cell_type": "markdown",
   "id": "e1a8c858-43bc-47e6-98e0-b261bba71b28",
   "metadata": {},
   "source": [
    "# Under Sampling"
   ]
  },
  {
   "cell_type": "code",
   "execution_count": 586,
   "id": "9f492166-2644-43c0-b4aa-161c3b6ec0f7",
   "metadata": {},
   "outputs": [],
   "source": [
    "df_class_0_under = df_class_0.sample(count_class_1, replace=True)"
   ]
  },
  {
   "cell_type": "code",
   "execution_count": 587,
   "id": "56934a1d-dfe0-4e09-9494-6d370b2f1f95",
   "metadata": {},
   "outputs": [
    {
     "data": {
      "text/plain": [
       "(904, 23)"
      ]
     },
     "execution_count": 587,
     "metadata": {},
     "output_type": "execute_result"
    }
   ],
   "source": [
    "df_class_0_under.shape"
   ]
  },
  {
   "cell_type": "code",
   "execution_count": 588,
   "id": "107fad99-d766-4607-a619-c651c61274ad",
   "metadata": {},
   "outputs": [],
   "source": [
    "df_test_under = pd.concat([df_class_0_under, df_class_1], axis=0)"
   ]
  },
  {
   "cell_type": "code",
   "execution_count": 589,
   "id": "b5df42a5-6569-4de5-b010-0ca259ff41eb",
   "metadata": {},
   "outputs": [
    {
     "data": {
      "text/plain": [
       "(1808, 23)"
      ]
     },
     "execution_count": 589,
     "metadata": {},
     "output_type": "execute_result"
    }
   ],
   "source": [
    "df_test_under.shape"
   ]
  },
  {
   "cell_type": "code",
   "execution_count": 590,
   "id": "f6ae6550-4fa4-4171-a1c8-5dda2c9ea960",
   "metadata": {},
   "outputs": [
    {
     "name": "stdout",
     "output_type": "stream",
     "text": [
      "Random Under Sampling\n",
      "Churned\n",
      "1    904\n",
      "0    904\n",
      "Name: count, dtype: int64\n"
     ]
    }
   ],
   "source": [
    "print('Random Under Sampling')\n",
    "print(df_test_under.Churned.value_counts())"
   ]
  },
  {
   "cell_type": "code",
   "execution_count": 591,
   "id": "b4b85927-0336-4f40-944b-7c83d84f4605",
   "metadata": {},
   "outputs": [],
   "source": [
    "X = df_test_under.drop(['Username', 'Churned'], axis=1)\n",
    "y = df_test_under['Churned']"
   ]
  },
  {
   "cell_type": "code",
   "execution_count": 592,
   "id": "017218bf-35bb-464d-8c82-1c66c0308c9c",
   "metadata": {},
   "outputs": [],
   "source": [
    "# Split into 70% train, 30% test (adjust test_size as needed)\n",
    "X_train, X_test, y_train, y_test = train_test_split(\n",
    "    X, y, \n",
    "    test_size=0.2, \n",
    "    random_state=5  # For reproducibility\n",
    ")"
   ]
  },
  {
   "cell_type": "code",
   "execution_count": 593,
   "id": "37545690-974c-4140-b4c6-c10837c95104",
   "metadata": {},
   "outputs": [
    {
     "data": {
      "text/html": [
       "<style>#sk-container-id-12 {color: black;}#sk-container-id-12 pre{padding: 0;}#sk-container-id-12 div.sk-toggleable {background-color: white;}#sk-container-id-12 label.sk-toggleable__label {cursor: pointer;display: block;width: 100%;margin-bottom: 0;padding: 0.3em;box-sizing: border-box;text-align: center;}#sk-container-id-12 label.sk-toggleable__label-arrow:before {content: \"▸\";float: left;margin-right: 0.25em;color: #696969;}#sk-container-id-12 label.sk-toggleable__label-arrow:hover:before {color: black;}#sk-container-id-12 div.sk-estimator:hover label.sk-toggleable__label-arrow:before {color: black;}#sk-container-id-12 div.sk-toggleable__content {max-height: 0;max-width: 0;overflow: hidden;text-align: left;background-color: #f0f8ff;}#sk-container-id-12 div.sk-toggleable__content pre {margin: 0.2em;color: black;border-radius: 0.25em;background-color: #f0f8ff;}#sk-container-id-12 input.sk-toggleable__control:checked~div.sk-toggleable__content {max-height: 200px;max-width: 100%;overflow: auto;}#sk-container-id-12 input.sk-toggleable__control:checked~label.sk-toggleable__label-arrow:before {content: \"▾\";}#sk-container-id-12 div.sk-estimator input.sk-toggleable__control:checked~label.sk-toggleable__label {background-color: #d4ebff;}#sk-container-id-12 div.sk-label input.sk-toggleable__control:checked~label.sk-toggleable__label {background-color: #d4ebff;}#sk-container-id-12 input.sk-hidden--visually {border: 0;clip: rect(1px 1px 1px 1px);clip: rect(1px, 1px, 1px, 1px);height: 1px;margin: -1px;overflow: hidden;padding: 0;position: absolute;width: 1px;}#sk-container-id-12 div.sk-estimator {font-family: monospace;background-color: #f0f8ff;border: 1px dotted black;border-radius: 0.25em;box-sizing: border-box;margin-bottom: 0.5em;}#sk-container-id-12 div.sk-estimator:hover {background-color: #d4ebff;}#sk-container-id-12 div.sk-parallel-item::after {content: \"\";width: 100%;border-bottom: 1px solid gray;flex-grow: 1;}#sk-container-id-12 div.sk-label:hover label.sk-toggleable__label {background-color: #d4ebff;}#sk-container-id-12 div.sk-serial::before {content: \"\";position: absolute;border-left: 1px solid gray;box-sizing: border-box;top: 0;bottom: 0;left: 50%;z-index: 0;}#sk-container-id-12 div.sk-serial {display: flex;flex-direction: column;align-items: center;background-color: white;padding-right: 0.2em;padding-left: 0.2em;position: relative;}#sk-container-id-12 div.sk-item {position: relative;z-index: 1;}#sk-container-id-12 div.sk-parallel {display: flex;align-items: stretch;justify-content: center;background-color: white;position: relative;}#sk-container-id-12 div.sk-item::before, #sk-container-id-12 div.sk-parallel-item::before {content: \"\";position: absolute;border-left: 1px solid gray;box-sizing: border-box;top: 0;bottom: 0;left: 50%;z-index: -1;}#sk-container-id-12 div.sk-parallel-item {display: flex;flex-direction: column;z-index: 1;position: relative;background-color: white;}#sk-container-id-12 div.sk-parallel-item:first-child::after {align-self: flex-end;width: 50%;}#sk-container-id-12 div.sk-parallel-item:last-child::after {align-self: flex-start;width: 50%;}#sk-container-id-12 div.sk-parallel-item:only-child::after {width: 0;}#sk-container-id-12 div.sk-dashed-wrapped {border: 1px dashed gray;margin: 0 0.4em 0.5em 0.4em;box-sizing: border-box;padding-bottom: 0.4em;background-color: white;}#sk-container-id-12 div.sk-label label {font-family: monospace;font-weight: bold;display: inline-block;line-height: 1.2em;}#sk-container-id-12 div.sk-label-container {text-align: center;}#sk-container-id-12 div.sk-container {/* jupyter's `normalize.less` sets `[hidden] { display: none; }` but bootstrap.min.css set `[hidden] { display: none !important; }` so we also need the `!important` here to be able to override the default hidden behavior on the sphinx rendered scikit-learn.org. See: https://github.com/scikit-learn/scikit-learn/issues/21755 */display: inline-block !important;position: relative;}#sk-container-id-12 div.sk-text-repr-fallback {display: none;}</style><div id=\"sk-container-id-12\" class=\"sk-top-container\"><div class=\"sk-text-repr-fallback\"><pre>RandomForestClassifier(max_depth=5, n_estimators=50, random_state=5)</pre><b>In a Jupyter environment, please rerun this cell to show the HTML representation or trust the notebook. <br />On GitHub, the HTML representation is unable to render, please try loading this page with nbviewer.org.</b></div><div class=\"sk-container\" hidden><div class=\"sk-item\"><div class=\"sk-estimator sk-toggleable\"><input class=\"sk-toggleable__control sk-hidden--visually\" id=\"sk-estimator-id-12\" type=\"checkbox\" checked><label for=\"sk-estimator-id-12\" class=\"sk-toggleable__label sk-toggleable__label-arrow\">RandomForestClassifier</label><div class=\"sk-toggleable__content\"><pre>RandomForestClassifier(max_depth=5, n_estimators=50, random_state=5)</pre></div></div></div></div></div>"
      ],
      "text/plain": [
       "RandomForestClassifier(max_depth=5, n_estimators=50, random_state=5)"
      ]
     },
     "execution_count": 593,
     "metadata": {},
     "output_type": "execute_result"
    }
   ],
   "source": [
    "# Initialize the model\n",
    "rf_model = RandomForestClassifier(\n",
    "    n_estimators=50,  # Number of trees\n",
    "    max_depth=5,      # Max depth of each tree\n",
    "    random_state=5    # For reproducibility\n",
    ")\n",
    "\n",
    "# Train the model on the training data\n",
    "rf_model.fit(X_train, y_train)"
   ]
  },
  {
   "cell_type": "code",
   "execution_count": 594,
   "id": "04d3d195-7200-4f3d-be5a-7af92f80503b",
   "metadata": {},
   "outputs": [],
   "source": [
    "y_pred = rf_model.predict(X_test)"
   ]
  },
  {
   "cell_type": "code",
   "execution_count": 595,
   "id": "692596fd-557a-4296-b03a-8ca78ce287a3",
   "metadata": {},
   "outputs": [
    {
     "name": "stdout",
     "output_type": "stream",
     "text": [
      "Accuracy: 1.0\n",
      "              precision    recall  f1-score   support\n",
      "\n",
      "           0       1.00      1.00      1.00       184\n",
      "           1       1.00      1.00      1.00       178\n",
      "\n",
      "    accuracy                           1.00       362\n",
      "   macro avg       1.00      1.00      1.00       362\n",
      "weighted avg       1.00      1.00      1.00       362\n",
      "\n"
     ]
    }
   ],
   "source": [
    "print(\"Accuracy:\", accuracy_score(y_test, y_pred))\n",
    "print(classification_report(y_test, y_pred))  # Precision, Recall, F1-score"
   ]
  },
  {
   "cell_type": "code",
   "execution_count": 602,
   "id": "5e28508f-2bb8-4624-92d0-7513f7e3611a",
   "metadata": {},
   "outputs": [
    {
     "name": "stdout",
     "output_type": "stream",
     "text": [
      "Epoch 1/5\n",
      "46/46 [==============================] - 3s 5ms/step - loss: 0.6412 - accuracy: 0.8416\n",
      "Epoch 2/5\n",
      "46/46 [==============================] - 0s 9ms/step - loss: 0.5869 - accuracy: 0.9156\n",
      "Epoch 3/5\n",
      "46/46 [==============================] - 0s 6ms/step - loss: 0.5356 - accuracy: 0.9177\n",
      "Epoch 4/5\n",
      "46/46 [==============================] - 0s 8ms/step - loss: 0.4836 - accuracy: 0.9101\n",
      "Epoch 5/5\n",
      "46/46 [==============================] - 1s 14ms/step - loss: 0.4312 - accuracy: 0.9101\n",
      "12/12 [==============================] - 0s 4ms/step - loss: 0.4210 - accuracy: 0.9061\n",
      "12/12 [==============================] - 0s 4ms/step\n",
      "              precision    recall  f1-score   support\n",
      "\n",
      "           0       0.86      0.97      0.91       184\n",
      "           1       0.96      0.84      0.90       178\n",
      "\n",
      "    accuracy                           0.91       362\n",
      "   macro avg       0.91      0.91      0.91       362\n",
      "weighted avg       0.91      0.91      0.91       362\n",
      "\n"
     ]
    }
   ],
   "source": [
    "model = keras.Sequential([\n",
    "    keras.layers.Dense(21, input_shape=(21,), activation='relu'),  # Note the colon (:) and comma\n",
    "    keras.layers.Dense(1, activation='sigmoid')\n",
    "])\n",
    "\n",
    "model.compile(optimizer='adam',\n",
    "             loss='binary_crossentropy',\n",
    "             metrics=['accuracy'])\n",
    "\n",
    "model.fit(X_train,y_train, epochs=5)\n",
    "\n",
    "model.evaluate(X_test, y_test)\n",
    "\n",
    "yp = model.predict(X_test)\n",
    "yp[:5]\n",
    "\n",
    "y_test[:10]\n",
    "\n",
    "y_pred = []\n",
    "for element in yp:\n",
    "    if element > 0.5:\n",
    "        y_pred.append(1)\n",
    "    else:\n",
    "        y_pred.append(0)\n",
    "\n",
    "y_pred[:10]\n",
    "\n",
    "print(classification_report(y_test,y_pred))"
   ]
  },
  {
   "cell_type": "markdown",
   "id": "a9b93033-50ad-482d-baa0-5da779d0e1f7",
   "metadata": {},
   "source": [
    "# Over Sampling"
   ]
  },
  {
   "cell_type": "code",
   "execution_count": 603,
   "id": "b5dd85ab-5f47-4888-8073-a661869c596d",
   "metadata": {},
   "outputs": [
    {
     "data": {
      "text/plain": [
       "(3245, 904)"
      ]
     },
     "execution_count": 603,
     "metadata": {},
     "output_type": "execute_result"
    }
   ],
   "source": [
    "count_class_0, count_class_1"
   ]
  },
  {
   "cell_type": "code",
   "execution_count": 604,
   "id": "09627f7a-8abb-409a-a6dd-04c6e478af04",
   "metadata": {},
   "outputs": [],
   "source": [
    "df_class_1_over = df_class_1.sample(count_class_0, replace=True)"
   ]
  },
  {
   "cell_type": "code",
   "execution_count": 605,
   "id": "b0a2e8fb-f2c3-4ab9-85bd-f7276b9a648a",
   "metadata": {},
   "outputs": [
    {
     "data": {
      "text/plain": [
       "(3245, 23)"
      ]
     },
     "execution_count": 605,
     "metadata": {},
     "output_type": "execute_result"
    }
   ],
   "source": [
    "df_class_1_over.shape"
   ]
  },
  {
   "cell_type": "code",
   "execution_count": 606,
   "id": "e4063f62-c1fb-4c20-9a95-0e8494a0af33",
   "metadata": {},
   "outputs": [],
   "source": [
    "df_test_over = pd.concat([df_class_0, df_class_1_over],axis=0)"
   ]
  },
  {
   "cell_type": "code",
   "execution_count": 607,
   "id": "33495cdb-da1d-42f2-b30d-ffd84ae0e909",
   "metadata": {},
   "outputs": [
    {
     "data": {
      "text/plain": [
       "(6490, 23)"
      ]
     },
     "execution_count": 607,
     "metadata": {},
     "output_type": "execute_result"
    }
   ],
   "source": [
    "df_test_over.shape"
   ]
  },
  {
   "cell_type": "code",
   "execution_count": 614,
   "id": "699ae10b-8e7c-4840-af56-9f647fb6abf9",
   "metadata": {},
   "outputs": [
    {
     "name": "stdout",
     "output_type": "stream",
     "text": [
      "Random over-sampling:\n",
      "Churned\n",
      "1    3245\n",
      "0    3245\n",
      "Name: count, dtype: int64\n"
     ]
    }
   ],
   "source": [
    "print('Random over-sampling:')\n",
    "print(df_test_over.Churned.value_counts())"
   ]
  },
  {
   "cell_type": "code",
   "execution_count": 615,
   "id": "6dff60f2-4f6a-486f-a10a-2a680aa2522b",
   "metadata": {},
   "outputs": [],
   "source": [
    "X = df_test_over.drop(['Username', 'Churned'], axis=1)\n",
    "y = df_test_over['Churned']"
   ]
  },
  {
   "cell_type": "code",
   "execution_count": 616,
   "id": "f1c41439-e401-4502-a555-1ca1863396f2",
   "metadata": {},
   "outputs": [],
   "source": [
    "# Split into 70% train, 30% test (adjust test_size as needed)\n",
    "X_train, X_test, y_train, y_test = train_test_split(\n",
    "    X, y, \n",
    "    test_size=0.2, \n",
    "    random_state=5  # For reproducibility\n",
    ")"
   ]
  },
  {
   "cell_type": "code",
   "execution_count": 617,
   "id": "1529a285-d202-4d93-9b03-0477cc1f5507",
   "metadata": {},
   "outputs": [
    {
     "data": {
      "text/html": [
       "<style>#sk-container-id-14 {color: black;}#sk-container-id-14 pre{padding: 0;}#sk-container-id-14 div.sk-toggleable {background-color: white;}#sk-container-id-14 label.sk-toggleable__label {cursor: pointer;display: block;width: 100%;margin-bottom: 0;padding: 0.3em;box-sizing: border-box;text-align: center;}#sk-container-id-14 label.sk-toggleable__label-arrow:before {content: \"▸\";float: left;margin-right: 0.25em;color: #696969;}#sk-container-id-14 label.sk-toggleable__label-arrow:hover:before {color: black;}#sk-container-id-14 div.sk-estimator:hover label.sk-toggleable__label-arrow:before {color: black;}#sk-container-id-14 div.sk-toggleable__content {max-height: 0;max-width: 0;overflow: hidden;text-align: left;background-color: #f0f8ff;}#sk-container-id-14 div.sk-toggleable__content pre {margin: 0.2em;color: black;border-radius: 0.25em;background-color: #f0f8ff;}#sk-container-id-14 input.sk-toggleable__control:checked~div.sk-toggleable__content {max-height: 200px;max-width: 100%;overflow: auto;}#sk-container-id-14 input.sk-toggleable__control:checked~label.sk-toggleable__label-arrow:before {content: \"▾\";}#sk-container-id-14 div.sk-estimator input.sk-toggleable__control:checked~label.sk-toggleable__label {background-color: #d4ebff;}#sk-container-id-14 div.sk-label input.sk-toggleable__control:checked~label.sk-toggleable__label {background-color: #d4ebff;}#sk-container-id-14 input.sk-hidden--visually {border: 0;clip: rect(1px 1px 1px 1px);clip: rect(1px, 1px, 1px, 1px);height: 1px;margin: -1px;overflow: hidden;padding: 0;position: absolute;width: 1px;}#sk-container-id-14 div.sk-estimator {font-family: monospace;background-color: #f0f8ff;border: 1px dotted black;border-radius: 0.25em;box-sizing: border-box;margin-bottom: 0.5em;}#sk-container-id-14 div.sk-estimator:hover {background-color: #d4ebff;}#sk-container-id-14 div.sk-parallel-item::after {content: \"\";width: 100%;border-bottom: 1px solid gray;flex-grow: 1;}#sk-container-id-14 div.sk-label:hover label.sk-toggleable__label {background-color: #d4ebff;}#sk-container-id-14 div.sk-serial::before {content: \"\";position: absolute;border-left: 1px solid gray;box-sizing: border-box;top: 0;bottom: 0;left: 50%;z-index: 0;}#sk-container-id-14 div.sk-serial {display: flex;flex-direction: column;align-items: center;background-color: white;padding-right: 0.2em;padding-left: 0.2em;position: relative;}#sk-container-id-14 div.sk-item {position: relative;z-index: 1;}#sk-container-id-14 div.sk-parallel {display: flex;align-items: stretch;justify-content: center;background-color: white;position: relative;}#sk-container-id-14 div.sk-item::before, #sk-container-id-14 div.sk-parallel-item::before {content: \"\";position: absolute;border-left: 1px solid gray;box-sizing: border-box;top: 0;bottom: 0;left: 50%;z-index: -1;}#sk-container-id-14 div.sk-parallel-item {display: flex;flex-direction: column;z-index: 1;position: relative;background-color: white;}#sk-container-id-14 div.sk-parallel-item:first-child::after {align-self: flex-end;width: 50%;}#sk-container-id-14 div.sk-parallel-item:last-child::after {align-self: flex-start;width: 50%;}#sk-container-id-14 div.sk-parallel-item:only-child::after {width: 0;}#sk-container-id-14 div.sk-dashed-wrapped {border: 1px dashed gray;margin: 0 0.4em 0.5em 0.4em;box-sizing: border-box;padding-bottom: 0.4em;background-color: white;}#sk-container-id-14 div.sk-label label {font-family: monospace;font-weight: bold;display: inline-block;line-height: 1.2em;}#sk-container-id-14 div.sk-label-container {text-align: center;}#sk-container-id-14 div.sk-container {/* jupyter's `normalize.less` sets `[hidden] { display: none; }` but bootstrap.min.css set `[hidden] { display: none !important; }` so we also need the `!important` here to be able to override the default hidden behavior on the sphinx rendered scikit-learn.org. See: https://github.com/scikit-learn/scikit-learn/issues/21755 */display: inline-block !important;position: relative;}#sk-container-id-14 div.sk-text-repr-fallback {display: none;}</style><div id=\"sk-container-id-14\" class=\"sk-top-container\"><div class=\"sk-text-repr-fallback\"><pre>RandomForestClassifier(max_depth=5, n_estimators=50, random_state=5)</pre><b>In a Jupyter environment, please rerun this cell to show the HTML representation or trust the notebook. <br />On GitHub, the HTML representation is unable to render, please try loading this page with nbviewer.org.</b></div><div class=\"sk-container\" hidden><div class=\"sk-item\"><div class=\"sk-estimator sk-toggleable\"><input class=\"sk-toggleable__control sk-hidden--visually\" id=\"sk-estimator-id-14\" type=\"checkbox\" checked><label for=\"sk-estimator-id-14\" class=\"sk-toggleable__label sk-toggleable__label-arrow\">RandomForestClassifier</label><div class=\"sk-toggleable__content\"><pre>RandomForestClassifier(max_depth=5, n_estimators=50, random_state=5)</pre></div></div></div></div></div>"
      ],
      "text/plain": [
       "RandomForestClassifier(max_depth=5, n_estimators=50, random_state=5)"
      ]
     },
     "execution_count": 617,
     "metadata": {},
     "output_type": "execute_result"
    }
   ],
   "source": [
    "# Initialize the model\n",
    "rf_model = RandomForestClassifier(\n",
    "    n_estimators=50,  # Number of trees\n",
    "    max_depth=5,      # Max depth of each tree\n",
    "    random_state=5    # For reproducibility\n",
    ")\n",
    "\n",
    "# Train the model on the training data\n",
    "rf_model.fit(X_train, y_train)"
   ]
  },
  {
   "cell_type": "code",
   "execution_count": 618,
   "id": "0e4055bd-8888-4c77-ae76-019a29e59e87",
   "metadata": {},
   "outputs": [],
   "source": [
    "y_pred = rf_model.predict(X_test)"
   ]
  },
  {
   "cell_type": "code",
   "execution_count": 619,
   "id": "0189c4e8-e159-4f5a-9197-4da9846a18fd",
   "metadata": {},
   "outputs": [
    {
     "name": "stdout",
     "output_type": "stream",
     "text": [
      "Accuracy: 1.0\n",
      "              precision    recall  f1-score   support\n",
      "\n",
      "           0       1.00      1.00      1.00       663\n",
      "           1       1.00      1.00      1.00       635\n",
      "\n",
      "    accuracy                           1.00      1298\n",
      "   macro avg       1.00      1.00      1.00      1298\n",
      "weighted avg       1.00      1.00      1.00      1298\n",
      "\n"
     ]
    }
   ],
   "source": [
    "print(\"Accuracy:\", accuracy_score(y_test, y_pred))\n",
    "print(classification_report(y_test, y_pred))  # Precision, Recall, F1-score"
   ]
  },
  {
   "cell_type": "code",
   "execution_count": 620,
   "id": "2eb1ac6f-ad2f-461f-8c95-e373340c7f46",
   "metadata": {},
   "outputs": [
    {
     "name": "stdout",
     "output_type": "stream",
     "text": [
      "Epoch 1/5\n",
      "163/163 [==============================] - 2s 5ms/step - loss: 0.5980 - accuracy: 0.8683\n",
      "Epoch 2/5\n",
      "163/163 [==============================] - 1s 7ms/step - loss: 0.4084 - accuracy: 0.8964\n",
      "Epoch 3/5\n",
      "163/163 [==============================] - 2s 14ms/step - loss: 0.2995 - accuracy: 0.9049\n",
      "Epoch 4/5\n",
      "163/163 [==============================] - 2s 12ms/step - loss: 0.2406 - accuracy: 0.9160\n",
      "Epoch 5/5\n",
      "163/163 [==============================] - 1s 7ms/step - loss: 0.2035 - accuracy: 0.9237\n",
      "41/41 [==============================] - 1s 6ms/step - loss: 0.1787 - accuracy: 0.9368\n",
      "41/41 [==============================] - 0s 4ms/step\n",
      "              precision    recall  f1-score   support\n",
      "\n",
      "           0       0.91      0.98      0.94       663\n",
      "           1       0.98      0.89      0.93       635\n",
      "\n",
      "    accuracy                           0.94      1298\n",
      "   macro avg       0.94      0.94      0.94      1298\n",
      "weighted avg       0.94      0.94      0.94      1298\n",
      "\n"
     ]
    }
   ],
   "source": [
    "model = keras.Sequential([\n",
    "    keras.layers.Dense(21, input_shape=(21,), activation='relu'),  # Note the colon (:) and comma\n",
    "    keras.layers.Dense(1, activation='sigmoid')\n",
    "])\n",
    "\n",
    "model.compile(optimizer='adam',\n",
    "             loss='binary_crossentropy',\n",
    "             metrics=['accuracy'])\n",
    "\n",
    "model.fit(X_train,y_train, epochs=5)\n",
    "\n",
    "model.evaluate(X_test, y_test)\n",
    "\n",
    "yp = model.predict(X_test)\n",
    "yp[:5]\n",
    "\n",
    "y_test[:10]\n",
    "\n",
    "y_pred = []\n",
    "for element in yp:\n",
    "    if element > 0.5:\n",
    "        y_pred.append(1)\n",
    "    else:\n",
    "        y_pred.append(0)\n",
    "\n",
    "y_pred[:10]\n",
    "\n",
    "print(classification_report(y_test,y_pred))"
   ]
  },
  {
   "cell_type": "markdown",
   "id": "72d0c104-b3a6-4ae7-aeb5-15e8caf36f24",
   "metadata": {},
   "source": [
    "# SMOTE"
   ]
  },
  {
   "cell_type": "code",
   "execution_count": 621,
   "id": "6cb53bcd-d244-4751-b806-782b3d54a4d3",
   "metadata": {},
   "outputs": [],
   "source": [
    "X = final_df.drop(['Username', 'Churned'], axis=1)\n",
    "y = final_df['Churned']"
   ]
  },
  {
   "cell_type": "code",
   "execution_count": 625,
   "id": "50084eeb-a475-4a64-9452-1cd42e0b81dd",
   "metadata": {},
   "outputs": [
    {
     "data": {
      "text/plain": [
       "Churned\n",
       "1    3245\n",
       "0     904\n",
       "Name: count, dtype: int64"
      ]
     },
     "execution_count": 625,
     "metadata": {},
     "output_type": "execute_result"
    }
   ],
   "source": [
    "y.value_counts()"
   ]
  },
  {
   "cell_type": "code",
   "execution_count": 623,
   "id": "ead0d5ae-a7c3-4e6a-8070-0208ce86e0cb",
   "metadata": {},
   "outputs": [],
   "source": [
    "from imblearn.over_sampling import SMOTE"
   ]
  },
  {
   "cell_type": "code",
   "execution_count": 624,
   "id": "142a9eeb-43e6-4cc2-b540-2b697bdb69ae",
   "metadata": {},
   "outputs": [],
   "source": [
    "smote = SMOTE(sampling_strategy='minority')"
   ]
  },
  {
   "cell_type": "code",
   "execution_count": 627,
   "id": "cc6fce17-dd35-427e-8634-4cc3c9da77dd",
   "metadata": {},
   "outputs": [
    {
     "name": "stderr",
     "output_type": "stream",
     "text": [
      "Exception ignored on calling ctypes callback function: <function ThreadpoolController._find_libraries_with_dl_iterate_phdr.<locals>.match_library_callback at 0x7cea0ae25700>\n",
      "Traceback (most recent call last):\n",
      "  File \"/home/julhas/Desktop/bustabit_game_prediction/myenv/lib/python3.8/site-packages/threadpoolctl.py\", line 1005, in match_library_callback\n",
      "    self._make_controller_from_path(filepath)\n",
      "  File \"/home/julhas/Desktop/bustabit_game_prediction/myenv/lib/python3.8/site-packages/threadpoolctl.py\", line 1175, in _make_controller_from_path\n",
      "    lib_controller = controller_class(\n",
      "  File \"/home/julhas/Desktop/bustabit_game_prediction/myenv/lib/python3.8/site-packages/threadpoolctl.py\", line 114, in __init__\n",
      "    self.dynlib = ctypes.CDLL(filepath, mode=_RTLD_NOLOAD)\n",
      "  File \"/usr/lib/python3.8/ctypes/__init__.py\", line 373, in __init__\n",
      "    self._handle = _dlopen(self._name, mode)\n",
      "OSError: dlopen() error\n"
     ]
    }
   ],
   "source": [
    "X_sm, y_sm = smote.fit_resample(X,y)"
   ]
  },
  {
   "cell_type": "code",
   "execution_count": 629,
   "id": "96a2bdc5-8713-40d1-b78b-90471646732f",
   "metadata": {},
   "outputs": [
    {
     "data": {
      "text/plain": [
       "Churned\n",
       "0    3245\n",
       "1    3245\n",
       "Name: count, dtype: int64"
      ]
     },
     "execution_count": 629,
     "metadata": {},
     "output_type": "execute_result"
    }
   ],
   "source": [
    "y_sm.value_counts()"
   ]
  },
  {
   "cell_type": "code",
   "execution_count": null,
   "id": "099e1122-ebe8-43f9-bca6-3496c9d655b8",
   "metadata": {},
   "outputs": [],
   "source": []
  }
 ],
 "metadata": {
  "kernelspec": {
   "display_name": "Python 3 (ipykernel)",
   "language": "python",
   "name": "python3"
  },
  "language_info": {
   "codemirror_mode": {
    "name": "ipython",
    "version": 3
   },
   "file_extension": ".py",
   "mimetype": "text/x-python",
   "name": "python",
   "nbconvert_exporter": "python",
   "pygments_lexer": "ipython3",
   "version": "3.8.20"
  }
 },
 "nbformat": 4,
 "nbformat_minor": 5
}
