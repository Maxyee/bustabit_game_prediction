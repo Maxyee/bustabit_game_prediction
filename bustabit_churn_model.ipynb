{
 "cells": [
  {
   "cell_type": "markdown",
   "id": "2d451aba-4d8a-4beb-aac6-458a9a618e08",
   "metadata": {},
   "source": [
    "# Libraries"
   ]
  },
  {
   "cell_type": "code",
   "execution_count": 1,
   "id": "149503a1-0be9-4d22-9490-07c7fb95cb78",
   "metadata": {},
   "outputs": [
    {
     "name": "stderr",
     "output_type": "stream",
     "text": [
      "/tmp/ipykernel_10342/3166615292.py:9: MatplotlibDeprecationWarning: The seaborn styles shipped by Matplotlib are deprecated since 3.6, as they no longer correspond to the styles shipped by seaborn. However, they will remain available as 'seaborn-v0_8-<style>'. Alternatively, directly use the seaborn API instead.\n",
      "  plt.style.use('seaborn')\n"
     ]
    }
   ],
   "source": [
    "import pandas as pd\n",
    "import numpy as np\n",
    "import matplotlib.pyplot as plt\n",
    "%matplotlib inline\n",
    "import matplotlib.dates as mdates\n",
    "from datetime import datetime\n",
    "\n",
    "# Set style for better visuals\n",
    "plt.style.use('seaborn')"
   ]
  },
  {
   "cell_type": "markdown",
   "id": "5cf9c983-4645-444b-b09c-6e9e6a6f44fb",
   "metadata": {},
   "source": [
    "# Dataset Loading"
   ]
  },
  {
   "cell_type": "code",
   "execution_count": 2,
   "id": "bb8cac44-f111-4ae1-8fe6-4a27c8478bb9",
   "metadata": {},
   "outputs": [],
   "source": [
    "df = pd.read_csv('./dataset/bustabit.csv')"
   ]
  },
  {
   "cell_type": "markdown",
   "id": "00af62a8-65bc-41f8-8ad8-d20ac827a65f",
   "metadata": {},
   "source": [
    "# EDA"
   ]
  },
  {
   "cell_type": "code",
   "execution_count": 3,
   "id": "035f15cd-b30f-4d7f-9a39-8675a6fddc82",
   "metadata": {},
   "outputs": [
    {
     "data": {
      "text/html": [
       "<div>\n",
       "<style scoped>\n",
       "    .dataframe tbody tr th:only-of-type {\n",
       "        vertical-align: middle;\n",
       "    }\n",
       "\n",
       "    .dataframe tbody tr th {\n",
       "        vertical-align: top;\n",
       "    }\n",
       "\n",
       "    .dataframe thead th {\n",
       "        text-align: right;\n",
       "    }\n",
       "</style>\n",
       "<table border=\"1\" class=\"dataframe\">\n",
       "  <thead>\n",
       "    <tr style=\"text-align: right;\">\n",
       "      <th></th>\n",
       "      <th>Id</th>\n",
       "      <th>GameID</th>\n",
       "      <th>Username</th>\n",
       "      <th>Bet</th>\n",
       "      <th>CashedOut</th>\n",
       "      <th>Bonus</th>\n",
       "      <th>Profit</th>\n",
       "      <th>BustedAt</th>\n",
       "      <th>PlayDate</th>\n",
       "    </tr>\n",
       "  </thead>\n",
       "  <tbody>\n",
       "    <tr>\n",
       "      <th>0</th>\n",
       "      <td>14196549</td>\n",
       "      <td>3366002</td>\n",
       "      <td>papai</td>\n",
       "      <td>5</td>\n",
       "      <td>1.20</td>\n",
       "      <td>0.0</td>\n",
       "      <td>1.00</td>\n",
       "      <td>8.24</td>\n",
       "      <td>2016-11-20T19:44:19Z</td>\n",
       "    </tr>\n",
       "    <tr>\n",
       "      <th>1</th>\n",
       "      <td>10676217</td>\n",
       "      <td>3343882</td>\n",
       "      <td>znay22</td>\n",
       "      <td>3</td>\n",
       "      <td>NaN</td>\n",
       "      <td>NaN</td>\n",
       "      <td>NaN</td>\n",
       "      <td>1.40</td>\n",
       "      <td>2016-11-14T14:21:50Z</td>\n",
       "    </tr>\n",
       "    <tr>\n",
       "      <th>2</th>\n",
       "      <td>15577107</td>\n",
       "      <td>3374646</td>\n",
       "      <td>rrrrrrrr</td>\n",
       "      <td>4</td>\n",
       "      <td>1.33</td>\n",
       "      <td>3.0</td>\n",
       "      <td>1.44</td>\n",
       "      <td>3.15</td>\n",
       "      <td>2016-11-23T06:39:15Z</td>\n",
       "    </tr>\n",
       "    <tr>\n",
       "      <th>3</th>\n",
       "      <td>25732127</td>\n",
       "      <td>3429241</td>\n",
       "      <td>sanya1206</td>\n",
       "      <td>10</td>\n",
       "      <td>NaN</td>\n",
       "      <td>NaN</td>\n",
       "      <td>NaN</td>\n",
       "      <td>1.63</td>\n",
       "      <td>2016-12-08T18:13:55Z</td>\n",
       "    </tr>\n",
       "    <tr>\n",
       "      <th>4</th>\n",
       "      <td>17995432</td>\n",
       "      <td>3389174</td>\n",
       "      <td>ADM</td>\n",
       "      <td>50</td>\n",
       "      <td>1.50</td>\n",
       "      <td>1.4</td>\n",
       "      <td>25.70</td>\n",
       "      <td>2.29</td>\n",
       "      <td>2016-11-27T08:14:48Z</td>\n",
       "    </tr>\n",
       "  </tbody>\n",
       "</table>\n",
       "</div>"
      ],
      "text/plain": [
       "         Id   GameID   Username  Bet  CashedOut  Bonus  Profit  BustedAt  \\\n",
       "0  14196549  3366002      papai    5       1.20    0.0    1.00      8.24   \n",
       "1  10676217  3343882     znay22    3        NaN    NaN     NaN      1.40   \n",
       "2  15577107  3374646   rrrrrrrr    4       1.33    3.0    1.44      3.15   \n",
       "3  25732127  3429241  sanya1206   10        NaN    NaN     NaN      1.63   \n",
       "4  17995432  3389174        ADM   50       1.50    1.4   25.70      2.29   \n",
       "\n",
       "               PlayDate  \n",
       "0  2016-11-20T19:44:19Z  \n",
       "1  2016-11-14T14:21:50Z  \n",
       "2  2016-11-23T06:39:15Z  \n",
       "3  2016-12-08T18:13:55Z  \n",
       "4  2016-11-27T08:14:48Z  "
      ]
     },
     "execution_count": 3,
     "metadata": {},
     "output_type": "execute_result"
    }
   ],
   "source": [
    "df.head()"
   ]
  },
  {
   "cell_type": "markdown",
   "id": "1e25d511-5793-41a9-874b-cc772a08ac26",
   "metadata": {},
   "source": [
    "# Replacing NaN Values with 0 in DataFrame"
   ]
  },
  {
   "cell_type": "code",
   "execution_count": 4,
   "id": "87cf13ce-d30a-4d62-ae58-55940975f7c5",
   "metadata": {},
   "outputs": [],
   "source": [
    "df.fillna(0, inplace=True)"
   ]
  },
  {
   "cell_type": "code",
   "execution_count": 5,
   "id": "0135f0f9-6e2c-420d-b9cd-9fd7f1f88683",
   "metadata": {},
   "outputs": [
    {
     "data": {
      "text/html": [
       "<div>\n",
       "<style scoped>\n",
       "    .dataframe tbody tr th:only-of-type {\n",
       "        vertical-align: middle;\n",
       "    }\n",
       "\n",
       "    .dataframe tbody tr th {\n",
       "        vertical-align: top;\n",
       "    }\n",
       "\n",
       "    .dataframe thead th {\n",
       "        text-align: right;\n",
       "    }\n",
       "</style>\n",
       "<table border=\"1\" class=\"dataframe\">\n",
       "  <thead>\n",
       "    <tr style=\"text-align: right;\">\n",
       "      <th></th>\n",
       "      <th>Id</th>\n",
       "      <th>GameID</th>\n",
       "      <th>Username</th>\n",
       "      <th>Bet</th>\n",
       "      <th>CashedOut</th>\n",
       "      <th>Bonus</th>\n",
       "      <th>Profit</th>\n",
       "      <th>BustedAt</th>\n",
       "      <th>PlayDate</th>\n",
       "    </tr>\n",
       "  </thead>\n",
       "  <tbody>\n",
       "    <tr>\n",
       "      <th>0</th>\n",
       "      <td>14196549</td>\n",
       "      <td>3366002</td>\n",
       "      <td>papai</td>\n",
       "      <td>5</td>\n",
       "      <td>1.20</td>\n",
       "      <td>0.0</td>\n",
       "      <td>1.00</td>\n",
       "      <td>8.24</td>\n",
       "      <td>2016-11-20T19:44:19Z</td>\n",
       "    </tr>\n",
       "    <tr>\n",
       "      <th>1</th>\n",
       "      <td>10676217</td>\n",
       "      <td>3343882</td>\n",
       "      <td>znay22</td>\n",
       "      <td>3</td>\n",
       "      <td>0.00</td>\n",
       "      <td>0.0</td>\n",
       "      <td>0.00</td>\n",
       "      <td>1.40</td>\n",
       "      <td>2016-11-14T14:21:50Z</td>\n",
       "    </tr>\n",
       "    <tr>\n",
       "      <th>2</th>\n",
       "      <td>15577107</td>\n",
       "      <td>3374646</td>\n",
       "      <td>rrrrrrrr</td>\n",
       "      <td>4</td>\n",
       "      <td>1.33</td>\n",
       "      <td>3.0</td>\n",
       "      <td>1.44</td>\n",
       "      <td>3.15</td>\n",
       "      <td>2016-11-23T06:39:15Z</td>\n",
       "    </tr>\n",
       "    <tr>\n",
       "      <th>3</th>\n",
       "      <td>25732127</td>\n",
       "      <td>3429241</td>\n",
       "      <td>sanya1206</td>\n",
       "      <td>10</td>\n",
       "      <td>0.00</td>\n",
       "      <td>0.0</td>\n",
       "      <td>0.00</td>\n",
       "      <td>1.63</td>\n",
       "      <td>2016-12-08T18:13:55Z</td>\n",
       "    </tr>\n",
       "    <tr>\n",
       "      <th>4</th>\n",
       "      <td>17995432</td>\n",
       "      <td>3389174</td>\n",
       "      <td>ADM</td>\n",
       "      <td>50</td>\n",
       "      <td>1.50</td>\n",
       "      <td>1.4</td>\n",
       "      <td>25.70</td>\n",
       "      <td>2.29</td>\n",
       "      <td>2016-11-27T08:14:48Z</td>\n",
       "    </tr>\n",
       "  </tbody>\n",
       "</table>\n",
       "</div>"
      ],
      "text/plain": [
       "         Id   GameID   Username  Bet  CashedOut  Bonus  Profit  BustedAt  \\\n",
       "0  14196549  3366002      papai    5       1.20    0.0    1.00      8.24   \n",
       "1  10676217  3343882     znay22    3       0.00    0.0    0.00      1.40   \n",
       "2  15577107  3374646   rrrrrrrr    4       1.33    3.0    1.44      3.15   \n",
       "3  25732127  3429241  sanya1206   10       0.00    0.0    0.00      1.63   \n",
       "4  17995432  3389174        ADM   50       1.50    1.4   25.70      2.29   \n",
       "\n",
       "               PlayDate  \n",
       "0  2016-11-20T19:44:19Z  \n",
       "1  2016-11-14T14:21:50Z  \n",
       "2  2016-11-23T06:39:15Z  \n",
       "3  2016-12-08T18:13:55Z  \n",
       "4  2016-11-27T08:14:48Z  "
      ]
     },
     "execution_count": 5,
     "metadata": {},
     "output_type": "execute_result"
    }
   ],
   "source": [
    "df.head()"
   ]
  },
  {
   "cell_type": "markdown",
   "id": "55a83dea-4510-4dbd-a84c-8458e598c5b0",
   "metadata": {},
   "source": [
    "# Target Variable Creation"
   ]
  },
  {
   "cell_type": "code",
   "execution_count": 6,
   "id": "407e9831-183f-4f8c-b732-fe8ffa2e094c",
   "metadata": {},
   "outputs": [],
   "source": [
    "# Convert 'PlayDate' to datetime\n",
    "df['PlayDate'] = pd.to_datetime(df['PlayDate'])\n",
    "\n",
    "# Find the last date in the dataset\n",
    "latest_date = df['PlayDate'].max()\n",
    "\n",
    "# Group by player and find their last activity date\n",
    "player_churn_activity = df.groupby('Username')['PlayDate'].max().reset_index()\n",
    "\n",
    "# Define churn threshold (e.g., 30 days)\n",
    "churn_threshold_days = 4\n",
    "player_churn_activity['Churned'] = (\n",
    "    (latest_date - player_churn_activity['PlayDate']) > pd.Timedelta(days=churn_threshold_days)\n",
    ").astype(int)"
   ]
  },
  {
   "cell_type": "code",
   "execution_count": 7,
   "id": "88ac72ee-113c-47cd-80ec-654b2fde37b8",
   "metadata": {},
   "outputs": [
    {
     "name": "stdout",
     "output_type": "stream",
     "text": [
      "Churned\n",
      "1    3245\n",
      "0     904\n",
      "Name: count, dtype: int64\n"
     ]
    }
   ],
   "source": [
    "churn_counts = player_churn_activity['Churned'].value_counts()\n",
    "print(churn_counts)"
   ]
  },
  {
   "cell_type": "code",
   "execution_count": 8,
   "id": "cd30efc6-d2c7-45b7-aa3f-d819f5a31bf0",
   "metadata": {},
   "outputs": [
    {
     "data": {
      "text/html": [
       "<div>\n",
       "<style scoped>\n",
       "    .dataframe tbody tr th:only-of-type {\n",
       "        vertical-align: middle;\n",
       "    }\n",
       "\n",
       "    .dataframe tbody tr th {\n",
       "        vertical-align: top;\n",
       "    }\n",
       "\n",
       "    .dataframe thead th {\n",
       "        text-align: right;\n",
       "    }\n",
       "</style>\n",
       "<table border=\"1\" class=\"dataframe\">\n",
       "  <thead>\n",
       "    <tr style=\"text-align: right;\">\n",
       "      <th></th>\n",
       "      <th>Username</th>\n",
       "      <th>PlayDate</th>\n",
       "      <th>Churned</th>\n",
       "    </tr>\n",
       "  </thead>\n",
       "  <tbody>\n",
       "    <tr>\n",
       "      <th>0</th>\n",
       "      <td>----------------</td>\n",
       "      <td>2016-11-03 20:26:24+00:00</td>\n",
       "      <td>1</td>\n",
       "    </tr>\n",
       "    <tr>\n",
       "      <th>1</th>\n",
       "      <td>--dilib--</td>\n",
       "      <td>2016-11-03 17:35:53+00:00</td>\n",
       "      <td>1</td>\n",
       "    </tr>\n",
       "    <tr>\n",
       "      <th>2</th>\n",
       "      <td>-31337-</td>\n",
       "      <td>2016-12-09 20:33:22+00:00</td>\n",
       "      <td>0</td>\n",
       "    </tr>\n",
       "    <tr>\n",
       "      <th>3</th>\n",
       "      <td>-Nothing-</td>\n",
       "      <td>2016-12-06 15:27:27+00:00</td>\n",
       "      <td>1</td>\n",
       "    </tr>\n",
       "    <tr>\n",
       "      <th>4</th>\n",
       "      <td>-Tachyon</td>\n",
       "      <td>2016-11-01 23:10:05+00:00</td>\n",
       "      <td>1</td>\n",
       "    </tr>\n",
       "    <tr>\n",
       "      <th>5</th>\n",
       "      <td>-Y-</td>\n",
       "      <td>2016-10-31 16:48:46+00:00</td>\n",
       "      <td>1</td>\n",
       "    </tr>\n",
       "    <tr>\n",
       "      <th>6</th>\n",
       "      <td>-ZYBERPH-</td>\n",
       "      <td>2016-11-18 12:17:08+00:00</td>\n",
       "      <td>1</td>\n",
       "    </tr>\n",
       "    <tr>\n",
       "      <th>7</th>\n",
       "      <td>-_-TUYUL-_-</td>\n",
       "      <td>2016-12-06 14:04:37+00:00</td>\n",
       "      <td>1</td>\n",
       "    </tr>\n",
       "    <tr>\n",
       "      <th>8</th>\n",
       "      <td>-__---</td>\n",
       "      <td>2016-12-08 20:49:55+00:00</td>\n",
       "      <td>0</td>\n",
       "    </tr>\n",
       "    <tr>\n",
       "      <th>9</th>\n",
       "      <td>-i_</td>\n",
       "      <td>2016-11-03 21:11:52+00:00</td>\n",
       "      <td>1</td>\n",
       "    </tr>\n",
       "  </tbody>\n",
       "</table>\n",
       "</div>"
      ],
      "text/plain": [
       "           Username                  PlayDate  Churned\n",
       "0  ---------------- 2016-11-03 20:26:24+00:00        1\n",
       "1         --dilib-- 2016-11-03 17:35:53+00:00        1\n",
       "2           -31337- 2016-12-09 20:33:22+00:00        0\n",
       "3         -Nothing- 2016-12-06 15:27:27+00:00        1\n",
       "4          -Tachyon 2016-11-01 23:10:05+00:00        1\n",
       "5               -Y- 2016-10-31 16:48:46+00:00        1\n",
       "6         -ZYBERPH- 2016-11-18 12:17:08+00:00        1\n",
       "7       -_-TUYUL-_- 2016-12-06 14:04:37+00:00        1\n",
       "8            -__--- 2016-12-08 20:49:55+00:00        0\n",
       "9               -i_ 2016-11-03 21:11:52+00:00        1"
      ]
     },
     "execution_count": 8,
     "metadata": {},
     "output_type": "execute_result"
    }
   ],
   "source": [
    "player_churn_activity.head(10)"
   ]
  },
  {
   "cell_type": "code",
   "execution_count": 9,
   "id": "9b855db0-55b1-4a52-8266-c3015aaac854",
   "metadata": {},
   "outputs": [],
   "source": [
    "# Merge churn status with original data\n",
    "df = df.merge(player_churn_activity[['Username', 'Churned']], on='Username')"
   ]
  },
  {
   "cell_type": "code",
   "execution_count": 10,
   "id": "0d67ecaa-d328-4be2-aed6-61abfbaeb3a5",
   "metadata": {},
   "outputs": [
    {
     "data": {
      "text/html": [
       "<div>\n",
       "<style scoped>\n",
       "    .dataframe tbody tr th:only-of-type {\n",
       "        vertical-align: middle;\n",
       "    }\n",
       "\n",
       "    .dataframe tbody tr th {\n",
       "        vertical-align: top;\n",
       "    }\n",
       "\n",
       "    .dataframe thead th {\n",
       "        text-align: right;\n",
       "    }\n",
       "</style>\n",
       "<table border=\"1\" class=\"dataframe\">\n",
       "  <thead>\n",
       "    <tr style=\"text-align: right;\">\n",
       "      <th></th>\n",
       "      <th>Id</th>\n",
       "      <th>GameID</th>\n",
       "      <th>Username</th>\n",
       "      <th>Bet</th>\n",
       "      <th>CashedOut</th>\n",
       "      <th>Bonus</th>\n",
       "      <th>Profit</th>\n",
       "      <th>BustedAt</th>\n",
       "      <th>PlayDate</th>\n",
       "      <th>Churned</th>\n",
       "    </tr>\n",
       "  </thead>\n",
       "  <tbody>\n",
       "    <tr>\n",
       "      <th>0</th>\n",
       "      <td>14196549</td>\n",
       "      <td>3366002</td>\n",
       "      <td>papai</td>\n",
       "      <td>5</td>\n",
       "      <td>1.20</td>\n",
       "      <td>0.0</td>\n",
       "      <td>1.00</td>\n",
       "      <td>8.24</td>\n",
       "      <td>2016-11-20 19:44:19+00:00</td>\n",
       "      <td>1</td>\n",
       "    </tr>\n",
       "    <tr>\n",
       "      <th>1</th>\n",
       "      <td>14371418</td>\n",
       "      <td>3367200</td>\n",
       "      <td>papai</td>\n",
       "      <td>5</td>\n",
       "      <td>1.20</td>\n",
       "      <td>3.0</td>\n",
       "      <td>1.15</td>\n",
       "      <td>1.20</td>\n",
       "      <td>2016-11-21 03:51:34+00:00</td>\n",
       "      <td>1</td>\n",
       "    </tr>\n",
       "    <tr>\n",
       "      <th>2</th>\n",
       "      <td>14306198</td>\n",
       "      <td>3366697</td>\n",
       "      <td>papai</td>\n",
       "      <td>5</td>\n",
       "      <td>0.00</td>\n",
       "      <td>0.0</td>\n",
       "      <td>0.00</td>\n",
       "      <td>1.16</td>\n",
       "      <td>2016-11-21 00:28:45+00:00</td>\n",
       "      <td>1</td>\n",
       "    </tr>\n",
       "    <tr>\n",
       "      <th>3</th>\n",
       "      <td>15842561</td>\n",
       "      <td>3376103</td>\n",
       "      <td>papai</td>\n",
       "      <td>1</td>\n",
       "      <td>1.05</td>\n",
       "      <td>3.0</td>\n",
       "      <td>0.08</td>\n",
       "      <td>1.70</td>\n",
       "      <td>2016-11-23 16:31:24+00:00</td>\n",
       "      <td>1</td>\n",
       "    </tr>\n",
       "    <tr>\n",
       "      <th>4</th>\n",
       "      <td>13098255</td>\n",
       "      <td>3358777</td>\n",
       "      <td>papai</td>\n",
       "      <td>20</td>\n",
       "      <td>1.20</td>\n",
       "      <td>0.0</td>\n",
       "      <td>4.00</td>\n",
       "      <td>3.43</td>\n",
       "      <td>2016-11-18 18:57:36+00:00</td>\n",
       "      <td>1</td>\n",
       "    </tr>\n",
       "  </tbody>\n",
       "</table>\n",
       "</div>"
      ],
      "text/plain": [
       "         Id   GameID Username  Bet  CashedOut  Bonus  Profit  BustedAt  \\\n",
       "0  14196549  3366002    papai    5       1.20    0.0    1.00      8.24   \n",
       "1  14371418  3367200    papai    5       1.20    3.0    1.15      1.20   \n",
       "2  14306198  3366697    papai    5       0.00    0.0    0.00      1.16   \n",
       "3  15842561  3376103    papai    1       1.05    3.0    0.08      1.70   \n",
       "4  13098255  3358777    papai   20       1.20    0.0    4.00      3.43   \n",
       "\n",
       "                   PlayDate  Churned  \n",
       "0 2016-11-20 19:44:19+00:00        1  \n",
       "1 2016-11-21 03:51:34+00:00        1  \n",
       "2 2016-11-21 00:28:45+00:00        1  \n",
       "3 2016-11-23 16:31:24+00:00        1  \n",
       "4 2016-11-18 18:57:36+00:00        1  "
      ]
     },
     "execution_count": 10,
     "metadata": {},
     "output_type": "execute_result"
    }
   ],
   "source": [
    "df.head(5)"
   ]
  },
  {
   "cell_type": "code",
   "execution_count": 11,
   "id": "5fa240e8-6915-4d05-9220-2ed99552d739",
   "metadata": {},
   "outputs": [
    {
     "name": "stdout",
     "output_type": "stream",
     "text": [
      "<class 'pandas.core.frame.DataFrame'>\n",
      "RangeIndex: 50000 entries, 0 to 49999\n",
      "Data columns (total 10 columns):\n",
      " #   Column     Non-Null Count  Dtype              \n",
      "---  ------     --------------  -----              \n",
      " 0   Id         50000 non-null  int64              \n",
      " 1   GameID     50000 non-null  int64              \n",
      " 2   Username   50000 non-null  object             \n",
      " 3   Bet        50000 non-null  int64              \n",
      " 4   CashedOut  50000 non-null  float64            \n",
      " 5   Bonus      50000 non-null  float64            \n",
      " 6   Profit     50000 non-null  float64            \n",
      " 7   BustedAt   50000 non-null  float64            \n",
      " 8   PlayDate   50000 non-null  datetime64[ns, UTC]\n",
      " 9   Churned    50000 non-null  int64              \n",
      "dtypes: datetime64[ns, UTC](1), float64(4), int64(4), object(1)\n",
      "memory usage: 3.8+ MB\n"
     ]
    }
   ],
   "source": [
    "df.info()"
   ]
  },
  {
   "cell_type": "code",
   "execution_count": 12,
   "id": "6e6b7bea-a60a-40c6-bbfb-d3d9241ea7a3",
   "metadata": {},
   "outputs": [],
   "source": [
    "unique_players = df['Username'].nunique()"
   ]
  },
  {
   "cell_type": "code",
   "execution_count": 13,
   "id": "b7838cbc-1830-4370-aa19-d879e6dbb2ea",
   "metadata": {},
   "outputs": [
    {
     "data": {
      "text/plain": [
       "4149"
      ]
     },
     "execution_count": 13,
     "metadata": {},
     "output_type": "execute_result"
    }
   ],
   "source": [
    "unique_players"
   ]
  },
  {
   "cell_type": "code",
   "execution_count": 14,
   "id": "36b1ac5f-0c57-4199-9e26-6c3944172ab1",
   "metadata": {},
   "outputs": [],
   "source": [
    "df1 = df.groupby('Username')"
   ]
  },
  {
   "cell_type": "code",
   "execution_count": 15,
   "id": "b30c6618-86ca-4ce4-b0e0-2ff29aa3fff6",
   "metadata": {},
   "outputs": [
    {
     "data": {
      "text/html": [
       "<div>\n",
       "<style scoped>\n",
       "    .dataframe tbody tr th:only-of-type {\n",
       "        vertical-align: middle;\n",
       "    }\n",
       "\n",
       "    .dataframe tbody tr th {\n",
       "        vertical-align: top;\n",
       "    }\n",
       "\n",
       "    .dataframe thead th {\n",
       "        text-align: right;\n",
       "    }\n",
       "</style>\n",
       "<table border=\"1\" class=\"dataframe\">\n",
       "  <thead>\n",
       "    <tr style=\"text-align: right;\">\n",
       "      <th></th>\n",
       "      <th>Id</th>\n",
       "      <th>GameID</th>\n",
       "      <th>Username</th>\n",
       "      <th>Bet</th>\n",
       "      <th>CashedOut</th>\n",
       "      <th>Bonus</th>\n",
       "      <th>Profit</th>\n",
       "      <th>BustedAt</th>\n",
       "      <th>PlayDate</th>\n",
       "      <th>Churned</th>\n",
       "    </tr>\n",
       "  </thead>\n",
       "  <tbody>\n",
       "    <tr>\n",
       "      <th>0</th>\n",
       "      <td>14196549</td>\n",
       "      <td>3366002</td>\n",
       "      <td>papai</td>\n",
       "      <td>5</td>\n",
       "      <td>1.20</td>\n",
       "      <td>0.0</td>\n",
       "      <td>1.00</td>\n",
       "      <td>8.24</td>\n",
       "      <td>2016-11-20 19:44:19+00:00</td>\n",
       "      <td>1</td>\n",
       "    </tr>\n",
       "    <tr>\n",
       "      <th>1</th>\n",
       "      <td>14371418</td>\n",
       "      <td>3367200</td>\n",
       "      <td>papai</td>\n",
       "      <td>5</td>\n",
       "      <td>1.20</td>\n",
       "      <td>3.0</td>\n",
       "      <td>1.15</td>\n",
       "      <td>1.20</td>\n",
       "      <td>2016-11-21 03:51:34+00:00</td>\n",
       "      <td>1</td>\n",
       "    </tr>\n",
       "    <tr>\n",
       "      <th>2</th>\n",
       "      <td>14306198</td>\n",
       "      <td>3366697</td>\n",
       "      <td>papai</td>\n",
       "      <td>5</td>\n",
       "      <td>0.00</td>\n",
       "      <td>0.0</td>\n",
       "      <td>0.00</td>\n",
       "      <td>1.16</td>\n",
       "      <td>2016-11-21 00:28:45+00:00</td>\n",
       "      <td>1</td>\n",
       "    </tr>\n",
       "    <tr>\n",
       "      <th>3</th>\n",
       "      <td>15842561</td>\n",
       "      <td>3376103</td>\n",
       "      <td>papai</td>\n",
       "      <td>1</td>\n",
       "      <td>1.05</td>\n",
       "      <td>3.0</td>\n",
       "      <td>0.08</td>\n",
       "      <td>1.70</td>\n",
       "      <td>2016-11-23 16:31:24+00:00</td>\n",
       "      <td>1</td>\n",
       "    </tr>\n",
       "    <tr>\n",
       "      <th>4</th>\n",
       "      <td>13098255</td>\n",
       "      <td>3358777</td>\n",
       "      <td>papai</td>\n",
       "      <td>20</td>\n",
       "      <td>1.20</td>\n",
       "      <td>0.0</td>\n",
       "      <td>4.00</td>\n",
       "      <td>3.43</td>\n",
       "      <td>2016-11-18 18:57:36+00:00</td>\n",
       "      <td>1</td>\n",
       "    </tr>\n",
       "    <tr>\n",
       "      <th>...</th>\n",
       "      <td>...</td>\n",
       "      <td>...</td>\n",
       "      <td>...</td>\n",
       "      <td>...</td>\n",
       "      <td>...</td>\n",
       "      <td>...</td>\n",
       "      <td>...</td>\n",
       "      <td>...</td>\n",
       "      <td>...</td>\n",
       "      <td>...</td>\n",
       "    </tr>\n",
       "    <tr>\n",
       "      <th>49995</th>\n",
       "      <td>9979296</td>\n",
       "      <td>3340244</td>\n",
       "      <td>PrisonBreak</td>\n",
       "      <td>4</td>\n",
       "      <td>0.00</td>\n",
       "      <td>0.0</td>\n",
       "      <td>0.00</td>\n",
       "      <td>1.27</td>\n",
       "      <td>2016-11-13 13:53:18+00:00</td>\n",
       "      <td>1</td>\n",
       "    </tr>\n",
       "    <tr>\n",
       "      <th>49996</th>\n",
       "      <td>7619064</td>\n",
       "      <td>3329342</td>\n",
       "      <td>Nipar</td>\n",
       "      <td>500</td>\n",
       "      <td>0.00</td>\n",
       "      <td>0.0</td>\n",
       "      <td>0.00</td>\n",
       "      <td>1.42</td>\n",
       "      <td>2016-11-10 11:33:40+00:00</td>\n",
       "      <td>1</td>\n",
       "    </tr>\n",
       "    <tr>\n",
       "      <th>49997</th>\n",
       "      <td>7600259</td>\n",
       "      <td>3329261</td>\n",
       "      <td>FDimarin</td>\n",
       "      <td>1</td>\n",
       "      <td>0.00</td>\n",
       "      <td>0.0</td>\n",
       "      <td>0.00</td>\n",
       "      <td>1.58</td>\n",
       "      <td>2016-11-10 11:00:20+00:00</td>\n",
       "      <td>1</td>\n",
       "    </tr>\n",
       "    <tr>\n",
       "      <th>49998</th>\n",
       "      <td>16290931</td>\n",
       "      <td>3378860</td>\n",
       "      <td>FokJulleNaaiers</td>\n",
       "      <td>4000</td>\n",
       "      <td>1.20</td>\n",
       "      <td>0.0</td>\n",
       "      <td>800.00</td>\n",
       "      <td>2.47</td>\n",
       "      <td>2016-11-24 11:16:28+00:00</td>\n",
       "      <td>1</td>\n",
       "    </tr>\n",
       "    <tr>\n",
       "      <th>49999</th>\n",
       "      <td>3209780</td>\n",
       "      <td>3310911</td>\n",
       "      <td>bitcoinbandit</td>\n",
       "      <td>10</td>\n",
       "      <td>3.00</td>\n",
       "      <td>2.0</td>\n",
       "      <td>20.20</td>\n",
       "      <td>23.48</td>\n",
       "      <td>2016-11-05 05:29:00+00:00</td>\n",
       "      <td>1</td>\n",
       "    </tr>\n",
       "  </tbody>\n",
       "</table>\n",
       "<p>13168 rows × 10 columns</p>\n",
       "</div>"
      ],
      "text/plain": [
       "             Id   GameID         Username   Bet  CashedOut  Bonus  Profit  \\\n",
       "0      14196549  3366002            papai     5       1.20    0.0    1.00   \n",
       "1      14371418  3367200            papai     5       1.20    3.0    1.15   \n",
       "2      14306198  3366697            papai     5       0.00    0.0    0.00   \n",
       "3      15842561  3376103            papai     1       1.05    3.0    0.08   \n",
       "4      13098255  3358777            papai    20       1.20    0.0    4.00   \n",
       "...         ...      ...              ...   ...        ...    ...     ...   \n",
       "49995   9979296  3340244      PrisonBreak     4       0.00    0.0    0.00   \n",
       "49996   7619064  3329342            Nipar   500       0.00    0.0    0.00   \n",
       "49997   7600259  3329261         FDimarin     1       0.00    0.0    0.00   \n",
       "49998  16290931  3378860  FokJulleNaaiers  4000       1.20    0.0  800.00   \n",
       "49999   3209780  3310911    bitcoinbandit    10       3.00    2.0   20.20   \n",
       "\n",
       "       BustedAt                  PlayDate  Churned  \n",
       "0          8.24 2016-11-20 19:44:19+00:00        1  \n",
       "1          1.20 2016-11-21 03:51:34+00:00        1  \n",
       "2          1.16 2016-11-21 00:28:45+00:00        1  \n",
       "3          1.70 2016-11-23 16:31:24+00:00        1  \n",
       "4          3.43 2016-11-18 18:57:36+00:00        1  \n",
       "...         ...                       ...      ...  \n",
       "49995      1.27 2016-11-13 13:53:18+00:00        1  \n",
       "49996      1.42 2016-11-10 11:33:40+00:00        1  \n",
       "49997      1.58 2016-11-10 11:00:20+00:00        1  \n",
       "49998      2.47 2016-11-24 11:16:28+00:00        1  \n",
       "49999     23.48 2016-11-05 05:29:00+00:00        1  \n",
       "\n",
       "[13168 rows x 10 columns]"
      ]
     },
     "execution_count": 15,
     "metadata": {},
     "output_type": "execute_result"
    }
   ],
   "source": [
    "df1.head()"
   ]
  },
  {
   "cell_type": "markdown",
   "id": "f2085961-bff5-465d-a417-04db5bf0bc1a",
   "metadata": {},
   "source": [
    "# Feature Engineering"
   ]
  },
  {
   "cell_type": "code",
   "execution_count": 16,
   "id": "4e06469d-3a40-41f2-8558-cca4562e5957",
   "metadata": {},
   "outputs": [
    {
     "data": {
      "text/html": [
       "<div>\n",
       "<style scoped>\n",
       "    .dataframe tbody tr th:only-of-type {\n",
       "        vertical-align: middle;\n",
       "    }\n",
       "\n",
       "    .dataframe tbody tr th {\n",
       "        vertical-align: top;\n",
       "    }\n",
       "\n",
       "    .dataframe thead th {\n",
       "        text-align: right;\n",
       "    }\n",
       "</style>\n",
       "<table border=\"1\" class=\"dataframe\">\n",
       "  <thead>\n",
       "    <tr style=\"text-align: right;\">\n",
       "      <th></th>\n",
       "      <th>Id</th>\n",
       "      <th>GameID</th>\n",
       "      <th>Username</th>\n",
       "      <th>Bet</th>\n",
       "      <th>CashedOut</th>\n",
       "      <th>Bonus</th>\n",
       "      <th>Profit</th>\n",
       "      <th>BustedAt</th>\n",
       "      <th>PlayDate</th>\n",
       "      <th>Churned</th>\n",
       "    </tr>\n",
       "  </thead>\n",
       "  <tbody>\n",
       "    <tr>\n",
       "      <th>0</th>\n",
       "      <td>14196549</td>\n",
       "      <td>3366002</td>\n",
       "      <td>papai</td>\n",
       "      <td>5</td>\n",
       "      <td>1.20</td>\n",
       "      <td>0.0</td>\n",
       "      <td>1.00</td>\n",
       "      <td>8.24</td>\n",
       "      <td>2016-11-20 19:44:19+00:00</td>\n",
       "      <td>1</td>\n",
       "    </tr>\n",
       "    <tr>\n",
       "      <th>1</th>\n",
       "      <td>14371418</td>\n",
       "      <td>3367200</td>\n",
       "      <td>papai</td>\n",
       "      <td>5</td>\n",
       "      <td>1.20</td>\n",
       "      <td>3.0</td>\n",
       "      <td>1.15</td>\n",
       "      <td>1.20</td>\n",
       "      <td>2016-11-21 03:51:34+00:00</td>\n",
       "      <td>1</td>\n",
       "    </tr>\n",
       "    <tr>\n",
       "      <th>2</th>\n",
       "      <td>14306198</td>\n",
       "      <td>3366697</td>\n",
       "      <td>papai</td>\n",
       "      <td>5</td>\n",
       "      <td>0.00</td>\n",
       "      <td>0.0</td>\n",
       "      <td>0.00</td>\n",
       "      <td>1.16</td>\n",
       "      <td>2016-11-21 00:28:45+00:00</td>\n",
       "      <td>1</td>\n",
       "    </tr>\n",
       "    <tr>\n",
       "      <th>3</th>\n",
       "      <td>15842561</td>\n",
       "      <td>3376103</td>\n",
       "      <td>papai</td>\n",
       "      <td>1</td>\n",
       "      <td>1.05</td>\n",
       "      <td>3.0</td>\n",
       "      <td>0.08</td>\n",
       "      <td>1.70</td>\n",
       "      <td>2016-11-23 16:31:24+00:00</td>\n",
       "      <td>1</td>\n",
       "    </tr>\n",
       "    <tr>\n",
       "      <th>4</th>\n",
       "      <td>13098255</td>\n",
       "      <td>3358777</td>\n",
       "      <td>papai</td>\n",
       "      <td>20</td>\n",
       "      <td>1.20</td>\n",
       "      <td>0.0</td>\n",
       "      <td>4.00</td>\n",
       "      <td>3.43</td>\n",
       "      <td>2016-11-18 18:57:36+00:00</td>\n",
       "      <td>1</td>\n",
       "    </tr>\n",
       "  </tbody>\n",
       "</table>\n",
       "</div>"
      ],
      "text/plain": [
       "         Id   GameID Username  Bet  CashedOut  Bonus  Profit  BustedAt  \\\n",
       "0  14196549  3366002    papai    5       1.20    0.0    1.00      8.24   \n",
       "1  14371418  3367200    papai    5       1.20    3.0    1.15      1.20   \n",
       "2  14306198  3366697    papai    5       0.00    0.0    0.00      1.16   \n",
       "3  15842561  3376103    papai    1       1.05    3.0    0.08      1.70   \n",
       "4  13098255  3358777    papai   20       1.20    0.0    4.00      3.43   \n",
       "\n",
       "                   PlayDate  Churned  \n",
       "0 2016-11-20 19:44:19+00:00        1  \n",
       "1 2016-11-21 03:51:34+00:00        1  \n",
       "2 2016-11-21 00:28:45+00:00        1  \n",
       "3 2016-11-23 16:31:24+00:00        1  \n",
       "4 2016-11-18 18:57:36+00:00        1  "
      ]
     },
     "execution_count": 16,
     "metadata": {},
     "output_type": "execute_result"
    }
   ],
   "source": [
    "df.head()"
   ]
  },
  {
   "cell_type": "code",
   "execution_count": 17,
   "id": "524c99c0-80cf-435c-b82c-32f2625f6b2e",
   "metadata": {},
   "outputs": [],
   "source": [
    "# Step 1: Get the last, second-last, and third-last play dates per player\n",
    "\n",
    "player_activity = (\n",
    "    df.sort_values('PlayDate')\n",
    "    .groupby('Username')['PlayDate']\n",
    "    .agg([\n",
    "        ('LastPlayDate', 'last'),  # Most recent play (always exists)\n",
    "        ('SecondLastPlayDate', lambda x: x.iloc[-2] if len(x) >= 2 else pd.NaT),\n",
    "        ('ThirdLastPlayDate', lambda x: x.iloc[-3] if len(x) >= 3 else pd.NaT)\n",
    "    ])\n",
    "    .reset_index()\n",
    ")\n",
    "\n",
    "# Calculate days with fillna(0) at the end\n",
    "player_activity['DaysSinceLastPlay'] = (latest_date - player_activity['LastPlayDate']).dt.days\n",
    "player_activity['DaysSinceSecondLastPlay'] = (latest_date - player_activity['SecondLastPlayDate']).dt.days.fillna(0)\n",
    "player_activity['DaysSinceThirdLastPlay'] = (latest_date - player_activity['ThirdLastPlayDate']).dt.days.fillna(0)"
   ]
  },
  {
   "cell_type": "code",
   "execution_count": 18,
   "id": "f7dcd5b5-4b1f-4fc0-ac2f-9705623e15bc",
   "metadata": {},
   "outputs": [
    {
     "data": {
      "text/html": [
       "<div>\n",
       "<style scoped>\n",
       "    .dataframe tbody tr th:only-of-type {\n",
       "        vertical-align: middle;\n",
       "    }\n",
       "\n",
       "    .dataframe tbody tr th {\n",
       "        vertical-align: top;\n",
       "    }\n",
       "\n",
       "    .dataframe thead th {\n",
       "        text-align: right;\n",
       "    }\n",
       "</style>\n",
       "<table border=\"1\" class=\"dataframe\">\n",
       "  <thead>\n",
       "    <tr style=\"text-align: right;\">\n",
       "      <th></th>\n",
       "      <th>Username</th>\n",
       "      <th>LastPlayDate</th>\n",
       "      <th>SecondLastPlayDate</th>\n",
       "      <th>ThirdLastPlayDate</th>\n",
       "      <th>DaysSinceLastPlay</th>\n",
       "      <th>DaysSinceSecondLastPlay</th>\n",
       "      <th>DaysSinceThirdLastPlay</th>\n",
       "    </tr>\n",
       "  </thead>\n",
       "  <tbody>\n",
       "    <tr>\n",
       "      <th>0</th>\n",
       "      <td>----------------</td>\n",
       "      <td>2016-11-03 20:26:24+00:00</td>\n",
       "      <td>2016-11-03 15:05:40+00:00</td>\n",
       "      <td>2016-11-03 06:14:27+00:00</td>\n",
       "      <td>36</td>\n",
       "      <td>37.0</td>\n",
       "      <td>37.0</td>\n",
       "    </tr>\n",
       "    <tr>\n",
       "      <th>1</th>\n",
       "      <td>--dilib--</td>\n",
       "      <td>2016-11-03 17:35:53+00:00</td>\n",
       "      <td>2016-11-03 08:48:12+00:00</td>\n",
       "      <td>2016-11-03 08:39:20+00:00</td>\n",
       "      <td>37</td>\n",
       "      <td>37.0</td>\n",
       "      <td>37.0</td>\n",
       "    </tr>\n",
       "    <tr>\n",
       "      <th>2</th>\n",
       "      <td>-31337-</td>\n",
       "      <td>2016-12-09 20:33:22+00:00</td>\n",
       "      <td>2016-12-09 19:56:00+00:00</td>\n",
       "      <td>2016-12-09 18:31:58+00:00</td>\n",
       "      <td>0</td>\n",
       "      <td>1.0</td>\n",
       "      <td>1.0</td>\n",
       "    </tr>\n",
       "    <tr>\n",
       "      <th>3</th>\n",
       "      <td>-Nothing-</td>\n",
       "      <td>2016-12-06 15:27:27+00:00</td>\n",
       "      <td>2016-12-06 15:01:15+00:00</td>\n",
       "      <td>2016-11-24 19:07:24+00:00</td>\n",
       "      <td>4</td>\n",
       "      <td>4.0</td>\n",
       "      <td>16.0</td>\n",
       "    </tr>\n",
       "    <tr>\n",
       "      <th>4</th>\n",
       "      <td>-Tachyon</td>\n",
       "      <td>2016-11-01 23:10:05+00:00</td>\n",
       "      <td>2016-11-01 22:50:26+00:00</td>\n",
       "      <td>2016-11-01 11:17:05+00:00</td>\n",
       "      <td>38</td>\n",
       "      <td>38.0</td>\n",
       "      <td>39.0</td>\n",
       "    </tr>\n",
       "  </tbody>\n",
       "</table>\n",
       "</div>"
      ],
      "text/plain": [
       "           Username              LastPlayDate        SecondLastPlayDate  \\\n",
       "0  ---------------- 2016-11-03 20:26:24+00:00 2016-11-03 15:05:40+00:00   \n",
       "1         --dilib-- 2016-11-03 17:35:53+00:00 2016-11-03 08:48:12+00:00   \n",
       "2           -31337- 2016-12-09 20:33:22+00:00 2016-12-09 19:56:00+00:00   \n",
       "3         -Nothing- 2016-12-06 15:27:27+00:00 2016-12-06 15:01:15+00:00   \n",
       "4          -Tachyon 2016-11-01 23:10:05+00:00 2016-11-01 22:50:26+00:00   \n",
       "\n",
       "          ThirdLastPlayDate  DaysSinceLastPlay  DaysSinceSecondLastPlay  \\\n",
       "0 2016-11-03 06:14:27+00:00                 36                     37.0   \n",
       "1 2016-11-03 08:39:20+00:00                 37                     37.0   \n",
       "2 2016-12-09 18:31:58+00:00                  0                      1.0   \n",
       "3 2016-11-24 19:07:24+00:00                  4                      4.0   \n",
       "4 2016-11-01 11:17:05+00:00                 38                     38.0   \n",
       "\n",
       "   DaysSinceThirdLastPlay  \n",
       "0                    37.0  \n",
       "1                    37.0  \n",
       "2                     1.0  \n",
       "3                    16.0  \n",
       "4                    39.0  "
      ]
     },
     "execution_count": 18,
     "metadata": {},
     "output_type": "execute_result"
    }
   ],
   "source": [
    "player_activity.head(5)"
   ]
  },
  {
   "cell_type": "code",
   "execution_count": 19,
   "id": "f7c3b8f8-0606-4178-9e79-17337ea3cb4a",
   "metadata": {},
   "outputs": [
    {
     "data": {
      "image/png": "[encoded data removed]",
      "text/plain": [
       "<Figure size 1200x600 with 1 Axes>"
      ]
     },
     "metadata": {},
     "output_type": "display_data"
    }
   ],
   "source": [
    "missing_data = player_activity.isnull().sum() / len(df) * 100\n",
    "\n",
    "plt.figure(figsize=(12, 6))\n",
    "missing_data.plot(kind='bar', color='red')\n",
    "plt.title('Percentage of Missing Values in Each Column')\n",
    "plt.xlabel('Columns')\n",
    "plt.ylabel('Percentage Missing')\n",
    "plt.xticks(rotation=45)\n",
    "plt.grid(True)\n",
    "plt.show()"
   ]
  },
  {
   "cell_type": "code",
   "execution_count": 20,
   "id": "0af77120-6e08-4fcc-8c13-a2d0e6918535",
   "metadata": {},
   "outputs": [],
   "source": [
    "# Define the time windows (in days)\n",
    "time_windows = [4, 8, 12, 16, 20, 24, 28, 32, 36]\n",
    "\n",
    "# Initialize a DataFrame to store results\n",
    "player_bets_by_window = df[['Username']].drop_duplicates()\n",
    "\n",
    "# Calculate bet sums for each time window\n",
    "for days in time_windows:\n",
    "    # Calculate cutoff date\n",
    "    cutoff_date = latest_date - pd.Timedelta(days=days)\n",
    "    \n",
    "    # Filter bets and sum by player\n",
    "    window_bets = (\n",
    "        df[df['PlayDate'] >= cutoff_date]\n",
    "        .groupby('Username')['Bet']\n",
    "        .sum()\n",
    "        .reset_index()\n",
    "        .rename(columns={'Bet': f'BetsLast{days}Days'})\n",
    "    )\n",
    "    \n",
    "    # Merge with main DataFrame\n",
    "    player_bets_by_window = player_bets_by_window.merge(\n",
    "        window_bets,\n",
    "        on='Username',\n",
    "        how='left'\n",
    "    )\n",
    "\n",
    "# Fill NA with 0 (for players with no bets in a window)\n",
    "player_bets_by_window = player_bets_by_window.fillna(0)\n"
   ]
  },
  {
   "cell_type": "code",
   "execution_count": 21,
   "id": "c80fbcb0-e28a-4704-9c36-3ad1afb20085",
   "metadata": {},
   "outputs": [
    {
     "data": {
      "text/html": [
       "<div>\n",
       "<style scoped>\n",
       "    .dataframe tbody tr th:only-of-type {\n",
       "        vertical-align: middle;\n",
       "    }\n",
       "\n",
       "    .dataframe tbody tr th {\n",
       "        vertical-align: top;\n",
       "    }\n",
       "\n",
       "    .dataframe thead th {\n",
       "        text-align: right;\n",
       "    }\n",
       "</style>\n",
       "<table border=\"1\" class=\"dataframe\">\n",
       "  <thead>\n",
       "    <tr style=\"text-align: right;\">\n",
       "      <th></th>\n",
       "      <th>Username</th>\n",
       "      <th>BetsLast4Days</th>\n",
       "      <th>BetsLast8Days</th>\n",
       "      <th>BetsLast12Days</th>\n",
       "      <th>BetsLast16Days</th>\n",
       "      <th>BetsLast20Days</th>\n",
       "      <th>BetsLast24Days</th>\n",
       "      <th>BetsLast28Days</th>\n",
       "      <th>BetsLast32Days</th>\n",
       "      <th>BetsLast36Days</th>\n",
       "    </tr>\n",
       "  </thead>\n",
       "  <tbody>\n",
       "    <tr>\n",
       "      <th>0</th>\n",
       "      <td>papai</td>\n",
       "      <td>0.0</td>\n",
       "      <td>0.0</td>\n",
       "      <td>0.0</td>\n",
       "      <td>0.0</td>\n",
       "      <td>32.0</td>\n",
       "      <td>227.0</td>\n",
       "      <td>227.0</td>\n",
       "      <td>227.0</td>\n",
       "      <td>227.0</td>\n",
       "    </tr>\n",
       "    <tr>\n",
       "      <th>1</th>\n",
       "      <td>znay22</td>\n",
       "      <td>826.0</td>\n",
       "      <td>999.0</td>\n",
       "      <td>1092.0</td>\n",
       "      <td>1295.0</td>\n",
       "      <td>1577.0</td>\n",
       "      <td>2097.0</td>\n",
       "      <td>2115.0</td>\n",
       "      <td>2279.0</td>\n",
       "      <td>2663.0</td>\n",
       "    </tr>\n",
       "    <tr>\n",
       "      <th>2</th>\n",
       "      <td>rrrrrrrr</td>\n",
       "      <td>40.0</td>\n",
       "      <td>68.0</td>\n",
       "      <td>68.0</td>\n",
       "      <td>68.0</td>\n",
       "      <td>1852.0</td>\n",
       "      <td>2458.0</td>\n",
       "      <td>2458.0</td>\n",
       "      <td>2458.0</td>\n",
       "      <td>2458.0</td>\n",
       "    </tr>\n",
       "    <tr>\n",
       "      <th>3</th>\n",
       "      <td>sanya1206</td>\n",
       "      <td>20.0</td>\n",
       "      <td>180.0</td>\n",
       "      <td>180.0</td>\n",
       "      <td>180.0</td>\n",
       "      <td>180.0</td>\n",
       "      <td>180.0</td>\n",
       "      <td>180.0</td>\n",
       "      <td>180.0</td>\n",
       "      <td>180.0</td>\n",
       "    </tr>\n",
       "    <tr>\n",
       "      <th>4</th>\n",
       "      <td>ADM</td>\n",
       "      <td>338.0</td>\n",
       "      <td>12338.0</td>\n",
       "      <td>13388.0</td>\n",
       "      <td>13646.0</td>\n",
       "      <td>13646.0</td>\n",
       "      <td>13646.0</td>\n",
       "      <td>13646.0</td>\n",
       "      <td>13846.0</td>\n",
       "      <td>14575.0</td>\n",
       "    </tr>\n",
       "  </tbody>\n",
       "</table>\n",
       "</div>"
      ],
      "text/plain": [
       "    Username  BetsLast4Days  BetsLast8Days  BetsLast12Days  BetsLast16Days  \\\n",
       "0      papai            0.0            0.0             0.0             0.0   \n",
       "1     znay22          826.0          999.0          1092.0          1295.0   \n",
       "2   rrrrrrrr           40.0           68.0            68.0            68.0   \n",
       "3  sanya1206           20.0          180.0           180.0           180.0   \n",
       "4        ADM          338.0        12338.0         13388.0         13646.0   \n",
       "\n",
       "   BetsLast20Days  BetsLast24Days  BetsLast28Days  BetsLast32Days  \\\n",
       "0            32.0           227.0           227.0           227.0   \n",
       "1          1577.0          2097.0          2115.0          2279.0   \n",
       "2          1852.0          2458.0          2458.0          2458.0   \n",
       "3           180.0           180.0           180.0           180.0   \n",
       "4         13646.0         13646.0         13646.0         13846.0   \n",
       "\n",
       "   BetsLast36Days  \n",
       "0           227.0  \n",
       "1          2663.0  \n",
       "2          2458.0  \n",
       "3           180.0  \n",
       "4         14575.0  "
      ]
     },
     "execution_count": 21,
     "metadata": {},
     "output_type": "execute_result"
    }
   ],
   "source": [
    "player_bets_by_window.head()"
   ]
  },
  {
   "cell_type": "code",
   "execution_count": 22,
   "id": "ebb61a67-2322-483a-afcb-8a0a60592419",
   "metadata": {},
   "outputs": [
    {
     "data": {
      "text/plain": [
       "(4149, 10)"
      ]
     },
     "execution_count": 22,
     "metadata": {},
     "output_type": "execute_result"
    }
   ],
   "source": [
    "player_bets_by_window.shape"
   ]
  },
  {
   "cell_type": "code",
   "execution_count": 23,
   "id": "af1514c1-92af-4796-9b05-8254cd05f6e5",
   "metadata": {},
   "outputs": [
    {
     "data": {
      "text/html": [
       "<div>\n",
       "<style scoped>\n",
       "    .dataframe tbody tr th:only-of-type {\n",
       "        vertical-align: middle;\n",
       "    }\n",
       "\n",
       "    .dataframe tbody tr th {\n",
       "        vertical-align: top;\n",
       "    }\n",
       "\n",
       "    .dataframe thead th {\n",
       "        text-align: right;\n",
       "    }\n",
       "</style>\n",
       "<table border=\"1\" class=\"dataframe\">\n",
       "  <thead>\n",
       "    <tr style=\"text-align: right;\">\n",
       "      <th></th>\n",
       "      <th>Username</th>\n",
       "      <th>LastPlayDate</th>\n",
       "      <th>SecondLastPlayDate</th>\n",
       "      <th>ThirdLastPlayDate</th>\n",
       "      <th>DaysSinceLastPlay</th>\n",
       "      <th>DaysSinceSecondLastPlay</th>\n",
       "      <th>DaysSinceThirdLastPlay</th>\n",
       "    </tr>\n",
       "  </thead>\n",
       "  <tbody>\n",
       "    <tr>\n",
       "      <th>0</th>\n",
       "      <td>----------------</td>\n",
       "      <td>2016-11-03 20:26:24+00:00</td>\n",
       "      <td>2016-11-03 15:05:40+00:00</td>\n",
       "      <td>2016-11-03 06:14:27+00:00</td>\n",
       "      <td>36</td>\n",
       "      <td>37.0</td>\n",
       "      <td>37.0</td>\n",
       "    </tr>\n",
       "    <tr>\n",
       "      <th>1</th>\n",
       "      <td>--dilib--</td>\n",
       "      <td>2016-11-03 17:35:53+00:00</td>\n",
       "      <td>2016-11-03 08:48:12+00:00</td>\n",
       "      <td>2016-11-03 08:39:20+00:00</td>\n",
       "      <td>37</td>\n",
       "      <td>37.0</td>\n",
       "      <td>37.0</td>\n",
       "    </tr>\n",
       "    <tr>\n",
       "      <th>2</th>\n",
       "      <td>-31337-</td>\n",
       "      <td>2016-12-09 20:33:22+00:00</td>\n",
       "      <td>2016-12-09 19:56:00+00:00</td>\n",
       "      <td>2016-12-09 18:31:58+00:00</td>\n",
       "      <td>0</td>\n",
       "      <td>1.0</td>\n",
       "      <td>1.0</td>\n",
       "    </tr>\n",
       "    <tr>\n",
       "      <th>3</th>\n",
       "      <td>-Nothing-</td>\n",
       "      <td>2016-12-06 15:27:27+00:00</td>\n",
       "      <td>2016-12-06 15:01:15+00:00</td>\n",
       "      <td>2016-11-24 19:07:24+00:00</td>\n",
       "      <td>4</td>\n",
       "      <td>4.0</td>\n",
       "      <td>16.0</td>\n",
       "    </tr>\n",
       "    <tr>\n",
       "      <th>4</th>\n",
       "      <td>-Tachyon</td>\n",
       "      <td>2016-11-01 23:10:05+00:00</td>\n",
       "      <td>2016-11-01 22:50:26+00:00</td>\n",
       "      <td>2016-11-01 11:17:05+00:00</td>\n",
       "      <td>38</td>\n",
       "      <td>38.0</td>\n",
       "      <td>39.0</td>\n",
       "    </tr>\n",
       "  </tbody>\n",
       "</table>\n",
       "</div>"
      ],
      "text/plain": [
       "           Username              LastPlayDate        SecondLastPlayDate  \\\n",
       "0  ---------------- 2016-11-03 20:26:24+00:00 2016-11-03 15:05:40+00:00   \n",
       "1         --dilib-- 2016-11-03 17:35:53+00:00 2016-11-03 08:48:12+00:00   \n",
       "2           -31337- 2016-12-09 20:33:22+00:00 2016-12-09 19:56:00+00:00   \n",
       "3         -Nothing- 2016-12-06 15:27:27+00:00 2016-12-06 15:01:15+00:00   \n",
       "4          -Tachyon 2016-11-01 23:10:05+00:00 2016-11-01 22:50:26+00:00   \n",
       "\n",
       "          ThirdLastPlayDate  DaysSinceLastPlay  DaysSinceSecondLastPlay  \\\n",
       "0 2016-11-03 06:14:27+00:00                 36                     37.0   \n",
       "1 2016-11-03 08:39:20+00:00                 37                     37.0   \n",
       "2 2016-12-09 18:31:58+00:00                  0                      1.0   \n",
       "3 2016-11-24 19:07:24+00:00                  4                      4.0   \n",
       "4 2016-11-01 11:17:05+00:00                 38                     38.0   \n",
       "\n",
       "   DaysSinceThirdLastPlay  \n",
       "0                    37.0  \n",
       "1                    37.0  \n",
       "2                     1.0  \n",
       "3                    16.0  \n",
       "4                    39.0  "
      ]
     },
     "execution_count": 23,
     "metadata": {},
     "output_type": "execute_result"
    }
   ],
   "source": [
    "player_activity.head()"
   ]
  },
  {
   "cell_type": "code",
   "execution_count": 24,
   "id": "9db66c35-126c-4f46-af08-098a4ddab447",
   "metadata": {},
   "outputs": [],
   "source": [
    "player_last_activity = player_bets_by_window.merge(player_activity[['Username', 'DaysSinceLastPlay', 'DaysSinceSecondLastPlay', 'DaysSinceThirdLastPlay']], on='Username')"
   ]
  },
  {
   "cell_type": "code",
   "execution_count": 25,
   "id": "ca76378d-7ef3-43a6-aff8-396d1b6c4be2",
   "metadata": {},
   "outputs": [
    {
     "data": {
      "text/html": [
       "<div>\n",
       "<style scoped>\n",
       "    .dataframe tbody tr th:only-of-type {\n",
       "        vertical-align: middle;\n",
       "    }\n",
       "\n",
       "    .dataframe tbody tr th {\n",
       "        vertical-align: top;\n",
       "    }\n",
       "\n",
       "    .dataframe thead th {\n",
       "        text-align: right;\n",
       "    }\n",
       "</style>\n",
       "<table border=\"1\" class=\"dataframe\">\n",
       "  <thead>\n",
       "    <tr style=\"text-align: right;\">\n",
       "      <th></th>\n",
       "      <th>Username</th>\n",
       "      <th>BetsLast4Days</th>\n",
       "      <th>BetsLast8Days</th>\n",
       "      <th>BetsLast12Days</th>\n",
       "      <th>BetsLast16Days</th>\n",
       "      <th>BetsLast20Days</th>\n",
       "      <th>BetsLast24Days</th>\n",
       "      <th>BetsLast28Days</th>\n",
       "      <th>BetsLast32Days</th>\n",
       "      <th>BetsLast36Days</th>\n",
       "      <th>DaysSinceLastPlay</th>\n",
       "      <th>DaysSinceSecondLastPlay</th>\n",
       "      <th>DaysSinceThirdLastPlay</th>\n",
       "    </tr>\n",
       "  </thead>\n",
       "  <tbody>\n",
       "    <tr>\n",
       "      <th>0</th>\n",
       "      <td>papai</td>\n",
       "      <td>0.0</td>\n",
       "      <td>0.0</td>\n",
       "      <td>0.0</td>\n",
       "      <td>0.0</td>\n",
       "      <td>32.0</td>\n",
       "      <td>227.0</td>\n",
       "      <td>227.0</td>\n",
       "      <td>227.0</td>\n",
       "      <td>227.0</td>\n",
       "      <td>17</td>\n",
       "      <td>18.0</td>\n",
       "      <td>18.0</td>\n",
       "    </tr>\n",
       "    <tr>\n",
       "      <th>1</th>\n",
       "      <td>znay22</td>\n",
       "      <td>826.0</td>\n",
       "      <td>999.0</td>\n",
       "      <td>1092.0</td>\n",
       "      <td>1295.0</td>\n",
       "      <td>1577.0</td>\n",
       "      <td>2097.0</td>\n",
       "      <td>2115.0</td>\n",
       "      <td>2279.0</td>\n",
       "      <td>2663.0</td>\n",
       "      <td>0</td>\n",
       "      <td>0.0</td>\n",
       "      <td>0.0</td>\n",
       "    </tr>\n",
       "    <tr>\n",
       "      <th>2</th>\n",
       "      <td>rrrrrrrr</td>\n",
       "      <td>40.0</td>\n",
       "      <td>68.0</td>\n",
       "      <td>68.0</td>\n",
       "      <td>68.0</td>\n",
       "      <td>1852.0</td>\n",
       "      <td>2458.0</td>\n",
       "      <td>2458.0</td>\n",
       "      <td>2458.0</td>\n",
       "      <td>2458.0</td>\n",
       "      <td>1</td>\n",
       "      <td>1.0</td>\n",
       "      <td>3.0</td>\n",
       "    </tr>\n",
       "    <tr>\n",
       "      <th>3</th>\n",
       "      <td>sanya1206</td>\n",
       "      <td>20.0</td>\n",
       "      <td>180.0</td>\n",
       "      <td>180.0</td>\n",
       "      <td>180.0</td>\n",
       "      <td>180.0</td>\n",
       "      <td>180.0</td>\n",
       "      <td>180.0</td>\n",
       "      <td>180.0</td>\n",
       "      <td>180.0</td>\n",
       "      <td>0</td>\n",
       "      <td>2.0</td>\n",
       "      <td>4.0</td>\n",
       "    </tr>\n",
       "    <tr>\n",
       "      <th>4</th>\n",
       "      <td>ADM</td>\n",
       "      <td>338.0</td>\n",
       "      <td>12338.0</td>\n",
       "      <td>13388.0</td>\n",
       "      <td>13646.0</td>\n",
       "      <td>13646.0</td>\n",
       "      <td>13646.0</td>\n",
       "      <td>13646.0</td>\n",
       "      <td>13846.0</td>\n",
       "      <td>14575.0</td>\n",
       "      <td>2</td>\n",
       "      <td>2.0</td>\n",
       "      <td>3.0</td>\n",
       "    </tr>\n",
       "  </tbody>\n",
       "</table>\n",
       "</div>"
      ],
      "text/plain": [
       "    Username  BetsLast4Days  BetsLast8Days  BetsLast12Days  BetsLast16Days  \\\n",
       "0      papai            0.0            0.0             0.0             0.0   \n",
       "1     znay22          826.0          999.0          1092.0          1295.0   \n",
       "2   rrrrrrrr           40.0           68.0            68.0            68.0   \n",
       "3  sanya1206           20.0          180.0           180.0           180.0   \n",
       "4        ADM          338.0        12338.0         13388.0         13646.0   \n",
       "\n",
       "   BetsLast20Days  BetsLast24Days  BetsLast28Days  BetsLast32Days  \\\n",
       "0            32.0           227.0           227.0           227.0   \n",
       "1          1577.0          2097.0          2115.0          2279.0   \n",
       "2          1852.0          2458.0          2458.0          2458.0   \n",
       "3           180.0           180.0           180.0           180.0   \n",
       "4         13646.0         13646.0         13646.0         13846.0   \n",
       "\n",
       "   BetsLast36Days  DaysSinceLastPlay  DaysSinceSecondLastPlay  \\\n",
       "0           227.0                 17                     18.0   \n",
       "1          2663.0                  0                      0.0   \n",
       "2          2458.0                  1                      1.0   \n",
       "3           180.0                  0                      2.0   \n",
       "4         14575.0                  2                      2.0   \n",
       "\n",
       "   DaysSinceThirdLastPlay  \n",
       "0                    18.0  \n",
       "1                     0.0  \n",
       "2                     3.0  \n",
       "3                     4.0  \n",
       "4                     3.0  "
      ]
     },
     "execution_count": 25,
     "metadata": {},
     "output_type": "execute_result"
    }
   ],
   "source": [
    "player_last_activity.head()"
   ]
  },
  {
   "cell_type": "code",
   "execution_count": 26,
   "id": "5b5861fa-b78e-4787-a70e-41f782a0ad2a",
   "metadata": {},
   "outputs": [
    {
     "name": "stderr",
     "output_type": "stream",
     "text": [
      "Exception ignored in: <bound method IPythonKernel._clean_thread_parent_frames of <ipykernel.ipkernel.IPythonKernel object at 0x77d3a011e400>>\n",
      "Traceback (most recent call last):\n",
      "  File \"/home/julhas/Desktop/bustabit_game_prediction/myenv/lib/python3.8/site-packages/ipykernel/ipkernel.py\", line 775, in _clean_thread_parent_frames\n",
      "    def _clean_thread_parent_frames(\n",
      "KeyboardInterrupt: \n"
     ]
    },
    {
     "ename": "KeyboardInterrupt",
     "evalue": "",
     "output_type": "error",
     "traceback": [
      "\u001b[0;31m---------------------------------------------------------------------------\u001b[0m",
      "\u001b[0;31mKeyboardInterrupt\u001b[0m                         Traceback (most recent call last)",
      "Cell \u001b[0;32mIn[26], line 1\u001b[0m\n\u001b[0;32m----> 1\u001b[0m player_stats \u001b[38;5;241m=\u001b[39m \u001b[43mdf\u001b[49m\u001b[38;5;241;43m.\u001b[39;49m\u001b[43mgroupby\u001b[49m\u001b[43m(\u001b[49m\u001b[38;5;124;43m'\u001b[39;49m\u001b[38;5;124;43mUsername\u001b[39;49m\u001b[38;5;124;43m'\u001b[39;49m\u001b[43m)\u001b[49m\u001b[38;5;241;43m.\u001b[39;49m\u001b[43magg\u001b[49m\u001b[43m(\u001b[49m\n\u001b[1;32m      2\u001b[0m \u001b[43m    \u001b[49m\u001b[43mTotalBetAmount\u001b[49m\u001b[38;5;241;43m=\u001b[39;49m\u001b[43m(\u001b[49m\u001b[38;5;124;43m'\u001b[39;49m\u001b[38;5;124;43mBet\u001b[39;49m\u001b[38;5;124;43m'\u001b[39;49m\u001b[43m,\u001b[49m\u001b[43m \u001b[49m\u001b[38;5;124;43m'\u001b[39;49m\u001b[38;5;124;43msum\u001b[39;49m\u001b[38;5;124;43m'\u001b[39;49m\u001b[43m)\u001b[49m\u001b[43m,\u001b[49m\n\u001b[1;32m      3\u001b[0m \u001b[43m    \u001b[49m\u001b[43mTotalProfitAmount\u001b[49m\u001b[38;5;241;43m=\u001b[39;49m\u001b[43m(\u001b[49m\u001b[38;5;124;43m'\u001b[39;49m\u001b[38;5;124;43mProfit\u001b[39;49m\u001b[38;5;124;43m'\u001b[39;49m\u001b[43m,\u001b[49m\u001b[43m \u001b[49m\u001b[38;5;124;43m'\u001b[39;49m\u001b[38;5;124;43msum\u001b[39;49m\u001b[38;5;124;43m'\u001b[39;49m\u001b[43m)\u001b[49m\u001b[43m,\u001b[49m\n\u001b[1;32m      4\u001b[0m \u001b[43m    \u001b[49m\u001b[43mTotalBonusAmount\u001b[49m\u001b[38;5;241;43m=\u001b[39;49m\u001b[43m(\u001b[49m\u001b[38;5;124;43m'\u001b[39;49m\u001b[38;5;124;43mBonus\u001b[39;49m\u001b[38;5;124;43m'\u001b[39;49m\u001b[43m,\u001b[49m\u001b[43m \u001b[49m\u001b[38;5;124;43m'\u001b[39;49m\u001b[38;5;124;43msum\u001b[39;49m\u001b[38;5;124;43m'\u001b[39;49m\u001b[43m)\u001b[49m\u001b[43m,\u001b[49m\n\u001b[1;32m      5\u001b[0m \u001b[43m    \u001b[49m\u001b[43mNumberOfBets\u001b[49m\u001b[38;5;241;43m=\u001b[39;49m\u001b[43m(\u001b[49m\u001b[38;5;124;43m'\u001b[39;49m\u001b[38;5;124;43mBet\u001b[39;49m\u001b[38;5;124;43m'\u001b[39;49m\u001b[43m,\u001b[49m\u001b[43m \u001b[49m\u001b[38;5;124;43m'\u001b[39;49m\u001b[38;5;124;43mcount\u001b[39;49m\u001b[38;5;124;43m'\u001b[39;49m\u001b[43m)\u001b[49m\u001b[43m,\u001b[49m\n\u001b[1;32m      6\u001b[0m \u001b[43m    \u001b[49m\u001b[43mNumberOfBets_Won\u001b[49m\u001b[38;5;241;43m=\u001b[39;49m\u001b[43m(\u001b[49m\u001b[38;5;124;43m'\u001b[39;49m\u001b[38;5;124;43mProfit\u001b[39;49m\u001b[38;5;124;43m'\u001b[39;49m\u001b[43m,\u001b[49m\u001b[43m \u001b[49m\u001b[38;5;28;43;01mlambda\u001b[39;49;00m\u001b[43m \u001b[49m\u001b[43mx\u001b[49m\u001b[43m:\u001b[49m\u001b[43m \u001b[49m\u001b[43m(\u001b[49m\u001b[43mx\u001b[49m\u001b[43m \u001b[49m\u001b[38;5;241;43m>\u001b[39;49m\u001b[43m \u001b[49m\u001b[38;5;241;43m0\u001b[39;49m\u001b[43m)\u001b[49m\u001b[38;5;241;43m.\u001b[39;49m\u001b[43msum\u001b[49m\u001b[43m(\u001b[49m\u001b[43m)\u001b[49m\u001b[43m)\u001b[49m\u001b[43m,\u001b[49m\u001b[43m  \u001b[49m\u001b[38;5;66;43;03m# Count wins (Profit > 0)\u001b[39;49;00m\n\u001b[1;32m      7\u001b[0m \u001b[43m    \u001b[49m\u001b[43mNumberOfBets_Lost\u001b[49m\u001b[38;5;241;43m=\u001b[39;49m\u001b[43m(\u001b[49m\u001b[38;5;124;43m'\u001b[39;49m\u001b[38;5;124;43mProfit\u001b[39;49m\u001b[38;5;124;43m'\u001b[39;49m\u001b[43m,\u001b[49m\u001b[43m \u001b[49m\u001b[38;5;28;43;01mlambda\u001b[39;49;00m\u001b[43m \u001b[49m\u001b[43mx\u001b[49m\u001b[43m:\u001b[49m\u001b[43m \u001b[49m\u001b[43m(\u001b[49m\u001b[43mx\u001b[49m\u001b[43m \u001b[49m\u001b[38;5;241;43m<\u001b[39;49m\u001b[38;5;241;43m=\u001b[39;49m\u001b[43m \u001b[49m\u001b[38;5;241;43m0\u001b[39;49m\u001b[43m)\u001b[49m\u001b[38;5;241;43m.\u001b[39;49m\u001b[43msum\u001b[49m\u001b[43m(\u001b[49m\u001b[43m)\u001b[49m\u001b[43m)\u001b[49m\u001b[43m,\u001b[49m\u001b[43m \u001b[49m\u001b[38;5;66;43;03m# Count losses (Profit <= 0)\u001b[39;49;00m\n\u001b[1;32m      8\u001b[0m \u001b[43m    \u001b[49m\u001b[43mAverageBet\u001b[49m\u001b[38;5;241;43m=\u001b[39;49m\u001b[43m(\u001b[49m\u001b[38;5;124;43m'\u001b[39;49m\u001b[38;5;124;43mBet\u001b[39;49m\u001b[38;5;124;43m'\u001b[39;49m\u001b[43m,\u001b[49m\u001b[43m \u001b[49m\u001b[38;5;124;43m'\u001b[39;49m\u001b[38;5;124;43mmean\u001b[39;49m\u001b[38;5;124;43m'\u001b[39;49m\u001b[43m)\u001b[49m\u001b[43m,\u001b[49m\n\u001b[1;32m      9\u001b[0m \u001b[43m    \u001b[49m\u001b[43mMaxBet\u001b[49m\u001b[38;5;241;43m=\u001b[39;49m\u001b[43m(\u001b[49m\u001b[38;5;124;43m'\u001b[39;49m\u001b[38;5;124;43mBet\u001b[39;49m\u001b[38;5;124;43m'\u001b[39;49m\u001b[43m,\u001b[49m\u001b[43m \u001b[49m\u001b[38;5;124;43m'\u001b[39;49m\u001b[38;5;124;43mmax\u001b[39;49m\u001b[38;5;124;43m'\u001b[39;49m\u001b[43m)\u001b[49m\u001b[43m,\u001b[49m\n\u001b[1;32m     10\u001b[0m \u001b[43m    \u001b[49m\u001b[43mMinBet\u001b[49m\u001b[38;5;241;43m=\u001b[39;49m\u001b[43m(\u001b[49m\u001b[38;5;124;43m'\u001b[39;49m\u001b[38;5;124;43mBet\u001b[39;49m\u001b[38;5;124;43m'\u001b[39;49m\u001b[43m,\u001b[49m\u001b[43m \u001b[49m\u001b[38;5;124;43m'\u001b[39;49m\u001b[38;5;124;43mmin\u001b[39;49m\u001b[38;5;124;43m'\u001b[39;49m\u001b[43m)\u001b[49m\u001b[43m,\u001b[49m\n\u001b[1;32m     11\u001b[0m \u001b[43m    \u001b[49m\u001b[43mChurned\u001b[49m\u001b[38;5;241;43m=\u001b[39;49m\u001b[43m(\u001b[49m\u001b[38;5;124;43m'\u001b[39;49m\u001b[38;5;124;43mChurned\u001b[39;49m\u001b[38;5;124;43m'\u001b[39;49m\u001b[43m,\u001b[49m\u001b[43m \u001b[49m\u001b[38;5;124;43m'\u001b[39;49m\u001b[38;5;124;43mfirst\u001b[39;49m\u001b[38;5;124;43m'\u001b[39;49m\u001b[43m)\u001b[49m\u001b[43m,\u001b[49m\n\u001b[1;32m     12\u001b[0m \u001b[43m)\u001b[49m\u001b[38;5;241m.\u001b[39mreset_index()\u001b[38;5;241m.\u001b[39msort_values(\u001b[38;5;124m'\u001b[39m\u001b[38;5;124mTotalBetAmount\u001b[39m\u001b[38;5;124m'\u001b[39m, ascending\u001b[38;5;241m=\u001b[39m\u001b[38;5;28;01mFalse\u001b[39;00m)\n",
      "File \u001b[0;32m~/Desktop/bustabit_game_prediction/myenv/lib/python3.8/site-packages/pandas/core/groupby/generic.py:1269\u001b[0m, in \u001b[0;36mDataFrameGroupBy.aggregate\u001b[0;34m(self, func, engine, engine_kwargs, *args, **kwargs)\u001b[0m\n\u001b[1;32m   1266\u001b[0m func \u001b[38;5;241m=\u001b[39m maybe_mangle_lambdas(func)\n\u001b[1;32m   1268\u001b[0m op \u001b[38;5;241m=\u001b[39m GroupByApply(\u001b[38;5;28mself\u001b[39m, func, args, kwargs)\n\u001b[0;32m-> 1269\u001b[0m result \u001b[38;5;241m=\u001b[39m \u001b[43mop\u001b[49m\u001b[38;5;241;43m.\u001b[39;49m\u001b[43magg\u001b[49m\u001b[43m(\u001b[49m\u001b[43m)\u001b[49m\n\u001b[1;32m   1270\u001b[0m \u001b[38;5;28;01mif\u001b[39;00m \u001b[38;5;129;01mnot\u001b[39;00m is_dict_like(func) \u001b[38;5;129;01mand\u001b[39;00m result \u001b[38;5;129;01mis\u001b[39;00m \u001b[38;5;129;01mnot\u001b[39;00m \u001b[38;5;28;01mNone\u001b[39;00m:\n\u001b[1;32m   1271\u001b[0m     \u001b[38;5;28;01mreturn\u001b[39;00m result\n",
      "File \u001b[0;32m~/Desktop/bustabit_game_prediction/myenv/lib/python3.8/site-packages/pandas/core/apply.py:163\u001b[0m, in \u001b[0;36mApply.agg\u001b[0;34m(self)\u001b[0m\n\u001b[1;32m    160\u001b[0m     \u001b[38;5;28;01mreturn\u001b[39;00m \u001b[38;5;28mself\u001b[39m\u001b[38;5;241m.\u001b[39mapply_str()\n\u001b[1;32m    162\u001b[0m \u001b[38;5;28;01mif\u001b[39;00m is_dict_like(arg):\n\u001b[0;32m--> 163\u001b[0m     \u001b[38;5;28;01mreturn\u001b[39;00m \u001b[38;5;28;43mself\u001b[39;49m\u001b[38;5;241;43m.\u001b[39;49m\u001b[43magg_dict_like\u001b[49m\u001b[43m(\u001b[49m\u001b[43m)\u001b[49m\n\u001b[1;32m    164\u001b[0m \u001b[38;5;28;01melif\u001b[39;00m is_list_like(arg):\n\u001b[1;32m    165\u001b[0m     \u001b[38;5;66;03m# we require a list, but not a 'str'\u001b[39;00m\n\u001b[1;32m    166\u001b[0m     \u001b[38;5;28;01mreturn\u001b[39;00m \u001b[38;5;28mself\u001b[39m\u001b[38;5;241m.\u001b[39magg_list_like()\n",
      "File \u001b[0;32m~/Desktop/bustabit_game_prediction/myenv/lib/python3.8/site-packages/pandas/core/apply.py:420\u001b[0m, in \u001b[0;36mApply.agg_dict_like\u001b[0;34m(self)\u001b[0m\n\u001b[1;32m    417\u001b[0m         results \u001b[38;5;241m=\u001b[39m {key: colg\u001b[38;5;241m.\u001b[39magg(how) \u001b[38;5;28;01mfor\u001b[39;00m key, how \u001b[38;5;129;01min\u001b[39;00m arg\u001b[38;5;241m.\u001b[39mitems()}\n\u001b[1;32m    418\u001b[0m     \u001b[38;5;28;01melse\u001b[39;00m:\n\u001b[1;32m    419\u001b[0m         \u001b[38;5;66;03m# key used for column selection and output\u001b[39;00m\n\u001b[0;32m--> 420\u001b[0m         results \u001b[38;5;241m=\u001b[39m {\n\u001b[1;32m    421\u001b[0m             key: obj\u001b[38;5;241m.\u001b[39m_gotitem(key, ndim\u001b[38;5;241m=\u001b[39m\u001b[38;5;241m1\u001b[39m)\u001b[38;5;241m.\u001b[39magg(how) \u001b[38;5;28;01mfor\u001b[39;00m key, how \u001b[38;5;129;01min\u001b[39;00m arg\u001b[38;5;241m.\u001b[39mitems()\n\u001b[1;32m    422\u001b[0m         }\n\u001b[1;32m    424\u001b[0m \u001b[38;5;66;03m# set the final keys\u001b[39;00m\n\u001b[1;32m    425\u001b[0m keys \u001b[38;5;241m=\u001b[39m \u001b[38;5;28mlist\u001b[39m(arg\u001b[38;5;241m.\u001b[39mkeys())\n",
      "File \u001b[0;32m~/Desktop/bustabit_game_prediction/myenv/lib/python3.8/site-packages/pandas/core/apply.py:421\u001b[0m, in \u001b[0;36m<dictcomp>\u001b[0;34m(.0)\u001b[0m\n\u001b[1;32m    417\u001b[0m         results \u001b[38;5;241m=\u001b[39m {key: colg\u001b[38;5;241m.\u001b[39magg(how) \u001b[38;5;28;01mfor\u001b[39;00m key, how \u001b[38;5;129;01min\u001b[39;00m arg\u001b[38;5;241m.\u001b[39mitems()}\n\u001b[1;32m    418\u001b[0m     \u001b[38;5;28;01melse\u001b[39;00m:\n\u001b[1;32m    419\u001b[0m         \u001b[38;5;66;03m# key used for column selection and output\u001b[39;00m\n\u001b[1;32m    420\u001b[0m         results \u001b[38;5;241m=\u001b[39m {\n\u001b[0;32m--> 421\u001b[0m             key: \u001b[43mobj\u001b[49m\u001b[38;5;241;43m.\u001b[39;49m\u001b[43m_gotitem\u001b[49m\u001b[43m(\u001b[49m\u001b[43mkey\u001b[49m\u001b[43m,\u001b[49m\u001b[43m \u001b[49m\u001b[43mndim\u001b[49m\u001b[38;5;241;43m=\u001b[39;49m\u001b[38;5;241;43m1\u001b[39;49m\u001b[43m)\u001b[49m\u001b[38;5;241;43m.\u001b[39;49m\u001b[43magg\u001b[49m\u001b[43m(\u001b[49m\u001b[43mhow\u001b[49m\u001b[43m)\u001b[49m \u001b[38;5;28;01mfor\u001b[39;00m key, how \u001b[38;5;129;01min\u001b[39;00m arg\u001b[38;5;241m.\u001b[39mitems()\n\u001b[1;32m    422\u001b[0m         }\n\u001b[1;32m    424\u001b[0m \u001b[38;5;66;03m# set the final keys\u001b[39;00m\n\u001b[1;32m    425\u001b[0m keys \u001b[38;5;241m=\u001b[39m \u001b[38;5;28mlist\u001b[39m(arg\u001b[38;5;241m.\u001b[39mkeys())\n",
      "File \u001b[0;32m~/Desktop/bustabit_game_prediction/myenv/lib/python3.8/site-packages/pandas/core/groupby/generic.py:238\u001b[0m, in \u001b[0;36mSeriesGroupBy.aggregate\u001b[0;34m(self, func, engine, engine_kwargs, *args, **kwargs)\u001b[0m\n\u001b[1;32m    234\u001b[0m \u001b[38;5;28;01melif\u001b[39;00m \u001b[38;5;28misinstance\u001b[39m(func, abc\u001b[38;5;241m.\u001b[39mIterable):\n\u001b[1;32m    235\u001b[0m     \u001b[38;5;66;03m# Catch instances of lists / tuples\u001b[39;00m\n\u001b[1;32m    236\u001b[0m     \u001b[38;5;66;03m# but not the class list / tuple itself.\u001b[39;00m\n\u001b[1;32m    237\u001b[0m     func \u001b[38;5;241m=\u001b[39m maybe_mangle_lambdas(func)\n\u001b[0;32m--> 238\u001b[0m     ret \u001b[38;5;241m=\u001b[39m \u001b[38;5;28;43mself\u001b[39;49m\u001b[38;5;241;43m.\u001b[39;49m\u001b[43m_aggregate_multiple_funcs\u001b[49m\u001b[43m(\u001b[49m\u001b[43mfunc\u001b[49m\u001b[43m,\u001b[49m\u001b[43m \u001b[49m\u001b[38;5;241;43m*\u001b[39;49m\u001b[43margs\u001b[49m\u001b[43m,\u001b[49m\u001b[43m \u001b[49m\u001b[38;5;241;43m*\u001b[39;49m\u001b[38;5;241;43m*\u001b[39;49m\u001b[43mkwargs\u001b[49m\u001b[43m)\u001b[49m\n\u001b[1;32m    239\u001b[0m     \u001b[38;5;28;01mif\u001b[39;00m relabeling:\n\u001b[1;32m    240\u001b[0m         \u001b[38;5;66;03m# columns is not narrowed by mypy from relabeling flag\u001b[39;00m\n\u001b[1;32m    241\u001b[0m         \u001b[38;5;28;01massert\u001b[39;00m columns \u001b[38;5;129;01mis\u001b[39;00m \u001b[38;5;129;01mnot\u001b[39;00m \u001b[38;5;28;01mNone\u001b[39;00m  \u001b[38;5;66;03m# for mypy\u001b[39;00m\n",
      "File \u001b[0;32m~/Desktop/bustabit_game_prediction/myenv/lib/python3.8/site-packages/pandas/core/groupby/generic.py:316\u001b[0m, in \u001b[0;36mSeriesGroupBy._aggregate_multiple_funcs\u001b[0;34m(self, arg, *args, **kwargs)\u001b[0m\n\u001b[1;32m    314\u001b[0m     \u001b[38;5;28;01mfor\u001b[39;00m idx, (name, func) \u001b[38;5;129;01min\u001b[39;00m \u001b[38;5;28menumerate\u001b[39m(arg):\n\u001b[1;32m    315\u001b[0m         key \u001b[38;5;241m=\u001b[39m base\u001b[38;5;241m.\u001b[39mOutputKey(label\u001b[38;5;241m=\u001b[39mname, position\u001b[38;5;241m=\u001b[39midx)\n\u001b[0;32m--> 316\u001b[0m         results[key] \u001b[38;5;241m=\u001b[39m \u001b[38;5;28;43mself\u001b[39;49m\u001b[38;5;241;43m.\u001b[39;49m\u001b[43maggregate\u001b[49m\u001b[43m(\u001b[49m\u001b[43mfunc\u001b[49m\u001b[43m,\u001b[49m\u001b[43m \u001b[49m\u001b[38;5;241;43m*\u001b[39;49m\u001b[43margs\u001b[49m\u001b[43m,\u001b[49m\u001b[43m \u001b[49m\u001b[38;5;241;43m*\u001b[39;49m\u001b[38;5;241;43m*\u001b[39;49m\u001b[43mkwargs\u001b[49m\u001b[43m)\u001b[49m\n\u001b[1;32m    318\u001b[0m \u001b[38;5;28;01mif\u001b[39;00m \u001b[38;5;28many\u001b[39m(\u001b[38;5;28misinstance\u001b[39m(x, DataFrame) \u001b[38;5;28;01mfor\u001b[39;00m x \u001b[38;5;129;01min\u001b[39;00m results\u001b[38;5;241m.\u001b[39mvalues()):\n\u001b[1;32m    319\u001b[0m     \u001b[38;5;28;01mfrom\u001b[39;00m\u001b[38;5;250m \u001b[39m\u001b[38;5;21;01mpandas\u001b[39;00m\u001b[38;5;250m \u001b[39m\u001b[38;5;28;01mimport\u001b[39;00m concat\n",
      "File \u001b[0;32m~/Desktop/bustabit_game_prediction/myenv/lib/python3.8/site-packages/pandas/core/groupby/generic.py:269\u001b[0m, in \u001b[0;36mSeriesGroupBy.aggregate\u001b[0;34m(self, func, engine, engine_kwargs, *args, **kwargs)\u001b[0m\n\u001b[1;32m    266\u001b[0m     \u001b[38;5;28;01mreturn\u001b[39;00m \u001b[38;5;28mself\u001b[39m\u001b[38;5;241m.\u001b[39m_python_agg_general(func, \u001b[38;5;241m*\u001b[39margs, \u001b[38;5;241m*\u001b[39m\u001b[38;5;241m*\u001b[39mkwargs)\n\u001b[1;32m    268\u001b[0m \u001b[38;5;28;01mtry\u001b[39;00m:\n\u001b[0;32m--> 269\u001b[0m     \u001b[38;5;28;01mreturn\u001b[39;00m \u001b[38;5;28;43mself\u001b[39;49m\u001b[38;5;241;43m.\u001b[39;49m\u001b[43m_python_agg_general\u001b[49m\u001b[43m(\u001b[49m\u001b[43mfunc\u001b[49m\u001b[43m,\u001b[49m\u001b[43m \u001b[49m\u001b[38;5;241;43m*\u001b[39;49m\u001b[43margs\u001b[49m\u001b[43m,\u001b[49m\u001b[43m \u001b[49m\u001b[38;5;241;43m*\u001b[39;49m\u001b[38;5;241;43m*\u001b[39;49m\u001b[43mkwargs\u001b[49m\u001b[43m)\u001b[49m\n\u001b[1;32m    270\u001b[0m \u001b[38;5;28;01mexcept\u001b[39;00m \u001b[38;5;167;01mKeyError\u001b[39;00m:\n\u001b[1;32m    271\u001b[0m     \u001b[38;5;66;03m# KeyError raised in test_groupby.test_basic is bc the func does\u001b[39;00m\n\u001b[1;32m    272\u001b[0m     \u001b[38;5;66;03m#  a dictionary lookup on group.name, but group name is not\u001b[39;00m\n\u001b[1;32m    273\u001b[0m     \u001b[38;5;66;03m#  pinned in _python_agg_general, only in _aggregate_named\u001b[39;00m\n\u001b[1;32m    274\u001b[0m     result \u001b[38;5;241m=\u001b[39m \u001b[38;5;28mself\u001b[39m\u001b[38;5;241m.\u001b[39m_aggregate_named(func, \u001b[38;5;241m*\u001b[39margs, \u001b[38;5;241m*\u001b[39m\u001b[38;5;241m*\u001b[39mkwargs)\n",
      "File \u001b[0;32m~/Desktop/bustabit_game_prediction/myenv/lib/python3.8/site-packages/pandas/core/groupby/generic.py:288\u001b[0m, in \u001b[0;36mSeriesGroupBy._python_agg_general\u001b[0;34m(self, func, *args, **kwargs)\u001b[0m\n\u001b[1;32m    285\u001b[0m f \u001b[38;5;241m=\u001b[39m \u001b[38;5;28;01mlambda\u001b[39;00m x: func(x, \u001b[38;5;241m*\u001b[39margs, \u001b[38;5;241m*\u001b[39m\u001b[38;5;241m*\u001b[39mkwargs)\n\u001b[1;32m    287\u001b[0m obj \u001b[38;5;241m=\u001b[39m \u001b[38;5;28mself\u001b[39m\u001b[38;5;241m.\u001b[39m_obj_with_exclusions\n\u001b[0;32m--> 288\u001b[0m result \u001b[38;5;241m=\u001b[39m \u001b[38;5;28;43mself\u001b[39;49m\u001b[38;5;241;43m.\u001b[39;49m\u001b[43mgrouper\u001b[49m\u001b[38;5;241;43m.\u001b[39;49m\u001b[43magg_series\u001b[49m\u001b[43m(\u001b[49m\u001b[43mobj\u001b[49m\u001b[43m,\u001b[49m\u001b[43m \u001b[49m\u001b[43mf\u001b[49m\u001b[43m)\u001b[49m\n\u001b[1;32m    289\u001b[0m res \u001b[38;5;241m=\u001b[39m obj\u001b[38;5;241m.\u001b[39m_constructor(result, name\u001b[38;5;241m=\u001b[39mobj\u001b[38;5;241m.\u001b[39mname)\n\u001b[1;32m    290\u001b[0m \u001b[38;5;28;01mreturn\u001b[39;00m \u001b[38;5;28mself\u001b[39m\u001b[38;5;241m.\u001b[39m_wrap_aggregated_output(res)\n",
      "File \u001b[0;32m~/Desktop/bustabit_game_prediction/myenv/lib/python3.8/site-packages/pandas/core/groupby/ops.py:994\u001b[0m, in \u001b[0;36mBaseGrouper.agg_series\u001b[0;34m(self, obj, func, preserve_dtype)\u001b[0m\n\u001b[1;32m    987\u001b[0m \u001b[38;5;28;01mif\u001b[39;00m \u001b[38;5;28mlen\u001b[39m(obj) \u001b[38;5;241m>\u001b[39m \u001b[38;5;241m0\u001b[39m \u001b[38;5;129;01mand\u001b[39;00m \u001b[38;5;129;01mnot\u001b[39;00m \u001b[38;5;28misinstance\u001b[39m(obj\u001b[38;5;241m.\u001b[39m_values, np\u001b[38;5;241m.\u001b[39mndarray):\n\u001b[1;32m    988\u001b[0m     \u001b[38;5;66;03m# we can preserve a little bit more aggressively with EA dtype\u001b[39;00m\n\u001b[1;32m    989\u001b[0m     \u001b[38;5;66;03m#  because maybe_cast_pointwise_result will do a try/except\u001b[39;00m\n\u001b[1;32m    990\u001b[0m     \u001b[38;5;66;03m#  with _from_sequence.  NB we are assuming here that _from_sequence\u001b[39;00m\n\u001b[1;32m    991\u001b[0m     \u001b[38;5;66;03m#  is sufficiently strict that it casts appropriately.\u001b[39;00m\n\u001b[1;32m    992\u001b[0m     preserve_dtype \u001b[38;5;241m=\u001b[39m \u001b[38;5;28;01mTrue\u001b[39;00m\n\u001b[0;32m--> 994\u001b[0m result \u001b[38;5;241m=\u001b[39m \u001b[38;5;28;43mself\u001b[39;49m\u001b[38;5;241;43m.\u001b[39;49m\u001b[43m_aggregate_series_pure_python\u001b[49m\u001b[43m(\u001b[49m\u001b[43mobj\u001b[49m\u001b[43m,\u001b[49m\u001b[43m \u001b[49m\u001b[43mfunc\u001b[49m\u001b[43m)\u001b[49m\n\u001b[1;32m    996\u001b[0m npvalues \u001b[38;5;241m=\u001b[39m lib\u001b[38;5;241m.\u001b[39mmaybe_convert_objects(result, try_float\u001b[38;5;241m=\u001b[39m\u001b[38;5;28;01mFalse\u001b[39;00m)\n\u001b[1;32m    997\u001b[0m \u001b[38;5;28;01mif\u001b[39;00m preserve_dtype:\n",
      "File \u001b[0;32m~/Desktop/bustabit_game_prediction/myenv/lib/python3.8/site-packages/pandas/core/groupby/ops.py:1014\u001b[0m, in \u001b[0;36mBaseGrouper._aggregate_series_pure_python\u001b[0;34m(self, obj, func)\u001b[0m\n\u001b[1;32m   1010\u001b[0m initialized \u001b[38;5;241m=\u001b[39m \u001b[38;5;28;01mFalse\u001b[39;00m\n\u001b[1;32m   1012\u001b[0m splitter \u001b[38;5;241m=\u001b[39m \u001b[38;5;28mself\u001b[39m\u001b[38;5;241m.\u001b[39m_get_splitter(obj, axis\u001b[38;5;241m=\u001b[39m\u001b[38;5;241m0\u001b[39m)\n\u001b[0;32m-> 1014\u001b[0m \u001b[38;5;28;01mfor\u001b[39;00m i, group \u001b[38;5;129;01min\u001b[39;00m \u001b[38;5;28menumerate\u001b[39m(splitter):\n\u001b[1;32m   1015\u001b[0m     res \u001b[38;5;241m=\u001b[39m func(group)\n\u001b[1;32m   1016\u001b[0m     res \u001b[38;5;241m=\u001b[39m libreduction\u001b[38;5;241m.\u001b[39mextract_result(res)\n",
      "File \u001b[0;32m~/Desktop/bustabit_game_prediction/myenv/lib/python3.8/site-packages/pandas/core/groupby/ops.py:1239\u001b[0m, in \u001b[0;36mDataSplitter.__iter__\u001b[0;34m(self)\u001b[0m\n\u001b[1;32m   1236\u001b[0m starts, ends \u001b[38;5;241m=\u001b[39m lib\u001b[38;5;241m.\u001b[39mgenerate_slices(\u001b[38;5;28mself\u001b[39m\u001b[38;5;241m.\u001b[39m_slabels, \u001b[38;5;28mself\u001b[39m\u001b[38;5;241m.\u001b[39mngroups)\n\u001b[1;32m   1238\u001b[0m \u001b[38;5;28;01mfor\u001b[39;00m start, end \u001b[38;5;129;01min\u001b[39;00m \u001b[38;5;28mzip\u001b[39m(starts, ends):\n\u001b[0;32m-> 1239\u001b[0m     \u001b[38;5;28;01myield\u001b[39;00m \u001b[38;5;28;43mself\u001b[39;49m\u001b[38;5;241;43m.\u001b[39;49m\u001b[43m_chop\u001b[49m\u001b[43m(\u001b[49m\u001b[43msdata\u001b[49m\u001b[43m,\u001b[49m\u001b[43m \u001b[49m\u001b[38;5;28;43mslice\u001b[39;49m\u001b[43m(\u001b[49m\u001b[43mstart\u001b[49m\u001b[43m,\u001b[49m\u001b[43m \u001b[49m\u001b[43mend\u001b[49m\u001b[43m)\u001b[49m\u001b[43m)\u001b[49m\n",
      "File \u001b[0;32m~/Desktop/bustabit_game_prediction/myenv/lib/python3.8/site-packages/pandas/core/groupby/ops.py:1252\u001b[0m, in \u001b[0;36mSeriesSplitter._chop\u001b[0;34m(self, sdata, slice_obj)\u001b[0m\n\u001b[1;32m   1250\u001b[0m \u001b[38;5;28;01mdef\u001b[39;00m\u001b[38;5;250m \u001b[39m\u001b[38;5;21m_chop\u001b[39m(\u001b[38;5;28mself\u001b[39m, sdata: Series, slice_obj: \u001b[38;5;28mslice\u001b[39m) \u001b[38;5;241m-\u001b[39m\u001b[38;5;241m>\u001b[39m Series:\n\u001b[1;32m   1251\u001b[0m     \u001b[38;5;66;03m# fastpath equivalent to `sdata.iloc[slice_obj]`\u001b[39;00m\n\u001b[0;32m-> 1252\u001b[0m     mgr \u001b[38;5;241m=\u001b[39m \u001b[43msdata\u001b[49m\u001b[38;5;241;43m.\u001b[39;49m\u001b[43m_mgr\u001b[49m\u001b[38;5;241;43m.\u001b[39;49m\u001b[43mget_slice\u001b[49m\u001b[43m(\u001b[49m\u001b[43mslice_obj\u001b[49m\u001b[43m)\u001b[49m\n\u001b[1;32m   1253\u001b[0m     ser \u001b[38;5;241m=\u001b[39m sdata\u001b[38;5;241m.\u001b[39m_constructor(mgr, name\u001b[38;5;241m=\u001b[39msdata\u001b[38;5;241m.\u001b[39mname, fastpath\u001b[38;5;241m=\u001b[39m\u001b[38;5;28;01mTrue\u001b[39;00m)\n\u001b[1;32m   1254\u001b[0m     \u001b[38;5;28;01mreturn\u001b[39;00m ser\u001b[38;5;241m.\u001b[39m__finalize__(sdata, method\u001b[38;5;241m=\u001b[39m\u001b[38;5;124m\"\u001b[39m\u001b[38;5;124mgroupby\u001b[39m\u001b[38;5;124m\"\u001b[39m)\n",
      "File \u001b[0;32m~/Desktop/bustabit_game_prediction/myenv/lib/python3.8/site-packages/pandas/core/internals/managers.py:1988\u001b[0m, in \u001b[0;36mSingleBlockManager.get_slice\u001b[0;34m(self, slobj, axis)\u001b[0m\n\u001b[1;32m   1985\u001b[0m     \u001b[38;5;28;01mraise\u001b[39;00m \u001b[38;5;167;01mIndexError\u001b[39;00m(\u001b[38;5;124m\"\u001b[39m\u001b[38;5;124mRequested axis not found in manager\u001b[39m\u001b[38;5;124m\"\u001b[39m)\n\u001b[1;32m   1987\u001b[0m blk \u001b[38;5;241m=\u001b[39m \u001b[38;5;28mself\u001b[39m\u001b[38;5;241m.\u001b[39m_block\n\u001b[0;32m-> 1988\u001b[0m array \u001b[38;5;241m=\u001b[39m \u001b[43mblk\u001b[49m\u001b[38;5;241;43m.\u001b[39;49m\u001b[43m_slice\u001b[49m\u001b[43m(\u001b[49m\u001b[43mslobj\u001b[49m\u001b[43m)\u001b[49m\n\u001b[1;32m   1989\u001b[0m bp \u001b[38;5;241m=\u001b[39m BlockPlacement(\u001b[38;5;28mslice\u001b[39m(\u001b[38;5;241m0\u001b[39m, \u001b[38;5;28mlen\u001b[39m(array)))\n\u001b[1;32m   1990\u001b[0m \u001b[38;5;66;03m# TODO this method is only used in groupby SeriesSplitter at the moment,\u001b[39;00m\n\u001b[1;32m   1991\u001b[0m \u001b[38;5;66;03m# so passing refs is not yet covered by the tests\u001b[39;00m\n",
      "File \u001b[0;32m~/Desktop/bustabit_game_prediction/myenv/lib/python3.8/site-packages/pandas/core/internals/blocks.py:906\u001b[0m, in \u001b[0;36mBlock._slice\u001b[0;34m(self, slicer)\u001b[0m\n\u001b[1;32m    901\u001b[0m \u001b[38;5;28;01mdef\u001b[39;00m\u001b[38;5;250m \u001b[39m\u001b[38;5;21m_slice\u001b[39m(\n\u001b[1;32m    902\u001b[0m     \u001b[38;5;28mself\u001b[39m, slicer: \u001b[38;5;28mslice\u001b[39m \u001b[38;5;241m|\u001b[39m npt\u001b[38;5;241m.\u001b[39mNDArray[np\u001b[38;5;241m.\u001b[39mbool_] \u001b[38;5;241m|\u001b[39m npt\u001b[38;5;241m.\u001b[39mNDArray[np\u001b[38;5;241m.\u001b[39mintp]\n\u001b[1;32m    903\u001b[0m ) \u001b[38;5;241m-\u001b[39m\u001b[38;5;241m>\u001b[39m ArrayLike:\n\u001b[1;32m    904\u001b[0m \u001b[38;5;250m    \u001b[39m\u001b[38;5;124;03m\"\"\"return a slice of my values\"\"\"\u001b[39;00m\n\u001b[0;32m--> 906\u001b[0m     \u001b[38;5;28;01mreturn\u001b[39;00m \u001b[38;5;28;43mself\u001b[39;49m\u001b[38;5;241;43m.\u001b[39;49m\u001b[43mvalues\u001b[49m\u001b[43m[\u001b[49m\u001b[43mslicer\u001b[49m\u001b[43m]\u001b[49m\n",
      "\u001b[0;31mKeyboardInterrupt\u001b[0m: "
     ]
    }
   ],
   "source": [
    "player_stats = df.groupby('Username').agg(\n",
    "    TotalBetAmount=('Bet', 'sum'),\n",
    "    TotalProfitAmount=('Profit', 'sum'),\n",
    "    TotalBonusAmount=('Bonus', 'sum'),\n",
    "    NumberOfBets=('Bet', 'count'),\n",
    "    NumberOfBets_Won=('Profit', lambda x: (x > 0).sum()),  # Count wins (Profit > 0)\n",
    "    NumberOfBets_Lost=('Profit', lambda x: (x <= 0).sum()), # Count losses (Profit <= 0)\n",
    "    AverageBet=('Bet', 'mean'),\n",
    "    MaxBet=('Bet', 'max'),\n",
    "    MinBet=('Bet', 'min'),\n",
    "    Churned=('Churned', 'first'),\n",
    ").reset_index().sort_values('TotalBetAmount', ascending=False)"
   ]
  },
  {
   "cell_type": "code",
   "execution_count": null,
   "id": "2772023f-9980-4348-a0da-c468138816b4",
   "metadata": {},
   "outputs": [],
   "source": [
    "player_stats.info()"
   ]
  },
  {
   "cell_type": "code",
   "execution_count": null,
   "id": "f260a045-d408-4f17-af7e-049561484078",
   "metadata": {},
   "outputs": [],
   "source": [
    "player_stats.head(5)"
   ]
  },
  {
   "cell_type": "code",
   "execution_count": null,
   "id": "3ef046ca-99c7-4393-a47c-3e27369796c6",
   "metadata": {},
   "outputs": [],
   "source": [
    "player_last_activity.info()"
   ]
  },
  {
   "cell_type": "code",
   "execution_count": null,
   "id": "f967c585-3b7c-4c8e-a135-0580615190c3",
   "metadata": {},
   "outputs": [],
   "source": [
    "# Merge churn status with original data\n",
    "final_df = player_stats.merge(player_last_activity[['Username', 'BetsLast4Days','BetsLast8Days','BetsLast12Days','BetsLast16Days','BetsLast20Days','BetsLast24Days','BetsLast28Days','BetsLast32Days','BetsLast36Days', 'DaysSinceLastPlay','DaysSinceSecondLastPlay','DaysSinceThirdLastPlay']], on='Username')"
   ]
  },
  {
   "cell_type": "code",
   "execution_count": null,
   "id": "bf8bc0d3-5652-4d28-a79a-9bcffead445c",
   "metadata": {},
   "outputs": [],
   "source": [
    "final_df.head(10)"
   ]
  },
  {
   "cell_type": "code",
   "execution_count": null,
   "id": "ef11684b-a5a5-4be7-97df-db4694f3a1a3",
   "metadata": {},
   "outputs": [],
   "source": [
    "final_df.info()"
   ]
  },
  {
   "cell_type": "markdown",
   "id": "56e05c77-a665-49a3-9b8b-77f9002b6c9d",
   "metadata": {},
   "source": [
    "# Correlation Heatmap"
   ]
  },
  {
   "cell_type": "code",
   "execution_count": null,
   "id": "9e8c980a-7d94-4c11-9c91-10e433f34658",
   "metadata": {},
   "outputs": [],
   "source": [
    "final_df_corr = final_df.drop(['Username'], axis=1)"
   ]
  },
  {
   "cell_type": "code",
   "execution_count": null,
   "id": "afeb123d-e5bd-4b76-b498-36238f606ea5",
   "metadata": {},
   "outputs": [],
   "source": [
    "import seaborn as sns"
   ]
  },
  {
   "cell_type": "code",
   "execution_count": null,
   "id": "84950d62-e56a-4ab5-95f2-02868ed57ae3",
   "metadata": {},
   "outputs": [],
   "source": [
    "# Calculate correlation matrix\n",
    "corr_matrix = final_df_corr.corr()"
   ]
  },
  {
   "cell_type": "code",
   "execution_count": null,
   "id": "97d1fa68-5314-4b3c-9514-4ef714bd94f7",
   "metadata": {},
   "outputs": [],
   "source": [
    "# Create a heatmap\n",
    "plt.figure(figsize=(14, 12))\n",
    "heatmap = sns.heatmap(\n",
    "    corr_matrix, \n",
    "    annot=True,  # Show correlation values in cells\n",
    "    cmap='coolwarm',  # Color scheme\n",
    "    vmin=-1, vmax=1,  # Set scale from -1 to 1\n",
    "    linewidths=0.5,\n",
    "    annot_kws={'size': 10}\n",
    ")"
   ]
  },
  {
   "cell_type": "markdown",
   "id": "794f7ca0-8016-4b18-a7a5-7c71f36ad926",
   "metadata": {},
   "source": [
    "# Before Scale the data boxplot"
   ]
  },
  {
   "cell_type": "code",
   "execution_count": null,
   "id": "0e9a6457-3261-4b32-99da-2ac63848aef4",
   "metadata": {},
   "outputs": [],
   "source": [
    "#final_df_boxplot = final_df_corr.drop(['Churned'], axis=1)"
   ]
  },
  {
   "cell_type": "code",
   "execution_count": null,
   "id": "b7a02c6d-d088-4b28-8204-346c738be436",
   "metadata": {},
   "outputs": [],
   "source": [
    "# Assuming `data` is your DataFrame and 'churned' is binary (0 or 1)\n",
    "numerical_features = final_df_corr.select_dtypes(include=['int64', 'float64']).columns.tolist()\n",
    "numerical_features.remove('Churned')  # Exclude target if numerical"
   ]
  },
  {
   "cell_type": "code",
   "execution_count": null,
   "id": "9de2faa2-2d40-4ea5-b8f0-ab1100a839a1",
   "metadata": {},
   "outputs": [],
   "source": [
    "# Plot boxplots for all numerical features\n",
    "plt.figure(figsize=(20, 14))\n",
    "for i, feature in enumerate(numerical_features, 1):\n",
    "    plt.subplot(5, 5, i)  # Adjust subplot grid as needed\n",
    "    sns.boxplot(x='Churned', y=feature, data=final_df_corr)\n",
    "    plt.title(f'{feature} vs Churn', weight='bold')\n",
    "plt.tight_layout()\n",
    "plt.show()"
   ]
  },
  {
   "cell_type": "code",
   "execution_count": null,
   "id": "1c952108-fdca-4db9-875e-7ea30ef25d26",
   "metadata": {},
   "outputs": [],
   "source": [
    "# Get top 5 features (highest absolute correlation with 'churned')\n",
    "# corr_with_target = final_df_corr.corr()[['Churned']].abs().sort_values('Churned', ascending=False)\n",
    "# top_features = corr_with_target.index[1:7]  # Exclude 'churned' itself"
   ]
  },
  {
   "cell_type": "code",
   "execution_count": null,
   "id": "b8aef3a8-143a-4dc4-b822-76d144e8df04",
   "metadata": {},
   "outputs": [],
   "source": [
    "# # Plot boxplots for top 5 features\n",
    "# plt.figure(figsize=(14, 8))\n",
    "# for i, feature in enumerate(top_features, 1):\n",
    "#     plt.subplot(2, 3, i)\n",
    "#     sns.boxplot(x='Churned', y=feature, data=final_df_corr, palette='coolwarm')\n",
    "#     plt.title(f'{feature} vs Churn', weight='bold')\n",
    "# plt.tight_layout()\n",
    "# plt.show()"
   ]
  },
  {
   "cell_type": "code",
   "execution_count": null,
   "id": "19cde3a1-e122-498e-b9da-0154e1ba25e5",
   "metadata": {},
   "outputs": [],
   "source": [
    "# Plot histograms for all numerical features\n",
    "plt.figure(figsize=(16, 12))\n",
    "for i, feature in enumerate(numerical_features, 1):\n",
    "    plt.subplot(5, 5, i)  # Adjust grid size as needed\n",
    "    sns.histplot(data=final_df_corr, x=feature, kde=True, bins=20, color='purple')\n",
    "    plt.title(f'Distribution of {feature}', fontsize=10, weight='bold')\n",
    "plt.tight_layout()\n",
    "plt.show()"
   ]
  },
  {
   "cell_type": "markdown",
   "id": "6450e83a-ca3c-4a23-b966-ca2f34fbec68",
   "metadata": {},
   "source": [
    "# Log Transform before scale data"
   ]
  },
  {
   "cell_type": "code",
   "execution_count": null,
   "id": "72f797b7-b166-43a9-825a-d00a729560e8",
   "metadata": {},
   "outputs": [],
   "source": [
    "final_df_transform = final_df_corr.drop(['Churned'], axis=1)"
   ]
  },
  {
   "cell_type": "code",
   "execution_count": null,
   "id": "16781f5b-8e2e-4c3b-8e04-97db1103d35e",
   "metadata": {},
   "outputs": [],
   "source": [
    "final_df_transform.head()"
   ]
  },
  {
   "cell_type": "code",
   "execution_count": null,
   "id": "98ac4413-09a3-4d45-97e6-ab1aa5828e84",
   "metadata": {},
   "outputs": [],
   "source": [
    "# Apply log transform (add 1 to avoid log(0))\n",
    "#data['right_skewed_feature'] = np.log1p(data['right_skewed_felected_feature'])"
   ]
  },
  {
   "cell_type": "code",
   "execution_count": null,
   "id": "1581ac1f-1573-4e88-97cd-d69054241d23",
   "metadata": {},
   "outputs": [],
   "source": [
    "final_df_transform = np.log1p(final_df_transform)"
   ]
  },
  {
   "cell_type": "code",
   "execution_count": null,
   "id": "da2df7f5-8e0c-47d5-b5bb-598ce47d2b4c",
   "metadata": {},
   "outputs": [],
   "source": [
    "# Assuming `data` is your DataFrame and 'churned' is binary (0 or 1)\n",
    "numerical_features = final_df_transform.select_dtypes(include=['int64', 'float64']).columns.tolist()\n",
    "#numerical_features.remove('Churned')  # Exclude target if numerical"
   ]
  },
  {
   "cell_type": "code",
   "execution_count": null,
   "id": "52525ac4-00ea-4f68-8daa-29109d756d2b",
   "metadata": {},
   "outputs": [],
   "source": [
    "# Plot histograms for all numerical features\n",
    "plt.figure(figsize=(16, 12))\n",
    "for i, feature in enumerate(numerical_features, 1):\n",
    "    plt.subplot(5, 5, i)  # Adjust grid size as needed\n",
    "    sns.histplot(data=final_df_transform, x=feature, kde=True, bins=20, color='purple')\n",
    "    plt.title(f'Distribution of {feature}', fontsize=10, weight='bold')\n",
    "plt.tight_layout()\n",
    "plt.show()"
   ]
  },
  {
   "cell_type": "markdown",
   "id": "3a26b913-d9e3-48b3-9e52-ee4384c4735b",
   "metadata": {},
   "source": [
    "# Scale the data before training"
   ]
  },
  {
   "cell_type": "code",
   "execution_count": null,
   "id": "1acb5832-3711-4ed9-821d-823745cfc25e",
   "metadata": {},
   "outputs": [],
   "source": [
    "cols_to_scale = ['TotalBetAmount','TotalProfitAmount','TotalBonusAmount',\n",
    "                 'NumberOfBets','NumberOfBets_Won','NumberOfBets_Lost','AverageBet',\n",
    "                 'MaxBet','MinBet', 'BetsLast4Days','BetsLast8Days','BetsLast12Days','BetsLast16Days',\n",
    "                 'BetsLast20Days','BetsLast24Days','BetsLast28Days','BetsLast32Days','BetsLast36Days',\n",
    "                 'DaysSinceLastPlay','DaysSinceSecondLastPlay','DaysSinceThirdLastPlay']"
   ]
  },
  {
   "cell_type": "code",
   "execution_count": null,
   "id": "53b256b1-e18e-41c3-8cfe-c1ca2a76e2af",
   "metadata": {},
   "outputs": [],
   "source": [
    "len(cols_to_scale)"
   ]
  },
  {
   "cell_type": "code",
   "execution_count": null,
   "id": "6fae5645-15ce-4d46-a53b-78fa9e5d9d27",
   "metadata": {},
   "outputs": [],
   "source": [
    "from sklearn.preprocessing import MinMaxScaler"
   ]
  },
  {
   "cell_type": "code",
   "execution_count": null,
   "id": "68ef8fc4-2c7f-4af9-9285-cff1262902d2",
   "metadata": {},
   "outputs": [],
   "source": [
    "scaler = MinMaxScaler()"
   ]
  },
  {
   "cell_type": "code",
   "execution_count": null,
   "id": "4bafd805-58eb-4d19-8e4f-d749348563af",
   "metadata": {},
   "outputs": [],
   "source": [
    "#final_df[cols_to_scale] = scaler.fit_transform(final_df[cols_to_scale])\n",
    "final_df_transform[cols_to_scale] = scaler.fit_transform(final_df_transform[cols_to_scale])"
   ]
  },
  {
   "cell_type": "code",
   "execution_count": null,
   "id": "b2916050-48a1-4937-a835-b60130bf1ae9",
   "metadata": {},
   "outputs": [],
   "source": [
    "final_df_transform.head(5)"
   ]
  },
  {
   "cell_type": "markdown",
   "id": "8d3d86dc-60d8-4cfd-8dba-7dbe7883bf7d",
   "metadata": {},
   "source": [
    "# After Scale the data boxplot"
   ]
  },
  {
   "cell_type": "code",
   "execution_count": null,
   "id": "e76cfad1-1c6e-4166-b5c7-f746d58f9ef3",
   "metadata": {},
   "outputs": [],
   "source": [
    "final_df_boxplot = final_df.drop(['Username'], axis=1)"
   ]
  },
  {
   "cell_type": "code",
   "execution_count": null,
   "id": "a5ca7ac4-6aa1-4a5b-bf61-e908b4e69618",
   "metadata": {},
   "outputs": [],
   "source": [
    "# Assuming `data` is your DataFrame and 'churned' is binary (0 or 1)\n",
    "numerical_features = final_df_boxplot.select_dtypes(include=['int64', 'float64']).columns.tolist()\n",
    "numerical_features.remove('Churned')  # Exclude target if numerical"
   ]
  },
  {
   "cell_type": "code",
   "execution_count": null,
   "id": "dbdaa6a0-d63d-497a-955e-687a56eefb9f",
   "metadata": {},
   "outputs": [],
   "source": [
    "# Plot boxplots for all numerical features\n",
    "plt.figure(figsize=(20, 14))\n",
    "for i, feature in enumerate(numerical_features, 1):\n",
    "    plt.subplot(5, 5, i)  # Adjust subplot grid as needed\n",
    "    sns.boxplot(x='Churned', y=feature, data=final_df_boxplot)\n",
    "    plt.title(f'{feature} vs Churn', weight='bold')\n",
    "plt.tight_layout()\n",
    "plt.show()"
   ]
  },
  {
   "cell_type": "code",
   "execution_count": null,
   "id": "f60e7258-289e-477d-a555-3fc038387d2e",
   "metadata": {},
   "outputs": [],
   "source": [
    "# Get top 5 features (highest absolute correlation with 'churned')\n",
    "corr_with_target = final_df_boxplot.corr()[['Churned']].abs().sort_values('Churned', ascending=False)\n",
    "top_features = corr_with_target.index[1:7]  # Exclude 'churned' itself"
   ]
  },
  {
   "cell_type": "code",
   "execution_count": null,
   "id": "c66d5a3d-6837-434e-bd94-c2be7978273e",
   "metadata": {},
   "outputs": [],
   "source": [
    "# Plot boxplots for top 5 features\n",
    "plt.figure(figsize=(14, 8))\n",
    "for i, feature in enumerate(top_features, 1):\n",
    "    plt.subplot(2, 3, i)\n",
    "    sns.boxplot(x='Churned', y=feature, data=final_df_boxplot, palette='coolwarm')\n",
    "    plt.title(f'{feature} vs Churn', weight='bold')\n",
    "plt.tight_layout()\n",
    "plt.show()"
   ]
  },
  {
   "cell_type": "code",
   "execution_count": null,
   "id": "25a84218-1df6-404c-bcef-d8c123ba9f51",
   "metadata": {},
   "outputs": [],
   "source": [
    "# Plot histograms for all numerical features\n",
    "plt.figure(figsize=(16, 12))\n",
    "for i, feature in enumerate(numerical_features, 1):\n",
    "    plt.subplot(5, 5, i)  # Adjust grid size as needed\n",
    "    sns.histplot(data=final_df_boxplot, x=feature, kde=True, bins=20, color='purple')\n",
    "    plt.title(f'Distribution of {feature}', fontsize=10, weight='bold')\n",
    "plt.tight_layout()\n",
    "plt.show()"
   ]
  },
  {
   "cell_type": "markdown",
   "id": "893f0dac-3f8a-4dd1-8891-f2a635607836",
   "metadata": {},
   "source": [
    "# Log Transform after scale data"
   ]
  },
  {
   "cell_type": "code",
   "execution_count": null,
   "id": "67c63eb4-5ea5-4391-a531-6da9907abace",
   "metadata": {},
   "outputs": [],
   "source": [
    "final_df_boxplot_log = final_df_boxplot.drop(['Churned'], axis=1)"
   ]
  },
  {
   "cell_type": "code",
   "execution_count": null,
   "id": "206f8fcb-d173-4ffe-aa84-f31d03b8f9af",
   "metadata": {},
   "outputs": [],
   "source": [
    "final_df_boxplot_log.head()"
   ]
  },
  {
   "cell_type": "code",
   "execution_count": null,
   "id": "4001bf70-cbe5-4375-a35d-5c4896e3d208",
   "metadata": {},
   "outputs": [],
   "source": [
    "final_df_transform = np.log1p(final_df_boxplot_log)"
   ]
  },
  {
   "cell_type": "code",
   "execution_count": null,
   "id": "8b7afdc5-3df3-4b0a-b70d-3e02f2346c21",
   "metadata": {},
   "outputs": [],
   "source": [
    "final_df_transform.head()"
   ]
  },
  {
   "cell_type": "code",
   "execution_count": null,
   "id": "53085b74-e7b4-4ca0-a2ed-69ccf20eb7ae",
   "metadata": {},
   "outputs": [],
   "source": [
    "# Assuming `data` is your DataFrame and 'churned' is binary (0 or 1)\n",
    "numerical_features = final_df_transform.select_dtypes(include=['int64', 'float64']).columns.tolist()\n",
    "#numerical_features.remove('Churned')  # Exclude target if numerical"
   ]
  },
  {
   "cell_type": "code",
   "execution_count": null,
   "id": "3d8bc99d-9c55-41dd-a649-b1646ecfb781",
   "metadata": {},
   "outputs": [],
   "source": [
    "# Plot histograms for all numerical features\n",
    "plt.figure(figsize=(16, 12))\n",
    "for i, feature in enumerate(numerical_features, 1):\n",
    "    plt.subplot(5, 5, i)  # Adjust grid size as needed\n",
    "    sns.histplot(data=final_df_transform, x=feature, kde=True, bins=20, color='purple')\n",
    "    plt.title(f'Distribution of {feature}', fontsize=10, weight='bold')\n",
    "plt.tight_layout()\n",
    "plt.show()"
   ]
  },
  {
   "cell_type": "markdown",
   "id": "9c76f054-188b-4942-acba-156005123d4d",
   "metadata": {},
   "source": [
    "# Separate Features"
   ]
  },
  {
   "cell_type": "code",
   "execution_count": null,
   "id": "492ce104-5e8f-4e23-9455-255200df5ef1",
   "metadata": {},
   "outputs": [],
   "source": [
    "#features = final_df.drop(['Username', 'Churned'], axis=1)\n",
    "features = final_df_transform"
   ]
  },
  {
   "cell_type": "code",
   "execution_count": null,
   "id": "91d711c6-5ca7-4f31-a832-8944361f596b",
   "metadata": {},
   "outputs": [],
   "source": [
    "features.head()"
   ]
  },
  {
   "cell_type": "markdown",
   "id": "477d13da-fde1-4d31-aa22-9d17ad714212",
   "metadata": {},
   "source": [
    "# Separate Labels"
   ]
  },
  {
   "cell_type": "code",
   "execution_count": null,
   "id": "3f88614d-0d76-43b8-ad34-a416e42d6a11",
   "metadata": {},
   "outputs": [],
   "source": [
    "labels = final_df['Churned']"
   ]
  },
  {
   "cell_type": "code",
   "execution_count": null,
   "id": "52f05ca5-2083-4b01-9592-9988265af33d",
   "metadata": {},
   "outputs": [],
   "source": [
    "labels.head()"
   ]
  },
  {
   "cell_type": "code",
   "execution_count": null,
   "id": "7591feba-140a-4347-821d-ecbcc95d21a9",
   "metadata": {},
   "outputs": [],
   "source": [
    "X = features\n",
    "y = labels"
   ]
  },
  {
   "cell_type": "code",
   "execution_count": null,
   "id": "f364d045-f19d-4219-8b2f-e1fdb639583b",
   "metadata": {},
   "outputs": [],
   "source": [
    "from sklearn.model_selection import train_test_split"
   ]
  },
  {
   "cell_type": "code",
   "execution_count": null,
   "id": "292bcfd4-ebd3-4180-9fa4-bf527cbcafa7",
   "metadata": {},
   "outputs": [],
   "source": [
    "X_train, X_test, y_train, y_test = train_test_split(X,y,test_size=0.2,random_state=5)"
   ]
  },
  {
   "cell_type": "code",
   "execution_count": null,
   "id": "283d7747-ae05-4860-b32d-50eceabdb59b",
   "metadata": {},
   "outputs": [],
   "source": [
    "X_train.shape"
   ]
  },
  {
   "cell_type": "code",
   "execution_count": null,
   "id": "0f3880e6-b6b3-469a-8067-de56c72338e9",
   "metadata": {},
   "outputs": [],
   "source": [
    "X_test.shape"
   ]
  },
  {
   "cell_type": "code",
   "execution_count": null,
   "id": "35566928-4ca3-41ab-b284-b1e7f7dae17c",
   "metadata": {},
   "outputs": [],
   "source": [
    "X_train[:10]"
   ]
  },
  {
   "cell_type": "code",
   "execution_count": null,
   "id": "5348694d-3831-427c-b44f-4a0aed07a7f0",
   "metadata": {},
   "outputs": [],
   "source": [
    "len(X_train.columns)"
   ]
  },
  {
   "cell_type": "code",
   "execution_count": null,
   "id": "2cd8635c-c750-499b-b627-3af8afdeebcb",
   "metadata": {},
   "outputs": [],
   "source": [
    "import tensorflow as tf\n",
    "from tensorflow import keras"
   ]
  },
  {
   "cell_type": "code",
   "execution_count": null,
   "id": "08b348c8-cd8c-4b3f-8c26-82c02ff3e9b8",
   "metadata": {},
   "outputs": [],
   "source": [
    "# model = keras.Sequential([\n",
    "#     keras.layers.Dense(21, input_shape=(21,), activation='relu'),  # Note the colon (:) and comma\n",
    "#     keras.layers.Dense(1, activation='sigmoid')\n",
    "# ])\n",
    "\n",
    "# model.compile(optimizer='adam',\n",
    "#              loss='binary_crossentropy',\n",
    "#              metrics=['accuracy'])\n",
    "\n",
    "# model.fit(X_train,y_train, epochs=5)\n",
    "\n",
    "# model.evaluate(X_test, y_test)\n",
    "\n",
    "# yp = model.predict(X_test)\n",
    "# yp[:5]\n",
    "\n",
    "# y_test[:10]\n",
    "\n",
    "# y_pred = []\n",
    "# for element in yp:\n",
    "#     if element > 0.5:\n",
    "#         y_pred.append(1)\n",
    "#     else:\n",
    "#         y_pred.append(0)\n",
    "\n",
    "# y_pred[:10]\n",
    "\n",
    "# print(classification_report(y_test,y_pred))"
   ]
  },
  {
   "cell_type": "code",
   "execution_count": null,
   "id": "65ee4d83-17fd-4d9d-83db-29384c67077d",
   "metadata": {},
   "outputs": [],
   "source": [
    "model = keras.Sequential([\n",
    "    keras.layers.Dense(21, input_shape=(21,), activation='relu'),  # Note the colon (:) and comma\n",
    "    keras.layers.Dense(1, activation='sigmoid')\n",
    "])"
   ]
  },
  {
   "cell_type": "code",
   "execution_count": null,
   "id": "21c6c577-cfc4-47df-8ece-6e01ac8a6376",
   "metadata": {},
   "outputs": [],
   "source": [
    "model.compile(optimizer='adam',\n",
    "             loss='binary_crossentropy',\n",
    "             metrics=['accuracy'])"
   ]
  },
  {
   "cell_type": "code",
   "execution_count": null,
   "id": "b57cba11-777d-4c5e-a4b6-a57fc2ca4263",
   "metadata": {},
   "outputs": [],
   "source": [
    "model.fit(X_train,y_train, epochs=5)"
   ]
  },
  {
   "cell_type": "code",
   "execution_count": null,
   "id": "56594aeb-6370-4057-ae02-f4e1aa687749",
   "metadata": {},
   "outputs": [],
   "source": [
    "model.evaluate(X_test, y_test)"
   ]
  },
  {
   "cell_type": "code",
   "execution_count": null,
   "id": "f6f18c8e-500c-4ba1-9449-8c96c79d2360",
   "metadata": {},
   "outputs": [],
   "source": [
    "yp = model.predict(X_test)\n",
    "yp[:5]"
   ]
  },
  {
   "cell_type": "code",
   "execution_count": null,
   "id": "bff974ee-8846-4533-b82e-ae44bbc371fb",
   "metadata": {},
   "outputs": [],
   "source": [
    "y_test[:10]"
   ]
  },
  {
   "cell_type": "code",
   "execution_count": null,
   "id": "aa93220c-662f-41cf-8c7a-2c933879b432",
   "metadata": {},
   "outputs": [],
   "source": [
    "y_pred = []\n",
    "for element in yp:\n",
    "    if element > 0.5:\n",
    "        y_pred.append(1)\n",
    "    else:\n",
    "        y_pred.append(0)"
   ]
  },
  {
   "cell_type": "code",
   "execution_count": null,
   "id": "9a049c35-45e9-4dbc-9049-e499ba9031c8",
   "metadata": {},
   "outputs": [],
   "source": [
    "y_pred[:10]"
   ]
  },
  {
   "cell_type": "code",
   "execution_count": null,
   "id": "d7c99928-803e-421c-9eda-2f1f4204c70a",
   "metadata": {},
   "outputs": [],
   "source": [
    "from sklearn.metrics import confusion_matrix, classification_report, accuracy_score"
   ]
  },
  {
   "cell_type": "code",
   "execution_count": null,
   "id": "bcce7a34-98df-4ec3-97e9-ab218a5c6b8c",
   "metadata": {},
   "outputs": [],
   "source": [
    "print(classification_report(y_test,y_pred))"
   ]
  },
  {
   "cell_type": "code",
   "execution_count": null,
   "id": "3c92f413-f744-4454-aa39-5cd7f917aea8",
   "metadata": {},
   "outputs": [],
   "source": [
    "import seaborn as sn\n",
    "cm = tf.math.confusion_matrix(labels=y_test,predictions=y_pred)\n",
    "\n",
    "plt.figure(figsize= (10,7))\n",
    "sn.heatmap(cm, annot=True, fmt='d')\n",
    "plt.xlabel('Prediction')\n",
    "plt.ylabel('Truth')"
   ]
  },
  {
   "cell_type": "code",
   "execution_count": null,
   "id": "bff9f836-3f5f-44e8-9ec8-80e7eb01485c",
   "metadata": {},
   "outputs": [],
   "source": [
    "from sklearn.ensemble import RandomForestClassifier  # For classification"
   ]
  },
  {
   "cell_type": "code",
   "execution_count": null,
   "id": "a8878b09-6ec3-4a26-8c1c-d8413ed22720",
   "metadata": {},
   "outputs": [],
   "source": [
    "# Split into 70% train, 30% test (adjust test_size as needed)\n",
    "X_train, X_test, y_train, y_test = train_test_split(\n",
    "    X, y, \n",
    "    test_size=0.2, \n",
    "    random_state=5  # For reproducibility\n",
    ")"
   ]
  },
  {
   "cell_type": "code",
   "execution_count": null,
   "id": "fa7259c2-b1f8-4a73-b5a2-093711abfe48",
   "metadata": {},
   "outputs": [],
   "source": [
    "# Initialize the model\n",
    "rf_model = RandomForestClassifier(\n",
    "    n_estimators=50,  # Number of trees\n",
    "    max_depth=5,      # Max depth of each tree\n",
    "    random_state=5    # For reproducibility\n",
    ")\n",
    "\n",
    "# Train the model on the training data\n",
    "rf_model.fit(X_train, y_train)"
   ]
  },
  {
   "cell_type": "code",
   "execution_count": null,
   "id": "56d20728-2662-4864-b22f-85b3e1d9bb39",
   "metadata": {},
   "outputs": [],
   "source": [
    "y_pred = rf_model.predict(X_test)"
   ]
  },
  {
   "cell_type": "code",
   "execution_count": null,
   "id": "3b5f73a9-9b5c-4987-b871-a06b5872a49e",
   "metadata": {},
   "outputs": [],
   "source": [
    "print(\"Accuracy:\", accuracy_score(y_test, y_pred))\n",
    "print(classification_report(y_test, y_pred))  # Precision, Recall, F1-score"
   ]
  },
  {
   "cell_type": "code",
   "execution_count": null,
   "id": "c1902527-d752-46a7-ab90-8927b3aa5cc9",
   "metadata": {},
   "outputs": [],
   "source": [
    "import seaborn as sn\n",
    "cm = tf.math.confusion_matrix(labels=y_test,predictions=y_pred)\n",
    "\n",
    "plt.figure(figsize= (10,7))\n",
    "sn.heatmap(cm, annot=True, fmt='d')\n",
    "plt.xlabel('Prediction')\n",
    "plt.ylabel('Truth')"
   ]
  },
  {
   "cell_type": "code",
   "execution_count": null,
   "id": "9a757f57-24b6-42be-8b16-2db7d18422e5",
   "metadata": {},
   "outputs": [],
   "source": [
    "import xgboost as xgb"
   ]
  },
  {
   "cell_type": "code",
   "execution_count": null,
   "id": "a53c4a7b-a06b-4ef9-a187-005f3b0f7585",
   "metadata": {},
   "outputs": [],
   "source": [
    "# Split into 70% train, 30% test (adjust test_size as needed)\n",
    "X_train, X_test, y_train, y_test = train_test_split(\n",
    "    X, y, \n",
    "    test_size=0.2, \n",
    "    random_state=5  # For reproducibility\n",
    ")"
   ]
  },
  {
   "cell_type": "code",
   "execution_count": null,
   "id": "a7e03725-b575-4418-b4f9-04cb8f2ffd7e",
   "metadata": {},
   "outputs": [],
   "source": [
    "# Initialize the XGBoost Classifier\n",
    "xgb_model = xgb.XGBClassifier(\n",
    "    objective='binary:logistic',  # For binary classification\n",
    "    n_estimators=100,            # Number of boosting rounds (trees)\n",
    "    max_depth=6,                 # Depth of each tree\n",
    "    learning_rate=0.1,           # Step size shrinkage (default=0.3)\n",
    "    random_state=42\n",
    ")\n",
    "\n",
    "# Train the model\n",
    "xgb_model.fit(X_train, y_train)"
   ]
  },
  {
   "cell_type": "code",
   "execution_count": null,
   "id": "bcd5cd83-e756-4784-83ba-c3615047910a",
   "metadata": {},
   "outputs": [],
   "source": [
    "y_pred = xgb_model.predict(X_test)"
   ]
  },
  {
   "cell_type": "code",
   "execution_count": null,
   "id": "f97ecc03-4a7c-4149-9f48-febe854a61ef",
   "metadata": {},
   "outputs": [],
   "source": [
    "print(\"Accuracy:\", accuracy_score(y_test, y_pred))\n",
    "print(classification_report(y_test, y_pred))  # Precision, Recall, F1-score\n",
    "print(\"Confusion Matrix:\\n\", confusion_matrix(y_test, y_pred))"
   ]
  },
  {
   "cell_type": "code",
   "execution_count": null,
   "id": "64914cde-ca38-4bea-a925-f0c918b5afb1",
   "metadata": {},
   "outputs": [],
   "source": [
    "import seaborn as sn\n",
    "cm = tf.math.confusion_matrix(labels=y_test,predictions=y_pred)\n",
    "\n",
    "plt.figure(figsize= (10,7))\n",
    "sn.heatmap(cm, annot=True, fmt='d')\n",
    "plt.xlabel('Prediction')\n",
    "plt.ylabel('Truth')"
   ]
  },
  {
   "cell_type": "markdown",
   "id": "3dc92f67-5ae9-454b-b907-cb961085d09a",
   "metadata": {},
   "source": [
    "# Logistic Regression"
   ]
  },
  {
   "cell_type": "code",
   "execution_count": null,
   "id": "57f86e48-3b1b-40b0-8d0c-2bafbb8ed49a",
   "metadata": {},
   "outputs": [],
   "source": [
    "# Split into train/test sets\n",
    "X_train, X_test, y_train, y_test = train_test_split(\n",
    "    X, y, \n",
    "    test_size=0.3, \n",
    "    random_state=42, \n",
    "    stratify=y  # Preserve class balance\n",
    ")"
   ]
  },
  {
   "cell_type": "code",
   "execution_count": null,
   "id": "5a72c79b-2270-4478-ae12-d10427272c59",
   "metadata": {},
   "outputs": [],
   "source": [
    "from sklearn.linear_model import LogisticRegression\n",
    "\n",
    "# Initialize the model\n",
    "logreg = LogisticRegression(\n",
    "    penalty='l2',           # Regularization (L2 by default)\n",
    "    C=1.0,                 # Inverse of regularization strength\n",
    "    solver='lbfgs',        # Good for medium-sized datasets\n",
    "    max_iter=1000,         # Increase if convergence warning appears\n",
    "    random_state=42,\n",
    "    class_weight='balanced' # Handles imbalanced classes\n",
    ")\n",
    "\n",
    "# Train the model\n",
    "logreg.fit(X_train, y_train)"
   ]
  },
  {
   "cell_type": "code",
   "execution_count": null,
   "id": "50b02f6c-6d32-4b06-abab-a40440907aac",
   "metadata": {},
   "outputs": [],
   "source": [
    "# Predictions\n",
    "y_pred = logreg.predict(X_test)\n",
    "\n",
    "# Evaluation metrics\n",
    "print(\"Accuracy:\", accuracy_score(y_test, y_pred))\n",
    "print(\"\\nClassification Report:\\n\", classification_report(y_test, y_pred))\n",
    "print(\"\\nConfusion Matrix:\\n\", confusion_matrix(y_test, y_pred))"
   ]
  },
  {
   "cell_type": "markdown",
   "id": "4501e43e-b79b-40e8-9658-38fd803389a8",
   "metadata": {},
   "source": [
    "# KNN"
   ]
  },
  {
   "cell_type": "code",
   "execution_count": null,
   "id": "d755eeb0-0f36-4119-b354-99142eb60446",
   "metadata": {},
   "outputs": [],
   "source": [
    "from sklearn.neighbors import KNeighborsClassifier"
   ]
  },
  {
   "cell_type": "code",
   "execution_count": null,
   "id": "4f4da451-0497-4d9e-8f8f-9ea366c843ac",
   "metadata": {},
   "outputs": [],
   "source": [
    "# Initialize KNN\n",
    "knn = KNeighborsClassifier(\n",
    "    n_neighbors=5,      # Number of neighbors (default=5)\n",
    "    weights='uniform',  # 'uniform' or 'distance' (weight by inverse distance)\n",
    "    algorithm='auto',   # Auto-select best search algorithm\n",
    "    p=2                # p=2 for Euclidean distance, p=1 for Manhattan\n",
    ")\n",
    "\n",
    "# Train the model\n",
    "knn.fit(X_train, y_train)"
   ]
  },
  {
   "cell_type": "code",
   "execution_count": null,
   "id": "9f2946bf-6fab-48b0-9ad3-98b71df691a7",
   "metadata": {},
   "outputs": [],
   "source": [
    "# Predictions\n",
    "y_pred = knn.predict(X_test)\n",
    "\n",
    "# Evaluation metrics\n",
    "print(\"Accuracy:\", accuracy_score(y_test, y_pred))\n",
    "print(\"\\nClassification Report:\\n\", classification_report(y_test, y_pred))\n",
    "print(\"\\nConfusion Matrix:\\n\", confusion_matrix(y_test, y_pred))"
   ]
  },
  {
   "cell_type": "markdown",
   "id": "2d302bd9-627f-4a5c-9afa-fbe12de41744",
   "metadata": {},
   "source": [
    "# Decision Tree"
   ]
  },
  {
   "cell_type": "code",
   "execution_count": null,
   "id": "89f50c67-f7b5-4a65-96d4-3a4867018a4f",
   "metadata": {},
   "outputs": [],
   "source": [
    "from sklearn.tree import DecisionTreeClassifier\n",
    "\n",
    "# Initialize the model\n",
    "dtree = DecisionTreeClassifier(\n",
    "    criterion='gini',       # 'gini' or 'entropy' for split quality\n",
    "    max_depth=5,            # Prevent overfitting by limiting depth\n",
    "    min_samples_split=10,   # Minimum samples to split a node\n",
    "    min_samples_leaf=5,     # Minimum samples in a leaf node\n",
    "    class_weight='balanced', # Handle imbalanced classes\n",
    "    random_state=42\n",
    ")\n",
    "\n",
    "# Train the model\n",
    "dtree.fit(X_train, y_train)"
   ]
  },
  {
   "cell_type": "code",
   "execution_count": null,
   "id": "7bc7a55c-5f46-4210-897c-027d1c6621e0",
   "metadata": {},
   "outputs": [],
   "source": [
    "# Predictions\n",
    "y_pred = dtree.predict(X_test)\n",
    "\n",
    "# Evaluation metrics\n",
    "print(\"Accuracy:\", accuracy_score(y_test, y_pred))\n",
    "print(\"\\nClassification Report:\\n\", classification_report(y_test, y_pred))\n",
    "print(\"\\nConfusion Matrix:\\n\", confusion_matrix(y_test, y_pred))"
   ]
  },
  {
   "cell_type": "markdown",
   "id": "e1e36d7e-764c-4a88-aa06-7abf33d4879e",
   "metadata": {},
   "source": [
    "# Class count"
   ]
  },
  {
   "cell_type": "code",
   "execution_count": null,
   "id": "77e8b014-21a0-4f8d-be9c-7e0fc516f584",
   "metadata": {},
   "outputs": [],
   "source": [
    "count_class_0, count_class_1 = final_df.Churned.value_counts()"
   ]
  },
  {
   "cell_type": "code",
   "execution_count": null,
   "id": "3355b83a-8cfa-4cc6-916a-b513d32d4691",
   "metadata": {},
   "outputs": [],
   "source": [
    "count_class_0, count_class_1"
   ]
  },
  {
   "cell_type": "code",
   "execution_count": null,
   "id": "1059a777-139c-45f6-adf1-c488a7aa3614",
   "metadata": {},
   "outputs": [],
   "source": [
    "df_class_0 = final_df[final_df['Churned'] == 1 ]\n",
    "df_class_1 = final_df[final_df['Churned'] == 0 ]"
   ]
  },
  {
   "cell_type": "code",
   "execution_count": null,
   "id": "50fb63a2-4c81-4e92-b5cd-4a2f5891fbac",
   "metadata": {},
   "outputs": [],
   "source": [
    "df_class_0.shape"
   ]
  },
  {
   "cell_type": "code",
   "execution_count": null,
   "id": "2147df7c-cd0d-4624-8404-1d299f494d9c",
   "metadata": {},
   "outputs": [],
   "source": [
    "df_class_1.shape"
   ]
  },
  {
   "cell_type": "markdown",
   "id": "e1a8c858-43bc-47e6-98e0-b261bba71b28",
   "metadata": {},
   "source": [
    "# Under Sampling"
   ]
  },
  {
   "cell_type": "code",
   "execution_count": null,
   "id": "9f492166-2644-43c0-b4aa-161c3b6ec0f7",
   "metadata": {},
   "outputs": [],
   "source": [
    "df_class_0_under = df_class_0.sample(count_class_1, replace=True)"
   ]
  },
  {
   "cell_type": "code",
   "execution_count": null,
   "id": "56934a1d-dfe0-4e09-9494-6d370b2f1f95",
   "metadata": {},
   "outputs": [],
   "source": [
    "df_class_0_under.shape"
   ]
  },
  {
   "cell_type": "code",
   "execution_count": null,
   "id": "107fad99-d766-4607-a619-c651c61274ad",
   "metadata": {},
   "outputs": [],
   "source": [
    "df_test_under = pd.concat([df_class_0_under, df_class_1], axis=0)"
   ]
  },
  {
   "cell_type": "code",
   "execution_count": null,
   "id": "b5df42a5-6569-4de5-b010-0ca259ff41eb",
   "metadata": {},
   "outputs": [],
   "source": [
    "df_test_under.shape"
   ]
  },
  {
   "cell_type": "code",
   "execution_count": null,
   "id": "f6ae6550-4fa4-4171-a1c8-5dda2c9ea960",
   "metadata": {},
   "outputs": [],
   "source": [
    "print('Random Under Sampling')\n",
    "print(df_test_under.Churned.value_counts())"
   ]
  },
  {
   "cell_type": "code",
   "execution_count": null,
   "id": "b4b85927-0336-4f40-944b-7c83d84f4605",
   "metadata": {},
   "outputs": [],
   "source": [
    "X = df_test_under.drop(['Username', 'Churned'], axis=1)\n",
    "y = df_test_under['Churned']"
   ]
  },
  {
   "cell_type": "code",
   "execution_count": null,
   "id": "017218bf-35bb-464d-8c82-1c66c0308c9c",
   "metadata": {},
   "outputs": [],
   "source": [
    "# Split into 70% train, 30% test (adjust test_size as needed)\n",
    "X_train, X_test, y_train, y_test = train_test_split(\n",
    "    X, y, \n",
    "    test_size=0.2, \n",
    "    random_state=5  # For reproducibility\n",
    ")"
   ]
  },
  {
   "cell_type": "markdown",
   "id": "405ed571-391f-4596-a25f-6bb8cc5e64ba",
   "metadata": {},
   "source": [
    "## Random Forest Under Sampling"
   ]
  },
  {
   "cell_type": "code",
   "execution_count": null,
   "id": "37545690-974c-4140-b4c6-c10837c95104",
   "metadata": {},
   "outputs": [],
   "source": [
    "# Initialize the model\n",
    "rf_model = RandomForestClassifier(\n",
    "    n_estimators=50,  # Number of trees\n",
    "    max_depth=5,      # Max depth of each tree\n",
    "    random_state=5    # For reproducibility\n",
    ")\n",
    "\n",
    "# Train the model on the training data\n",
    "rf_model.fit(X_train, y_train)"
   ]
  },
  {
   "cell_type": "code",
   "execution_count": null,
   "id": "04d3d195-7200-4f3d-be5a-7af92f80503b",
   "metadata": {},
   "outputs": [],
   "source": [
    "y_pred = rf_model.predict(X_test)"
   ]
  },
  {
   "cell_type": "code",
   "execution_count": null,
   "id": "692596fd-557a-4296-b03a-8ca78ce287a3",
   "metadata": {},
   "outputs": [],
   "source": [
    "print(\"Accuracy:\", accuracy_score(y_test, y_pred))\n",
    "print(classification_report(y_test, y_pred))  # Precision, Recall, F1-score"
   ]
  },
  {
   "cell_type": "markdown",
   "id": "c8958837-adb2-45ab-888c-6cb7c1e88732",
   "metadata": {},
   "source": [
    "## Deep Learning Under Sampling"
   ]
  },
  {
   "cell_type": "code",
   "execution_count": null,
   "id": "5e28508f-2bb8-4624-92d0-7513f7e3611a",
   "metadata": {},
   "outputs": [],
   "source": [
    "model = keras.Sequential([\n",
    "    keras.layers.Dense(21, input_shape=(21,), activation='relu'),  # Note the colon (:) and comma\n",
    "    keras.layers.Dense(1, activation='sigmoid')\n",
    "])\n",
    "\n",
    "model.compile(optimizer='adam',\n",
    "             loss='binary_crossentropy',\n",
    "             metrics=['accuracy'])\n",
    "\n",
    "model.fit(X_train,y_train, epochs=5)\n",
    "\n",
    "model.evaluate(X_test, y_test)\n",
    "\n",
    "yp = model.predict(X_test)\n",
    "yp[:5]\n",
    "\n",
    "y_test[:10]\n",
    "\n",
    "y_pred = []\n",
    "for element in yp:\n",
    "    if element > 0.5:\n",
    "        y_pred.append(1)\n",
    "    else:\n",
    "        y_pred.append(0)\n",
    "\n",
    "y_pred[:10]\n",
    "\n",
    "print(classification_report(y_test,y_pred))"
   ]
  },
  {
   "cell_type": "markdown",
   "id": "a71163e3-fc3a-40fd-a87b-560d96ed6eff",
   "metadata": {},
   "source": [
    "## Logistic Regression Under Sampleing"
   ]
  },
  {
   "cell_type": "code",
   "execution_count": null,
   "id": "dc19a4be-6a4e-490b-a309-8b9accee098e",
   "metadata": {},
   "outputs": [],
   "source": [
    "from sklearn.linear_model import LogisticRegression\n",
    "\n",
    "# Initialize the model\n",
    "logreg = LogisticRegression(\n",
    "    penalty='l2',           # Regularization (L2 by default)\n",
    "    C=1.0,                 # Inverse of regularization strength\n",
    "    solver='lbfgs',        # Good for medium-sized datasets\n",
    "    max_iter=1000,         # Increase if convergence warning appears\n",
    "    random_state=42,\n",
    "    class_weight='balanced' # Handles imbalanced classes\n",
    ")\n",
    "\n",
    "# Train the model\n",
    "logreg.fit(X_train, y_train)"
   ]
  },
  {
   "cell_type": "code",
   "execution_count": null,
   "id": "728f3f3c-837c-4a67-a560-665d8b1ef994",
   "metadata": {},
   "outputs": [],
   "source": [
    "# Predictions\n",
    "y_pred = logreg.predict(X_test)\n",
    "\n",
    "# Evaluation metrics\n",
    "print(\"Accuracy:\", accuracy_score(y_test, y_pred))\n",
    "print(\"\\nClassification Report:\\n\", classification_report(y_test, y_pred))\n",
    "print(\"\\nConfusion Matrix:\\n\", confusion_matrix(y_test, y_pred))"
   ]
  },
  {
   "cell_type": "markdown",
   "id": "f787d589-d04b-48de-b3e7-1cedcb730d99",
   "metadata": {},
   "source": [
    "## KNN Under Sampling"
   ]
  },
  {
   "cell_type": "code",
   "execution_count": null,
   "id": "26e7e122-41d7-4c1e-8177-a4f1a6e1b4c5",
   "metadata": {},
   "outputs": [],
   "source": [
    "# Initialize KNN\n",
    "knn = KNeighborsClassifier(\n",
    "    n_neighbors=5,      # Number of neighbors (default=5)\n",
    "    weights='uniform',  # 'uniform' or 'distance' (weight by inverse distance)\n",
    "    algorithm='auto',   # Auto-select best search algorithm\n",
    "    p=2                # p=2 for Euclidean distance, p=1 for Manhattan\n",
    ")\n",
    "\n",
    "# Train the model\n",
    "knn.fit(X_train, y_train)"
   ]
  },
  {
   "cell_type": "code",
   "execution_count": null,
   "id": "697a29a3-be77-4051-82ef-0a1b8f46d106",
   "metadata": {},
   "outputs": [],
   "source": [
    "# Predictions\n",
    "y_pred = knn.predict(X_test)\n",
    "\n",
    "# Evaluation metrics\n",
    "print(\"Accuracy:\", accuracy_score(y_test, y_pred))\n",
    "print(\"\\nClassification Report:\\n\", classification_report(y_test, y_pred))\n",
    "print(\"\\nConfusion Matrix:\\n\", confusion_matrix(y_test, y_pred))"
   ]
  },
  {
   "cell_type": "markdown",
   "id": "eccd613a-67e4-407d-9217-2dde6c8310bb",
   "metadata": {},
   "source": [
    "## Decision Tree Under Sampling"
   ]
  },
  {
   "cell_type": "code",
   "execution_count": null,
   "id": "86d4efce-5732-4ca2-afb6-8aa730736f40",
   "metadata": {},
   "outputs": [],
   "source": [
    "# Initialize the model\n",
    "dtree = DecisionTreeClassifier(\n",
    "    criterion='gini',       # 'gini' or 'entropy' for split quality\n",
    "    max_depth=5,            # Prevent overfitting by limiting depth\n",
    "    min_samples_split=10,   # Minimum samples to split a node\n",
    "    min_samples_leaf=5,     # Minimum samples in a leaf node\n",
    "    class_weight='balanced', # Handle imbalanced classes\n",
    "    random_state=42\n",
    ")\n",
    "\n",
    "# Train the model\n",
    "dtree.fit(X_train, y_train)"
   ]
  },
  {
   "cell_type": "code",
   "execution_count": null,
   "id": "130fedc2-66ee-4222-a797-a10f68545f3e",
   "metadata": {},
   "outputs": [],
   "source": [
    "# Predictions\n",
    "y_pred = dtree.predict(X_test)\n",
    "\n",
    "# Evaluation metrics\n",
    "print(\"Accuracy:\", accuracy_score(y_test, y_pred))\n",
    "print(\"\\nClassification Report:\\n\", classification_report(y_test, y_pred))\n",
    "print(\"\\nConfusion Matrix:\\n\", confusion_matrix(y_test, y_pred))"
   ]
  },
  {
   "cell_type": "markdown",
   "id": "a9b93033-50ad-482d-baa0-5da779d0e1f7",
   "metadata": {},
   "source": [
    "# Over Sampling"
   ]
  },
  {
   "cell_type": "code",
   "execution_count": null,
   "id": "b5dd85ab-5f47-4888-8073-a661869c596d",
   "metadata": {},
   "outputs": [],
   "source": [
    "count_class_0, count_class_1"
   ]
  },
  {
   "cell_type": "code",
   "execution_count": null,
   "id": "09627f7a-8abb-409a-a6dd-04c6e478af04",
   "metadata": {},
   "outputs": [],
   "source": [
    "df_class_1_over = df_class_1.sample(count_class_0, replace=True)"
   ]
  },
  {
   "cell_type": "code",
   "execution_count": null,
   "id": "b0a2e8fb-f2c3-4ab9-85bd-f7276b9a648a",
   "metadata": {},
   "outputs": [],
   "source": [
    "df_class_1_over.shape"
   ]
  },
  {
   "cell_type": "code",
   "execution_count": null,
   "id": "e4063f62-c1fb-4c20-9a95-0e8494a0af33",
   "metadata": {},
   "outputs": [],
   "source": [
    "df_test_over = pd.concat([df_class_0, df_class_1_over],axis=0)"
   ]
  },
  {
   "cell_type": "code",
   "execution_count": null,
   "id": "33495cdb-da1d-42f2-b30d-ffd84ae0e909",
   "metadata": {},
   "outputs": [],
   "source": [
    "df_test_over.shape"
   ]
  },
  {
   "cell_type": "code",
   "execution_count": null,
   "id": "699ae10b-8e7c-4840-af56-9f647fb6abf9",
   "metadata": {},
   "outputs": [],
   "source": [
    "print('Random over-sampling:')\n",
    "print(df_test_over.Churned.value_counts())"
   ]
  },
  {
   "cell_type": "code",
   "execution_count": null,
   "id": "6dff60f2-4f6a-486f-a10a-2a680aa2522b",
   "metadata": {},
   "outputs": [],
   "source": [
    "X = df_test_over.drop(['Username', 'Churned'], axis=1)\n",
    "y = df_test_over['Churned']"
   ]
  },
  {
   "cell_type": "code",
   "execution_count": null,
   "id": "f1c41439-e401-4502-a555-1ca1863396f2",
   "metadata": {},
   "outputs": [],
   "source": [
    "# Split into 70% train, 30% test (adjust test_size as needed)\n",
    "X_train, X_test, y_train, y_test = train_test_split(\n",
    "    X, y, \n",
    "    test_size=0.2, \n",
    "    random_state=5  # For reproducibility\n",
    ")"
   ]
  },
  {
   "cell_type": "code",
   "execution_count": null,
   "id": "1529a285-d202-4d93-9b03-0477cc1f5507",
   "metadata": {},
   "outputs": [],
   "source": [
    "# Initialize the model\n",
    "rf_model = RandomForestClassifier(\n",
    "    n_estimators=50,  # Number of trees\n",
    "    max_depth=5,      # Max depth of each tree\n",
    "    random_state=5    # For reproducibility\n",
    ")\n",
    "\n",
    "# Train the model on the training data\n",
    "rf_model.fit(X_train, y_train)"
   ]
  },
  {
   "cell_type": "code",
   "execution_count": null,
   "id": "0e4055bd-8888-4c77-ae76-019a29e59e87",
   "metadata": {},
   "outputs": [],
   "source": [
    "y_pred = rf_model.predict(X_test)"
   ]
  },
  {
   "cell_type": "code",
   "execution_count": null,
   "id": "0189c4e8-e159-4f5a-9197-4da9846a18fd",
   "metadata": {},
   "outputs": [],
   "source": [
    "print(\"Accuracy:\", accuracy_score(y_test, y_pred))\n",
    "print(classification_report(y_test, y_pred))  # Precision, Recall, F1-score"
   ]
  },
  {
   "cell_type": "code",
   "execution_count": null,
   "id": "2eb1ac6f-ad2f-461f-8c95-e373340c7f46",
   "metadata": {},
   "outputs": [],
   "source": [
    "model = keras.Sequential([\n",
    "    keras.layers.Dense(21, input_shape=(21,), activation='relu'),  # Note the colon (:) and comma\n",
    "    keras.layers.Dense(1, activation='sigmoid')\n",
    "])\n",
    "\n",
    "model.compile(optimizer='adam',\n",
    "             loss='binary_crossentropy',\n",
    "             metrics=['accuracy'])\n",
    "\n",
    "model.fit(X_train,y_train, epochs=5)\n",
    "\n",
    "model.evaluate(X_test, y_test)\n",
    "\n",
    "yp = model.predict(X_test)\n",
    "yp[:5]\n",
    "\n",
    "y_test[:10]\n",
    "\n",
    "y_pred = []\n",
    "for element in yp:\n",
    "    if element > 0.5:\n",
    "        y_pred.append(1)\n",
    "    else:\n",
    "        y_pred.append(0)\n",
    "\n",
    "y_pred[:10]\n",
    "\n",
    "print(classification_report(y_test,y_pred))"
   ]
  },
  {
   "cell_type": "markdown",
   "id": "119fa02a-7826-4c9c-8a78-315264f75486",
   "metadata": {},
   "source": [
    "## Logistic Regression Over Sampling"
   ]
  },
  {
   "cell_type": "code",
   "execution_count": null,
   "id": "13d9301e-b02a-407b-b1f4-fcbafb56a6d9",
   "metadata": {},
   "outputs": [],
   "source": [
    "# Initialize the model\n",
    "logreg = LogisticRegression(\n",
    "    penalty='l2',           # Regularization (L2 by default)\n",
    "    C=1.0,                 # Inverse of regularization strength\n",
    "    solver='lbfgs',        # Good for medium-sized datasets\n",
    "    max_iter=1000,         # Increase if convergence warning appears\n",
    "    random_state=42,\n",
    "    class_weight='balanced' # Handles imbalanced classes\n",
    ")\n",
    "\n",
    "# Train the model\n",
    "logreg.fit(X_train, y_train)"
   ]
  },
  {
   "cell_type": "code",
   "execution_count": null,
   "id": "48fbb9be-aa88-403a-a247-5e7fbadc8acc",
   "metadata": {},
   "outputs": [],
   "source": [
    "# Predictions\n",
    "y_pred = logreg.predict(X_test)\n",
    "\n",
    "# Evaluation metrics\n",
    "print(\"Accuracy:\", accuracy_score(y_test, y_pred))\n",
    "print(\"\\nClassification Report:\\n\", classification_report(y_test, y_pred))\n",
    "print(\"\\nConfusion Matrix:\\n\", confusion_matrix(y_test, y_pred))"
   ]
  },
  {
   "cell_type": "markdown",
   "id": "191075a6-566e-4ea7-a910-fae20be4876a",
   "metadata": {},
   "source": [
    "## KNN Over Sampling"
   ]
  },
  {
   "cell_type": "code",
   "execution_count": null,
   "id": "69b8e4b9-2c7a-4289-aa9b-17c770489efa",
   "metadata": {},
   "outputs": [],
   "source": [
    "# Initialize KNN\n",
    "knn = KNeighborsClassifier(\n",
    "    n_neighbors=5,      # Number of neighbors (default=5)\n",
    "    weights='uniform',  # 'uniform' or 'distance' (weight by inverse distance)\n",
    "    algorithm='auto',   # Auto-select best search algorithm\n",
    "    p=2                # p=2 for Euclidean distance, p=1 for Manhattan\n",
    ")\n",
    "\n",
    "# Train the model\n",
    "knn.fit(X_train, y_train)"
   ]
  },
  {
   "cell_type": "code",
   "execution_count": null,
   "id": "53dad11d-83dd-4e38-8fa7-063f587f6368",
   "metadata": {},
   "outputs": [],
   "source": [
    "# Predictions\n",
    "y_pred = knn.predict(X_test)\n",
    "\n",
    "# Evaluation metrics\n",
    "print(\"Accuracy:\", accuracy_score(y_test, y_pred))\n",
    "print(\"\\nClassification Report:\\n\", classification_report(y_test, y_pred))\n",
    "print(\"\\nConfusion Matrix:\\n\", confusion_matrix(y_test, y_pred))"
   ]
  },
  {
   "cell_type": "markdown",
   "id": "a15d5051-3075-4fdf-bea8-e567059e50b4",
   "metadata": {},
   "source": [
    "## Decision Tree Over Sampling"
   ]
  },
  {
   "cell_type": "code",
   "execution_count": null,
   "id": "bcb3bc22-2ab5-42fd-9ddd-6f1a9316bc2d",
   "metadata": {},
   "outputs": [],
   "source": [
    "# Initialize the model\n",
    "dtree = DecisionTreeClassifier(\n",
    "    criterion='gini',       # 'gini' or 'entropy' for split quality\n",
    "    max_depth=5,            # Prevent overfitting by limiting depth\n",
    "    min_samples_split=10,   # Minimum samples to split a node\n",
    "    min_samples_leaf=5,     # Minimum samples in a leaf node\n",
    "    class_weight='balanced', # Handle imbalanced classes\n",
    "    random_state=42\n",
    ")\n",
    "\n",
    "# Train the model\n",
    "dtree.fit(X_train, y_train)"
   ]
  },
  {
   "cell_type": "code",
   "execution_count": null,
   "id": "e714664c-ce0f-48ee-8a26-7f4ff7ceae0b",
   "metadata": {},
   "outputs": [],
   "source": [
    "# Predictions\n",
    "y_pred = dtree.predict(X_test)\n",
    "\n",
    "# Evaluation metrics\n",
    "print(\"Accuracy:\", accuracy_score(y_test, y_pred))\n",
    "print(\"\\nClassification Report:\\n\", classification_report(y_test, y_pred))\n",
    "print(\"\\nConfusion Matrix:\\n\", confusion_matrix(y_test, y_pred))"
   ]
  },
  {
   "cell_type": "markdown",
   "id": "72d0c104-b3a6-4ae7-aeb5-15e8caf36f24",
   "metadata": {},
   "source": [
    "# SMOTE"
   ]
  },
  {
   "cell_type": "code",
   "execution_count": null,
   "id": "6cb53bcd-d244-4751-b806-782b3d54a4d3",
   "metadata": {},
   "outputs": [],
   "source": [
    "X = final_df.drop(['Username', 'Churned'], axis=1)\n",
    "y = final_df['Churned']"
   ]
  },
  {
   "cell_type": "code",
   "execution_count": null,
   "id": "50084eeb-a475-4a64-9452-1cd42e0b81dd",
   "metadata": {},
   "outputs": [],
   "source": [
    "y.value_counts()"
   ]
  },
  {
   "cell_type": "code",
   "execution_count": null,
   "id": "ead0d5ae-a7c3-4e6a-8070-0208ce86e0cb",
   "metadata": {},
   "outputs": [],
   "source": [
    "from imblearn.over_sampling import SMOTE"
   ]
  },
  {
   "cell_type": "code",
   "execution_count": null,
   "id": "142a9eeb-43e6-4cc2-b540-2b697bdb69ae",
   "metadata": {},
   "outputs": [],
   "source": [
    "smote = SMOTE(sampling_strategy='minority')"
   ]
  },
  {
   "cell_type": "code",
   "execution_count": null,
   "id": "cc6fce17-dd35-427e-8634-4cc3c9da77dd",
   "metadata": {},
   "outputs": [],
   "source": [
    "X_sm, y_sm = smote.fit_resample(X,y)"
   ]
  },
  {
   "cell_type": "code",
   "execution_count": null,
   "id": "96a2bdc5-8713-40d1-b78b-90471646732f",
   "metadata": {},
   "outputs": [],
   "source": [
    "y_sm.value_counts()"
   ]
  },
  {
   "cell_type": "code",
   "execution_count": null,
   "id": "099e1122-ebe8-43f9-bca6-3496c9d655b8",
   "metadata": {},
   "outputs": [],
   "source": []
  }
 ],
 "metadata": {
  "kernelspec": {
   "display_name": "Python 3 (ipykernel)",
   "language": "python",
   "name": "python3"
  },
  "language_info": {
   "codemirror_mode": {
    "name": "ipython",
    "version": 3
   },
   "file_extension": ".py",
   "mimetype": "text/x-python",
   "name": "python",
   "nbconvert_exporter": "python",
   "pygments_lexer": "ipython3",
   "version": "3.8.20"
  }
 },
 "nbformat": 4,
 "nbformat_minor": 5
}
