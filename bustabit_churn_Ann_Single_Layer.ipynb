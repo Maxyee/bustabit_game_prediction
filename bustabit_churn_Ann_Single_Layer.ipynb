{
 "cells": [
  {
   "cell_type": "code",
   "execution_count": 1,
   "id": "dfd36341-2e2c-4cac-a27b-e8c759772d0a",
   "metadata": {},
   "outputs": [
    {
     "name": "stderr",
     "output_type": "stream",
     "text": [
      "/tmp/ipykernel_49345/3166615292.py:9: MatplotlibDeprecationWarning: The seaborn styles shipped by Matplotlib are deprecated since 3.6, as they no longer correspond to the styles shipped by seaborn. However, they will remain available as 'seaborn-v0_8-<style>'. Alternatively, directly use the seaborn API instead.\n",
      "  plt.style.use('seaborn')\n"
     ]
    }
   ],
   "source": [
    "import pandas as pd\n",
    "import numpy as np\n",
    "import matplotlib.pyplot as plt\n",
    "%matplotlib inline\n",
    "import matplotlib.dates as mdates\n",
    "from datetime import datetime\n",
    "\n",
    "# Set style for better visuals\n",
    "plt.style.use('seaborn')"
   ]
  },
  {
   "cell_type": "code",
   "execution_count": 2,
   "id": "126110c7-43b9-49b4-bc36-4b8bdee95f8f",
   "metadata": {},
   "outputs": [],
   "source": [
    "df = pd.read_csv('./dataset/bustabit.csv')"
   ]
  },
  {
   "cell_type": "code",
   "execution_count": 3,
   "id": "cbdf316e-df12-4906-8b2f-925bbab24850",
   "metadata": {},
   "outputs": [
    {
     "data": {
      "text/html": [
       "<div>\n",
       "<style scoped>\n",
       "    .dataframe tbody tr th:only-of-type {\n",
       "        vertical-align: middle;\n",
       "    }\n",
       "\n",
       "    .dataframe tbody tr th {\n",
       "        vertical-align: top;\n",
       "    }\n",
       "\n",
       "    .dataframe thead th {\n",
       "        text-align: right;\n",
       "    }\n",
       "</style>\n",
       "<table border=\"1\" class=\"dataframe\">\n",
       "  <thead>\n",
       "    <tr style=\"text-align: right;\">\n",
       "      <th></th>\n",
       "      <th>Id</th>\n",
       "      <th>GameID</th>\n",
       "      <th>Username</th>\n",
       "      <th>Bet</th>\n",
       "      <th>CashedOut</th>\n",
       "      <th>Bonus</th>\n",
       "      <th>Profit</th>\n",
       "      <th>BustedAt</th>\n",
       "      <th>PlayDate</th>\n",
       "    </tr>\n",
       "  </thead>\n",
       "  <tbody>\n",
       "    <tr>\n",
       "      <th>0</th>\n",
       "      <td>14196549</td>\n",
       "      <td>3366002</td>\n",
       "      <td>papai</td>\n",
       "      <td>5</td>\n",
       "      <td>1.20</td>\n",
       "      <td>0.0</td>\n",
       "      <td>1.00</td>\n",
       "      <td>8.24</td>\n",
       "      <td>2016-11-20T19:44:19Z</td>\n",
       "    </tr>\n",
       "    <tr>\n",
       "      <th>1</th>\n",
       "      <td>10676217</td>\n",
       "      <td>3343882</td>\n",
       "      <td>znay22</td>\n",
       "      <td>3</td>\n",
       "      <td>NaN</td>\n",
       "      <td>NaN</td>\n",
       "      <td>NaN</td>\n",
       "      <td>1.40</td>\n",
       "      <td>2016-11-14T14:21:50Z</td>\n",
       "    </tr>\n",
       "    <tr>\n",
       "      <th>2</th>\n",
       "      <td>15577107</td>\n",
       "      <td>3374646</td>\n",
       "      <td>rrrrrrrr</td>\n",
       "      <td>4</td>\n",
       "      <td>1.33</td>\n",
       "      <td>3.0</td>\n",
       "      <td>1.44</td>\n",
       "      <td>3.15</td>\n",
       "      <td>2016-11-23T06:39:15Z</td>\n",
       "    </tr>\n",
       "    <tr>\n",
       "      <th>3</th>\n",
       "      <td>25732127</td>\n",
       "      <td>3429241</td>\n",
       "      <td>sanya1206</td>\n",
       "      <td>10</td>\n",
       "      <td>NaN</td>\n",
       "      <td>NaN</td>\n",
       "      <td>NaN</td>\n",
       "      <td>1.63</td>\n",
       "      <td>2016-12-08T18:13:55Z</td>\n",
       "    </tr>\n",
       "    <tr>\n",
       "      <th>4</th>\n",
       "      <td>17995432</td>\n",
       "      <td>3389174</td>\n",
       "      <td>ADM</td>\n",
       "      <td>50</td>\n",
       "      <td>1.50</td>\n",
       "      <td>1.4</td>\n",
       "      <td>25.70</td>\n",
       "      <td>2.29</td>\n",
       "      <td>2016-11-27T08:14:48Z</td>\n",
       "    </tr>\n",
       "  </tbody>\n",
       "</table>\n",
       "</div>"
      ],
      "text/plain": [
       "         Id   GameID   Username  Bet  CashedOut  Bonus  Profit  BustedAt  \\\n",
       "0  14196549  3366002      papai    5       1.20    0.0    1.00      8.24   \n",
       "1  10676217  3343882     znay22    3        NaN    NaN     NaN      1.40   \n",
       "2  15577107  3374646   rrrrrrrr    4       1.33    3.0    1.44      3.15   \n",
       "3  25732127  3429241  sanya1206   10        NaN    NaN     NaN      1.63   \n",
       "4  17995432  3389174        ADM   50       1.50    1.4   25.70      2.29   \n",
       "\n",
       "               PlayDate  \n",
       "0  2016-11-20T19:44:19Z  \n",
       "1  2016-11-14T14:21:50Z  \n",
       "2  2016-11-23T06:39:15Z  \n",
       "3  2016-12-08T18:13:55Z  \n",
       "4  2016-11-27T08:14:48Z  "
      ]
     },
     "execution_count": 3,
     "metadata": {},
     "output_type": "execute_result"
    }
   ],
   "source": [
    "df.head()"
   ]
  },
  {
   "cell_type": "code",
   "execution_count": 4,
   "id": "6dbe2a0b-f04f-4515-88ea-963d9c999894",
   "metadata": {},
   "outputs": [],
   "source": [
    "df.fillna(0, inplace=True)"
   ]
  },
  {
   "cell_type": "code",
   "execution_count": 5,
   "id": "448f18e8-a4dc-4335-b899-dd72d41ba7de",
   "metadata": {},
   "outputs": [],
   "source": [
    "# Convert 'PlayDate' to datetime\n",
    "df['PlayDate'] = pd.to_datetime(df['PlayDate'])\n",
    "\n",
    "# Find the last date in the dataset\n",
    "latest_date = df['PlayDate'].max()\n",
    "\n",
    "# Group by player and find their last activity date\n",
    "player_churn_activity = df.groupby('Username')['PlayDate'].max().reset_index()\n",
    "\n",
    "# Define churn threshold (e.g., 30 days)\n",
    "churn_threshold_days = 4\n",
    "player_churn_activity['Churned'] = (\n",
    "    (latest_date - player_churn_activity['PlayDate']) > pd.Timedelta(days=churn_threshold_days)\n",
    ").astype(int)"
   ]
  },
  {
   "cell_type": "code",
   "execution_count": 6,
   "id": "60d08376-5d5a-4f64-a471-9d00c0ce5755",
   "metadata": {},
   "outputs": [
    {
     "name": "stdout",
     "output_type": "stream",
     "text": [
      "Churned\n",
      "1    3245\n",
      "0     904\n",
      "Name: count, dtype: int64\n"
     ]
    }
   ],
   "source": [
    "churn_counts = player_churn_activity['Churned'].value_counts()\n",
    "print(churn_counts)"
   ]
  },
  {
   "cell_type": "code",
   "execution_count": 7,
   "id": "640978bf-44fd-49a2-b436-8470f5e3c554",
   "metadata": {},
   "outputs": [],
   "source": [
    "# Merge churn status with original data\n",
    "df = df.merge(player_churn_activity[['Username', 'Churned']], on='Username')"
   ]
  },
  {
   "cell_type": "code",
   "execution_count": 8,
   "id": "c7eb5bbd-9904-4f8f-b711-19ab818b6075",
   "metadata": {},
   "outputs": [],
   "source": [
    "# Step 1: Get the last, second-last, and third-last play dates per player\n",
    "\n",
    "player_activity = (\n",
    "    df.sort_values('PlayDate')\n",
    "    .groupby('Username')['PlayDate']\n",
    "    .agg([\n",
    "        ('LastPlayDate', 'last'),  # Most recent play (always exists)\n",
    "        ('SecondLastPlayDate', lambda x: x.iloc[-2] if len(x) >= 2 else pd.NaT),\n",
    "        ('ThirdLastPlayDate', lambda x: x.iloc[-3] if len(x) >= 3 else pd.NaT)\n",
    "    ])\n",
    "    .reset_index()\n",
    ")\n",
    "\n",
    "# Calculate days with fillna(0) at the end\n",
    "player_activity['DaysSinceLastPlay'] = (latest_date - player_activity['LastPlayDate']).dt.days\n",
    "player_activity['DaysSinceSecondLastPlay'] = (latest_date - player_activity['SecondLastPlayDate']).dt.days.fillna(0)\n",
    "player_activity['DaysSinceThirdLastPlay'] = (latest_date - player_activity['ThirdLastPlayDate']).dt.days.fillna(0)"
   ]
  },
  {
   "cell_type": "code",
   "execution_count": 9,
   "id": "1493cf84-fc9d-419b-bd4e-a71d9a822862",
   "metadata": {},
   "outputs": [],
   "source": [
    "def generate_multiplied_array(input_value):\n",
    "    result = []\n",
    "    multiplier = 1\n",
    "    while True:\n",
    "        product = input_value * multiplier\n",
    "        if product >= 40:\n",
    "            break\n",
    "        result.append(product)\n",
    "        multiplier += 1\n",
    "    return result"
   ]
  },
  {
   "cell_type": "code",
   "execution_count": 10,
   "id": "40afbfa6-3c1f-462f-90eb-b731bcfaee90",
   "metadata": {},
   "outputs": [
    {
     "name": "stdout",
     "output_type": "stream",
     "text": [
      "[4, 8, 12, 16, 20, 24, 28, 32, 36]\n"
     ]
    }
   ],
   "source": [
    "output_array = generate_multiplied_array(churn_threshold_days)\n",
    "print(output_array)"
   ]
  },
  {
   "cell_type": "code",
   "execution_count": 11,
   "id": "26ad21bd-ff64-4ebd-b44e-0c8fe5398815",
   "metadata": {},
   "outputs": [],
   "source": [
    "# Define the time windows (in days)\n",
    "#time_windows = [4, 8, 12, 16, 20, 24, 28, 32, 36]\n",
    "time_windows = output_array\n",
    "\n",
    "# Initialize a DataFrame to store results\n",
    "player_bets_by_window = df[['Username']].drop_duplicates()\n",
    "\n",
    "# Calculate bet sums for each time window\n",
    "for days in time_windows:\n",
    "    # Calculate cutoff date\n",
    "    cutoff_date = latest_date - pd.Timedelta(days=days)\n",
    "    \n",
    "    # Filter bets and sum by player\n",
    "    window_bets = (\n",
    "        df[df['PlayDate'] >= cutoff_date]\n",
    "        .groupby('Username')['Bet']\n",
    "        .sum()\n",
    "        .reset_index()\n",
    "        .rename(columns={'Bet': f'BetsLast{days}Days'})\n",
    "    )\n",
    "    \n",
    "    # Merge with main DataFrame\n",
    "    player_bets_by_window = player_bets_by_window.merge(\n",
    "        window_bets,\n",
    "        on='Username',\n",
    "        how='left'\n",
    "    )\n",
    "\n",
    "# Fill NA with 0 (for players with no bets in a window)\n",
    "player_bets_by_window = player_bets_by_window.fillna(0)\n"
   ]
  },
  {
   "cell_type": "code",
   "execution_count": 12,
   "id": "f5ac668d-5abb-4ce1-b000-66d8744ea910",
   "metadata": {},
   "outputs": [],
   "source": [
    "player_last_activity = player_bets_by_window.merge(player_activity[['Username', 'DaysSinceLastPlay', 'DaysSinceSecondLastPlay', 'DaysSinceThirdLastPlay']], on='Username')"
   ]
  },
  {
   "cell_type": "code",
   "execution_count": 13,
   "id": "4360834d-0b5d-474d-be3c-f1686046b210",
   "metadata": {},
   "outputs": [],
   "source": [
    "player_stats = df.groupby('Username').agg(\n",
    "    TotalBetAmount=('Bet', 'sum'),\n",
    "    TotalProfitAmount=('Profit', 'sum'),\n",
    "    TotalBonusAmount=('Bonus', 'sum'),\n",
    "    NumberOfBets=('Bet', 'count'),\n",
    "    NumberOfBets_Won=('Profit', lambda x: (x > 0).sum()),  # Count wins (Profit > 0)\n",
    "    NumberOfBets_Lost=('Profit', lambda x: (x <= 0).sum()), # Count losses (Profit <= 0)\n",
    "    AverageBet=('Bet', 'mean'),\n",
    "    MaxBet=('Bet', 'max'),\n",
    "    MinBet=('Bet', 'min'),\n",
    "    Churned=('Churned', 'first'),\n",
    ").reset_index().sort_values('TotalBetAmount', ascending=False)"
   ]
  },
  {
   "cell_type": "code",
   "execution_count": 14,
   "id": "0b60da08-d32b-48fb-99e8-bb19e17ff4cb",
   "metadata": {},
   "outputs": [
    {
     "name": "stdout",
     "output_type": "stream",
     "text": [
      "<class 'pandas.core.frame.DataFrame'>\n",
      "RangeIndex: 4149 entries, 0 to 4148\n",
      "Data columns (total 13 columns):\n",
      " #   Column                   Non-Null Count  Dtype  \n",
      "---  ------                   --------------  -----  \n",
      " 0   Username                 4149 non-null   object \n",
      " 1   BetsLast4Days            4149 non-null   float64\n",
      " 2   BetsLast8Days            4149 non-null   float64\n",
      " 3   BetsLast12Days           4149 non-null   float64\n",
      " 4   BetsLast16Days           4149 non-null   float64\n",
      " 5   BetsLast20Days           4149 non-null   float64\n",
      " 6   BetsLast24Days           4149 non-null   float64\n",
      " 7   BetsLast28Days           4149 non-null   float64\n",
      " 8   BetsLast32Days           4149 non-null   float64\n",
      " 9   BetsLast36Days           4149 non-null   float64\n",
      " 10  DaysSinceLastPlay        4149 non-null   int64  \n",
      " 11  DaysSinceSecondLastPlay  4149 non-null   float64\n",
      " 12  DaysSinceThirdLastPlay   4149 non-null   float64\n",
      "dtypes: float64(11), int64(1), object(1)\n",
      "memory usage: 421.5+ KB\n"
     ]
    }
   ],
   "source": [
    "player_last_activity.info()"
   ]
  },
  {
   "cell_type": "code",
   "execution_count": 15,
   "id": "0ef031e7-0606-47b2-97c9-998e5c8d97d1",
   "metadata": {},
   "outputs": [
    {
     "data": {
      "text/plain": [
       "['Username',\n",
       " 'BetsLast4Days',\n",
       " 'BetsLast8Days',\n",
       " 'BetsLast12Days',\n",
       " 'BetsLast16Days',\n",
       " 'BetsLast20Days',\n",
       " 'BetsLast24Days',\n",
       " 'BetsLast28Days',\n",
       " 'BetsLast32Days',\n",
       " 'BetsLast36Days',\n",
       " 'DaysSinceLastPlay',\n",
       " 'DaysSinceSecondLastPlay',\n",
       " 'DaysSinceThirdLastPlay']"
      ]
     },
     "execution_count": 15,
     "metadata": {},
     "output_type": "execute_result"
    }
   ],
   "source": [
    "columns_to_select = [col for col in player_last_activity.columns ]\n",
    "columns_to_select"
   ]
  },
  {
   "cell_type": "code",
   "execution_count": 16,
   "id": "98ceab7d-c88c-472c-b32e-95a04abf4889",
   "metadata": {},
   "outputs": [],
   "source": [
    "# Merge churn status with original data\n",
    "final_df = player_stats.merge(player_last_activity[columns_to_select], on='Username')\n",
    "#final_df = player_stats.merge(player_last_activity[['Username', 'BetsLast4Days','BetsLast8Days','BetsLast12Days','BetsLast16Days','BetsLast20Days','BetsLast24Days','BetsLast28Days','BetsLast32Days','BetsLast36Days', 'DaysSinceLastPlay','DaysSinceSecondLastPlay','DaysSinceThirdLastPlay']], on='Username')"
   ]
  },
  {
   "cell_type": "code",
   "execution_count": 17,
   "id": "5b6c88f0-17ad-4446-a7be-eb3076baf1f1",
   "metadata": {},
   "outputs": [
    {
     "name": "stdout",
     "output_type": "stream",
     "text": [
      "<class 'pandas.core.frame.DataFrame'>\n",
      "RangeIndex: 4149 entries, 0 to 4148\n",
      "Data columns (total 23 columns):\n",
      " #   Column                   Non-Null Count  Dtype  \n",
      "---  ------                   --------------  -----  \n",
      " 0   Username                 4149 non-null   object \n",
      " 1   TotalBetAmount           4149 non-null   int64  \n",
      " 2   TotalProfitAmount        4149 non-null   float64\n",
      " 3   TotalBonusAmount         4149 non-null   float64\n",
      " 4   NumberOfBets             4149 non-null   int64  \n",
      " 5   NumberOfBets_Won         4149 non-null   int64  \n",
      " 6   NumberOfBets_Lost        4149 non-null   int64  \n",
      " 7   AverageBet               4149 non-null   float64\n",
      " 8   MaxBet                   4149 non-null   int64  \n",
      " 9   MinBet                   4149 non-null   int64  \n",
      " 10  Churned                  4149 non-null   int64  \n",
      " 11  BetsLast4Days            4149 non-null   float64\n",
      " 12  BetsLast8Days            4149 non-null   float64\n",
      " 13  BetsLast12Days           4149 non-null   float64\n",
      " 14  BetsLast16Days           4149 non-null   float64\n",
      " 15  BetsLast20Days           4149 non-null   float64\n",
      " 16  BetsLast24Days           4149 non-null   float64\n",
      " 17  BetsLast28Days           4149 non-null   float64\n",
      " 18  BetsLast32Days           4149 non-null   float64\n",
      " 19  BetsLast36Days           4149 non-null   float64\n",
      " 20  DaysSinceLastPlay        4149 non-null   int64  \n",
      " 21  DaysSinceSecondLastPlay  4149 non-null   float64\n",
      " 22  DaysSinceThirdLastPlay   4149 non-null   float64\n",
      "dtypes: float64(14), int64(8), object(1)\n",
      "memory usage: 745.6+ KB\n"
     ]
    }
   ],
   "source": [
    "final_df.info()"
   ]
  },
  {
   "cell_type": "code",
   "execution_count": 18,
   "id": "da9a3a09-873b-4d5e-89ef-cde7cd6c8568",
   "metadata": {},
   "outputs": [],
   "source": [
    "final_df_corr = final_df.drop(['Username'], axis=1)"
   ]
  },
  {
   "cell_type": "code",
   "execution_count": 19,
   "id": "10876b2c-a3c5-492d-adb7-942bc0434662",
   "metadata": {},
   "outputs": [],
   "source": [
    "final_df_transform = final_df_corr.drop(['Churned'], axis=1)"
   ]
  },
  {
   "cell_type": "code",
   "execution_count": 20,
   "id": "a5bd9974-6e21-4ca2-8463-20562743187a",
   "metadata": {},
   "outputs": [],
   "source": [
    "final_df_transform = np.log1p(final_df_transform)"
   ]
  },
  {
   "cell_type": "code",
   "execution_count": 21,
   "id": "50b90246-4fd1-4c78-b547-395cccc41c95",
   "metadata": {},
   "outputs": [
    {
     "data": {
      "text/plain": [
       "['TotalBetAmount',\n",
       " 'TotalProfitAmount',\n",
       " 'TotalBonusAmount',\n",
       " 'NumberOfBets',\n",
       " 'NumberOfBets_Won',\n",
       " 'NumberOfBets_Lost',\n",
       " 'AverageBet',\n",
       " 'MaxBet',\n",
       " 'MinBet',\n",
       " 'BetsLast4Days',\n",
       " 'BetsLast8Days',\n",
       " 'BetsLast12Days',\n",
       " 'BetsLast16Days',\n",
       " 'BetsLast20Days',\n",
       " 'BetsLast24Days',\n",
       " 'BetsLast28Days',\n",
       " 'BetsLast32Days',\n",
       " 'BetsLast36Days',\n",
       " 'DaysSinceLastPlay',\n",
       " 'DaysSinceSecondLastPlay',\n",
       " 'DaysSinceThirdLastPlay']"
      ]
     },
     "execution_count": 21,
     "metadata": {},
     "output_type": "execute_result"
    }
   ],
   "source": [
    "feature_df = final_df_corr.drop(['Churned'],axis=1)\n",
    "list_of_features = [col for col in feature_df.columns ]\n",
    "list_of_features"
   ]
  },
  {
   "cell_type": "code",
   "execution_count": 22,
   "id": "bef907e7-f7b9-42c1-aaec-5cfbe457359e",
   "metadata": {},
   "outputs": [],
   "source": [
    "# cols_to_scale = ['TotalBetAmount','TotalProfitAmount','TotalBonusAmount',\n",
    "#                  'NumberOfBets','NumberOfBets_Won','NumberOfBets_Lost','AverageBet',\n",
    "#                  'MaxBet','MinBet', 'BetsLast4Days','BetsLast8Days','BetsLast12Days','BetsLast16Days',\n",
    "#                  'BetsLast20Days','BetsLast24Days','BetsLast28Days','BetsLast32Days','BetsLast36Days',\n",
    "#                  'DaysSinceLastPlay','DaysSinceSecondLastPlay','DaysSinceThirdLastPlay']\n",
    "cols_to_scale = list_of_features"
   ]
  },
  {
   "cell_type": "code",
   "execution_count": 23,
   "id": "0c6c531d-5317-4137-a830-2814c9d53bd6",
   "metadata": {},
   "outputs": [],
   "source": [
    "from sklearn.preprocessing import MinMaxScaler"
   ]
  },
  {
   "cell_type": "code",
   "execution_count": 24,
   "id": "12a5da73-07f9-4f0d-b07e-d91bd32007d0",
   "metadata": {},
   "outputs": [],
   "source": [
    "scaler = MinMaxScaler()"
   ]
  },
  {
   "cell_type": "code",
   "execution_count": 25,
   "id": "9675d330-1184-42af-b436-01f2741d222a",
   "metadata": {},
   "outputs": [],
   "source": [
    "#final_df[cols_to_scale] = scaler.fit_transform(final_df[cols_to_scale])\n",
    "final_df_transform[cols_to_scale] = scaler.fit_transform(final_df_transform[cols_to_scale])"
   ]
  },
  {
   "cell_type": "code",
   "execution_count": 26,
   "id": "b34f5e59-301c-41cc-ba04-f93abe2b3421",
   "metadata": {},
   "outputs": [],
   "source": [
    "#features = final_df.drop(['Username', 'Churned'], axis=1)\n",
    "features = final_df_transform"
   ]
  },
  {
   "cell_type": "code",
   "execution_count": 27,
   "id": "79ca5fff-7cb1-4132-b846-e97ec5099f9c",
   "metadata": {},
   "outputs": [],
   "source": [
    "labels = final_df['Churned']"
   ]
  },
  {
   "cell_type": "code",
   "execution_count": 28,
   "id": "f502c68b-f6a9-402c-836e-5d0b616f2811",
   "metadata": {},
   "outputs": [],
   "source": [
    "X = features\n",
    "y = labels"
   ]
  },
  {
   "cell_type": "code",
   "execution_count": 29,
   "id": "11c2a99c-3087-468c-8ccd-14551dac4ce8",
   "metadata": {},
   "outputs": [],
   "source": [
    "from sklearn.model_selection import train_test_split"
   ]
  },
  {
   "cell_type": "code",
   "execution_count": 30,
   "id": "c0a79b4e-b42e-4775-a216-a21dda15444a",
   "metadata": {},
   "outputs": [],
   "source": [
    "X_train, X_test, y_train, y_test = train_test_split(X,y,test_size=0.2,random_state=5)"
   ]
  },
  {
   "cell_type": "code",
   "execution_count": 31,
   "id": "39459091-b3a4-4c77-87f2-c47f14aae52b",
   "metadata": {},
   "outputs": [
    {
     "data": {
      "text/plain": [
       "(3319, 21)"
      ]
     },
     "execution_count": 31,
     "metadata": {},
     "output_type": "execute_result"
    }
   ],
   "source": [
    "X_train.shape"
   ]
  },
  {
   "cell_type": "code",
   "execution_count": 32,
   "id": "00ae8f3a-862e-4cfd-a861-5f41bb23ef8f",
   "metadata": {},
   "outputs": [],
   "source": [
    "train_shape = X_train.shape[1]"
   ]
  },
  {
   "cell_type": "code",
   "execution_count": 33,
   "id": "9c7abbfd-4d94-4ffd-bb7e-1a653f12007d",
   "metadata": {},
   "outputs": [
    {
     "name": "stderr",
     "output_type": "stream",
     "text": [
      "2025-07-09 10:50:15.734528: I tensorflow/tsl/cuda/cudart_stub.cc:28] Could not find cuda drivers on your machine, GPU will not be used.\n",
      "2025-07-09 10:50:15.957908: I tensorflow/tsl/cuda/cudart_stub.cc:28] Could not find cuda drivers on your machine, GPU will not be used.\n",
      "2025-07-09 10:50:18.143564: W tensorflow/compiler/tf2tensorrt/utils/py_utils.cc:38] TF-TRT Warning: Could not find TensorRT\n"
     ]
    }
   ],
   "source": [
    "import tensorflow as tf\n",
    "from tensorflow import keras"
   ]
  },
  {
   "cell_type": "code",
   "execution_count": 34,
   "id": "4a8a80c3-a933-4386-b7e3-2b27fd6a31f2",
   "metadata": {},
   "outputs": [],
   "source": [
    "model = keras.Sequential([\n",
    "    keras.layers.Dense(train_shape, input_shape=(train_shape,), activation='relu'),  # Note the colon (:) and comma\n",
    "    #keras.layers.Dense(11, activation='relu'), # additional hidden layer\n",
    "    keras.layers.Dense(1, activation='sigmoid')\n",
    "])"
   ]
  },
  {
   "cell_type": "code",
   "execution_count": 35,
   "id": "062c2fa8-9cda-451c-91e5-860a3022652f",
   "metadata": {},
   "outputs": [],
   "source": [
    "model.compile(optimizer='adam',\n",
    "             loss='binary_crossentropy',\n",
    "             metrics=['accuracy'])"
   ]
  },
  {
   "cell_type": "code",
   "execution_count": 36,
   "id": "9350b903-6dcf-4e4e-bc4c-3ae5473e3b4c",
   "metadata": {},
   "outputs": [
    {
     "name": "stdout",
     "output_type": "stream",
     "text": [
      "104/104 [==============================] - 2s 4ms/step - loss: 0.4820 - accuracy: 0.7885\n"
     ]
    },
    {
     "data": {
      "text/plain": [
       "<keras.src.callbacks.History at 0x7298efaacbb0>"
      ]
     },
     "execution_count": 36,
     "metadata": {},
     "output_type": "execute_result"
    }
   ],
   "source": [
    "model.fit(X_train,y_train, epochs=1)"
   ]
  },
  {
   "cell_type": "code",
   "execution_count": 37,
   "id": "6cc2e77c-e882-4617-a1f9-3204f4f40e1f",
   "metadata": {},
   "outputs": [
    {
     "name": "stdout",
     "output_type": "stream",
     "text": [
      "26/26 [==============================] - 1s 5ms/step - loss: 0.3444 - accuracy: 0.8265\n"
     ]
    },
    {
     "data": {
      "text/plain": [
       "[0.34443575143814087, 0.8265060186386108]"
      ]
     },
     "execution_count": 37,
     "metadata": {},
     "output_type": "execute_result"
    }
   ],
   "source": [
    "model.evaluate(X_test, y_test)"
   ]
  },
  {
   "cell_type": "code",
   "execution_count": 38,
   "id": "fe05811f-1b19-48bc-9ba4-ba7d3f4395cd",
   "metadata": {},
   "outputs": [
    {
     "name": "stdout",
     "output_type": "stream",
     "text": [
      "26/26 [==============================] - 0s 3ms/step\n"
     ]
    },
    {
     "data": {
      "text/plain": [
       "array([[0.792304  ],\n",
       "       [0.82502276],\n",
       "       [0.50695646],\n",
       "       [0.8691863 ],\n",
       "       [0.76021886]], dtype=float32)"
      ]
     },
     "execution_count": 38,
     "metadata": {},
     "output_type": "execute_result"
    }
   ],
   "source": [
    "yp = model.predict(X_test)\n",
    "yp[:5]"
   ]
  },
  {
   "cell_type": "code",
   "execution_count": 39,
   "id": "40eee98b-de00-410b-b59f-591a349e607e",
   "metadata": {},
   "outputs": [
    {
     "data": {
      "text/plain": [
       "2391    1\n",
       "1110    1\n",
       "1494    0\n",
       "2844    1\n",
       "3995    1\n",
       "2141    1\n",
       "1130    0\n",
       "3434    0\n",
       "753     0\n",
       "2657    1\n",
       "Name: Churned, dtype: int64"
      ]
     },
     "execution_count": 39,
     "metadata": {},
     "output_type": "execute_result"
    }
   ],
   "source": [
    "y_test[:10]"
   ]
  },
  {
   "cell_type": "code",
   "execution_count": 40,
   "id": "9492a583-562d-46fc-9af6-4b72e1ecf26b",
   "metadata": {},
   "outputs": [],
   "source": [
    "y_pred = []\n",
    "for element in yp:\n",
    "    if element > 0.5:\n",
    "        y_pred.append(1)\n",
    "    else:\n",
    "        y_pred.append(0)"
   ]
  },
  {
   "cell_type": "code",
   "execution_count": 41,
   "id": "609013f4-9e48-40ef-9cf9-afa033d87f33",
   "metadata": {},
   "outputs": [
    {
     "data": {
      "text/plain": [
       "[1, 1, 1, 1, 1, 1, 1, 1, 1, 1]"
      ]
     },
     "execution_count": 41,
     "metadata": {},
     "output_type": "execute_result"
    }
   ],
   "source": [
    "y_pred[:10]"
   ]
  },
  {
   "cell_type": "code",
   "execution_count": 42,
   "id": "d32d332e-d1d4-4fd1-8bb5-6520578ca90f",
   "metadata": {},
   "outputs": [],
   "source": [
    "from sklearn.metrics import confusion_matrix, classification_report, accuracy_score"
   ]
  },
  {
   "cell_type": "code",
   "execution_count": 43,
   "id": "a9780f83-ed46-46e2-a3de-2e17df061e5b",
   "metadata": {},
   "outputs": [
    {
     "name": "stdout",
     "output_type": "stream",
     "text": [
      "              precision    recall  f1-score   support\n",
      "\n",
      "           0       1.00      0.17      0.29       174\n",
      "           1       0.82      1.00      0.90       656\n",
      "\n",
      "    accuracy                           0.83       830\n",
      "   macro avg       0.91      0.59      0.60       830\n",
      "weighted avg       0.86      0.83      0.77       830\n",
      "\n"
     ]
    }
   ],
   "source": [
    "print(classification_report(y_test,y_pred))"
   ]
  },
  {
   "cell_type": "code",
   "execution_count": 44,
   "id": "187fbbd0-9461-409e-a30c-4524d56ddbba",
   "metadata": {},
   "outputs": [
    {
     "data": {
      "text/plain": [
       "Text(70.72222222222221, 0.5, 'Truth')"
      ]
     },
     "execution_count": 44,
     "metadata": {},
     "output_type": "execute_result"
    },
    {
     "data": {
      "image/png": "[encoded data removed]",
      "text/plain": [
       "<Figure size 800x500 with 2 Axes>"
      ]
     },
     "metadata": {},
     "output_type": "display_data"
    }
   ],
   "source": [
    "import seaborn as sn\n",
    "cm = tf.math.confusion_matrix(labels=y_test,predictions=y_pred)\n",
    "\n",
    "plt.figure(figsize= (8,5))\n",
    "sn.heatmap(cm, annot=True, fmt='d')\n",
    "plt.xlabel('Prediction')\n",
    "plt.ylabel('Truth')"
   ]
  },
  {
   "cell_type": "markdown",
   "id": "b99edc2f-a179-494f-ba5e-a962c810573f",
   "metadata": {},
   "source": [
    "# Class counting"
   ]
  },
  {
   "cell_type": "code",
   "execution_count": 45,
   "id": "6e8b4229-6bb2-4ac4-bb63-96f130636b82",
   "metadata": {},
   "outputs": [],
   "source": [
    "count_class_0, count_class_1 = final_df.Churned.value_counts()"
   ]
  },
  {
   "cell_type": "code",
   "execution_count": 46,
   "id": "adc8ede9-167b-4835-b3d3-a44013bfda26",
   "metadata": {},
   "outputs": [
    {
     "data": {
      "text/plain": [
       "(3245, 904)"
      ]
     },
     "execution_count": 46,
     "metadata": {},
     "output_type": "execute_result"
    }
   ],
   "source": [
    "count_class_0, count_class_1"
   ]
  },
  {
   "cell_type": "code",
   "execution_count": 47,
   "id": "1db2470d-8a98-46d3-bdbd-0911b923c01c",
   "metadata": {},
   "outputs": [],
   "source": [
    "df_class_0 = final_df[final_df['Churned'] == 1 ]\n",
    "df_class_1 = final_df[final_df['Churned'] == 0 ]"
   ]
  },
  {
   "cell_type": "code",
   "execution_count": 48,
   "id": "b026f526-0aa3-4d27-ae0f-c8dc7dee6a78",
   "metadata": {},
   "outputs": [
    {
     "data": {
      "text/plain": [
       "(3245, 23)"
      ]
     },
     "execution_count": 48,
     "metadata": {},
     "output_type": "execute_result"
    }
   ],
   "source": [
    "df_class_0.shape"
   ]
  },
  {
   "cell_type": "code",
   "execution_count": 49,
   "id": "bef641c9-61cf-4ea3-95c5-094e73235f42",
   "metadata": {},
   "outputs": [
    {
     "data": {
      "text/plain": [
       "(904, 23)"
      ]
     },
     "execution_count": 49,
     "metadata": {},
     "output_type": "execute_result"
    }
   ],
   "source": [
    "df_class_1.shape"
   ]
  },
  {
   "cell_type": "markdown",
   "id": "e8a39a9c-2ee3-4f7b-a1e3-e578a572e405",
   "metadata": {},
   "source": [
    "# under sampling"
   ]
  },
  {
   "cell_type": "code",
   "execution_count": 50,
   "id": "191eedf1-c47e-4534-8ab8-65afa9e43ab1",
   "metadata": {},
   "outputs": [],
   "source": [
    "df_class_0_under = df_class_0.sample(count_class_1, replace=True)"
   ]
  },
  {
   "cell_type": "code",
   "execution_count": 51,
   "id": "ced28955-56af-448b-9606-263671c802fe",
   "metadata": {},
   "outputs": [
    {
     "data": {
      "text/plain": [
       "(904, 23)"
      ]
     },
     "execution_count": 51,
     "metadata": {},
     "output_type": "execute_result"
    }
   ],
   "source": [
    "df_class_0_under.shape"
   ]
  },
  {
   "cell_type": "code",
   "execution_count": 52,
   "id": "87deac0a-a29c-4e66-89de-386d5200c335",
   "metadata": {},
   "outputs": [],
   "source": [
    "df_test_under = pd.concat([df_class_0_under, df_class_1], axis=0)"
   ]
  },
  {
   "cell_type": "code",
   "execution_count": 53,
   "id": "303746b5-3b51-406b-8ed7-15ef7fb58dc4",
   "metadata": {},
   "outputs": [
    {
     "data": {
      "text/plain": [
       "(1808, 23)"
      ]
     },
     "execution_count": 53,
     "metadata": {},
     "output_type": "execute_result"
    }
   ],
   "source": [
    "df_test_under.shape"
   ]
  },
  {
   "cell_type": "code",
   "execution_count": 54,
   "id": "78c47b10-71af-4750-941d-a276d8753b28",
   "metadata": {},
   "outputs": [
    {
     "name": "stdout",
     "output_type": "stream",
     "text": [
      "Random Under Sampling\n",
      "Churned\n",
      "1    904\n",
      "0    904\n",
      "Name: count, dtype: int64\n"
     ]
    }
   ],
   "source": [
    "print('Random Under Sampling')\n",
    "print(df_test_under.Churned.value_counts())"
   ]
  },
  {
   "cell_type": "code",
   "execution_count": 55,
   "id": "faf0dd43-2484-4344-b591-2ec2bd86c969",
   "metadata": {},
   "outputs": [],
   "source": [
    "under_sampling_df = df_test_under.drop(['Username','Churned'], axis=1)"
   ]
  },
  {
   "cell_type": "code",
   "execution_count": 56,
   "id": "d344b5e8-2e76-4302-bbd3-8fa9885b864f",
   "metadata": {},
   "outputs": [
    {
     "data": {
      "text/html": [
       "<div>\n",
       "<style scoped>\n",
       "    .dataframe tbody tr th:only-of-type {\n",
       "        vertical-align: middle;\n",
       "    }\n",
       "\n",
       "    .dataframe tbody tr th {\n",
       "        vertical-align: top;\n",
       "    }\n",
       "\n",
       "    .dataframe thead th {\n",
       "        text-align: right;\n",
       "    }\n",
       "</style>\n",
       "<table border=\"1\" class=\"dataframe\">\n",
       "  <thead>\n",
       "    <tr style=\"text-align: right;\">\n",
       "      <th></th>\n",
       "      <th>TotalBetAmount</th>\n",
       "      <th>TotalProfitAmount</th>\n",
       "      <th>TotalBonusAmount</th>\n",
       "      <th>NumberOfBets</th>\n",
       "      <th>NumberOfBets_Won</th>\n",
       "      <th>NumberOfBets_Lost</th>\n",
       "      <th>AverageBet</th>\n",
       "      <th>MaxBet</th>\n",
       "      <th>MinBet</th>\n",
       "      <th>BetsLast4Days</th>\n",
       "      <th>...</th>\n",
       "      <th>BetsLast12Days</th>\n",
       "      <th>BetsLast16Days</th>\n",
       "      <th>BetsLast20Days</th>\n",
       "      <th>BetsLast24Days</th>\n",
       "      <th>BetsLast28Days</th>\n",
       "      <th>BetsLast32Days</th>\n",
       "      <th>BetsLast36Days</th>\n",
       "      <th>DaysSinceLastPlay</th>\n",
       "      <th>DaysSinceSecondLastPlay</th>\n",
       "      <th>DaysSinceThirdLastPlay</th>\n",
       "    </tr>\n",
       "  </thead>\n",
       "  <tbody>\n",
       "    <tr>\n",
       "      <th>559</th>\n",
       "      <td>19393</td>\n",
       "      <td>8374.71</td>\n",
       "      <td>19.37</td>\n",
       "      <td>42</td>\n",
       "      <td>9</td>\n",
       "      <td>33</td>\n",
       "      <td>461.738095</td>\n",
       "      <td>5000</td>\n",
       "      <td>2</td>\n",
       "      <td>0.0</td>\n",
       "      <td>...</td>\n",
       "      <td>0.0</td>\n",
       "      <td>0.0</td>\n",
       "      <td>0.0</td>\n",
       "      <td>0.0</td>\n",
       "      <td>797.0</td>\n",
       "      <td>1999.0</td>\n",
       "      <td>18893.0</td>\n",
       "      <td>27</td>\n",
       "      <td>27.0</td>\n",
       "      <td>27.0</td>\n",
       "    </tr>\n",
       "    <tr>\n",
       "      <th>1069</th>\n",
       "      <td>5096</td>\n",
       "      <td>901.99</td>\n",
       "      <td>3.90</td>\n",
       "      <td>4</td>\n",
       "      <td>2</td>\n",
       "      <td>2</td>\n",
       "      <td>1274.000000</td>\n",
       "      <td>5000</td>\n",
       "      <td>10</td>\n",
       "      <td>0.0</td>\n",
       "      <td>...</td>\n",
       "      <td>0.0</td>\n",
       "      <td>0.0</td>\n",
       "      <td>0.0</td>\n",
       "      <td>0.0</td>\n",
       "      <td>0.0</td>\n",
       "      <td>0.0</td>\n",
       "      <td>5076.0</td>\n",
       "      <td>34</td>\n",
       "      <td>35.0</td>\n",
       "      <td>38.0</td>\n",
       "    </tr>\n",
       "    <tr>\n",
       "      <th>2182</th>\n",
       "      <td>669</td>\n",
       "      <td>23.77</td>\n",
       "      <td>9.17</td>\n",
       "      <td>6</td>\n",
       "      <td>6</td>\n",
       "      <td>0</td>\n",
       "      <td>111.500000</td>\n",
       "      <td>600</td>\n",
       "      <td>1</td>\n",
       "      <td>0.0</td>\n",
       "      <td>...</td>\n",
       "      <td>0.0</td>\n",
       "      <td>0.0</td>\n",
       "      <td>0.0</td>\n",
       "      <td>0.0</td>\n",
       "      <td>0.0</td>\n",
       "      <td>0.0</td>\n",
       "      <td>0.0</td>\n",
       "      <td>37</td>\n",
       "      <td>37.0</td>\n",
       "      <td>37.0</td>\n",
       "    </tr>\n",
       "    <tr>\n",
       "      <th>1204</th>\n",
       "      <td>4000</td>\n",
       "      <td>1942.52</td>\n",
       "      <td>4.72</td>\n",
       "      <td>2</td>\n",
       "      <td>2</td>\n",
       "      <td>0</td>\n",
       "      <td>2000.000000</td>\n",
       "      <td>3000</td>\n",
       "      <td>1000</td>\n",
       "      <td>0.0</td>\n",
       "      <td>...</td>\n",
       "      <td>0.0</td>\n",
       "      <td>3000.0</td>\n",
       "      <td>3000.0</td>\n",
       "      <td>4000.0</td>\n",
       "      <td>4000.0</td>\n",
       "      <td>4000.0</td>\n",
       "      <td>4000.0</td>\n",
       "      <td>14</td>\n",
       "      <td>20.0</td>\n",
       "      <td>0.0</td>\n",
       "    </tr>\n",
       "    <tr>\n",
       "      <th>1516</th>\n",
       "      <td>2031</td>\n",
       "      <td>8166.77</td>\n",
       "      <td>8.34</td>\n",
       "      <td>6</td>\n",
       "      <td>1</td>\n",
       "      <td>5</td>\n",
       "      <td>338.500000</td>\n",
       "      <td>2000</td>\n",
       "      <td>1</td>\n",
       "      <td>0.0</td>\n",
       "      <td>...</td>\n",
       "      <td>2003.0</td>\n",
       "      <td>2031.0</td>\n",
       "      <td>2031.0</td>\n",
       "      <td>2031.0</td>\n",
       "      <td>2031.0</td>\n",
       "      <td>2031.0</td>\n",
       "      <td>2031.0</td>\n",
       "      <td>6</td>\n",
       "      <td>7.0</td>\n",
       "      <td>11.0</td>\n",
       "    </tr>\n",
       "  </tbody>\n",
       "</table>\n",
       "<p>5 rows × 21 columns</p>\n",
       "</div>"
      ],
      "text/plain": [
       "      TotalBetAmount  TotalProfitAmount  TotalBonusAmount  NumberOfBets  \\\n",
       "559            19393            8374.71             19.37            42   \n",
       "1069            5096             901.99              3.90             4   \n",
       "2182             669              23.77              9.17             6   \n",
       "1204            4000            1942.52              4.72             2   \n",
       "1516            2031            8166.77              8.34             6   \n",
       "\n",
       "      NumberOfBets_Won  NumberOfBets_Lost   AverageBet  MaxBet  MinBet  \\\n",
       "559                  9                 33   461.738095    5000       2   \n",
       "1069                 2                  2  1274.000000    5000      10   \n",
       "2182                 6                  0   111.500000     600       1   \n",
       "1204                 2                  0  2000.000000    3000    1000   \n",
       "1516                 1                  5   338.500000    2000       1   \n",
       "\n",
       "      BetsLast4Days  ...  BetsLast12Days  BetsLast16Days  BetsLast20Days  \\\n",
       "559             0.0  ...             0.0             0.0             0.0   \n",
       "1069            0.0  ...             0.0             0.0             0.0   \n",
       "2182            0.0  ...             0.0             0.0             0.0   \n",
       "1204            0.0  ...             0.0          3000.0          3000.0   \n",
       "1516            0.0  ...          2003.0          2031.0          2031.0   \n",
       "\n",
       "      BetsLast24Days  BetsLast28Days  BetsLast32Days  BetsLast36Days  \\\n",
       "559              0.0           797.0          1999.0         18893.0   \n",
       "1069             0.0             0.0             0.0          5076.0   \n",
       "2182             0.0             0.0             0.0             0.0   \n",
       "1204          4000.0          4000.0          4000.0          4000.0   \n",
       "1516          2031.0          2031.0          2031.0          2031.0   \n",
       "\n",
       "      DaysSinceLastPlay  DaysSinceSecondLastPlay  DaysSinceThirdLastPlay  \n",
       "559                  27                     27.0                    27.0  \n",
       "1069                 34                     35.0                    38.0  \n",
       "2182                 37                     37.0                    37.0  \n",
       "1204                 14                     20.0                     0.0  \n",
       "1516                  6                      7.0                    11.0  \n",
       "\n",
       "[5 rows x 21 columns]"
      ]
     },
     "execution_count": 56,
     "metadata": {},
     "output_type": "execute_result"
    }
   ],
   "source": [
    "under_sampling_df.head()"
   ]
  },
  {
   "cell_type": "code",
   "execution_count": 57,
   "id": "69808966-583b-4e32-8766-3796dc879d89",
   "metadata": {},
   "outputs": [
    {
     "data": {
      "text/plain": [
       "(1808, 21)"
      ]
     },
     "execution_count": 57,
     "metadata": {},
     "output_type": "execute_result"
    }
   ],
   "source": [
    "under_sampling_df.shape"
   ]
  },
  {
   "cell_type": "code",
   "execution_count": 58,
   "id": "e3c2bed8-6b18-4692-acd8-ac500cfc8a53",
   "metadata": {},
   "outputs": [],
   "source": [
    "under_sampling_df_transform = np.log1p(under_sampling_df)"
   ]
  },
  {
   "cell_type": "code",
   "execution_count": 59,
   "id": "ff0b4b91-1d4f-4ace-9dc4-a8506e3c6825",
   "metadata": {},
   "outputs": [],
   "source": [
    "under_sampling_df_transform[cols_to_scale] = scaler.fit_transform(under_sampling_df_transform[cols_to_scale])"
   ]
  },
  {
   "cell_type": "code",
   "execution_count": 60,
   "id": "801754c6-f965-42e2-a07c-2e0d0ccb9ec5",
   "metadata": {},
   "outputs": [],
   "source": [
    "X = under_sampling_df_transform\n",
    "y = df_test_under['Churned']"
   ]
  },
  {
   "cell_type": "code",
   "execution_count": 61,
   "id": "fc58a7ad-cc04-4753-abdd-5e7dad668adf",
   "metadata": {},
   "outputs": [],
   "source": [
    "X_train, X_test, y_train, y_test = train_test_split(X,y,test_size=0.2,random_state=5)"
   ]
  },
  {
   "cell_type": "code",
   "execution_count": 62,
   "id": "d1ba8ebf-5957-40b2-9eec-6b7060f1e9a6",
   "metadata": {},
   "outputs": [],
   "source": [
    "train_shape = X_train.shape[1]"
   ]
  },
  {
   "cell_type": "code",
   "execution_count": 63,
   "id": "bfa03701-6c2f-4672-ac0f-d70e6ce4d6d5",
   "metadata": {},
   "outputs": [],
   "source": [
    "model = keras.Sequential([\n",
    "    keras.layers.Dense(train_shape, input_shape=(train_shape,), activation='relu'),  # Note the colon (:) and comma\n",
    "    keras.layers.Dense(1, activation='sigmoid')\n",
    "])"
   ]
  },
  {
   "cell_type": "code",
   "execution_count": 64,
   "id": "75b8d7fc-ee1b-452a-9d06-1f4d2f6ebf10",
   "metadata": {},
   "outputs": [],
   "source": [
    "model.compile(optimizer='adam',\n",
    "             loss='binary_crossentropy',\n",
    "             metrics=['accuracy'])"
   ]
  },
  {
   "cell_type": "code",
   "execution_count": 65,
   "id": "81a546c9-e1be-4baa-b533-6b00109c4366",
   "metadata": {},
   "outputs": [
    {
     "name": "stdout",
     "output_type": "stream",
     "text": [
      "46/46 [==============================] - 2s 4ms/step - loss: 0.6212 - accuracy: 0.7178\n"
     ]
    },
    {
     "data": {
      "text/plain": [
       "<keras.src.callbacks.History at 0x7298a6379d00>"
      ]
     },
     "execution_count": 65,
     "metadata": {},
     "output_type": "execute_result"
    }
   ],
   "source": [
    "model.fit(X_train,y_train, epochs=1)"
   ]
  },
  {
   "cell_type": "code",
   "execution_count": 66,
   "id": "d652bc41-aed5-4b6e-80d9-e4c20f49d2af",
   "metadata": {},
   "outputs": [
    {
     "name": "stdout",
     "output_type": "stream",
     "text": [
      "12/12 [==============================] - 0s 3ms/step - loss: 0.5422 - accuracy: 0.8674\n"
     ]
    },
    {
     "data": {
      "text/plain": [
       "[0.5422132015228271, 0.8674033284187317]"
      ]
     },
     "execution_count": 66,
     "metadata": {},
     "output_type": "execute_result"
    }
   ],
   "source": [
    "model.evaluate(X_test, y_test)"
   ]
  },
  {
   "cell_type": "code",
   "execution_count": 67,
   "id": "98f575f3-0b25-4c35-9103-257cb186427d",
   "metadata": {},
   "outputs": [
    {
     "name": "stdout",
     "output_type": "stream",
     "text": [
      "12/12 [==============================] - 0s 3ms/step\n"
     ]
    },
    {
     "data": {
      "text/plain": [
       "array([[0.5978573 ],\n",
       "       [0.45683277],\n",
       "       [0.47848663],\n",
       "       [0.5192117 ],\n",
       "       [0.43260443]], dtype=float32)"
      ]
     },
     "execution_count": 67,
     "metadata": {},
     "output_type": "execute_result"
    }
   ],
   "source": [
    "yp = model.predict(X_test)\n",
    "yp[:5]"
   ]
  },
  {
   "cell_type": "code",
   "execution_count": 68,
   "id": "181918fe-5f16-48b1-a467-3f1cfe5d55b4",
   "metadata": {},
   "outputs": [
    {
     "data": {
      "text/plain": [
       "2511    1\n",
       "1283    1\n",
       "2911    1\n",
       "4035    1\n",
       "1160    1\n",
       "2555    1\n",
       "1034    1\n",
       "3013    1\n",
       "3855    0\n",
       "2088    1\n",
       "Name: Churned, dtype: int64"
      ]
     },
     "execution_count": 68,
     "metadata": {},
     "output_type": "execute_result"
    }
   ],
   "source": [
    "y_test[:10]"
   ]
  },
  {
   "cell_type": "code",
   "execution_count": 69,
   "id": "0ba6c96c-7b5a-454c-90a5-5051c475f5ad",
   "metadata": {},
   "outputs": [],
   "source": [
    "y_pred = []\n",
    "for element in yp:\n",
    "    if element > 0.5:\n",
    "        y_pred.append(1)\n",
    "    else:\n",
    "        y_pred.append(0)"
   ]
  },
  {
   "cell_type": "code",
   "execution_count": 70,
   "id": "eb9cac05-e70c-465f-9c98-622eac664545",
   "metadata": {},
   "outputs": [
    {
     "data": {
      "text/plain": [
       "[1, 0, 0, 1, 0, 1, 0, 1, 0, 1]"
      ]
     },
     "execution_count": 70,
     "metadata": {},
     "output_type": "execute_result"
    }
   ],
   "source": [
    "y_pred[:10]"
   ]
  },
  {
   "cell_type": "code",
   "execution_count": 71,
   "id": "f4c5ff39-8c01-4796-8ef1-09492ab574a0",
   "metadata": {},
   "outputs": [
    {
     "name": "stdout",
     "output_type": "stream",
     "text": [
      "              precision    recall  f1-score   support\n",
      "\n",
      "           0       0.83      0.93      0.88       184\n",
      "           1       0.92      0.80      0.86       178\n",
      "\n",
      "    accuracy                           0.87       362\n",
      "   macro avg       0.87      0.87      0.87       362\n",
      "weighted avg       0.87      0.87      0.87       362\n",
      "\n"
     ]
    }
   ],
   "source": [
    "print(classification_report(y_test,y_pred))"
   ]
  },
  {
   "cell_type": "code",
   "execution_count": 72,
   "id": "a5ccfe55-35f5-4a82-b0a6-09faf89e5ab7",
   "metadata": {},
   "outputs": [
    {
     "data": {
      "text/plain": [
       "Text(70.72222222222221, 0.5, 'Truth')"
      ]
     },
     "execution_count": 72,
     "metadata": {},
     "output_type": "execute_result"
    },
    {
     "data": {
      "image/png": "[encoded data removed]",
      "text/plain": [
       "<Figure size 800x500 with 2 Axes>"
      ]
     },
     "metadata": {},
     "output_type": "display_data"
    }
   ],
   "source": [
    "import seaborn as sn\n",
    "cm = tf.math.confusion_matrix(labels=y_test,predictions=y_pred)\n",
    "\n",
    "plt.figure(figsize= (8,5))\n",
    "sn.heatmap(cm, annot=True, fmt='d')\n",
    "plt.xlabel('Prediction')\n",
    "plt.ylabel('Truth')"
   ]
  },
  {
   "cell_type": "markdown",
   "id": "8c8a24a5-21bb-483a-85d1-620edc054699",
   "metadata": {},
   "source": [
    "# Over Sampling"
   ]
  },
  {
   "cell_type": "code",
   "execution_count": 73,
   "id": "6c533e6e-5f1e-4e9a-8356-1aa00e881afd",
   "metadata": {},
   "outputs": [],
   "source": [
    "df_class_1_over = df_class_1.sample(count_class_0, replace=True)\n",
    "df_test_over = pd.concat([df_class_0, df_class_1_over],axis=0)"
   ]
  },
  {
   "cell_type": "code",
   "execution_count": 74,
   "id": "1ea0d81e-52ea-498e-8eb7-04229875fb4b",
   "metadata": {},
   "outputs": [
    {
     "data": {
      "text/plain": [
       "(6490, 23)"
      ]
     },
     "execution_count": 74,
     "metadata": {},
     "output_type": "execute_result"
    }
   ],
   "source": [
    "df_test_over.shape"
   ]
  },
  {
   "cell_type": "code",
   "execution_count": 75,
   "id": "7a8cd195-d902-49d2-b643-6ba036c4c483",
   "metadata": {},
   "outputs": [
    {
     "name": "stdout",
     "output_type": "stream",
     "text": [
      "Random over-sampling:\n",
      "Churned\n",
      "1    3245\n",
      "0    3245\n",
      "Name: count, dtype: int64\n"
     ]
    }
   ],
   "source": [
    "print('Random over-sampling:')\n",
    "print(df_test_over.Churned.value_counts())"
   ]
  },
  {
   "cell_type": "code",
   "execution_count": 76,
   "id": "0dc34a82-ec4e-4273-8481-4469d9b03d7f",
   "metadata": {},
   "outputs": [],
   "source": [
    "over_sampling_df = df_test_over.drop(['Username','Churned'], axis=1)"
   ]
  },
  {
   "cell_type": "code",
   "execution_count": 77,
   "id": "04c5fbae-2ecc-4b8a-bf14-e8cd49aa927a",
   "metadata": {},
   "outputs": [
    {
     "data": {
      "text/html": [
       "<div>\n",
       "<style scoped>\n",
       "    .dataframe tbody tr th:only-of-type {\n",
       "        vertical-align: middle;\n",
       "    }\n",
       "\n",
       "    .dataframe tbody tr th {\n",
       "        vertical-align: top;\n",
       "    }\n",
       "\n",
       "    .dataframe thead th {\n",
       "        text-align: right;\n",
       "    }\n",
       "</style>\n",
       "<table border=\"1\" class=\"dataframe\">\n",
       "  <thead>\n",
       "    <tr style=\"text-align: right;\">\n",
       "      <th></th>\n",
       "      <th>TotalBetAmount</th>\n",
       "      <th>TotalProfitAmount</th>\n",
       "      <th>TotalBonusAmount</th>\n",
       "      <th>NumberOfBets</th>\n",
       "      <th>NumberOfBets_Won</th>\n",
       "      <th>NumberOfBets_Lost</th>\n",
       "      <th>AverageBet</th>\n",
       "      <th>MaxBet</th>\n",
       "      <th>MinBet</th>\n",
       "      <th>BetsLast4Days</th>\n",
       "      <th>...</th>\n",
       "      <th>BetsLast12Days</th>\n",
       "      <th>BetsLast16Days</th>\n",
       "      <th>BetsLast20Days</th>\n",
       "      <th>BetsLast24Days</th>\n",
       "      <th>BetsLast28Days</th>\n",
       "      <th>BetsLast32Days</th>\n",
       "      <th>BetsLast36Days</th>\n",
       "      <th>DaysSinceLastPlay</th>\n",
       "      <th>DaysSinceSecondLastPlay</th>\n",
       "      <th>DaysSinceThirdLastPlay</th>\n",
       "    </tr>\n",
       "  </thead>\n",
       "  <tbody>\n",
       "    <tr>\n",
       "      <th>4</th>\n",
       "      <td>4469000</td>\n",
       "      <td>3803213.87</td>\n",
       "      <td>16.77</td>\n",
       "      <td>19</td>\n",
       "      <td>8</td>\n",
       "      <td>11</td>\n",
       "      <td>235210.526316</td>\n",
       "      <td>550000</td>\n",
       "      <td>70000</td>\n",
       "      <td>0.0</td>\n",
       "      <td>...</td>\n",
       "      <td>0.0</td>\n",
       "      <td>639000.0</td>\n",
       "      <td>1829000.0</td>\n",
       "      <td>2779000.0</td>\n",
       "      <td>2779000.0</td>\n",
       "      <td>3549000.0</td>\n",
       "      <td>3549000.0</td>\n",
       "      <td>13</td>\n",
       "      <td>15.0</td>\n",
       "      <td>15.0</td>\n",
       "    </tr>\n",
       "    <tr>\n",
       "      <th>5</th>\n",
       "      <td>2628100</td>\n",
       "      <td>313451.23</td>\n",
       "      <td>17.32</td>\n",
       "      <td>24</td>\n",
       "      <td>15</td>\n",
       "      <td>9</td>\n",
       "      <td>109504.166667</td>\n",
       "      <td>509000</td>\n",
       "      <td>13000</td>\n",
       "      <td>0.0</td>\n",
       "      <td>...</td>\n",
       "      <td>0.0</td>\n",
       "      <td>0.0</td>\n",
       "      <td>0.0</td>\n",
       "      <td>0.0</td>\n",
       "      <td>425500.0</td>\n",
       "      <td>694500.0</td>\n",
       "      <td>1271000.0</td>\n",
       "      <td>27</td>\n",
       "      <td>27.0</td>\n",
       "      <td>27.0</td>\n",
       "    </tr>\n",
       "    <tr>\n",
       "      <th>6</th>\n",
       "      <td>2561200</td>\n",
       "      <td>196276.45</td>\n",
       "      <td>11.46</td>\n",
       "      <td>9</td>\n",
       "      <td>6</td>\n",
       "      <td>3</td>\n",
       "      <td>284577.777778</td>\n",
       "      <td>500000</td>\n",
       "      <td>32500</td>\n",
       "      <td>0.0</td>\n",
       "      <td>...</td>\n",
       "      <td>0.0</td>\n",
       "      <td>0.0</td>\n",
       "      <td>2561200.0</td>\n",
       "      <td>2561200.0</td>\n",
       "      <td>2561200.0</td>\n",
       "      <td>2561200.0</td>\n",
       "      <td>2561200.0</td>\n",
       "      <td>16</td>\n",
       "      <td>16.0</td>\n",
       "      <td>16.0</td>\n",
       "    </tr>\n",
       "    <tr>\n",
       "      <th>7</th>\n",
       "      <td>2170100</td>\n",
       "      <td>222161.56</td>\n",
       "      <td>21.51</td>\n",
       "      <td>18</td>\n",
       "      <td>13</td>\n",
       "      <td>5</td>\n",
       "      <td>120561.111111</td>\n",
       "      <td>892000</td>\n",
       "      <td>24000</td>\n",
       "      <td>0.0</td>\n",
       "      <td>...</td>\n",
       "      <td>1087900.0</td>\n",
       "      <td>2074100.0</td>\n",
       "      <td>2170100.0</td>\n",
       "      <td>2170100.0</td>\n",
       "      <td>2170100.0</td>\n",
       "      <td>2170100.0</td>\n",
       "      <td>2170100.0</td>\n",
       "      <td>7</td>\n",
       "      <td>9.0</td>\n",
       "      <td>10.0</td>\n",
       "    </tr>\n",
       "    <tr>\n",
       "      <th>10</th>\n",
       "      <td>1984215</td>\n",
       "      <td>1226774.22</td>\n",
       "      <td>10.85</td>\n",
       "      <td>15</td>\n",
       "      <td>7</td>\n",
       "      <td>8</td>\n",
       "      <td>132281.000000</td>\n",
       "      <td>641024</td>\n",
       "      <td>34</td>\n",
       "      <td>0.0</td>\n",
       "      <td>...</td>\n",
       "      <td>1482368.0</td>\n",
       "      <td>1562368.0</td>\n",
       "      <td>1958224.0</td>\n",
       "      <td>1971480.0</td>\n",
       "      <td>1984051.0</td>\n",
       "      <td>1984115.0</td>\n",
       "      <td>1984115.0</td>\n",
       "      <td>8</td>\n",
       "      <td>9.0</td>\n",
       "      <td>9.0</td>\n",
       "    </tr>\n",
       "  </tbody>\n",
       "</table>\n",
       "<p>5 rows × 21 columns</p>\n",
       "</div>"
      ],
      "text/plain": [
       "    TotalBetAmount  TotalProfitAmount  TotalBonusAmount  NumberOfBets  \\\n",
       "4          4469000         3803213.87             16.77            19   \n",
       "5          2628100          313451.23             17.32            24   \n",
       "6          2561200          196276.45             11.46             9   \n",
       "7          2170100          222161.56             21.51            18   \n",
       "10         1984215         1226774.22             10.85            15   \n",
       "\n",
       "    NumberOfBets_Won  NumberOfBets_Lost     AverageBet  MaxBet  MinBet  \\\n",
       "4                  8                 11  235210.526316  550000   70000   \n",
       "5                 15                  9  109504.166667  509000   13000   \n",
       "6                  6                  3  284577.777778  500000   32500   \n",
       "7                 13                  5  120561.111111  892000   24000   \n",
       "10                 7                  8  132281.000000  641024      34   \n",
       "\n",
       "    BetsLast4Days  ...  BetsLast12Days  BetsLast16Days  BetsLast20Days  \\\n",
       "4             0.0  ...             0.0        639000.0       1829000.0   \n",
       "5             0.0  ...             0.0             0.0             0.0   \n",
       "6             0.0  ...             0.0             0.0       2561200.0   \n",
       "7             0.0  ...       1087900.0       2074100.0       2170100.0   \n",
       "10            0.0  ...       1482368.0       1562368.0       1958224.0   \n",
       "\n",
       "    BetsLast24Days  BetsLast28Days  BetsLast32Days  BetsLast36Days  \\\n",
       "4        2779000.0       2779000.0       3549000.0       3549000.0   \n",
       "5              0.0        425500.0        694500.0       1271000.0   \n",
       "6        2561200.0       2561200.0       2561200.0       2561200.0   \n",
       "7        2170100.0       2170100.0       2170100.0       2170100.0   \n",
       "10       1971480.0       1984051.0       1984115.0       1984115.0   \n",
       "\n",
       "    DaysSinceLastPlay  DaysSinceSecondLastPlay  DaysSinceThirdLastPlay  \n",
       "4                  13                     15.0                    15.0  \n",
       "5                  27                     27.0                    27.0  \n",
       "6                  16                     16.0                    16.0  \n",
       "7                   7                      9.0                    10.0  \n",
       "10                  8                      9.0                     9.0  \n",
       "\n",
       "[5 rows x 21 columns]"
      ]
     },
     "execution_count": 77,
     "metadata": {},
     "output_type": "execute_result"
    }
   ],
   "source": [
    "over_sampling_df.head()"
   ]
  },
  {
   "cell_type": "code",
   "execution_count": 78,
   "id": "b804a7f3-5286-4d5e-83e7-9526a997199a",
   "metadata": {},
   "outputs": [],
   "source": [
    "over_sampling_df_transform = np.log1p(over_sampling_df)"
   ]
  },
  {
   "cell_type": "code",
   "execution_count": 79,
   "id": "ff5798cd-01b0-4051-ae43-284cbd542181",
   "metadata": {},
   "outputs": [],
   "source": [
    "over_sampling_df_transform[cols_to_scale] = scaler.fit_transform(over_sampling_df_transform[cols_to_scale])"
   ]
  },
  {
   "cell_type": "code",
   "execution_count": 80,
   "id": "d57038d7-d057-415e-84f3-ad40bd7b6421",
   "metadata": {},
   "outputs": [],
   "source": [
    "X = over_sampling_df_transform\n",
    "y = df_test_over['Churned']"
   ]
  },
  {
   "cell_type": "code",
   "execution_count": 81,
   "id": "8e4761d4-00d1-4543-923e-3dc161812609",
   "metadata": {},
   "outputs": [],
   "source": [
    "X_train, X_test, y_train, y_test = train_test_split(X,y,test_size=0.2,random_state=5)"
   ]
  },
  {
   "cell_type": "code",
   "execution_count": 82,
   "id": "d4cef5a7-521f-4e0a-94c3-ab432c23d7d9",
   "metadata": {},
   "outputs": [],
   "source": [
    "train_shape = X_train.shape[1]"
   ]
  },
  {
   "cell_type": "code",
   "execution_count": 83,
   "id": "8e178661-f6b2-48d6-a751-c37f8fae7356",
   "metadata": {},
   "outputs": [],
   "source": [
    "model = keras.Sequential([\n",
    "    keras.layers.Dense(train_shape, input_shape=(train_shape,), activation='relu'),  # Note the colon (:) and comma\n",
    "    keras.layers.Dense(1, activation='sigmoid')\n",
    "])"
   ]
  },
  {
   "cell_type": "code",
   "execution_count": 84,
   "id": "bd142526-11fd-4f41-9019-00e92f4edef6",
   "metadata": {},
   "outputs": [],
   "source": [
    "model.compile(optimizer='adam',\n",
    "             loss='binary_crossentropy',\n",
    "             metrics=['accuracy'])"
   ]
  },
  {
   "cell_type": "code",
   "execution_count": 85,
   "id": "dbeea3fb-5190-4cc6-a359-8d7461562f0a",
   "metadata": {},
   "outputs": [
    {
     "name": "stdout",
     "output_type": "stream",
     "text": [
      "163/163 [==============================] - 2s 6ms/step - loss: 0.4658 - accuracy: 0.8844\n"
     ]
    },
    {
     "data": {
      "text/plain": [
       "<keras.src.callbacks.History at 0x7298a6150f10>"
      ]
     },
     "execution_count": 85,
     "metadata": {},
     "output_type": "execute_result"
    }
   ],
   "source": [
    "model.fit(X_train,y_train, epochs=1)"
   ]
  },
  {
   "cell_type": "code",
   "execution_count": 86,
   "id": "a8ced7f1-0f53-4301-ac61-f99c748972d3",
   "metadata": {},
   "outputs": [
    {
     "name": "stdout",
     "output_type": "stream",
     "text": [
      "41/41 [==============================] - 1s 5ms/step - loss: 0.3187 - accuracy: 0.9345\n"
     ]
    },
    {
     "data": {
      "text/plain": [
       "[0.3186957836151123, 0.9345146417617798]"
      ]
     },
     "execution_count": 86,
     "metadata": {},
     "output_type": "execute_result"
    }
   ],
   "source": [
    "model.evaluate(X_test, y_test)"
   ]
  },
  {
   "cell_type": "code",
   "execution_count": 87,
   "id": "b8256bae-412a-4927-a156-2bdd2a0317ac",
   "metadata": {},
   "outputs": [
    {
     "name": "stdout",
     "output_type": "stream",
     "text": [
      "41/41 [==============================] - 0s 6ms/step\n"
     ]
    },
    {
     "data": {
      "text/plain": [
       "array([[0.24660586],\n",
       "       [0.7679846 ],\n",
       "       [0.7448044 ],\n",
       "       [0.7151332 ],\n",
       "       [0.5464352 ]], dtype=float32)"
      ]
     },
     "execution_count": 87,
     "metadata": {},
     "output_type": "execute_result"
    }
   ],
   "source": [
    "yp = model.predict(X_test)\n",
    "yp[:5]"
   ]
  },
  {
   "cell_type": "code",
   "execution_count": 88,
   "id": "b37339f0-03e5-4bd3-b1f2-dbbf45a289b3",
   "metadata": {},
   "outputs": [
    {
     "data": {
      "text/plain": [
       "1238    0\n",
       "2917    1\n",
       "2519    1\n",
       "4112    1\n",
       "2671    1\n",
       "42      0\n",
       "1923    0\n",
       "2998    0\n",
       "1288    0\n",
       "3971    1\n",
       "Name: Churned, dtype: int64"
      ]
     },
     "execution_count": 88,
     "metadata": {},
     "output_type": "execute_result"
    }
   ],
   "source": [
    "y_test[:10]"
   ]
  },
  {
   "cell_type": "code",
   "execution_count": 89,
   "id": "37187487-ddd9-40c6-a672-2b2e645ec890",
   "metadata": {},
   "outputs": [],
   "source": [
    "y_pred = []\n",
    "for element in yp:\n",
    "    if element > 0.5:\n",
    "        y_pred.append(1)\n",
    "    else:\n",
    "        y_pred.append(0)"
   ]
  },
  {
   "cell_type": "code",
   "execution_count": 90,
   "id": "832c0775-27b5-44dc-9371-862b040f770e",
   "metadata": {},
   "outputs": [
    {
     "data": {
      "text/plain": [
       "[0, 1, 1, 1, 1, 0, 0, 0, 0, 1]"
      ]
     },
     "execution_count": 90,
     "metadata": {},
     "output_type": "execute_result"
    }
   ],
   "source": [
    "y_pred[:10]"
   ]
  },
  {
   "cell_type": "code",
   "execution_count": 91,
   "id": "bf4b518b-2b53-433f-a0df-0758f6e99c06",
   "metadata": {},
   "outputs": [
    {
     "name": "stdout",
     "output_type": "stream",
     "text": [
      "              precision    recall  f1-score   support\n",
      "\n",
      "           0       0.95      0.92      0.93       663\n",
      "           1       0.92      0.95      0.93       635\n",
      "\n",
      "    accuracy                           0.93      1298\n",
      "   macro avg       0.93      0.93      0.93      1298\n",
      "weighted avg       0.94      0.93      0.93      1298\n",
      "\n"
     ]
    }
   ],
   "source": [
    "print(classification_report(y_test,y_pred))"
   ]
  },
  {
   "cell_type": "code",
   "execution_count": 92,
   "id": "6f1d4ce6-87d0-4f9c-a2e9-669c37dc6275",
   "metadata": {},
   "outputs": [
    {
     "data": {
      "text/plain": [
       "Text(70.72222222222221, 0.5, 'Truth')"
      ]
     },
     "execution_count": 92,
     "metadata": {},
     "output_type": "execute_result"
    },
    {
     "data": {
      "image/png": "[encoded data removed]",
      "text/plain": [
       "<Figure size 800x500 with 2 Axes>"
      ]
     },
     "metadata": {},
     "output_type": "display_data"
    }
   ],
   "source": [
    "import seaborn as sn\n",
    "cm = tf.math.confusion_matrix(labels=y_test,predictions=y_pred)\n",
    "\n",
    "plt.figure(figsize= (8,5))\n",
    "sn.heatmap(cm, annot=True, fmt='d')\n",
    "plt.xlabel('Prediction')\n",
    "plt.ylabel('Truth')"
   ]
  },
  {
   "cell_type": "code",
   "execution_count": null,
   "id": "1272b179-9db0-4c17-9578-139019938138",
   "metadata": {},
   "outputs": [],
   "source": []
  }
 ],
 "metadata": {
  "kernelspec": {
   "display_name": "Python 3 (ipykernel)",
   "language": "python",
   "name": "python3"
  },
  "language_info": {
   "codemirror_mode": {
    "name": "ipython",
    "version": 3
   },
   "file_extension": ".py",
   "mimetype": "text/x-python",
   "name": "python",
   "nbconvert_exporter": "python",
   "pygments_lexer": "ipython3",
   "version": "3.8.20"
  }
 },
 "nbformat": 4,
 "nbformat_minor": 5
}
